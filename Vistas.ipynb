{
    "metadata": {
        "kernelspec": {
            "name": "SQL",
            "display_name": "SQL",
            "language": "sql"
        },
        "language_info": {
            "name": "sql",
            "version": ""
        }
    },
    "nbformat_minor": 2,
    "nbformat": 4,
    "cells": [
        {
            "cell_type": "markdown",
            "source": [
                "**5. VISTAS**"
            ],
            "metadata": {
                "azdata_cell_guid": "98c20b05-62fd-4076-ac8d-b107f48ac20d"
            }
        },
        {
            "cell_type": "code",
            "source": [
                "USE bichos_de_bolsillo\r\n",
                "\r\n",
                "GO\r\n",
                "\r\n",
                "-- VISTA PARA VISUALIZAR BICHOS\r\n",
                "Create VIEW TablaBichos_V\r\n",
                "AS\r\n",
                "    SELECT \r\n",
                "        bicho_id AS 'ID', \r\n",
                "        bicho_nombre AS 'Bicho', \r\n",
                "        bicho_salud AS 'Salud',\r\n",
                "        (SELECT tipo_nombre FROM Tipos WHERE tipo_id = bicho_tipo) AS 'Tipo',\r\n",
                "        (SELECT especie_nombre FROM Especies WHERE especie_id = bicho_especie) AS 'Especie'\r\n",
                "    FROM Bichos\r\n",
                "\r\n",
                "GO\r\n",
                "\r\n",
                "-- VISTA PARA VISUALIZAR USUARIOS\r\n",
                "Create VIEW UsuariosResgistrados_V\r\n",
                "as\r\n",
                "    SELECT usuario_nombre as 'Usuarios', usuario_correo AS 'Correo'\r\n",
                "    from Usuarios\r\n",
                "\r\n",
                "GO\r\n",
                "\r\n",
                "-- VISTA PARA VISUALIZAR RECOLECCIONES\r\n",
                "CREATE VIEW Recolecciones_V\r\n",
                "as\r\n",
                "    SELECT (SELECT usuario_nombre\r\n",
                "        FROM Usuarios\r\n",
                "        WHERE usuario_id = recoleccion_usuario) as 'Usuario',\r\n",
                "        (SELECT bicho_nombre\r\n",
                "        FROM Bichos\r\n",
                "        WHERE bicho_id = recoleccion_bicho) AS 'Bicho',\r\n",
                "        recoleccion_nivel as 'Nivel',\r\n",
                "        recoleccion_fecha as 'Fecha de Recoleccion'\r\n",
                "    from Recolecciones\r\n",
                "\r\n",
                "GO\r\n",
                "\r\n",
                "-- VISTA PARA VISUALIZAR COMBATES\r\n",
                "CREATE VIEW Combates_V\r\n",
                "as\r\n",
                "    SELECT\r\n",
                "        combate_id as 'ID',\r\n",
                "        combate_fecha as 'Fecha',\r\n",
                "        (SELECT usuario_nombre\r\n",
                "        FROM Usuarios\r\n",
                "        WHERE usuario_id = usuario_uno) as 'Jugador 1',\r\n",
                "        (SELECT usuario_nombre\r\n",
                "        FROM Usuarios\r\n",
                "        WHERE usuario_id = usuario_dos) as 'Jugador 2',\r\n",
                "        (SELECT count(combate_id)\r\n",
                "        FROM Rondas\r\n",
                "        WHERE combate_id = Combates.combate_id and ganador = usuario_uno) AS 'Ganadas del jugador 1',\r\n",
                "        (SELECT count(combate_id)\r\n",
                "        FROM Rondas\r\n",
                "        WHERE combate_id = Combates.combate_id and ganador = usuario_dos) AS 'Ganadas del jugador 2'\r\n",
                "    FROM Combates\r\n",
                "\r\n",
                "GO\r\n",
                "\r\n",
                "-- VISTA PARA VISUALIZAR BICHOS QUE TIENE UN USUARIO\r\n",
                "CREATE VIEW UsuarioBichos_V\r\n",
                "AS\r\n",
                "    SELECT u.usuario_nombre AS 'Usuario', b.bicho_nombre AS 'Bicho', (SELECT especie_nombre\r\n",
                "        FROM Especies\r\n",
                "        WHERE especie_id = b.bicho_especie) AS 'Especie', (SELECT tipo_nombre\r\n",
                "        FROM Tipos\r\n",
                "        WHERE tipo_id = b.bicho_tipo) AS 'Tipo'\r\n",
                "    FROM Usuarios u\r\n",
                "        INNER JOIN Bichos b ON u.usuario_id = bicho_propietario\r\n",
                "\r\n",
                "GO\r\n",
                "\r\n",
                "-- VISTA PARA VISUALIZAR ATAQUES QUE TIENE UN BICHO\r\n",
                "CREATE VIEW BichosAtaque_V\r\n",
                "AS\r\n",
                "SELECT b.bicho_nombre AS 'Bicho', (SELECT catalogo_nombre\r\n",
                "    FROM Catalogo_Ataques\r\n",
                "    WHERE catalogo_id = a.ataque_id) AS 'Ataque'\r\n",
                "FROM\r\n",
                "    Bichos b INNER JOIN Ataques_Bicho a ON b.bicho_id = a.bicho_id\r\n",
                "\r\n",
                "GO\r\n",
                ""
            ],
            "metadata": {
                "azdata_cell_guid": "69adf6c6-12f5-4dad-8a07-d5ed6ec6b9bc",
                "tags": [
                    "hide_input"
                ]
            },
            "outputs": [],
            "execution_count": null
        },
        {
            "cell_type": "markdown",
            "source": [
                "    Probar vistas"
            ],
            "metadata": {
                "azdata_cell_guid": "89e771b9-9ece-4d68-b74e-d3375d31e9c6"
            }
        },
        {
            "cell_type": "code",
            "source": [
                "SELECT *\r\n",
                "from TablaBichos_V\r\n",
                "SELECT *\r\n",
                "from UsuariosResgistrados_V\r\n",
                "SELECT *\r\n",
                "from Recolecciones_V\r\n",
                "SELECT *\r\n",
                "from Combates_V\r\n",
                "SELECT *\r\n",
                "FROM UsuarioBichos_V\r\n",
                "SELECT *\r\n",
                "FROM BichosAtaque_V"
            ],
            "metadata": {
                "azdata_cell_guid": "62532463-b9a1-4b71-a145-3f0089af104b",
                "tags": [
                    "hide_input"
                ]
            },
            "outputs": [],
            "execution_count": null
        },
        {
            "cell_type": "markdown",
            "source": [
                "**6. FUNCIONES**"
            ],
            "metadata": {
                "azdata_cell_guid": "c442069f-1a2c-4ae9-ac30-b7858c060658"
            }
        },
        {
            "cell_type": "code",
            "source": [
                "-- FUNCIÓN PARA OBTENER LAS RONDAS DE UN COMBATE\r\n",
                "CREATE FUNCTION dbo.GetRondas(@combate_id int)\r\n",
                "RETURNS TABLE \r\n",
                "AS \r\n",
                "RETURN \r\n",
                "(\r\n",
                "    SELECT\r\n",
                "    ronda_noRonda AS 'No. de ronda',\r\n",
                "    (SELECT bicho_nombre\r\n",
                "    FROM Bichos\r\n",
                "    WHERE bicho_id = bicho_uno) AS 'Bicho 1',\r\n",
                "    (SELECT bicho_nombre\r\n",
                "    FROM Bichos\r\n",
                "    WHERE bicho_id = bicho_dos) AS 'Bicho 2',\r\n",
                "    (SELECT catalogo_nombre\r\n",
                "    FROM Catalogo_Ataques\r\n",
                "    WHERE catalogo_id = ataque_uno) AS 'Ataque 1',\r\n",
                "    (SELECT catalogo_nombre\r\n",
                "    FROM Catalogo_Ataques\r\n",
                "    WHERE catalogo_id = ataque_dos) AS 'Ataque 2',\r\n",
                "    nivel_daño_uno AS 'Daño 1',\r\n",
                "    nivel_daño_dos AS 'Daño 2',\r\n",
                "    ganador AS 'Ganador'\r\n",
                "FROM Rondas\r\n",
                "WHERE combate_id = @combate_id\r\n",
                ");\r\n",
                "\r\n",
                "GO\r\n",
                "\r\n",
                "-- FUNCIÓN PARA OBTENER LAS RONDAS DE UN COMBATE QUE GANÓ UN JUGADOR\r\n",
                "CREATE FUNCTION dbo.GetRondasPerPlayer(@combate_id int, @usuario int)\r\n",
                "RETURNS INT \r\n",
                "AS \r\n",
                "BEGIN\r\n",
                "    RETURN (\r\n",
                "SELECT count(combate_id)\r\n",
                "    FROM Rondas\r\n",
                "    WHERE combate_id = @combate_id AND ganador = @usuario\r\n",
                ")\r\n",
                "END;\r\n",
                "\r\n",
                "GO\r\n",
                "\r\n",
                "-- FUNCIÓN PARA OBTENER EL GANADOR DE UN COMBATE\r\n",
                "CREATE FUNCTION dbo.GetGanadorCombate(@combate_id int, @usuario_uno int, @usuario_dos int)\r\n",
                "RETURNS INT \r\n",
                "AS \r\n",
                "BEGIN\r\n",
                "    DECLARE @ganados1 int, @ganados2 int;\r\n",
                "\r\n",
                "    SET @ganados1 = dbo.GetRondasPerPlayer(@combate_id, @usuario_uno)\r\n",
                "\r\n",
                "    SET @ganados2 = dbo.GetRondasPerPlayer(@combate_id, @usuario_uno)\r\n",
                "\r\n",
                "    IF(@ganados1 > @ganados2)\r\n",
                "        RETURN(@ganados1)\r\n",
                "    ELSE IF(@ganados1 = @ganados2)\r\n",
                "        RETURN(0)\r\n",
                "    RETURN(@ganados2)\r\n",
                "END;\r\n",
                "\r\n",
                "GO\r\n",
                ""
            ],
            "metadata": {
                "azdata_cell_guid": "aa72108f-e114-4c66-a2d3-97be05e21c6d",
                "tags": [
                    "hide_input"
                ]
            },
            "outputs": [],
            "execution_count": null
        },
        {
            "cell_type": "markdown",
            "source": [
                "    Probar funciones"
            ],
            "metadata": {
                "azdata_cell_guid": "e52ff04a-eaee-4d2e-84dd-8be6857f5315"
            }
        },
        {
            "cell_type": "code",
            "source": [
                "SELECT *\r\n",
                "FROM dbo.GetRondas(1)\r\n",
                "SELECT dbo.GetRondasPerPlayer(1, 4) AS 'jugador 1'\r\n",
                "SELECT dbo.GetRondasPerPlayer(1, 3) AS 'jugador 2'\r\n",
                "SELECT dbo.GetGanadorCombate(1, 4, 3) AS 'Ganador';"
            ],
            "metadata": {
                "azdata_cell_guid": "2fceeeae-6cde-4eb5-8446-1c905351a3e6",
                "tags": [
                    "hide_input"
                ]
            },
            "outputs": [],
            "execution_count": null
        }
    ]
}
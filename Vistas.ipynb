{
    "metadata": {
        "kernelspec": {
            "name": "SQL",
            "display_name": "SQL",
            "language": "sql"
        },
        "language_info": {
            "name": "sql",
            "version": ""
        }
    },
    "nbformat_minor": 2,
    "nbformat": 4,
    "cells": [
        {
            "cell_type": "markdown",
            "source": [
                "**5. VISTAS**"
            ],
            "metadata": {
                "azdata_cell_guid": "98c20b05-62fd-4076-ac8d-b107f48ac20d"
            }
        },
        {
            "cell_type": "code",
            "source": [
                "USE bichos_de_bolsillo\r\n",
                "\r\n",
                "GO\r\n",
                "\r\n",
                "Create VIEW vw_TablaBichos\r\n",
                "as\r\n",
                "    SELECT bicho_id as 'ID', bicho_nombre as 'Bicho'\r\n",
                "    from Bichos\r\n",
                "\r\n",
                "GO\r\n",
                "\r\n",
                "Create VIEW vw_UsuariosResgistrados\r\n",
                "as\r\n",
                "    SELECT usuario_nombre as 'Usuarios', usuario_correo AS 'Correo'\r\n",
                "    from Usuarios\r\n",
                "\r\n",
                "GO\r\n",
                "\r\n",
                "\r\n",
                "CREATE VIEW vw_Recolecciones\r\n",
                "as\r\n",
                "    SELECT (SELECT usuario_nombre\r\n",
                "        FROM Usuarios\r\n",
                "        WHERE usuario_id = recoleccion_usuario) as 'Usuario',\r\n",
                "        (SELECT bicho_nombre\r\n",
                "        FROM Bichos\r\n",
                "        WHERE bicho_id = recoleccion_bicho) AS 'Bicho',\r\n",
                "        recoleccion_nivel as 'Nivel',\r\n",
                "        recoleccion_fecha as 'Fecha de Recoleccion'\r\n",
                "    from Recolecciones\r\n",
                "\r\n",
                "GO\r\n",
                "\r\n",
                "CREATE VIEW vw_Combates\r\n",
                "as\r\n",
                "    SELECT\r\n",
                "        combate_id as 'ID',\r\n",
                "        combate_fecha as 'Fecha',\r\n",
                "        (SELECT usuario_nombre\r\n",
                "        FROM Usuarios\r\n",
                "        WHERE usuario_id = usuario_uno) as 'Jugador 1',\r\n",
                "        (SELECT usuario_nombre\r\n",
                "        FROM Usuarios\r\n",
                "        WHERE usuario_id = usuario_dos) as 'Jugador 2',\r\n",
                "        (SELECT count(combate_id)\r\n",
                "        FROM Rondas\r\n",
                "        WHERE combate_id = Combates.combate_id and ganador = usuario_uno) AS 'Ganadas del jugador 1',\r\n",
                "        (SELECT count(combate_id)\r\n",
                "        FROM Rondas\r\n",
                "        WHERE combate_id = Combates.combate_id and ganador = usuario_dos) AS 'Ganadas del jugador 2'\r\n",
                "    FROM Combates\r\n",
                "\r\n",
                "GO\r\n",
                "\r\n",
                "SELECT *\r\n",
                "from vw_TablaBichos\r\n",
                "SELECT *\r\n",
                "from vw_UsuariosResgistrados\r\n",
                "SELECT *\r\n",
                "from vw_Recolecciones\r\n",
                "SELECT *\r\n",
                "from vw_Combates\r\n",
                ""
            ],
            "metadata": {
                "azdata_cell_guid": "69adf6c6-12f5-4dad-8a07-d5ed6ec6b9bc",
                "tags": [
                    "hide_input"
                ]
            },
            "outputs": [],
            "execution_count": null
        },
        {
            "cell_type": "markdown",
            "source": [
                "**6. FUNCIONES**"
            ],
            "metadata": {
                "azdata_cell_guid": "c442069f-1a2c-4ae9-ac30-b7858c060658"
            }
        },
        {
            "cell_type": "code",
            "source": [
                "CREATE FUNCTION dbo.GetRondas(@combate_id int)\r\n",
                "RETURNS TABLE \r\n",
                "AS \r\n",
                "RETURN \r\n",
                "(\r\n",
                "    SELECT\r\n",
                "    ronda_noRonda AS 'No. de ronda',\r\n",
                "    (SELECT bicho_nombre\r\n",
                "    FROM Bichos\r\n",
                "    WHERE bicho_id = bicho_uno) AS 'Bicho 1',\r\n",
                "    (SELECT bicho_nombre\r\n",
                "    FROM Bichos\r\n",
                "    WHERE bicho_id = bicho_dos) AS 'Bicho 2',\r\n",
                "    (SELECT catalogo_nombre\r\n",
                "    FROM Catalogo_Ataques\r\n",
                "    WHERE catalogo_id = ataque_uno) AS 'Ataque 1',\r\n",
                "    (SELECT catalogo_nombre\r\n",
                "    FROM Catalogo_Ataques\r\n",
                "    WHERE catalogo_id = ataque_dos) AS 'Ataque 2',\r\n",
                "    nivel_daño_uno AS 'Daño 1',\r\n",
                "    nivel_daño_dos AS 'Daño 2',\r\n",
                "    ganador AS 'Ganador'\r\n",
                "FROM Rondas\r\n",
                "WHERE combate_id = @combate_id\r\n",
                ");\r\n",
                "\r\n",
                "GO\r\n",
                "\r\n",
                "CREATE FUNCTION dbo.GetRondasPerPlayer(@combate_id int, @usuario int)\r\n",
                "RETURNS INT \r\n",
                "AS \r\n",
                "BEGIN\r\n",
                "    RETURN (\r\n",
                "SELECT count(combate_id)\r\n",
                "    FROM Rondas\r\n",
                "    WHERE combate_id = @combate_id AND ganador = @usuario\r\n",
                ")\r\n",
                "END;\r\n",
                "\r\n",
                "GO\r\n",
                "\r\n",
                "CREATE FUNCTION dbo.GetGanadorCombate(@combate_id int, @usuario_uno int, @usuario_dos int)\r\n",
                "RETURNS INT \r\n",
                "AS \r\n",
                "BEGIN\r\n",
                "    DECLARE @ganados1 int, @ganados2 int;\r\n",
                "\r\n",
                "    SET @ganados1 = dbo.GetRondasPerPlayer(@combate_id, @usuario_uno)\r\n",
                "\r\n",
                "    SET @ganados2 = dbo.GetRondasPerPlayer(@combate_id, @usuario_uno)\r\n",
                "\r\n",
                "    IF(@ganados1 > @ganados2)\r\n",
                "        RETURN(@ganados1)\r\n",
                "    ELSE IF(@ganados1 = @ganados2)\r\n",
                "        RETURN(0)\r\n",
                "    RETURN(@ganados2)\r\n",
                "END;\r\n",
                "\r\n",
                "GO\r\n",
                ""
            ],
            "metadata": {
                "azdata_cell_guid": "aa72108f-e114-4c66-a2d3-97be05e21c6d",
                "tags": [
                    "hide_input"
                ]
            },
            "outputs": [],
            "execution_count": null
        },
        {
            "cell_type": "markdown",
            "source": [
                "    Probar funciones"
            ],
            "metadata": {
                "azdata_cell_guid": "e52ff04a-eaee-4d2e-84dd-8be6857f5315"
            }
        },
        {
            "cell_type": "code",
            "source": [
                "SELECT *\r\n",
                "FROM dbo.GetRondas(1)\r\n",
                "SELECT dbo.GetRondasPerPlayer(1, 4) AS 'jugador 1'\r\n",
                "SELECT dbo.GetRondasPerPlayer(1, 3) AS 'jugador 2'\r\n",
                "SELECT dbo.GetGanadorCombate(1, 4, 3) AS 'Ganador';"
            ],
            "metadata": {
                "azdata_cell_guid": "2fceeeae-6cde-4eb5-8446-1c905351a3e6",
                "tags": [
                    "hide_input"
                ]
            },
            "outputs": [],
            "execution_count": null
        }
    ]
}
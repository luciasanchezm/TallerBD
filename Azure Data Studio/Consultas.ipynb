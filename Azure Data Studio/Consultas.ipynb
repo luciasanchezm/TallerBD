{
    "metadata": {
        "kernelspec": {
            "name": "SQL",
            "display_name": "SQL",
            "language": "sql"
        },
        "language_info": {
            "name": "sql",
            "version": ""
        }
    },
    "nbformat_minor": 2,
    "nbformat": 4,
    "cells": [
        {
            "cell_type": "markdown",
            "source": [
                "**4. CONSULTAS**"
            ],
            "metadata": {
                "azdata_cell_guid": "56e80024-b53c-4b2c-962b-e116039b7263"
            }
        },
        {
            "cell_type": "code",
            "source": [
                "SELECT\r\n",
                "    tipo_id AS 'ID',\r\n",
                "    tipo_nombre AS 'Nombre de los Tipos',\r\n",
                "    resistente AS 'Resistente a'\r\n",
                "\r\n",
                "FROM Tipos;\r\n",
                "\r\n",
                "\r\n",
                "SELECT\r\n",
                "    especie_id AS 'ID',\r\n",
                "    especie_nombre AS 'Nombre de la Especie',\r\n",
                "    especie_tipo AS 'ID del Tipo',\r\n",
                "    especie_aumento_salud AS 'Aumento de Salud',\r\n",
                "    especie_daño_ataque AS 'Daño de Ataque',\r\n",
                "    especie_velocidad_ataque AS 'Velocidad de Ataque'\r\n",
                "\r\n",
                "FROM Especies;\r\n",
                "\r\n",
                "\r\n",
                "SELECT\r\n",
                "    bicho_id AS 'ID',\r\n",
                "    bicho_nombre AS 'Nombre del Bicho',\r\n",
                "    bicho_salud AS 'Salud',\r\n",
                "    bicho_tipo AS 'Tipo',\r\n",
                "    bicho_especie AS 'Especie',\r\n",
                "    bicho_propietario AS 'Propietario ID',\r\n",
                "    (SELECT usuario_nombre\r\n",
                "    FROM Usuarios\r\n",
                "    WHERE usuario_id = bicho_propietario) AS 'Propietario Nombre'\r\n",
                "\r\n",
                "FROM Bichos;\r\n",
                "\r\n",
                "\r\n",
                "SELECT\r\n",
                "    catalogo_id AS 'ID',\r\n",
                "    catalogo_nombre AS 'Nombre del Ataque',\r\n",
                "    catalogo_tipo AS 'ID del Tipo',\r\n",
                "    catalogo_nivel AS 'Nivel de Ataque'\r\n",
                "\r\n",
                "FROM Catalogo_Ataques;\r\n",
                "\r\n",
                "\r\n",
                "SELECT\r\n",
                "    usuario_id AS 'ID',\r\n",
                "    usuario_nombre AS 'Nombre del Usuario'\r\n",
                "FROM Usuarios;\r\n",
                "\r\n",
                "\r\n",
                "SELECT\r\n",
                "    recoleccion_fecha AS 'Fecha de Recoleccion',\r\n",
                "    recoleccion_bicho AS 'ID Bicho',\r\n",
                "    recoleccion_nivel AS 'Nivel',\r\n",
                "    recoleccion_usuario AS 'Usuario'\r\n",
                "\r\n",
                "FROM Recolecciones;\r\n",
                "\r\n",
                "SELECT\r\n",
                "    intercambio_id AS 'ID',\r\n",
                "    intercambio_fecha AS 'Fecha del Intercambio',\r\n",
                "    usuario_uno AS 'Usuario 1',\r\n",
                "    usuario_dos AS 'Usuario 2',\r\n",
                "    bicho_uno AS 'Bicho del Usuario1',\r\n",
                "    bicho_dos AS 'Bicho del Usuario2'\r\n",
                "\r\n",
                "FROM Intercambios;\r\n",
                "\r\n",
                "SELECT\r\n",
                "    bicho_id AS \"Bicho\",\r\n",
                "    ataque_id AS \"Ataque\"\r\n",
                "FROM Ataques_Bicho\r\n",
                "\r\n",
                "SELECT\r\n",
                "    combate_id AS 'ID',\r\n",
                "    usuario_uno AS 'Jugador 1',\r\n",
                "    usuario_dos AS 'Jugador 2',\r\n",
                "    combate_fecha AS 'Fecha'\r\n",
                "FROM Combates\r\n",
                "\r\n",
                "SELECT\r\n",
                "    combate_id AS 'Combate',\r\n",
                "    bicho_uno AS 'Bicho 1',\r\n",
                "    bicho_dos AS 'Bicho 2',\r\n",
                "    ataque_uno AS 'Ataque 1',\r\n",
                "    ataque_dos AS 'Ataque 2',\r\n",
                "    nivel_daño_uno AS 'Daño 1',\r\n",
                "    nivel_daño_dos AS 'Daño 2',\r\n",
                "    ganador AS 'Ganador'\r\n",
                "FROM Rondas\r\n",
                "ORDER BY combate_id"
            ],
            "metadata": {
                "azdata_cell_guid": "a29c75f8-6e4a-41ac-8184-5c47f88336ac",
                "tags": [
                    "hide_input"
                ]
            },
            "outputs": [],
            "execution_count": null
        }
    ]
}
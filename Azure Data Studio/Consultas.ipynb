{
    "metadata": {
        "kernelspec": {
            "name": "SQL",
            "display_name": "SQL",
            "language": "sql"
        },
        "language_info": {
            "name": "sql",
            "version": ""
        }
    },
    "nbformat_minor": 2,
    "nbformat": 4,
    "cells": [
        {
            "cell_type": "markdown",
            "source": [
                "**4. CONSULTAS**"
            ],
            "metadata": {
                "azdata_cell_guid": "56e80024-b53c-4b2c-962b-e116039b7263"
            }
        },
        {
            "cell_type": "code",
            "source": [
                "USE bichos_de_bosillo\r\n",
                "SELECT\r\n",
                "    tipo_id AS 'ID',\r\n",
                "    tipo_nombre AS 'Nombre de los Tipos',\r\n",
                "    resistente AS 'Resistente a'\r\n",
                "\r\n",
                "FROM Tipos;\r\n",
                "\r\n",
                "\r\n",
                "SELECT\r\n",
                "    especie_id AS 'ID',\r\n",
                "    especie_nombre AS 'Nombre de la Especie',\r\n",
                "    especie_tipo AS 'ID del Tipo',\r\n",
                "    especie_aumento_salud AS 'Aumento de Salud',\r\n",
                "    especie_daño_ataque AS 'Daño de Ataque',\r\n",
                "    especie_velocidad_ataque AS 'Velocidad de Ataque'\r\n",
                "\r\n",
                "FROM Especies;\r\n",
                "\r\n",
                "\r\n",
                "SELECT\r\n",
                "    bicho_id AS 'ID',\r\n",
                "    bicho_nombre AS 'Nombre del Bicho',\r\n",
                "    bicho_salud AS 'Salud',\r\n",
                "    bicho_tipo AS 'Tipo',\r\n",
                "    bicho_especie AS 'Especie',\r\n",
                "    bicho_propietario AS 'Propietario ID',\r\n",
                "    (SELECT usuario_nombre\r\n",
                "    FROM Usuarios\r\n",
                "    WHERE usuario_id = bicho_propietario) AS 'Propietario Nombre'\r\n",
                "\r\n",
                "FROM Bichos;\r\n",
                "\r\n",
                "\r\n",
                "SELECT\r\n",
                "    catalogo_id AS 'ID',\r\n",
                "    catalogo_nombre AS 'Nombre del Ataque',\r\n",
                "    catalogo_tipo AS 'ID del Tipo',\r\n",
                "    catalogo_nivel AS 'Nivel de Ataque'\r\n",
                "\r\n",
                "FROM Catalogo_Ataques;\r\n",
                "\r\n",
                "\r\n",
                "SELECT\r\n",
                "    usuario_id AS 'ID',\r\n",
                "    usuario_nombre AS 'Nombre del Usuario'\r\n",
                "FROM Usuarios;\r\n",
                "\r\n",
                "\r\n",
                "SELECT\r\n",
                "    recoleccion_fecha AS 'Fecha de Recoleccion',\r\n",
                "    recoleccion_bicho AS 'ID Bicho',\r\n",
                "    recoleccion_nivel AS 'Nivel',\r\n",
                "    recoleccion_usuario AS 'Usuario'\r\n",
                "\r\n",
                "FROM Recolecciones;\r\n",
                "\r\n",
                "SELECT\r\n",
                "    intercambio_id AS 'ID',\r\n",
                "    intercambio_fecha AS 'Fecha del Intercambio',\r\n",
                "    usuario_uno AS 'Usuario 1',\r\n",
                "    usuario_dos AS 'Usuario 2',\r\n",
                "    bicho_uno AS 'Bicho del Usuario1',\r\n",
                "    bicho_dos AS 'Bicho del Usuario2'\r\n",
                "\r\n",
                "FROM Intercambios;\r\n",
                "\r\n",
                "SELECT\r\n",
                "    bicho_id AS \"Bicho\",\r\n",
                "    ataque_id AS \"Ataque\"\r\n",
                "FROM Ataques_Bicho\r\n",
                "\r\n",
                "SELECT\r\n",
                "    combate_id AS 'ID',\r\n",
                "    usuario_uno AS 'Jugador 1',\r\n",
                "    usuario_dos AS 'Jugador 2',\r\n",
                "    combate_fecha AS 'Fecha'\r\n",
                "FROM Combates\r\n",
                "\r\n",
                "SELECT\r\n",
                "    combate_id AS 'Combate',\r\n",
                "    bicho_uno AS 'Bicho 1',\r\n",
                "    bicho_dos AS 'Bicho 2',\r\n",
                "    ataque_uno AS 'Ataque 1',\r\n",
                "    ataque_dos AS 'Ataque 2',\r\n",
                "    nivel_daño_uno AS 'Daño 1',\r\n",
                "    nivel_daño_dos AS 'Daño 2',\r\n",
                "    ganador AS 'Ganador'\r\n",
                "FROM Rondas\r\n",
                "ORDER BY combate_id"
            ],
            "metadata": {
                "azdata_cell_guid": "a29c75f8-6e4a-41ac-8184-5c47f88336ac",
                "tags": []
            },
            "outputs": [
                {
                    "output_type": "display_data",
                    "data": {
                        "text/html": "(4 rows affected)"
                    },
                    "metadata": {}
                },
                {
                    "output_type": "display_data",
                    "data": {
                        "text/html": "(8 rows affected)"
                    },
                    "metadata": {}
                },
                {
                    "output_type": "display_data",
                    "data": {
                        "text/html": "(20 rows affected)"
                    },
                    "metadata": {}
                },
                {
                    "output_type": "display_data",
                    "data": {
                        "text/html": "(16 rows affected)"
                    },
                    "metadata": {}
                },
                {
                    "output_type": "display_data",
                    "data": {
                        "text/html": "(5 rows affected)"
                    },
                    "metadata": {}
                },
                {
                    "output_type": "display_data",
                    "data": {
                        "text/html": "(15 rows affected)"
                    },
                    "metadata": {}
                },
                {
                    "output_type": "display_data",
                    "data": {
                        "text/html": "(7 rows affected)"
                    },
                    "metadata": {}
                },
                {
                    "output_type": "display_data",
                    "data": {
                        "text/html": "(100 rows affected)"
                    },
                    "metadata": {}
                },
                {
                    "output_type": "display_data",
                    "data": {
                        "text/html": "(100 rows affected)"
                    },
                    "metadata": {}
                },
                {
                    "output_type": "display_data",
                    "data": {
                        "text/html": "(100 rows affected)"
                    },
                    "metadata": {}
                },
                {
                    "output_type": "display_data",
                    "data": {
                        "text/html": "Total execution time: 00:00:13.206"
                    },
                    "metadata": {}
                },
                {
                    "output_type": "execute_result",
                    "metadata": {},
                    "execution_count": 4,
                    "data": {
                        "application/vnd.dataresource+json": {
                            "schema": {
                                "fields": [
                                    {
                                        "name": "ID"
                                    },
                                    {
                                        "name": "Nombre de los Tipos"
                                    },
                                    {
                                        "name": "Resistente a"
                                    }
                                ]
                            },
                            "data": [
                                {
                                    "0": "1",
                                    "1": "Aire",
                                    "2": "Tierra"
                                },
                                {
                                    "0": "2",
                                    "1": "Tierra",
                                    "2": "Aire"
                                },
                                {
                                    "0": "3",
                                    "1": "Fuego",
                                    "2": "Agua"
                                },
                                {
                                    "0": "4",
                                    "1": "Agua",
                                    "2": "Fuego"
                                }
                            ]
                        },
                        "text/html": [
                            "<table>",
                            "<tr><th>ID</th><th>Nombre de los Tipos</th><th>Resistente a</th></tr>",
                            "<tr><td>1</td><td>Aire</td><td>Tierra</td></tr>",
                            "<tr><td>2</td><td>Tierra</td><td>Aire</td></tr>",
                            "<tr><td>3</td><td>Fuego</td><td>Agua</td></tr>",
                            "<tr><td>4</td><td>Agua</td><td>Fuego</td></tr>",
                            "</table>"
                        ]
                    }
                },
                {
                    "output_type": "execute_result",
                    "metadata": {},
                    "execution_count": 4,
                    "data": {
                        "application/vnd.dataresource+json": {
                            "schema": {
                                "fields": [
                                    {
                                        "name": "ID"
                                    },
                                    {
                                        "name": "Nombre de la Especie"
                                    },
                                    {
                                        "name": "ID del Tipo"
                                    },
                                    {
                                        "name": "Aumento de Salud"
                                    },
                                    {
                                        "name": "Daño de Ataque"
                                    },
                                    {
                                        "name": "Velocidad de Ataque"
                                    }
                                ]
                            },
                            "data": [
                                {
                                    "0": "1",
                                    "1": "Eolo",
                                    "2": "1",
                                    "3": "20",
                                    "4": "15",
                                    "5": "15"
                                },
                                {
                                    "0": "2",
                                    "1": "Boreas",
                                    "2": "1",
                                    "3": "30",
                                    "4": "25",
                                    "5": "15"
                                },
                                {
                                    "0": "3",
                                    "1": "Vulcano",
                                    "2": "3",
                                    "3": "25",
                                    "4": "25",
                                    "5": "20"
                                },
                                {
                                    "0": "4",
                                    "1": "Prometeo",
                                    "2": "3",
                                    "3": "15",
                                    "4": "20",
                                    "5": "10"
                                },
                                {
                                    "0": "5",
                                    "1": "Poseidon",
                                    "2": "4",
                                    "3": "30",
                                    "4": "30",
                                    "5": "30"
                                },
                                {
                                    "0": "6",
                                    "1": "Triton",
                                    "2": "4",
                                    "3": "20",
                                    "4": "15",
                                    "5": "10"
                                },
                                {
                                    "0": "7",
                                    "1": "Gaia",
                                    "2": "2",
                                    "3": "25",
                                    "4": "30",
                                    "5": "30"
                                },
                                {
                                    "0": "8",
                                    "1": "Pan",
                                    "2": "2",
                                    "3": "15",
                                    "4": "20",
                                    "5": "20"
                                }
                            ]
                        },
                        "text/html": [
                            "<table>",
                            "<tr><th>ID</th><th>Nombre de la Especie</th><th>ID del Tipo</th><th>Aumento de Salud</th><th>Daño de Ataque</th><th>Velocidad de Ataque</th></tr>",
                            "<tr><td>1</td><td>Eolo</td><td>1</td><td>20</td><td>15</td><td>15</td></tr>",
                            "<tr><td>2</td><td>Boreas</td><td>1</td><td>30</td><td>25</td><td>15</td></tr>",
                            "<tr><td>3</td><td>Vulcano</td><td>3</td><td>25</td><td>25</td><td>20</td></tr>",
                            "<tr><td>4</td><td>Prometeo</td><td>3</td><td>15</td><td>20</td><td>10</td></tr>",
                            "<tr><td>5</td><td>Poseidon</td><td>4</td><td>30</td><td>30</td><td>30</td></tr>",
                            "<tr><td>6</td><td>Triton</td><td>4</td><td>20</td><td>15</td><td>10</td></tr>",
                            "<tr><td>7</td><td>Gaia</td><td>2</td><td>25</td><td>30</td><td>30</td></tr>",
                            "<tr><td>8</td><td>Pan</td><td>2</td><td>15</td><td>20</td><td>20</td></tr>",
                            "</table>"
                        ]
                    }
                },
                {
                    "output_type": "execute_result",
                    "metadata": {},
                    "execution_count": 4,
                    "data": {
                        "application/vnd.dataresource+json": {
                            "schema": {
                                "fields": [
                                    {
                                        "name": "ID"
                                    },
                                    {
                                        "name": "Nombre del Bicho"
                                    },
                                    {
                                        "name": "Salud"
                                    },
                                    {
                                        "name": "Tipo"
                                    },
                                    {
                                        "name": "Especie"
                                    },
                                    {
                                        "name": "Propietario ID"
                                    },
                                    {
                                        "name": "Propietario Nombre"
                                    }
                                ]
                            },
                            "data": [
                                {
                                    "0": "1",
                                    "1": "Charmander",
                                    "2": "100",
                                    "3": "3",
                                    "4": "3",
                                    "5": "2",
                                    "6": "Edgar"
                                },
                                {
                                    "0": "2",
                                    "1": "Charmeleon",
                                    "2": "100",
                                    "3": "3",
                                    "4": "3",
                                    "5": "4",
                                    "6": "Fabiola"
                                },
                                {
                                    "0": "3",
                                    "1": "Ponyta",
                                    "2": "100",
                                    "3": "3",
                                    "4": "4",
                                    "5": "5",
                                    "6": "Diego"
                                },
                                {
                                    "0": "4",
                                    "1": "Rapidash",
                                    "2": "100",
                                    "3": "3",
                                    "4": "4",
                                    "5": "NULL",
                                    "6": "NULL"
                                },
                                {
                                    "0": "5",
                                    "1": "Vulpix",
                                    "2": "100",
                                    "3": "3",
                                    "4": "3",
                                    "5": "NULL",
                                    "6": "NULL"
                                },
                                {
                                    "0": "6",
                                    "1": "Squirtle",
                                    "2": "100",
                                    "3": "4",
                                    "4": "5",
                                    "5": "5",
                                    "6": "Diego"
                                },
                                {
                                    "0": "7",
                                    "1": "Wartortle",
                                    "2": "100",
                                    "3": "4",
                                    "4": "5",
                                    "5": "2",
                                    "6": "Edgar"
                                },
                                {
                                    "0": "8",
                                    "1": "Magikarp",
                                    "2": "100",
                                    "3": "4",
                                    "4": "6",
                                    "5": "2",
                                    "6": "Edgar"
                                },
                                {
                                    "0": "9",
                                    "1": "Gyarados",
                                    "2": "100",
                                    "3": "4",
                                    "4": "6",
                                    "5": "1",
                                    "6": "Lucia"
                                },
                                {
                                    "0": "10",
                                    "1": "Psyduck",
                                    "2": "100",
                                    "3": "4",
                                    "4": "5",
                                    "5": "4",
                                    "6": "Fabiola"
                                },
                                {
                                    "0": "11",
                                    "1": "Sandshrew",
                                    "2": "100",
                                    "3": "2",
                                    "4": "7",
                                    "5": "NULL",
                                    "6": "NULL"
                                },
                                {
                                    "0": "12",
                                    "1": "Sandslash",
                                    "2": "100",
                                    "3": "2",
                                    "4": "7",
                                    "5": "1",
                                    "6": "Lucia"
                                },
                                {
                                    "0": "13",
                                    "1": "Diglett",
                                    "2": "100",
                                    "3": "2",
                                    "4": "8",
                                    "5": "3",
                                    "6": "Jose"
                                },
                                {
                                    "0": "14",
                                    "1": "Dugtrio ",
                                    "2": "100",
                                    "3": "2",
                                    "4": "8",
                                    "5": "NULL",
                                    "6": "NULL"
                                },
                                {
                                    "0": "15",
                                    "1": "Graveler",
                                    "2": "100",
                                    "3": "2",
                                    "4": "7",
                                    "5": "1",
                                    "6": "Lucia"
                                },
                                {
                                    "0": "16",
                                    "1": "Pidgey",
                                    "2": "100",
                                    "3": "1",
                                    "4": "1",
                                    "5": "4",
                                    "6": "Fabiola"
                                },
                                {
                                    "0": "17",
                                    "1": "Pidgeotto ",
                                    "2": "100",
                                    "3": "1",
                                    "4": "1",
                                    "5": "5",
                                    "6": "Diego"
                                },
                                {
                                    "0": "18",
                                    "1": "Spearow",
                                    "2": "100",
                                    "3": "1",
                                    "4": "2",
                                    "5": "3",
                                    "6": "Jose"
                                },
                                {
                                    "0": "19",
                                    "1": "Fearow",
                                    "2": "100",
                                    "3": "1",
                                    "4": "2",
                                    "5": "NULL",
                                    "6": "NULL"
                                },
                                {
                                    "0": "20",
                                    "1": "Charizard",
                                    "2": "100",
                                    "3": "1",
                                    "4": "1",
                                    "5": "3",
                                    "6": "Jose"
                                }
                            ]
                        },
                        "text/html": [
                            "<table>",
                            "<tr><th>ID</th><th>Nombre del Bicho</th><th>Salud</th><th>Tipo</th><th>Especie</th><th>Propietario ID</th><th>Propietario Nombre</th></tr>",
                            "<tr><td>1</td><td>Charmander</td><td>100</td><td>3</td><td>3</td><td>2</td><td>Edgar</td></tr>",
                            "<tr><td>2</td><td>Charmeleon</td><td>100</td><td>3</td><td>3</td><td>4</td><td>Fabiola</td></tr>",
                            "<tr><td>3</td><td>Ponyta</td><td>100</td><td>3</td><td>4</td><td>5</td><td>Diego</td></tr>",
                            "<tr><td>4</td><td>Rapidash</td><td>100</td><td>3</td><td>4</td><td>NULL</td><td>NULL</td></tr>",
                            "<tr><td>5</td><td>Vulpix</td><td>100</td><td>3</td><td>3</td><td>NULL</td><td>NULL</td></tr>",
                            "<tr><td>6</td><td>Squirtle</td><td>100</td><td>4</td><td>5</td><td>5</td><td>Diego</td></tr>",
                            "<tr><td>7</td><td>Wartortle</td><td>100</td><td>4</td><td>5</td><td>2</td><td>Edgar</td></tr>",
                            "<tr><td>8</td><td>Magikarp</td><td>100</td><td>4</td><td>6</td><td>2</td><td>Edgar</td></tr>",
                            "<tr><td>9</td><td>Gyarados</td><td>100</td><td>4</td><td>6</td><td>1</td><td>Lucia</td></tr>",
                            "<tr><td>10</td><td>Psyduck</td><td>100</td><td>4</td><td>5</td><td>4</td><td>Fabiola</td></tr>",
                            "<tr><td>11</td><td>Sandshrew</td><td>100</td><td>2</td><td>7</td><td>NULL</td><td>NULL</td></tr>",
                            "<tr><td>12</td><td>Sandslash</td><td>100</td><td>2</td><td>7</td><td>1</td><td>Lucia</td></tr>",
                            "<tr><td>13</td><td>Diglett</td><td>100</td><td>2</td><td>8</td><td>3</td><td>Jose</td></tr>",
                            "<tr><td>14</td><td>Dugtrio </td><td>100</td><td>2</td><td>8</td><td>NULL</td><td>NULL</td></tr>",
                            "<tr><td>15</td><td>Graveler</td><td>100</td><td>2</td><td>7</td><td>1</td><td>Lucia</td></tr>",
                            "<tr><td>16</td><td>Pidgey</td><td>100</td><td>1</td><td>1</td><td>4</td><td>Fabiola</td></tr>",
                            "<tr><td>17</td><td>Pidgeotto </td><td>100</td><td>1</td><td>1</td><td>5</td><td>Diego</td></tr>",
                            "<tr><td>18</td><td>Spearow</td><td>100</td><td>1</td><td>2</td><td>3</td><td>Jose</td></tr>",
                            "<tr><td>19</td><td>Fearow</td><td>100</td><td>1</td><td>2</td><td>NULL</td><td>NULL</td></tr>",
                            "<tr><td>20</td><td>Charizard</td><td>100</td><td>1</td><td>1</td><td>3</td><td>Jose</td></tr>",
                            "</table>"
                        ]
                    }
                },
                {
                    "output_type": "execute_result",
                    "metadata": {},
                    "execution_count": 4,
                    "data": {
                        "application/vnd.dataresource+json": {
                            "schema": {
                                "fields": [
                                    {
                                        "name": "ID"
                                    },
                                    {
                                        "name": "Nombre del Ataque"
                                    },
                                    {
                                        "name": "ID del Tipo"
                                    },
                                    {
                                        "name": "Nivel de Ataque"
                                    }
                                ]
                            },
                            "data": [
                                {
                                    "0": "1",
                                    "1": "Puño de Fuego",
                                    "2": "3",
                                    "3": "1"
                                },
                                {
                                    "0": "2",
                                    "1": "Puño de Agua",
                                    "2": "4",
                                    "3": "1"
                                },
                                {
                                    "0": "3",
                                    "1": "Puño de Tierra",
                                    "2": "2",
                                    "3": "1"
                                },
                                {
                                    "0": "4",
                                    "1": "Puño de Aire",
                                    "2": "1",
                                    "3": "1"
                                },
                                {
                                    "0": "5",
                                    "1": "Huracan",
                                    "2": "4",
                                    "3": "2"
                                },
                                {
                                    "0": "6",
                                    "1": "Viento",
                                    "2": "1",
                                    "3": "2"
                                },
                                {
                                    "0": "7",
                                    "1": "Terremoto",
                                    "2": "2",
                                    "3": "2"
                                },
                                {
                                    "0": "8",
                                    "1": "Incendio",
                                    "2": "3",
                                    "3": "2"
                                },
                                {
                                    "0": "9",
                                    "1": "Tormenta",
                                    "2": "4",
                                    "3": "3"
                                },
                                {
                                    "0": "10",
                                    "1": "Volcan",
                                    "2": "3",
                                    "3": "3"
                                },
                                {
                                    "0": "11",
                                    "1": "Arena Movediza",
                                    "2": "2",
                                    "3": "3"
                                },
                                {
                                    "0": "12",
                                    "1": "Ventisca",
                                    "2": "1",
                                    "3": "3"
                                },
                                {
                                    "0": "13",
                                    "1": "Tsunami",
                                    "2": "4",
                                    "3": "4"
                                },
                                {
                                    "0": "14",
                                    "1": "Rayo",
                                    "2": "3",
                                    "3": "4"
                                },
                                {
                                    "0": "15",
                                    "1": "Hierro",
                                    "2": "2",
                                    "3": "4"
                                },
                                {
                                    "0": "16",
                                    "1": "Tornado",
                                    "2": "1",
                                    "3": "4"
                                }
                            ]
                        },
                        "text/html": [
                            "<table>",
                            "<tr><th>ID</th><th>Nombre del Ataque</th><th>ID del Tipo</th><th>Nivel de Ataque</th></tr>",
                            "<tr><td>1</td><td>Puño de Fuego</td><td>3</td><td>1</td></tr>",
                            "<tr><td>2</td><td>Puño de Agua</td><td>4</td><td>1</td></tr>",
                            "<tr><td>3</td><td>Puño de Tierra</td><td>2</td><td>1</td></tr>",
                            "<tr><td>4</td><td>Puño de Aire</td><td>1</td><td>1</td></tr>",
                            "<tr><td>5</td><td>Huracan</td><td>4</td><td>2</td></tr>",
                            "<tr><td>6</td><td>Viento</td><td>1</td><td>2</td></tr>",
                            "<tr><td>7</td><td>Terremoto</td><td>2</td><td>2</td></tr>",
                            "<tr><td>8</td><td>Incendio</td><td>3</td><td>2</td></tr>",
                            "<tr><td>9</td><td>Tormenta</td><td>4</td><td>3</td></tr>",
                            "<tr><td>10</td><td>Volcan</td><td>3</td><td>3</td></tr>",
                            "<tr><td>11</td><td>Arena Movediza</td><td>2</td><td>3</td></tr>",
                            "<tr><td>12</td><td>Ventisca</td><td>1</td><td>3</td></tr>",
                            "<tr><td>13</td><td>Tsunami</td><td>4</td><td>4</td></tr>",
                            "<tr><td>14</td><td>Rayo</td><td>3</td><td>4</td></tr>",
                            "<tr><td>15</td><td>Hierro</td><td>2</td><td>4</td></tr>",
                            "<tr><td>16</td><td>Tornado</td><td>1</td><td>4</td></tr>",
                            "</table>"
                        ]
                    }
                },
                {
                    "output_type": "execute_result",
                    "metadata": {},
                    "execution_count": 4,
                    "data": {
                        "application/vnd.dataresource+json": {
                            "schema": {
                                "fields": [
                                    {
                                        "name": "ID"
                                    },
                                    {
                                        "name": "Nombre del Usuario"
                                    }
                                ]
                            },
                            "data": [
                                {
                                    "0": "1",
                                    "1": "Lucia"
                                },
                                {
                                    "0": "2",
                                    "1": "Edgar"
                                },
                                {
                                    "0": "3",
                                    "1": "Jose"
                                },
                                {
                                    "0": "4",
                                    "1": "Fabiola"
                                },
                                {
                                    "0": "5",
                                    "1": "Diego"
                                }
                            ]
                        },
                        "text/html": [
                            "<table>",
                            "<tr><th>ID</th><th>Nombre del Usuario</th></tr>",
                            "<tr><td>1</td><td>Lucia</td></tr>",
                            "<tr><td>2</td><td>Edgar</td></tr>",
                            "<tr><td>3</td><td>Jose</td></tr>",
                            "<tr><td>4</td><td>Fabiola</td></tr>",
                            "<tr><td>5</td><td>Diego</td></tr>",
                            "</table>"
                        ]
                    }
                },
                {
                    "output_type": "execute_result",
                    "metadata": {},
                    "execution_count": 4,
                    "data": {
                        "application/vnd.dataresource+json": {
                            "schema": {
                                "fields": [
                                    {
                                        "name": "Fecha de Recoleccion"
                                    },
                                    {
                                        "name": "ID Bicho"
                                    },
                                    {
                                        "name": "Nivel"
                                    },
                                    {
                                        "name": "Usuario"
                                    }
                                ]
                            },
                            "data": [
                                {
                                    "0": "2020-06-02",
                                    "1": "1",
                                    "2": "1",
                                    "3": "2"
                                },
                                {
                                    "0": "2020-06-02",
                                    "1": "13",
                                    "2": "2",
                                    "3": "3"
                                },
                                {
                                    "0": "2020-06-02",
                                    "1": "16",
                                    "2": "3",
                                    "3": "4"
                                },
                                {
                                    "0": "2020-06-02",
                                    "1": "17",
                                    "2": "1",
                                    "3": "5"
                                },
                                {
                                    "0": "2020-06-02",
                                    "1": "18",
                                    "2": "2",
                                    "3": "3"
                                },
                                {
                                    "0": "2020-06-02",
                                    "1": "9",
                                    "2": "1",
                                    "3": "1"
                                },
                                {
                                    "0": "2020-06-02",
                                    "1": "6",
                                    "2": "2",
                                    "3": "5"
                                },
                                {
                                    "0": "2020-06-02",
                                    "1": "10",
                                    "2": "3",
                                    "3": "4"
                                },
                                {
                                    "0": "2020-06-02",
                                    "1": "12",
                                    "2": "2",
                                    "3": "1"
                                },
                                {
                                    "0": "2020-06-02",
                                    "1": "2",
                                    "2": "3",
                                    "3": "4"
                                },
                                {
                                    "0": "2020-06-02",
                                    "1": "8",
                                    "2": "1",
                                    "3": "2"
                                },
                                {
                                    "0": "2020-06-02",
                                    "1": "3",
                                    "2": "1",
                                    "3": "5"
                                },
                                {
                                    "0": "2020-06-02",
                                    "1": "7",
                                    "2": "2",
                                    "3": "2"
                                },
                                {
                                    "0": "2020-06-02",
                                    "1": "15",
                                    "2": "3",
                                    "3": "1"
                                },
                                {
                                    "0": "2020-06-02",
                                    "1": "20",
                                    "2": "2",
                                    "3": "3"
                                }
                            ]
                        },
                        "text/html": [
                            "<table>",
                            "<tr><th>Fecha de Recoleccion</th><th>ID Bicho</th><th>Nivel</th><th>Usuario</th></tr>",
                            "<tr><td>2020-06-02</td><td>1</td><td>1</td><td>2</td></tr>",
                            "<tr><td>2020-06-02</td><td>13</td><td>2</td><td>3</td></tr>",
                            "<tr><td>2020-06-02</td><td>16</td><td>3</td><td>4</td></tr>",
                            "<tr><td>2020-06-02</td><td>17</td><td>1</td><td>5</td></tr>",
                            "<tr><td>2020-06-02</td><td>18</td><td>2</td><td>3</td></tr>",
                            "<tr><td>2020-06-02</td><td>9</td><td>1</td><td>1</td></tr>",
                            "<tr><td>2020-06-02</td><td>6</td><td>2</td><td>5</td></tr>",
                            "<tr><td>2020-06-02</td><td>10</td><td>3</td><td>4</td></tr>",
                            "<tr><td>2020-06-02</td><td>12</td><td>2</td><td>1</td></tr>",
                            "<tr><td>2020-06-02</td><td>2</td><td>3</td><td>4</td></tr>",
                            "<tr><td>2020-06-02</td><td>8</td><td>1</td><td>2</td></tr>",
                            "<tr><td>2020-06-02</td><td>3</td><td>1</td><td>5</td></tr>",
                            "<tr><td>2020-06-02</td><td>7</td><td>2</td><td>2</td></tr>",
                            "<tr><td>2020-06-02</td><td>15</td><td>3</td><td>1</td></tr>",
                            "<tr><td>2020-06-02</td><td>20</td><td>2</td><td>3</td></tr>",
                            "</table>"
                        ]
                    }
                },
                {
                    "output_type": "execute_result",
                    "metadata": {},
                    "execution_count": 4,
                    "data": {
                        "application/vnd.dataresource+json": {
                            "schema": {
                                "fields": [
                                    {
                                        "name": "ID"
                                    },
                                    {
                                        "name": "Fecha del Intercambio"
                                    },
                                    {
                                        "name": "Usuario 1"
                                    },
                                    {
                                        "name": "Usuario 2"
                                    },
                                    {
                                        "name": "Bicho del Usuario1"
                                    },
                                    {
                                        "name": "Bicho del Usuario2"
                                    }
                                ]
                            },
                            "data": [
                                {
                                    "0": "1",
                                    "1": "2020-06-02",
                                    "2": "2",
                                    "3": "3",
                                    "4": "1",
                                    "5": "13"
                                },
                                {
                                    "0": "2",
                                    "1": "2020-06-02",
                                    "2": "3",
                                    "3": "5",
                                    "4": "18",
                                    "5": "3"
                                },
                                {
                                    "0": "3",
                                    "1": "2020-06-02",
                                    "2": "1",
                                    "3": "4",
                                    "4": "9",
                                    "5": "10"
                                },
                                {
                                    "0": "4",
                                    "1": "2020-06-02",
                                    "2": "4",
                                    "3": "2",
                                    "4": "2",
                                    "5": "7"
                                },
                                {
                                    "0": "5",
                                    "1": "2020-06-02",
                                    "2": "5",
                                    "3": "3",
                                    "4": "6",
                                    "5": "20"
                                },
                                {
                                    "0": "6",
                                    "1": "2020-06-02",
                                    "2": "4",
                                    "3": "1",
                                    "4": "16",
                                    "5": "12"
                                },
                                {
                                    "0": "7",
                                    "1": "2020-06-02",
                                    "2": "1",
                                    "3": "5",
                                    "4": "15",
                                    "5": "17"
                                }
                            ]
                        },
                        "text/html": [
                            "<table>",
                            "<tr><th>ID</th><th>Fecha del Intercambio</th><th>Usuario 1</th><th>Usuario 2</th><th>Bicho del Usuario1</th><th>Bicho del Usuario2</th></tr>",
                            "<tr><td>1</td><td>2020-06-02</td><td>2</td><td>3</td><td>1</td><td>13</td></tr>",
                            "<tr><td>2</td><td>2020-06-02</td><td>3</td><td>5</td><td>18</td><td>3</td></tr>",
                            "<tr><td>3</td><td>2020-06-02</td><td>1</td><td>4</td><td>9</td><td>10</td></tr>",
                            "<tr><td>4</td><td>2020-06-02</td><td>4</td><td>2</td><td>2</td><td>7</td></tr>",
                            "<tr><td>5</td><td>2020-06-02</td><td>5</td><td>3</td><td>6</td><td>20</td></tr>",
                            "<tr><td>6</td><td>2020-06-02</td><td>4</td><td>1</td><td>16</td><td>12</td></tr>",
                            "<tr><td>7</td><td>2020-06-02</td><td>1</td><td>5</td><td>15</td><td>17</td></tr>",
                            "</table>"
                        ]
                    }
                },
                {
                    "output_type": "execute_result",
                    "metadata": {},
                    "execution_count": 4,
                    "data": {
                        "application/vnd.dataresource+json": {
                            "schema": {
                                "fields": [
                                    {
                                        "name": "Bicho"
                                    },
                                    {
                                        "name": "Ataque"
                                    }
                                ]
                            },
                            "data": [
                                {
                                    "0": "1",
                                    "1": "1"
                                },
                                {
                                    "0": "1",
                                    "1": "5"
                                },
                                {
                                    "0": "1",
                                    "1": "7"
                                },
                                {
                                    "0": "1",
                                    "1": "11"
                                },
                                {
                                    "0": "1",
                                    "1": "14"
                                },
                                {
                                    "0": "2",
                                    "1": "3"
                                },
                                {
                                    "0": "2",
                                    "1": "6"
                                },
                                {
                                    "0": "2",
                                    "1": "8"
                                },
                                {
                                    "0": "2",
                                    "1": "11"
                                },
                                {
                                    "0": "2",
                                    "1": "12"
                                },
                                {
                                    "0": "3",
                                    "1": "3"
                                },
                                {
                                    "0": "3",
                                    "1": "9"
                                },
                                {
                                    "0": "3",
                                    "1": "10"
                                },
                                {
                                    "0": "3",
                                    "1": "12"
                                },
                                {
                                    "0": "3",
                                    "1": "15"
                                },
                                {
                                    "0": "4",
                                    "1": "2"
                                },
                                {
                                    "0": "4",
                                    "1": "4"
                                },
                                {
                                    "0": "4",
                                    "1": "6"
                                },
                                {
                                    "0": "4",
                                    "1": "12"
                                },
                                {
                                    "0": "4",
                                    "1": "14"
                                },
                                {
                                    "0": "5",
                                    "1": "3"
                                },
                                {
                                    "0": "5",
                                    "1": "4"
                                },
                                {
                                    "0": "5",
                                    "1": "6"
                                },
                                {
                                    "0": "5",
                                    "1": "8"
                                },
                                {
                                    "0": "5",
                                    "1": "15"
                                },
                                {
                                    "0": "6",
                                    "1": "1"
                                },
                                {
                                    "0": "6",
                                    "1": "7"
                                },
                                {
                                    "0": "6",
                                    "1": "11"
                                },
                                {
                                    "0": "6",
                                    "1": "12"
                                },
                                {
                                    "0": "6",
                                    "1": "15"
                                },
                                {
                                    "0": "7",
                                    "1": "2"
                                },
                                {
                                    "0": "7",
                                    "1": "11"
                                },
                                {
                                    "0": "7",
                                    "1": "13"
                                },
                                {
                                    "0": "7",
                                    "1": "14"
                                },
                                {
                                    "0": "7",
                                    "1": "15"
                                },
                                {
                                    "0": "8",
                                    "1": "1"
                                },
                                {
                                    "0": "8",
                                    "1": "6"
                                },
                                {
                                    "0": "8",
                                    "1": "8"
                                },
                                {
                                    "0": "8",
                                    "1": "9"
                                },
                                {
                                    "0": "8",
                                    "1": "12"
                                },
                                {
                                    "0": "9",
                                    "1": "1"
                                },
                                {
                                    "0": "9",
                                    "1": "8"
                                },
                                {
                                    "0": "9",
                                    "1": "10"
                                },
                                {
                                    "0": "9",
                                    "1": "12"
                                },
                                {
                                    "0": "9",
                                    "1": "15"
                                },
                                {
                                    "0": "10",
                                    "1": "2"
                                },
                                {
                                    "0": "10",
                                    "1": "4"
                                },
                                {
                                    "0": "10",
                                    "1": "6"
                                },
                                {
                                    "0": "10",
                                    "1": "11"
                                },
                                {
                                    "0": "10",
                                    "1": "13"
                                },
                                {
                                    "0": "11",
                                    "1": "5"
                                },
                                {
                                    "0": "11",
                                    "1": "8"
                                },
                                {
                                    "0": "11",
                                    "1": "9"
                                },
                                {
                                    "0": "11",
                                    "1": "12"
                                },
                                {
                                    "0": "11",
                                    "1": "15"
                                },
                                {
                                    "0": "12",
                                    "1": "3"
                                },
                                {
                                    "0": "12",
                                    "1": "6"
                                },
                                {
                                    "0": "12",
                                    "1": "7"
                                },
                                {
                                    "0": "12",
                                    "1": "8"
                                },
                                {
                                    "0": "12",
                                    "1": "10"
                                },
                                {
                                    "0": "13",
                                    "1": "1"
                                },
                                {
                                    "0": "13",
                                    "1": "4"
                                },
                                {
                                    "0": "13",
                                    "1": "5"
                                },
                                {
                                    "0": "13",
                                    "1": "7"
                                },
                                {
                                    "0": "13",
                                    "1": "11"
                                },
                                {
                                    "0": "14",
                                    "1": "2"
                                },
                                {
                                    "0": "14",
                                    "1": "5"
                                },
                                {
                                    "0": "14",
                                    "1": "8"
                                },
                                {
                                    "0": "14",
                                    "1": "11"
                                },
                                {
                                    "0": "14",
                                    "1": "15"
                                },
                                {
                                    "0": "15",
                                    "1": "1"
                                },
                                {
                                    "0": "15",
                                    "1": "5"
                                },
                                {
                                    "0": "15",
                                    "1": "9"
                                },
                                {
                                    "0": "15",
                                    "1": "13"
                                },
                                {
                                    "0": "15",
                                    "1": "15"
                                },
                                {
                                    "0": "16",
                                    "1": "1"
                                },
                                {
                                    "0": "16",
                                    "1": "6"
                                },
                                {
                                    "0": "16",
                                    "1": "8"
                                },
                                {
                                    "0": "16",
                                    "1": "10"
                                },
                                {
                                    "0": "16",
                                    "1": "12"
                                },
                                {
                                    "0": "17",
                                    "1": "3"
                                },
                                {
                                    "0": "17",
                                    "1": "5"
                                },
                                {
                                    "0": "17",
                                    "1": "11"
                                },
                                {
                                    "0": "17",
                                    "1": "14"
                                },
                                {
                                    "0": "17",
                                    "1": "15"
                                },
                                {
                                    "0": "18",
                                    "1": "1"
                                },
                                {
                                    "0": "18",
                                    "1": "4"
                                },
                                {
                                    "0": "18",
                                    "1": "7"
                                },
                                {
                                    "0": "18",
                                    "1": "8"
                                },
                                {
                                    "0": "18",
                                    "1": "9"
                                },
                                {
                                    "0": "19",
                                    "1": "2"
                                },
                                {
                                    "0": "19",
                                    "1": "4"
                                },
                                {
                                    "0": "19",
                                    "1": "7"
                                },
                                {
                                    "0": "19",
                                    "1": "10"
                                },
                                {
                                    "0": "19",
                                    "1": "12"
                                },
                                {
                                    "0": "20",
                                    "1": "1"
                                },
                                {
                                    "0": "20",
                                    "1": "6"
                                },
                                {
                                    "0": "20",
                                    "1": "11"
                                },
                                {
                                    "0": "20",
                                    "1": "13"
                                },
                                {
                                    "0": "20",
                                    "1": "14"
                                }
                            ]
                        },
                        "text/html": [
                            "<table>",
                            "<tr><th>Bicho</th><th>Ataque</th></tr>",
                            "<tr><td>1</td><td>1</td></tr>",
                            "<tr><td>1</td><td>5</td></tr>",
                            "<tr><td>1</td><td>7</td></tr>",
                            "<tr><td>1</td><td>11</td></tr>",
                            "<tr><td>1</td><td>14</td></tr>",
                            "<tr><td>2</td><td>3</td></tr>",
                            "<tr><td>2</td><td>6</td></tr>",
                            "<tr><td>2</td><td>8</td></tr>",
                            "<tr><td>2</td><td>11</td></tr>",
                            "<tr><td>2</td><td>12</td></tr>",
                            "<tr><td>3</td><td>3</td></tr>",
                            "<tr><td>3</td><td>9</td></tr>",
                            "<tr><td>3</td><td>10</td></tr>",
                            "<tr><td>3</td><td>12</td></tr>",
                            "<tr><td>3</td><td>15</td></tr>",
                            "<tr><td>4</td><td>2</td></tr>",
                            "<tr><td>4</td><td>4</td></tr>",
                            "<tr><td>4</td><td>6</td></tr>",
                            "<tr><td>4</td><td>12</td></tr>",
                            "<tr><td>4</td><td>14</td></tr>",
                            "<tr><td>5</td><td>3</td></tr>",
                            "<tr><td>5</td><td>4</td></tr>",
                            "<tr><td>5</td><td>6</td></tr>",
                            "<tr><td>5</td><td>8</td></tr>",
                            "<tr><td>5</td><td>15</td></tr>",
                            "<tr><td>6</td><td>1</td></tr>",
                            "<tr><td>6</td><td>7</td></tr>",
                            "<tr><td>6</td><td>11</td></tr>",
                            "<tr><td>6</td><td>12</td></tr>",
                            "<tr><td>6</td><td>15</td></tr>",
                            "<tr><td>7</td><td>2</td></tr>",
                            "<tr><td>7</td><td>11</td></tr>",
                            "<tr><td>7</td><td>13</td></tr>",
                            "<tr><td>7</td><td>14</td></tr>",
                            "<tr><td>7</td><td>15</td></tr>",
                            "<tr><td>8</td><td>1</td></tr>",
                            "<tr><td>8</td><td>6</td></tr>",
                            "<tr><td>8</td><td>8</td></tr>",
                            "<tr><td>8</td><td>9</td></tr>",
                            "<tr><td>8</td><td>12</td></tr>",
                            "<tr><td>9</td><td>1</td></tr>",
                            "<tr><td>9</td><td>8</td></tr>",
                            "<tr><td>9</td><td>10</td></tr>",
                            "<tr><td>9</td><td>12</td></tr>",
                            "<tr><td>9</td><td>15</td></tr>",
                            "<tr><td>10</td><td>2</td></tr>",
                            "<tr><td>10</td><td>4</td></tr>",
                            "<tr><td>10</td><td>6</td></tr>",
                            "<tr><td>10</td><td>11</td></tr>",
                            "<tr><td>10</td><td>13</td></tr>",
                            "<tr><td>11</td><td>5</td></tr>",
                            "<tr><td>11</td><td>8</td></tr>",
                            "<tr><td>11</td><td>9</td></tr>",
                            "<tr><td>11</td><td>12</td></tr>",
                            "<tr><td>11</td><td>15</td></tr>",
                            "<tr><td>12</td><td>3</td></tr>",
                            "<tr><td>12</td><td>6</td></tr>",
                            "<tr><td>12</td><td>7</td></tr>",
                            "<tr><td>12</td><td>8</td></tr>",
                            "<tr><td>12</td><td>10</td></tr>",
                            "<tr><td>13</td><td>1</td></tr>",
                            "<tr><td>13</td><td>4</td></tr>",
                            "<tr><td>13</td><td>5</td></tr>",
                            "<tr><td>13</td><td>7</td></tr>",
                            "<tr><td>13</td><td>11</td></tr>",
                            "<tr><td>14</td><td>2</td></tr>",
                            "<tr><td>14</td><td>5</td></tr>",
                            "<tr><td>14</td><td>8</td></tr>",
                            "<tr><td>14</td><td>11</td></tr>",
                            "<tr><td>14</td><td>15</td></tr>",
                            "<tr><td>15</td><td>1</td></tr>",
                            "<tr><td>15</td><td>5</td></tr>",
                            "<tr><td>15</td><td>9</td></tr>",
                            "<tr><td>15</td><td>13</td></tr>",
                            "<tr><td>15</td><td>15</td></tr>",
                            "<tr><td>16</td><td>1</td></tr>",
                            "<tr><td>16</td><td>6</td></tr>",
                            "<tr><td>16</td><td>8</td></tr>",
                            "<tr><td>16</td><td>10</td></tr>",
                            "<tr><td>16</td><td>12</td></tr>",
                            "<tr><td>17</td><td>3</td></tr>",
                            "<tr><td>17</td><td>5</td></tr>",
                            "<tr><td>17</td><td>11</td></tr>",
                            "<tr><td>17</td><td>14</td></tr>",
                            "<tr><td>17</td><td>15</td></tr>",
                            "<tr><td>18</td><td>1</td></tr>",
                            "<tr><td>18</td><td>4</td></tr>",
                            "<tr><td>18</td><td>7</td></tr>",
                            "<tr><td>18</td><td>8</td></tr>",
                            "<tr><td>18</td><td>9</td></tr>",
                            "<tr><td>19</td><td>2</td></tr>",
                            "<tr><td>19</td><td>4</td></tr>",
                            "<tr><td>19</td><td>7</td></tr>",
                            "<tr><td>19</td><td>10</td></tr>",
                            "<tr><td>19</td><td>12</td></tr>",
                            "<tr><td>20</td><td>1</td></tr>",
                            "<tr><td>20</td><td>6</td></tr>",
                            "<tr><td>20</td><td>11</td></tr>",
                            "<tr><td>20</td><td>13</td></tr>",
                            "<tr><td>20</td><td>14</td></tr>",
                            "</table>"
                        ]
                    }
                },
                {
                    "output_type": "execute_result",
                    "metadata": {},
                    "execution_count": 4,
                    "data": {
                        "application/vnd.dataresource+json": {
                            "schema": {
                                "fields": [
                                    {
                                        "name": "ID"
                                    },
                                    {
                                        "name": "Jugador 1"
                                    },
                                    {
                                        "name": "Jugador 2"
                                    },
                                    {
                                        "name": "Fecha"
                                    }
                                ]
                            },
                            "data": [
                                {
                                    "0": "1",
                                    "1": "4",
                                    "2": "3",
                                    "3": "2020-06-02"
                                },
                                {
                                    "0": "2",
                                    "1": "2",
                                    "2": "5",
                                    "3": "2020-06-02"
                                },
                                {
                                    "0": "3",
                                    "1": "1",
                                    "2": "5",
                                    "3": "2020-06-02"
                                },
                                {
                                    "0": "4",
                                    "1": "5",
                                    "2": "4",
                                    "3": "2020-06-02"
                                },
                                {
                                    "0": "5",
                                    "1": "1",
                                    "2": "3",
                                    "3": "2020-06-02"
                                },
                                {
                                    "0": "6",
                                    "1": "5",
                                    "2": "2",
                                    "3": "2020-06-02"
                                },
                                {
                                    "0": "7",
                                    "1": "5",
                                    "2": "4",
                                    "3": "2020-06-02"
                                },
                                {
                                    "0": "8",
                                    "1": "5",
                                    "2": "1",
                                    "3": "2020-06-02"
                                },
                                {
                                    "0": "9",
                                    "1": "2",
                                    "2": "5",
                                    "3": "2020-06-02"
                                },
                                {
                                    "0": "10",
                                    "1": "2",
                                    "2": "4",
                                    "3": "2020-06-02"
                                },
                                {
                                    "0": "11",
                                    "1": "5",
                                    "2": "1",
                                    "3": "2020-06-02"
                                },
                                {
                                    "0": "12",
                                    "1": "1",
                                    "2": "2",
                                    "3": "2020-06-02"
                                },
                                {
                                    "0": "13",
                                    "1": "3",
                                    "2": "2",
                                    "3": "2020-06-02"
                                },
                                {
                                    "0": "14",
                                    "1": "4",
                                    "2": "1",
                                    "3": "2020-06-02"
                                },
                                {
                                    "0": "15",
                                    "1": "2",
                                    "2": "5",
                                    "3": "2020-06-02"
                                },
                                {
                                    "0": "16",
                                    "1": "2",
                                    "2": "3",
                                    "3": "2020-06-02"
                                },
                                {
                                    "0": "17",
                                    "1": "3",
                                    "2": "1",
                                    "3": "2020-06-02"
                                },
                                {
                                    "0": "18",
                                    "1": "3",
                                    "2": "1",
                                    "3": "2020-06-02"
                                },
                                {
                                    "0": "19",
                                    "1": "1",
                                    "2": "2",
                                    "3": "2020-06-02"
                                },
                                {
                                    "0": "20",
                                    "1": "5",
                                    "2": "3",
                                    "3": "2020-06-02"
                                },
                                {
                                    "0": "21",
                                    "1": "5",
                                    "2": "1",
                                    "3": "2020-06-02"
                                },
                                {
                                    "0": "22",
                                    "1": "4",
                                    "2": "3",
                                    "3": "2020-06-02"
                                },
                                {
                                    "0": "23",
                                    "1": "4",
                                    "2": "3",
                                    "3": "2020-06-02"
                                },
                                {
                                    "0": "24",
                                    "1": "2",
                                    "2": "3",
                                    "3": "2020-06-02"
                                },
                                {
                                    "0": "25",
                                    "1": "5",
                                    "2": "4",
                                    "3": "2020-06-02"
                                },
                                {
                                    "0": "26",
                                    "1": "5",
                                    "2": "4",
                                    "3": "2020-06-02"
                                },
                                {
                                    "0": "27",
                                    "1": "2",
                                    "2": "4",
                                    "3": "2020-06-02"
                                },
                                {
                                    "0": "28",
                                    "1": "5",
                                    "2": "3",
                                    "3": "2020-06-02"
                                },
                                {
                                    "0": "29",
                                    "1": "2",
                                    "2": "1",
                                    "3": "2020-06-02"
                                },
                                {
                                    "0": "30",
                                    "1": "1",
                                    "2": "4",
                                    "3": "2020-06-02"
                                },
                                {
                                    "0": "31",
                                    "1": "1",
                                    "2": "3",
                                    "3": "2020-06-02"
                                },
                                {
                                    "0": "32",
                                    "1": "2",
                                    "2": "4",
                                    "3": "2020-06-02"
                                },
                                {
                                    "0": "33",
                                    "1": "5",
                                    "2": "1",
                                    "3": "2020-06-02"
                                },
                                {
                                    "0": "34",
                                    "1": "1",
                                    "2": "4",
                                    "3": "2020-06-02"
                                },
                                {
                                    "0": "35",
                                    "1": "1",
                                    "2": "5",
                                    "3": "2020-06-02"
                                },
                                {
                                    "0": "36",
                                    "1": "3",
                                    "2": "5",
                                    "3": "2020-06-02"
                                },
                                {
                                    "0": "37",
                                    "1": "2",
                                    "2": "4",
                                    "3": "2020-06-02"
                                },
                                {
                                    "0": "38",
                                    "1": "1",
                                    "2": "4",
                                    "3": "2020-06-02"
                                },
                                {
                                    "0": "39",
                                    "1": "5",
                                    "2": "3",
                                    "3": "2020-06-02"
                                },
                                {
                                    "0": "40",
                                    "1": "5",
                                    "2": "4",
                                    "3": "2020-06-02"
                                },
                                {
                                    "0": "41",
                                    "1": "3",
                                    "2": "1",
                                    "3": "2020-06-02"
                                },
                                {
                                    "0": "42",
                                    "1": "4",
                                    "2": "2",
                                    "3": "2020-06-02"
                                },
                                {
                                    "0": "43",
                                    "1": "3",
                                    "2": "2",
                                    "3": "2020-06-02"
                                },
                                {
                                    "0": "44",
                                    "1": "2",
                                    "2": "1",
                                    "3": "2020-06-02"
                                },
                                {
                                    "0": "45",
                                    "1": "2",
                                    "2": "4",
                                    "3": "2020-06-02"
                                },
                                {
                                    "0": "46",
                                    "1": "3",
                                    "2": "4",
                                    "3": "2020-06-02"
                                },
                                {
                                    "0": "47",
                                    "1": "5",
                                    "2": "4",
                                    "3": "2020-06-02"
                                },
                                {
                                    "0": "48",
                                    "1": "4",
                                    "2": "1",
                                    "3": "2020-06-02"
                                },
                                {
                                    "0": "49",
                                    "1": "1",
                                    "2": "5",
                                    "3": "2020-06-02"
                                },
                                {
                                    "0": "50",
                                    "1": "2",
                                    "2": "3",
                                    "3": "2020-06-02"
                                },
                                {
                                    "0": "51",
                                    "1": "5",
                                    "2": "3",
                                    "3": "2020-06-02"
                                },
                                {
                                    "0": "52",
                                    "1": "1",
                                    "2": "2",
                                    "3": "2020-06-02"
                                },
                                {
                                    "0": "53",
                                    "1": "1",
                                    "2": "4",
                                    "3": "2020-06-02"
                                },
                                {
                                    "0": "54",
                                    "1": "1",
                                    "2": "4",
                                    "3": "2020-06-02"
                                },
                                {
                                    "0": "55",
                                    "1": "2",
                                    "2": "1",
                                    "3": "2020-06-02"
                                },
                                {
                                    "0": "56",
                                    "1": "1",
                                    "2": "4",
                                    "3": "2020-06-02"
                                },
                                {
                                    "0": "57",
                                    "1": "2",
                                    "2": "1",
                                    "3": "2020-06-02"
                                },
                                {
                                    "0": "58",
                                    "1": "5",
                                    "2": "2",
                                    "3": "2020-06-02"
                                },
                                {
                                    "0": "59",
                                    "1": "5",
                                    "2": "3",
                                    "3": "2020-06-02"
                                },
                                {
                                    "0": "60",
                                    "1": "5",
                                    "2": "2",
                                    "3": "2020-06-02"
                                },
                                {
                                    "0": "61",
                                    "1": "5",
                                    "2": "4",
                                    "3": "2020-06-02"
                                },
                                {
                                    "0": "62",
                                    "1": "3",
                                    "2": "2",
                                    "3": "2020-06-02"
                                },
                                {
                                    "0": "63",
                                    "1": "1",
                                    "2": "3",
                                    "3": "2020-06-02"
                                },
                                {
                                    "0": "64",
                                    "1": "5",
                                    "2": "1",
                                    "3": "2020-06-02"
                                },
                                {
                                    "0": "65",
                                    "1": "1",
                                    "2": "5",
                                    "3": "2020-06-02"
                                },
                                {
                                    "0": "66",
                                    "1": "5",
                                    "2": "1",
                                    "3": "2020-06-02"
                                },
                                {
                                    "0": "67",
                                    "1": "5",
                                    "2": "2",
                                    "3": "2020-06-02"
                                },
                                {
                                    "0": "68",
                                    "1": "3",
                                    "2": "2",
                                    "3": "2020-06-02"
                                },
                                {
                                    "0": "69",
                                    "1": "1",
                                    "2": "2",
                                    "3": "2020-06-02"
                                },
                                {
                                    "0": "70",
                                    "1": "3",
                                    "2": "5",
                                    "3": "2020-06-02"
                                },
                                {
                                    "0": "71",
                                    "1": "3",
                                    "2": "2",
                                    "3": "2020-06-02"
                                },
                                {
                                    "0": "72",
                                    "1": "2",
                                    "2": "4",
                                    "3": "2020-06-02"
                                },
                                {
                                    "0": "73",
                                    "1": "2",
                                    "2": "3",
                                    "3": "2020-06-02"
                                },
                                {
                                    "0": "74",
                                    "1": "1",
                                    "2": "5",
                                    "3": "2020-06-02"
                                },
                                {
                                    "0": "75",
                                    "1": "4",
                                    "2": "1",
                                    "3": "2020-06-02"
                                },
                                {
                                    "0": "76",
                                    "1": "5",
                                    "2": "3",
                                    "3": "2020-06-02"
                                },
                                {
                                    "0": "77",
                                    "1": "4",
                                    "2": "2",
                                    "3": "2020-06-02"
                                },
                                {
                                    "0": "78",
                                    "1": "2",
                                    "2": "3",
                                    "3": "2020-06-02"
                                },
                                {
                                    "0": "79",
                                    "1": "1",
                                    "2": "5",
                                    "3": "2020-06-02"
                                },
                                {
                                    "0": "80",
                                    "1": "1",
                                    "2": "2",
                                    "3": "2020-06-02"
                                },
                                {
                                    "0": "81",
                                    "1": "2",
                                    "2": "5",
                                    "3": "2020-06-02"
                                },
                                {
                                    "0": "82",
                                    "1": "3",
                                    "2": "5",
                                    "3": "2020-06-02"
                                },
                                {
                                    "0": "83",
                                    "1": "1",
                                    "2": "3",
                                    "3": "2020-06-02"
                                },
                                {
                                    "0": "84",
                                    "1": "4",
                                    "2": "1",
                                    "3": "2020-06-02"
                                },
                                {
                                    "0": "85",
                                    "1": "4",
                                    "2": "1",
                                    "3": "2020-06-02"
                                },
                                {
                                    "0": "86",
                                    "1": "1",
                                    "2": "3",
                                    "3": "2020-06-02"
                                },
                                {
                                    "0": "87",
                                    "1": "1",
                                    "2": "4",
                                    "3": "2020-06-02"
                                },
                                {
                                    "0": "88",
                                    "1": "4",
                                    "2": "2",
                                    "3": "2020-06-02"
                                },
                                {
                                    "0": "89",
                                    "1": "4",
                                    "2": "3",
                                    "3": "2020-06-02"
                                },
                                {
                                    "0": "90",
                                    "1": "4",
                                    "2": "5",
                                    "3": "2020-06-02"
                                },
                                {
                                    "0": "91",
                                    "1": "5",
                                    "2": "3",
                                    "3": "2020-06-02"
                                },
                                {
                                    "0": "92",
                                    "1": "1",
                                    "2": "5",
                                    "3": "2020-06-02"
                                },
                                {
                                    "0": "93",
                                    "1": "3",
                                    "2": "5",
                                    "3": "2020-06-02"
                                },
                                {
                                    "0": "94",
                                    "1": "3",
                                    "2": "1",
                                    "3": "2020-06-02"
                                },
                                {
                                    "0": "95",
                                    "1": "3",
                                    "2": "4",
                                    "3": "2020-06-02"
                                },
                                {
                                    "0": "96",
                                    "1": "4",
                                    "2": "5",
                                    "3": "2020-06-02"
                                },
                                {
                                    "0": "97",
                                    "1": "4",
                                    "2": "3",
                                    "3": "2020-06-02"
                                },
                                {
                                    "0": "98",
                                    "1": "4",
                                    "2": "5",
                                    "3": "2020-06-02"
                                },
                                {
                                    "0": "99",
                                    "1": "3",
                                    "2": "1",
                                    "3": "2020-06-02"
                                },
                                {
                                    "0": "100",
                                    "1": "2",
                                    "2": "5",
                                    "3": "2020-06-02"
                                }
                            ]
                        },
                        "text/html": [
                            "<table>",
                            "<tr><th>ID</th><th>Jugador 1</th><th>Jugador 2</th><th>Fecha</th></tr>",
                            "<tr><td>1</td><td>4</td><td>3</td><td>2020-06-02</td></tr>",
                            "<tr><td>2</td><td>2</td><td>5</td><td>2020-06-02</td></tr>",
                            "<tr><td>3</td><td>1</td><td>5</td><td>2020-06-02</td></tr>",
                            "<tr><td>4</td><td>5</td><td>4</td><td>2020-06-02</td></tr>",
                            "<tr><td>5</td><td>1</td><td>3</td><td>2020-06-02</td></tr>",
                            "<tr><td>6</td><td>5</td><td>2</td><td>2020-06-02</td></tr>",
                            "<tr><td>7</td><td>5</td><td>4</td><td>2020-06-02</td></tr>",
                            "<tr><td>8</td><td>5</td><td>1</td><td>2020-06-02</td></tr>",
                            "<tr><td>9</td><td>2</td><td>5</td><td>2020-06-02</td></tr>",
                            "<tr><td>10</td><td>2</td><td>4</td><td>2020-06-02</td></tr>",
                            "<tr><td>11</td><td>5</td><td>1</td><td>2020-06-02</td></tr>",
                            "<tr><td>12</td><td>1</td><td>2</td><td>2020-06-02</td></tr>",
                            "<tr><td>13</td><td>3</td><td>2</td><td>2020-06-02</td></tr>",
                            "<tr><td>14</td><td>4</td><td>1</td><td>2020-06-02</td></tr>",
                            "<tr><td>15</td><td>2</td><td>5</td><td>2020-06-02</td></tr>",
                            "<tr><td>16</td><td>2</td><td>3</td><td>2020-06-02</td></tr>",
                            "<tr><td>17</td><td>3</td><td>1</td><td>2020-06-02</td></tr>",
                            "<tr><td>18</td><td>3</td><td>1</td><td>2020-06-02</td></tr>",
                            "<tr><td>19</td><td>1</td><td>2</td><td>2020-06-02</td></tr>",
                            "<tr><td>20</td><td>5</td><td>3</td><td>2020-06-02</td></tr>",
                            "<tr><td>21</td><td>5</td><td>1</td><td>2020-06-02</td></tr>",
                            "<tr><td>22</td><td>4</td><td>3</td><td>2020-06-02</td></tr>",
                            "<tr><td>23</td><td>4</td><td>3</td><td>2020-06-02</td></tr>",
                            "<tr><td>24</td><td>2</td><td>3</td><td>2020-06-02</td></tr>",
                            "<tr><td>25</td><td>5</td><td>4</td><td>2020-06-02</td></tr>",
                            "<tr><td>26</td><td>5</td><td>4</td><td>2020-06-02</td></tr>",
                            "<tr><td>27</td><td>2</td><td>4</td><td>2020-06-02</td></tr>",
                            "<tr><td>28</td><td>5</td><td>3</td><td>2020-06-02</td></tr>",
                            "<tr><td>29</td><td>2</td><td>1</td><td>2020-06-02</td></tr>",
                            "<tr><td>30</td><td>1</td><td>4</td><td>2020-06-02</td></tr>",
                            "<tr><td>31</td><td>1</td><td>3</td><td>2020-06-02</td></tr>",
                            "<tr><td>32</td><td>2</td><td>4</td><td>2020-06-02</td></tr>",
                            "<tr><td>33</td><td>5</td><td>1</td><td>2020-06-02</td></tr>",
                            "<tr><td>34</td><td>1</td><td>4</td><td>2020-06-02</td></tr>",
                            "<tr><td>35</td><td>1</td><td>5</td><td>2020-06-02</td></tr>",
                            "<tr><td>36</td><td>3</td><td>5</td><td>2020-06-02</td></tr>",
                            "<tr><td>37</td><td>2</td><td>4</td><td>2020-06-02</td></tr>",
                            "<tr><td>38</td><td>1</td><td>4</td><td>2020-06-02</td></tr>",
                            "<tr><td>39</td><td>5</td><td>3</td><td>2020-06-02</td></tr>",
                            "<tr><td>40</td><td>5</td><td>4</td><td>2020-06-02</td></tr>",
                            "<tr><td>41</td><td>3</td><td>1</td><td>2020-06-02</td></tr>",
                            "<tr><td>42</td><td>4</td><td>2</td><td>2020-06-02</td></tr>",
                            "<tr><td>43</td><td>3</td><td>2</td><td>2020-06-02</td></tr>",
                            "<tr><td>44</td><td>2</td><td>1</td><td>2020-06-02</td></tr>",
                            "<tr><td>45</td><td>2</td><td>4</td><td>2020-06-02</td></tr>",
                            "<tr><td>46</td><td>3</td><td>4</td><td>2020-06-02</td></tr>",
                            "<tr><td>47</td><td>5</td><td>4</td><td>2020-06-02</td></tr>",
                            "<tr><td>48</td><td>4</td><td>1</td><td>2020-06-02</td></tr>",
                            "<tr><td>49</td><td>1</td><td>5</td><td>2020-06-02</td></tr>",
                            "<tr><td>50</td><td>2</td><td>3</td><td>2020-06-02</td></tr>",
                            "<tr><td>51</td><td>5</td><td>3</td><td>2020-06-02</td></tr>",
                            "<tr><td>52</td><td>1</td><td>2</td><td>2020-06-02</td></tr>",
                            "<tr><td>53</td><td>1</td><td>4</td><td>2020-06-02</td></tr>",
                            "<tr><td>54</td><td>1</td><td>4</td><td>2020-06-02</td></tr>",
                            "<tr><td>55</td><td>2</td><td>1</td><td>2020-06-02</td></tr>",
                            "<tr><td>56</td><td>1</td><td>4</td><td>2020-06-02</td></tr>",
                            "<tr><td>57</td><td>2</td><td>1</td><td>2020-06-02</td></tr>",
                            "<tr><td>58</td><td>5</td><td>2</td><td>2020-06-02</td></tr>",
                            "<tr><td>59</td><td>5</td><td>3</td><td>2020-06-02</td></tr>",
                            "<tr><td>60</td><td>5</td><td>2</td><td>2020-06-02</td></tr>",
                            "<tr><td>61</td><td>5</td><td>4</td><td>2020-06-02</td></tr>",
                            "<tr><td>62</td><td>3</td><td>2</td><td>2020-06-02</td></tr>",
                            "<tr><td>63</td><td>1</td><td>3</td><td>2020-06-02</td></tr>",
                            "<tr><td>64</td><td>5</td><td>1</td><td>2020-06-02</td></tr>",
                            "<tr><td>65</td><td>1</td><td>5</td><td>2020-06-02</td></tr>",
                            "<tr><td>66</td><td>5</td><td>1</td><td>2020-06-02</td></tr>",
                            "<tr><td>67</td><td>5</td><td>2</td><td>2020-06-02</td></tr>",
                            "<tr><td>68</td><td>3</td><td>2</td><td>2020-06-02</td></tr>",
                            "<tr><td>69</td><td>1</td><td>2</td><td>2020-06-02</td></tr>",
                            "<tr><td>70</td><td>3</td><td>5</td><td>2020-06-02</td></tr>",
                            "<tr><td>71</td><td>3</td><td>2</td><td>2020-06-02</td></tr>",
                            "<tr><td>72</td><td>2</td><td>4</td><td>2020-06-02</td></tr>",
                            "<tr><td>73</td><td>2</td><td>3</td><td>2020-06-02</td></tr>",
                            "<tr><td>74</td><td>1</td><td>5</td><td>2020-06-02</td></tr>",
                            "<tr><td>75</td><td>4</td><td>1</td><td>2020-06-02</td></tr>",
                            "<tr><td>76</td><td>5</td><td>3</td><td>2020-06-02</td></tr>",
                            "<tr><td>77</td><td>4</td><td>2</td><td>2020-06-02</td></tr>",
                            "<tr><td>78</td><td>2</td><td>3</td><td>2020-06-02</td></tr>",
                            "<tr><td>79</td><td>1</td><td>5</td><td>2020-06-02</td></tr>",
                            "<tr><td>80</td><td>1</td><td>2</td><td>2020-06-02</td></tr>",
                            "<tr><td>81</td><td>2</td><td>5</td><td>2020-06-02</td></tr>",
                            "<tr><td>82</td><td>3</td><td>5</td><td>2020-06-02</td></tr>",
                            "<tr><td>83</td><td>1</td><td>3</td><td>2020-06-02</td></tr>",
                            "<tr><td>84</td><td>4</td><td>1</td><td>2020-06-02</td></tr>",
                            "<tr><td>85</td><td>4</td><td>1</td><td>2020-06-02</td></tr>",
                            "<tr><td>86</td><td>1</td><td>3</td><td>2020-06-02</td></tr>",
                            "<tr><td>87</td><td>1</td><td>4</td><td>2020-06-02</td></tr>",
                            "<tr><td>88</td><td>4</td><td>2</td><td>2020-06-02</td></tr>",
                            "<tr><td>89</td><td>4</td><td>3</td><td>2020-06-02</td></tr>",
                            "<tr><td>90</td><td>4</td><td>5</td><td>2020-06-02</td></tr>",
                            "<tr><td>91</td><td>5</td><td>3</td><td>2020-06-02</td></tr>",
                            "<tr><td>92</td><td>1</td><td>5</td><td>2020-06-02</td></tr>",
                            "<tr><td>93</td><td>3</td><td>5</td><td>2020-06-02</td></tr>",
                            "<tr><td>94</td><td>3</td><td>1</td><td>2020-06-02</td></tr>",
                            "<tr><td>95</td><td>3</td><td>4</td><td>2020-06-02</td></tr>",
                            "<tr><td>96</td><td>4</td><td>5</td><td>2020-06-02</td></tr>",
                            "<tr><td>97</td><td>4</td><td>3</td><td>2020-06-02</td></tr>",
                            "<tr><td>98</td><td>4</td><td>5</td><td>2020-06-02</td></tr>",
                            "<tr><td>99</td><td>3</td><td>1</td><td>2020-06-02</td></tr>",
                            "<tr><td>100</td><td>2</td><td>5</td><td>2020-06-02</td></tr>",
                            "</table>"
                        ]
                    }
                },
                {
                    "output_type": "execute_result",
                    "metadata": {},
                    "execution_count": 4,
                    "data": {
                        "application/vnd.dataresource+json": {
                            "schema": {
                                "fields": [
                                    {
                                        "name": "Combate"
                                    },
                                    {
                                        "name": "Bicho 1"
                                    },
                                    {
                                        "name": "Bicho 2"
                                    },
                                    {
                                        "name": "Ataque 1"
                                    },
                                    {
                                        "name": "Ataque 2"
                                    },
                                    {
                                        "name": "Daño 1"
                                    },
                                    {
                                        "name": "Daño 2"
                                    },
                                    {
                                        "name": "Ganador"
                                    }
                                ]
                            },
                            "data": [
                                {
                                    "0": "1",
                                    "1": "2",
                                    "2": "20",
                                    "3": "12",
                                    "4": "11",
                                    "5": "91",
                                    "6": "62",
                                    "7": "4"
                                },
                                {
                                    "0": "1",
                                    "1": "2",
                                    "2": "20",
                                    "3": "7",
                                    "4": "16",
                                    "5": "56",
                                    "6": "56",
                                    "7": "3"
                                },
                                {
                                    "0": "2",
                                    "1": "1",
                                    "2": "17",
                                    "3": "6",
                                    "4": "4",
                                    "5": "70",
                                    "6": "49",
                                    "7": "2"
                                },
                                {
                                    "0": "3",
                                    "1": "15",
                                    "2": "3",
                                    "3": "1",
                                    "4": "13",
                                    "5": "33",
                                    "6": "75",
                                    "7": "5"
                                },
                                {
                                    "0": "3",
                                    "1": "15",
                                    "2": "17",
                                    "3": "8",
                                    "4": "7",
                                    "5": "82",
                                    "6": "2",
                                    "7": "1"
                                },
                                {
                                    "0": "4",
                                    "1": "3",
                                    "2": "2",
                                    "3": "2",
                                    "4": "14",
                                    "5": "83",
                                    "6": "98",
                                    "7": "4"
                                },
                                {
                                    "0": "5",
                                    "1": "15",
                                    "2": "18",
                                    "3": "15",
                                    "4": "4",
                                    "5": "47",
                                    "6": "72",
                                    "7": "3"
                                },
                                {
                                    "0": "6",
                                    "1": "17",
                                    "2": "7",
                                    "3": "16",
                                    "4": "11",
                                    "5": "75",
                                    "6": "85",
                                    "7": "2"
                                },
                                {
                                    "0": "6",
                                    "1": "3",
                                    "2": "7",
                                    "3": "9",
                                    "4": "9",
                                    "5": "14",
                                    "6": "59",
                                    "7": "2"
                                },
                                {
                                    "0": "7",
                                    "1": "6",
                                    "2": "10",
                                    "3": "12",
                                    "4": "2",
                                    "5": "72",
                                    "6": "66",
                                    "7": "5"
                                },
                                {
                                    "0": "10",
                                    "1": "1",
                                    "2": "2",
                                    "3": "5",
                                    "4": "10",
                                    "5": "20",
                                    "6": "5",
                                    "7": "2"
                                },
                                {
                                    "0": "11",
                                    "1": "17",
                                    "2": "15",
                                    "3": "2",
                                    "4": "16",
                                    "5": "70",
                                    "6": "43",
                                    "7": "5"
                                },
                                {
                                    "0": "12",
                                    "1": "9",
                                    "2": "1",
                                    "3": "10",
                                    "4": "4",
                                    "5": "2",
                                    "6": "22",
                                    "7": "2"
                                },
                                {
                                    "0": "15",
                                    "1": "1",
                                    "2": "6",
                                    "3": "6",
                                    "4": "9",
                                    "5": "97",
                                    "6": "96",
                                    "7": "2"
                                },
                                {
                                    "0": "19",
                                    "1": "15",
                                    "2": "1",
                                    "3": "8",
                                    "4": "4",
                                    "5": "24",
                                    "6": "26",
                                    "7": "2"
                                },
                                {
                                    "0": "20",
                                    "1": "6",
                                    "2": "13",
                                    "3": "8",
                                    "4": "9",
                                    "5": "72",
                                    "6": "13",
                                    "7": "5"
                                },
                                {
                                    "0": "20",
                                    "1": "6",
                                    "2": "20",
                                    "3": "1",
                                    "4": "11",
                                    "5": "6",
                                    "6": "73",
                                    "7": "3"
                                },
                                {
                                    "0": "21",
                                    "1": "17",
                                    "2": "9",
                                    "3": "13",
                                    "4": "3",
                                    "5": "20",
                                    "6": "84",
                                    "7": "1"
                                },
                                {
                                    "0": "22",
                                    "1": "16",
                                    "2": "18",
                                    "3": "4",
                                    "4": "10",
                                    "5": "84",
                                    "6": "66",
                                    "7": "4"
                                },
                                {
                                    "0": "23",
                                    "1": "10",
                                    "2": "13",
                                    "3": "7",
                                    "4": "16",
                                    "5": "84",
                                    "6": "73",
                                    "7": "4"
                                },
                                {
                                    "0": "24",
                                    "1": "1",
                                    "2": "13",
                                    "3": "16",
                                    "4": "4",
                                    "5": "0",
                                    "6": "44",
                                    "7": "3"
                                },
                                {
                                    "0": "25",
                                    "1": "3",
                                    "2": "10",
                                    "3": "16",
                                    "4": "13",
                                    "5": "68",
                                    "6": "96",
                                    "7": "4"
                                },
                                {
                                    "0": "25",
                                    "1": "6",
                                    "2": "16",
                                    "3": "16",
                                    "4": "6",
                                    "5": "36",
                                    "6": "25",
                                    "7": "5"
                                },
                                {
                                    "0": "26",
                                    "1": "6",
                                    "2": "2",
                                    "3": "14",
                                    "4": "8",
                                    "5": "78",
                                    "6": "95",
                                    "7": "4"
                                },
                                {
                                    "0": "27",
                                    "1": "7",
                                    "2": "2",
                                    "3": "9",
                                    "4": "14",
                                    "5": "31",
                                    "6": "56",
                                    "7": "4"
                                },
                                {
                                    "0": "31",
                                    "1": "15",
                                    "2": "20",
                                    "3": "11",
                                    "4": "14",
                                    "5": "1",
                                    "6": "40",
                                    "7": "3"
                                },
                                {
                                    "0": "31",
                                    "1": "12",
                                    "2": "18",
                                    "3": "4",
                                    "4": "16",
                                    "5": "15",
                                    "6": "43",
                                    "7": "3"
                                },
                                {
                                    "0": "33",
                                    "1": "3",
                                    "2": "9",
                                    "3": "10",
                                    "4": "3",
                                    "5": "51",
                                    "6": "17",
                                    "7": "5"
                                },
                                {
                                    "0": "35",
                                    "1": "12",
                                    "2": "6",
                                    "3": "4",
                                    "4": "12",
                                    "5": "39",
                                    "6": "23",
                                    "7": "1"
                                },
                                {
                                    "0": "36",
                                    "1": "13",
                                    "2": "6",
                                    "3": "6",
                                    "4": "4",
                                    "5": "66",
                                    "6": "78",
                                    "7": "5"
                                },
                                {
                                    "0": "36",
                                    "1": "20",
                                    "2": "17",
                                    "3": "6",
                                    "4": "9",
                                    "5": "94",
                                    "6": "58",
                                    "7": "3"
                                },
                                {
                                    "0": "36",
                                    "1": "20",
                                    "2": "6",
                                    "3": "3",
                                    "4": "12",
                                    "5": "8",
                                    "6": "54",
                                    "7": "5"
                                },
                                {
                                    "0": "37",
                                    "1": "7",
                                    "2": "16",
                                    "3": "7",
                                    "4": "14",
                                    "5": "69",
                                    "6": "64",
                                    "7": "2"
                                },
                                {
                                    "0": "38",
                                    "1": "12",
                                    "2": "16",
                                    "3": "6",
                                    "4": "4",
                                    "5": "82",
                                    "6": "95",
                                    "7": "4"
                                },
                                {
                                    "0": "39",
                                    "1": "17",
                                    "2": "13",
                                    "3": "1",
                                    "4": "2",
                                    "5": "26",
                                    "6": "29",
                                    "7": "3"
                                },
                                {
                                    "0": "42",
                                    "1": "2",
                                    "2": "7",
                                    "3": "14",
                                    "4": "15",
                                    "5": "75",
                                    "6": "82",
                                    "7": "2"
                                },
                                {
                                    "0": "42",
                                    "1": "10",
                                    "2": "1",
                                    "3": "4",
                                    "4": "1",
                                    "5": "48",
                                    "6": "76",
                                    "7": "2"
                                },
                                {
                                    "0": "43",
                                    "1": "20",
                                    "2": "7",
                                    "3": "10",
                                    "4": "13",
                                    "5": "21",
                                    "6": "7",
                                    "7": "3"
                                },
                                {
                                    "0": "43",
                                    "1": "18",
                                    "2": "7",
                                    "3": "5",
                                    "4": "1",
                                    "5": "89",
                                    "6": "17",
                                    "7": "3"
                                },
                                {
                                    "0": "43",
                                    "1": "20",
                                    "2": "1",
                                    "3": "14",
                                    "4": "7",
                                    "5": "24",
                                    "6": "48",
                                    "7": "2"
                                },
                                {
                                    "0": "46",
                                    "1": "20",
                                    "2": "16",
                                    "3": "3",
                                    "4": "13",
                                    "5": "9",
                                    "6": "55",
                                    "7": "4"
                                },
                                {
                                    "0": "46",
                                    "1": "18",
                                    "2": "10",
                                    "3": "3",
                                    "4": "10",
                                    "5": "57",
                                    "6": "69",
                                    "7": "4"
                                },
                                {
                                    "0": "46",
                                    "1": "18",
                                    "2": "2",
                                    "3": "15",
                                    "4": "12",
                                    "5": "25",
                                    "6": "66",
                                    "7": "4"
                                },
                                {
                                    "0": "48",
                                    "1": "10",
                                    "2": "15",
                                    "3": "12",
                                    "4": "13",
                                    "5": "15",
                                    "6": "19",
                                    "7": "1"
                                },
                                {
                                    "0": "48",
                                    "1": "2",
                                    "2": "12",
                                    "3": "16",
                                    "4": "14",
                                    "5": "39",
                                    "6": "14",
                                    "7": "4"
                                },
                                {
                                    "0": "49",
                                    "1": "9",
                                    "2": "3",
                                    "3": "15",
                                    "4": "7",
                                    "5": "75",
                                    "6": "65",
                                    "7": "1"
                                },
                                {
                                    "0": "50",
                                    "1": "1",
                                    "2": "20",
                                    "3": "5",
                                    "4": "3",
                                    "5": "31",
                                    "6": "19",
                                    "7": "2"
                                },
                                {
                                    "0": "51",
                                    "1": "6",
                                    "2": "13",
                                    "3": "1",
                                    "4": "6",
                                    "5": "23",
                                    "6": "74",
                                    "7": "3"
                                },
                                {
                                    "0": "54",
                                    "1": "12",
                                    "2": "16",
                                    "3": "12",
                                    "4": "12",
                                    "5": "78",
                                    "6": "55",
                                    "7": "1"
                                },
                                {
                                    "0": "54",
                                    "1": "12",
                                    "2": "2",
                                    "3": "14",
                                    "4": "11",
                                    "5": "77",
                                    "6": "46",
                                    "7": "1"
                                },
                                {
                                    "0": "55",
                                    "1": "1",
                                    "2": "9",
                                    "3": "5",
                                    "4": "10",
                                    "5": "9",
                                    "6": "54",
                                    "7": "1"
                                },
                                {
                                    "0": "56",
                                    "1": "12",
                                    "2": "10",
                                    "3": "6",
                                    "4": "2",
                                    "5": "85",
                                    "6": "98",
                                    "7": "4"
                                },
                                {
                                    "0": "58",
                                    "1": "6",
                                    "2": "1",
                                    "3": "7",
                                    "4": "15",
                                    "5": "86",
                                    "6": "22",
                                    "7": "5"
                                },
                                {
                                    "0": "59",
                                    "1": "6",
                                    "2": "13",
                                    "3": "3",
                                    "4": "3",
                                    "5": "42",
                                    "6": "90",
                                    "7": "3"
                                },
                                {
                                    "0": "61",
                                    "1": "6",
                                    "2": "10",
                                    "3": "16",
                                    "4": "14",
                                    "5": "0",
                                    "6": "74",
                                    "7": "4"
                                },
                                {
                                    "0": "63",
                                    "1": "12",
                                    "2": "13",
                                    "3": "2",
                                    "4": "10",
                                    "5": "97",
                                    "6": "6",
                                    "7": "1"
                                },
                                {
                                    "0": "64",
                                    "1": "17",
                                    "2": "15",
                                    "3": "6",
                                    "4": "14",
                                    "5": "52",
                                    "6": "47",
                                    "7": "5"
                                },
                                {
                                    "0": "65",
                                    "1": "9",
                                    "2": "17",
                                    "3": "2",
                                    "4": "15",
                                    "5": "86",
                                    "6": "3",
                                    "7": "1"
                                },
                                {
                                    "0": "68",
                                    "1": "18",
                                    "2": "1",
                                    "3": "15",
                                    "4": "16",
                                    "5": "59",
                                    "6": "1",
                                    "7": "3"
                                },
                                {
                                    "0": "68",
                                    "1": "20",
                                    "2": "8",
                                    "3": "7",
                                    "4": "15",
                                    "5": "79",
                                    "6": "66",
                                    "7": "3"
                                },
                                {
                                    "0": "69",
                                    "1": "15",
                                    "2": "7",
                                    "3": "12",
                                    "4": "11",
                                    "5": "21",
                                    "6": "43",
                                    "7": "2"
                                },
                                {
                                    "0": "70",
                                    "1": "18",
                                    "2": "3",
                                    "3": "1",
                                    "4": "1",
                                    "5": "12",
                                    "6": "26",
                                    "7": "5"
                                },
                                {
                                    "0": "72",
                                    "1": "8",
                                    "2": "16",
                                    "3": "12",
                                    "4": "11",
                                    "5": "5",
                                    "6": "87",
                                    "7": "4"
                                },
                                {
                                    "0": "73",
                                    "1": "1",
                                    "2": "20",
                                    "3": "5",
                                    "4": "8",
                                    "5": "69",
                                    "6": "25",
                                    "7": "2"
                                },
                                {
                                    "0": "73",
                                    "1": "1",
                                    "2": "20",
                                    "3": "4",
                                    "4": "5",
                                    "5": "28",
                                    "6": "79",
                                    "7": "3"
                                },
                                {
                                    "0": "73",
                                    "1": "1",
                                    "2": "13",
                                    "3": "2",
                                    "4": "16",
                                    "5": "9",
                                    "6": "87",
                                    "7": "3"
                                },
                                {
                                    "0": "75",
                                    "1": "16",
                                    "2": "12",
                                    "3": "15",
                                    "4": "13",
                                    "5": "93",
                                    "6": "68",
                                    "7": "4"
                                },
                                {
                                    "0": "75",
                                    "1": "16",
                                    "2": "9",
                                    "3": "15",
                                    "4": "14",
                                    "5": "13",
                                    "6": "6",
                                    "7": "4"
                                },
                                {
                                    "0": "76",
                                    "1": "17",
                                    "2": "13",
                                    "3": "8",
                                    "4": "7",
                                    "5": "53",
                                    "6": "51",
                                    "7": "5"
                                },
                                {
                                    "0": "77",
                                    "1": "16",
                                    "2": "1",
                                    "3": "8",
                                    "4": "14",
                                    "5": "84",
                                    "6": "46",
                                    "7": "4"
                                },
                                {
                                    "0": "77",
                                    "1": "16",
                                    "2": "1",
                                    "3": "1",
                                    "4": "14",
                                    "5": "6",
                                    "6": "70",
                                    "7": "2"
                                },
                                {
                                    "0": "78",
                                    "1": "8",
                                    "2": "18",
                                    "3": "9",
                                    "4": "8",
                                    "5": "29",
                                    "6": "55",
                                    "7": "3"
                                },
                                {
                                    "0": "78",
                                    "1": "1",
                                    "2": "20",
                                    "3": "1",
                                    "4": "6",
                                    "5": "86",
                                    "6": "85",
                                    "7": "2"
                                },
                                {
                                    "0": "78",
                                    "1": "8",
                                    "2": "20",
                                    "3": "13",
                                    "4": "11",
                                    "5": "24",
                                    "6": "48",
                                    "7": "3"
                                },
                                {
                                    "0": "80",
                                    "1": "12",
                                    "2": "1",
                                    "3": "15",
                                    "4": "13",
                                    "5": "13",
                                    "6": "47",
                                    "7": "2"
                                },
                                {
                                    "0": "80",
                                    "1": "12",
                                    "2": "1",
                                    "3": "6",
                                    "4": "10",
                                    "5": "91",
                                    "6": "67",
                                    "7": "1"
                                },
                                {
                                    "0": "81",
                                    "1": "1",
                                    "2": "3",
                                    "3": "9",
                                    "4": "4",
                                    "5": "49",
                                    "6": "12",
                                    "7": "2"
                                },
                                {
                                    "0": "83",
                                    "1": "15",
                                    "2": "13",
                                    "3": "14",
                                    "4": "5",
                                    "5": "29",
                                    "6": "69",
                                    "7": "3"
                                },
                                {
                                    "0": "83",
                                    "1": "12",
                                    "2": "20",
                                    "3": "16",
                                    "4": "15",
                                    "5": "76",
                                    "6": "78",
                                    "7": "3"
                                },
                                {
                                    "0": "85",
                                    "1": "16",
                                    "2": "9",
                                    "3": "1",
                                    "4": "12",
                                    "5": "54",
                                    "6": "74",
                                    "7": "1"
                                },
                                {
                                    "0": "85",
                                    "1": "16",
                                    "2": "9",
                                    "3": "9",
                                    "4": "16",
                                    "5": "10",
                                    "6": "91",
                                    "7": "1"
                                },
                                {
                                    "0": "86",
                                    "1": "15",
                                    "2": "13",
                                    "3": "7",
                                    "4": "16",
                                    "5": "97",
                                    "6": "55",
                                    "7": "1"
                                },
                                {
                                    "0": "87",
                                    "1": "12",
                                    "2": "10",
                                    "3": "11",
                                    "4": "16",
                                    "5": "14",
                                    "6": "87",
                                    "7": "4"
                                },
                                {
                                    "0": "87",
                                    "1": "12",
                                    "2": "10",
                                    "3": "13",
                                    "4": "1",
                                    "5": "14",
                                    "6": "35",
                                    "7": "4"
                                },
                                {
                                    "0": "88",
                                    "1": "16",
                                    "2": "1",
                                    "3": "12",
                                    "4": "13",
                                    "5": "78",
                                    "6": "30",
                                    "7": "4"
                                },
                                {
                                    "0": "88",
                                    "1": "16",
                                    "2": "8",
                                    "3": "16",
                                    "4": "10",
                                    "5": "99",
                                    "6": "63",
                                    "7": "4"
                                },
                                {
                                    "0": "89",
                                    "1": "10",
                                    "2": "18",
                                    "3": "11",
                                    "4": "11",
                                    "5": "74",
                                    "6": "73",
                                    "7": "4"
                                },
                                {
                                    "0": "89",
                                    "1": "16",
                                    "2": "18",
                                    "3": "3",
                                    "4": "1",
                                    "5": "33",
                                    "6": "63",
                                    "7": "3"
                                },
                                {
                                    "0": "89",
                                    "1": "10",
                                    "2": "13",
                                    "3": "4",
                                    "4": "11",
                                    "5": "59",
                                    "6": "63",
                                    "7": "3"
                                },
                                {
                                    "0": "90",
                                    "1": "16",
                                    "2": "6",
                                    "3": "7",
                                    "4": "6",
                                    "5": "7",
                                    "6": "93",
                                    "7": "5"
                                },
                                {
                                    "0": "92",
                                    "1": "9",
                                    "2": "3",
                                    "3": "13",
                                    "4": "3",
                                    "5": "5",
                                    "6": "33",
                                    "7": "5"
                                },
                                {
                                    "0": "93",
                                    "1": "13",
                                    "2": "17",
                                    "3": "8",
                                    "4": "7",
                                    "5": "51",
                                    "6": "90",
                                    "7": "5"
                                },
                                {
                                    "0": "93",
                                    "1": "20",
                                    "2": "17",
                                    "3": "8",
                                    "4": "9",
                                    "5": "53",
                                    "6": "13",
                                    "7": "3"
                                },
                                {
                                    "0": "95",
                                    "1": "20",
                                    "2": "2",
                                    "3": "13",
                                    "4": "16",
                                    "5": "95",
                                    "6": "23",
                                    "7": "3"
                                },
                                {
                                    "0": "95",
                                    "1": "18",
                                    "2": "16",
                                    "3": "9",
                                    "4": "15",
                                    "5": "71",
                                    "6": "58",
                                    "7": "3"
                                },
                                {
                                    "0": "96",
                                    "1": "16",
                                    "2": "17",
                                    "3": "2",
                                    "4": "1",
                                    "5": "30",
                                    "6": "1",
                                    "7": "4"
                                },
                                {
                                    "0": "97",
                                    "1": "10",
                                    "2": "20",
                                    "3": "16",
                                    "4": "5",
                                    "5": "42",
                                    "6": "70",
                                    "7": "3"
                                },
                                {
                                    "0": "97",
                                    "1": "10",
                                    "2": "18",
                                    "3": "13",
                                    "4": "12",
                                    "5": "75",
                                    "6": "79",
                                    "7": "3"
                                },
                                {
                                    "0": "97",
                                    "1": "10",
                                    "2": "18",
                                    "3": "8",
                                    "4": "11",
                                    "5": "11",
                                    "6": "62",
                                    "7": "3"
                                },
                                {
                                    "0": "98",
                                    "1": "16",
                                    "2": "6",
                                    "3": "3",
                                    "4": "3",
                                    "5": "86",
                                    "6": "41",
                                    "7": "4"
                                }
                            ]
                        },
                        "text/html": [
                            "<table>",
                            "<tr><th>Combate</th><th>Bicho 1</th><th>Bicho 2</th><th>Ataque 1</th><th>Ataque 2</th><th>Daño 1</th><th>Daño 2</th><th>Ganador</th></tr>",
                            "<tr><td>1</td><td>2</td><td>20</td><td>12</td><td>11</td><td>91</td><td>62</td><td>4</td></tr>",
                            "<tr><td>1</td><td>2</td><td>20</td><td>7</td><td>16</td><td>56</td><td>56</td><td>3</td></tr>",
                            "<tr><td>2</td><td>1</td><td>17</td><td>6</td><td>4</td><td>70</td><td>49</td><td>2</td></tr>",
                            "<tr><td>3</td><td>15</td><td>3</td><td>1</td><td>13</td><td>33</td><td>75</td><td>5</td></tr>",
                            "<tr><td>3</td><td>15</td><td>17</td><td>8</td><td>7</td><td>82</td><td>2</td><td>1</td></tr>",
                            "<tr><td>4</td><td>3</td><td>2</td><td>2</td><td>14</td><td>83</td><td>98</td><td>4</td></tr>",
                            "<tr><td>5</td><td>15</td><td>18</td><td>15</td><td>4</td><td>47</td><td>72</td><td>3</td></tr>",
                            "<tr><td>6</td><td>17</td><td>7</td><td>16</td><td>11</td><td>75</td><td>85</td><td>2</td></tr>",
                            "<tr><td>6</td><td>3</td><td>7</td><td>9</td><td>9</td><td>14</td><td>59</td><td>2</td></tr>",
                            "<tr><td>7</td><td>6</td><td>10</td><td>12</td><td>2</td><td>72</td><td>66</td><td>5</td></tr>",
                            "<tr><td>10</td><td>1</td><td>2</td><td>5</td><td>10</td><td>20</td><td>5</td><td>2</td></tr>",
                            "<tr><td>11</td><td>17</td><td>15</td><td>2</td><td>16</td><td>70</td><td>43</td><td>5</td></tr>",
                            "<tr><td>12</td><td>9</td><td>1</td><td>10</td><td>4</td><td>2</td><td>22</td><td>2</td></tr>",
                            "<tr><td>15</td><td>1</td><td>6</td><td>6</td><td>9</td><td>97</td><td>96</td><td>2</td></tr>",
                            "<tr><td>19</td><td>15</td><td>1</td><td>8</td><td>4</td><td>24</td><td>26</td><td>2</td></tr>",
                            "<tr><td>20</td><td>6</td><td>13</td><td>8</td><td>9</td><td>72</td><td>13</td><td>5</td></tr>",
                            "<tr><td>20</td><td>6</td><td>20</td><td>1</td><td>11</td><td>6</td><td>73</td><td>3</td></tr>",
                            "<tr><td>21</td><td>17</td><td>9</td><td>13</td><td>3</td><td>20</td><td>84</td><td>1</td></tr>",
                            "<tr><td>22</td><td>16</td><td>18</td><td>4</td><td>10</td><td>84</td><td>66</td><td>4</td></tr>",
                            "<tr><td>23</td><td>10</td><td>13</td><td>7</td><td>16</td><td>84</td><td>73</td><td>4</td></tr>",
                            "<tr><td>24</td><td>1</td><td>13</td><td>16</td><td>4</td><td>0</td><td>44</td><td>3</td></tr>",
                            "<tr><td>25</td><td>3</td><td>10</td><td>16</td><td>13</td><td>68</td><td>96</td><td>4</td></tr>",
                            "<tr><td>25</td><td>6</td><td>16</td><td>16</td><td>6</td><td>36</td><td>25</td><td>5</td></tr>",
                            "<tr><td>26</td><td>6</td><td>2</td><td>14</td><td>8</td><td>78</td><td>95</td><td>4</td></tr>",
                            "<tr><td>27</td><td>7</td><td>2</td><td>9</td><td>14</td><td>31</td><td>56</td><td>4</td></tr>",
                            "<tr><td>31</td><td>15</td><td>20</td><td>11</td><td>14</td><td>1</td><td>40</td><td>3</td></tr>",
                            "<tr><td>31</td><td>12</td><td>18</td><td>4</td><td>16</td><td>15</td><td>43</td><td>3</td></tr>",
                            "<tr><td>33</td><td>3</td><td>9</td><td>10</td><td>3</td><td>51</td><td>17</td><td>5</td></tr>",
                            "<tr><td>35</td><td>12</td><td>6</td><td>4</td><td>12</td><td>39</td><td>23</td><td>1</td></tr>",
                            "<tr><td>36</td><td>13</td><td>6</td><td>6</td><td>4</td><td>66</td><td>78</td><td>5</td></tr>",
                            "<tr><td>36</td><td>20</td><td>17</td><td>6</td><td>9</td><td>94</td><td>58</td><td>3</td></tr>",
                            "<tr><td>36</td><td>20</td><td>6</td><td>3</td><td>12</td><td>8</td><td>54</td><td>5</td></tr>",
                            "<tr><td>37</td><td>7</td><td>16</td><td>7</td><td>14</td><td>69</td><td>64</td><td>2</td></tr>",
                            "<tr><td>38</td><td>12</td><td>16</td><td>6</td><td>4</td><td>82</td><td>95</td><td>4</td></tr>",
                            "<tr><td>39</td><td>17</td><td>13</td><td>1</td><td>2</td><td>26</td><td>29</td><td>3</td></tr>",
                            "<tr><td>42</td><td>2</td><td>7</td><td>14</td><td>15</td><td>75</td><td>82</td><td>2</td></tr>",
                            "<tr><td>42</td><td>10</td><td>1</td><td>4</td><td>1</td><td>48</td><td>76</td><td>2</td></tr>",
                            "<tr><td>43</td><td>20</td><td>7</td><td>10</td><td>13</td><td>21</td><td>7</td><td>3</td></tr>",
                            "<tr><td>43</td><td>18</td><td>7</td><td>5</td><td>1</td><td>89</td><td>17</td><td>3</td></tr>",
                            "<tr><td>43</td><td>20</td><td>1</td><td>14</td><td>7</td><td>24</td><td>48</td><td>2</td></tr>",
                            "<tr><td>46</td><td>20</td><td>16</td><td>3</td><td>13</td><td>9</td><td>55</td><td>4</td></tr>",
                            "<tr><td>46</td><td>18</td><td>10</td><td>3</td><td>10</td><td>57</td><td>69</td><td>4</td></tr>",
                            "<tr><td>46</td><td>18</td><td>2</td><td>15</td><td>12</td><td>25</td><td>66</td><td>4</td></tr>",
                            "<tr><td>48</td><td>10</td><td>15</td><td>12</td><td>13</td><td>15</td><td>19</td><td>1</td></tr>",
                            "<tr><td>48</td><td>2</td><td>12</td><td>16</td><td>14</td><td>39</td><td>14</td><td>4</td></tr>",
                            "<tr><td>49</td><td>9</td><td>3</td><td>15</td><td>7</td><td>75</td><td>65</td><td>1</td></tr>",
                            "<tr><td>50</td><td>1</td><td>20</td><td>5</td><td>3</td><td>31</td><td>19</td><td>2</td></tr>",
                            "<tr><td>51</td><td>6</td><td>13</td><td>1</td><td>6</td><td>23</td><td>74</td><td>3</td></tr>",
                            "<tr><td>54</td><td>12</td><td>16</td><td>12</td><td>12</td><td>78</td><td>55</td><td>1</td></tr>",
                            "<tr><td>54</td><td>12</td><td>2</td><td>14</td><td>11</td><td>77</td><td>46</td><td>1</td></tr>",
                            "<tr><td>55</td><td>1</td><td>9</td><td>5</td><td>10</td><td>9</td><td>54</td><td>1</td></tr>",
                            "<tr><td>56</td><td>12</td><td>10</td><td>6</td><td>2</td><td>85</td><td>98</td><td>4</td></tr>",
                            "<tr><td>58</td><td>6</td><td>1</td><td>7</td><td>15</td><td>86</td><td>22</td><td>5</td></tr>",
                            "<tr><td>59</td><td>6</td><td>13</td><td>3</td><td>3</td><td>42</td><td>90</td><td>3</td></tr>",
                            "<tr><td>61</td><td>6</td><td>10</td><td>16</td><td>14</td><td>0</td><td>74</td><td>4</td></tr>",
                            "<tr><td>63</td><td>12</td><td>13</td><td>2</td><td>10</td><td>97</td><td>6</td><td>1</td></tr>",
                            "<tr><td>64</td><td>17</td><td>15</td><td>6</td><td>14</td><td>52</td><td>47</td><td>5</td></tr>",
                            "<tr><td>65</td><td>9</td><td>17</td><td>2</td><td>15</td><td>86</td><td>3</td><td>1</td></tr>",
                            "<tr><td>68</td><td>18</td><td>1</td><td>15</td><td>16</td><td>59</td><td>1</td><td>3</td></tr>",
                            "<tr><td>68</td><td>20</td><td>8</td><td>7</td><td>15</td><td>79</td><td>66</td><td>3</td></tr>",
                            "<tr><td>69</td><td>15</td><td>7</td><td>12</td><td>11</td><td>21</td><td>43</td><td>2</td></tr>",
                            "<tr><td>70</td><td>18</td><td>3</td><td>1</td><td>1</td><td>12</td><td>26</td><td>5</td></tr>",
                            "<tr><td>72</td><td>8</td><td>16</td><td>12</td><td>11</td><td>5</td><td>87</td><td>4</td></tr>",
                            "<tr><td>73</td><td>1</td><td>20</td><td>5</td><td>8</td><td>69</td><td>25</td><td>2</td></tr>",
                            "<tr><td>73</td><td>1</td><td>20</td><td>4</td><td>5</td><td>28</td><td>79</td><td>3</td></tr>",
                            "<tr><td>73</td><td>1</td><td>13</td><td>2</td><td>16</td><td>9</td><td>87</td><td>3</td></tr>",
                            "<tr><td>75</td><td>16</td><td>12</td><td>15</td><td>13</td><td>93</td><td>68</td><td>4</td></tr>",
                            "<tr><td>75</td><td>16</td><td>9</td><td>15</td><td>14</td><td>13</td><td>6</td><td>4</td></tr>",
                            "<tr><td>76</td><td>17</td><td>13</td><td>8</td><td>7</td><td>53</td><td>51</td><td>5</td></tr>",
                            "<tr><td>77</td><td>16</td><td>1</td><td>8</td><td>14</td><td>84</td><td>46</td><td>4</td></tr>",
                            "<tr><td>77</td><td>16</td><td>1</td><td>1</td><td>14</td><td>6</td><td>70</td><td>2</td></tr>",
                            "<tr><td>78</td><td>8</td><td>18</td><td>9</td><td>8</td><td>29</td><td>55</td><td>3</td></tr>",
                            "<tr><td>78</td><td>1</td><td>20</td><td>1</td><td>6</td><td>86</td><td>85</td><td>2</td></tr>",
                            "<tr><td>78</td><td>8</td><td>20</td><td>13</td><td>11</td><td>24</td><td>48</td><td>3</td></tr>",
                            "<tr><td>80</td><td>12</td><td>1</td><td>15</td><td>13</td><td>13</td><td>47</td><td>2</td></tr>",
                            "<tr><td>80</td><td>12</td><td>1</td><td>6</td><td>10</td><td>91</td><td>67</td><td>1</td></tr>",
                            "<tr><td>81</td><td>1</td><td>3</td><td>9</td><td>4</td><td>49</td><td>12</td><td>2</td></tr>",
                            "<tr><td>83</td><td>15</td><td>13</td><td>14</td><td>5</td><td>29</td><td>69</td><td>3</td></tr>",
                            "<tr><td>83</td><td>12</td><td>20</td><td>16</td><td>15</td><td>76</td><td>78</td><td>3</td></tr>",
                            "<tr><td>85</td><td>16</td><td>9</td><td>1</td><td>12</td><td>54</td><td>74</td><td>1</td></tr>",
                            "<tr><td>85</td><td>16</td><td>9</td><td>9</td><td>16</td><td>10</td><td>91</td><td>1</td></tr>",
                            "<tr><td>86</td><td>15</td><td>13</td><td>7</td><td>16</td><td>97</td><td>55</td><td>1</td></tr>",
                            "<tr><td>87</td><td>12</td><td>10</td><td>11</td><td>16</td><td>14</td><td>87</td><td>4</td></tr>",
                            "<tr><td>87</td><td>12</td><td>10</td><td>13</td><td>1</td><td>14</td><td>35</td><td>4</td></tr>",
                            "<tr><td>88</td><td>16</td><td>1</td><td>12</td><td>13</td><td>78</td><td>30</td><td>4</td></tr>",
                            "<tr><td>88</td><td>16</td><td>8</td><td>16</td><td>10</td><td>99</td><td>63</td><td>4</td></tr>",
                            "<tr><td>89</td><td>10</td><td>18</td><td>11</td><td>11</td><td>74</td><td>73</td><td>4</td></tr>",
                            "<tr><td>89</td><td>16</td><td>18</td><td>3</td><td>1</td><td>33</td><td>63</td><td>3</td></tr>",
                            "<tr><td>89</td><td>10</td><td>13</td><td>4</td><td>11</td><td>59</td><td>63</td><td>3</td></tr>",
                            "<tr><td>90</td><td>16</td><td>6</td><td>7</td><td>6</td><td>7</td><td>93</td><td>5</td></tr>",
                            "<tr><td>92</td><td>9</td><td>3</td><td>13</td><td>3</td><td>5</td><td>33</td><td>5</td></tr>",
                            "<tr><td>93</td><td>13</td><td>17</td><td>8</td><td>7</td><td>51</td><td>90</td><td>5</td></tr>",
                            "<tr><td>93</td><td>20</td><td>17</td><td>8</td><td>9</td><td>53</td><td>13</td><td>3</td></tr>",
                            "<tr><td>95</td><td>20</td><td>2</td><td>13</td><td>16</td><td>95</td><td>23</td><td>3</td></tr>",
                            "<tr><td>95</td><td>18</td><td>16</td><td>9</td><td>15</td><td>71</td><td>58</td><td>3</td></tr>",
                            "<tr><td>96</td><td>16</td><td>17</td><td>2</td><td>1</td><td>30</td><td>1</td><td>4</td></tr>",
                            "<tr><td>97</td><td>10</td><td>20</td><td>16</td><td>5</td><td>42</td><td>70</td><td>3</td></tr>",
                            "<tr><td>97</td><td>10</td><td>18</td><td>13</td><td>12</td><td>75</td><td>79</td><td>3</td></tr>",
                            "<tr><td>97</td><td>10</td><td>18</td><td>8</td><td>11</td><td>11</td><td>62</td><td>3</td></tr>",
                            "<tr><td>98</td><td>16</td><td>6</td><td>3</td><td>3</td><td>86</td><td>41</td><td>4</td></tr>",
                            "</table>"
                        ]
                    }
                }
            ],
            "execution_count": 4
        },
        {
            "cell_type": "markdown",
            "source": [
                "1-\tBichos que tiene Fabiola"
            ],
            "metadata": {
                "azdata_cell_guid": "5f248f27-708e-4355-b126-e0dcfaa17374"
            }
        },
        {
            "cell_type": "code",
            "source": [
                "USE bichos_de_bosillo\r\n",
                "select bichos.bicho_nombre as 'Bicho',tipos.tipo_nombre as 'Tipo',tipos.resistente from Bichos bichos \r\n",
                "inner join Tipos tipos on bicho_tipo = tipo_Id\r\n",
                "where bicho_propietario = 4 "
            ],
            "metadata": {
                "azdata_cell_guid": "bb01adf3-36c1-4a15-b634-0ddbe9b64e83"
            },
            "outputs": [],
            "execution_count": null
        },
        {
            "cell_type": "markdown",
            "source": [
                "2-\tBichos que tiene José con el nombre de cada bicho + su salud + que te diga a que es resistente cada bicho que posee y que te muestre su daño de ataque."
            ],
            "metadata": {
                "azdata_cell_guid": "12e2e5ba-4733-475d-a002-9cde7717cd7c"
            }
        },
        {
            "cell_type": "code",
            "source": [
                "USE bichos_de_bosillo\r\n",
                "select bichos.bicho_nombre as 'Bicho',bichos.bicho_salud as 'Salud',tipos.resistente as 'Resistente',\r\n",
                "catalogoAtaques.catalogo_nombre as 'Ataques'\r\n",
                "from Bichos bichos \r\n",
                "inner join Tipos tipos on bicho_tipo = tipo_Id\r\n",
                "inner join Ataques_Bicho ataquesBichos on ataquesBichos.bicho_id = bichos.bicho_id\r\n",
                "inner join Catalogo_Ataques catalogoAtaques on catalogoAtaques.catalogo_id = ataquesBichos.ataque_id\r\n",
                "where bicho_propietario = 3 "
            ],
            "metadata": {
                "azdata_cell_guid": "8cd8257f-42bc-499b-b9a5-457d246c69be"
            },
            "outputs": [],
            "execution_count": null
        },
        {
            "cell_type": "markdown",
            "source": [
                "3-\tBichos que existen en total y en orden alfabético."
            ],
            "metadata": {
                "azdata_cell_guid": "a95c799f-a56a-4bb1-a564-8f74d869098a"
            }
        },
        {
            "cell_type": "code",
            "source": [
                "USE bichos_de_bosillo\r\n",
                "select bicho_nombre as 'Bicho' from Bichos order by bicho_nombre asc ; "
            ],
            "metadata": {
                "azdata_cell_guid": "f7ae8bf8-5c10-4e21-b6b4-1ba819207fca"
            },
            "outputs": [],
            "execution_count": null
        },
        {
            "cell_type": "markdown",
            "source": [
                "4-\tQue te muestre el bicho con sus respectivos ataques con un orden de mayor a menor."
            ],
            "metadata": {
                "azdata_cell_guid": "79918516-856f-4204-8cad-6857cc809e73"
            }
        },
        {
            "cell_type": "code",
            "source": [
                "USE bichos_de_bosillo\r\n",
                "select bichos.bicho_nombre as 'Bicho',bichos.bicho_salud as 'Salud',tipos.resistente as 'Resistente',\r\n",
                "catalogoAtaques.catalogo_nombre as 'Ataque',catalogoAtaques.catalogo_nivel as 'Nivel'\r\n",
                "from Bichos bichos \r\n",
                "inner join Tipos tipos on bicho_tipo = tipo_Id\r\n",
                "inner join Ataques_Bicho ataquesBichos on ataquesBichos.bicho_id = bichos.bicho_id\r\n",
                "inner join Catalogo_Ataques catalogoAtaques on catalogoAtaques.catalogo_id = ataquesBichos.ataque_id\r\n",
                "order by catalogoAtaques.catalogo_nivel"
            ],
            "metadata": {
                "azdata_cell_guid": "ed42ff12-136a-498e-ac57-e427fb29b9dd"
            },
            "outputs": [],
            "execution_count": null
        },
        {
            "cell_type": "markdown",
            "source": [
                "5-\tQue te muestre la fecha en que se llevó a cabo el combate 35,70 y 90."
            ],
            "metadata": {
                "azdata_cell_guid": "9fd1f277-4631-40fc-9c57-8df1a4b977d4"
            }
        },
        {
            "cell_type": "code",
            "source": [
                "USE bichos_de_bosillo\r\n",
                "select combate_fecha AS 'Fecha' from Combates where combate_id in (35,70,90)"
            ],
            "metadata": {
                "azdata_cell_guid": "743dbdef-c9ec-4783-8825-8812b35ea49a"
            },
            "outputs": [],
            "execution_count": null
        },
        {
            "cell_type": "markdown",
            "source": [
                "6-muestre la fecha en que Edgar intercambio a charmander."
            ],
            "metadata": {
                "azdata_cell_guid": "7fc8397e-e8b7-4ae6-afcb-d8abc7b0487b"
            }
        },
        {
            "cell_type": "code",
            "source": [
                "USE bichos_de_bosillo\r\n",
                "select intercambio_fecha as 'Fecha' from Intercambios\r\n",
                "where usuario_uno = 2 and bicho_uno = 1 ;"
            ],
            "metadata": {
                "azdata_cell_guid": "23ff425c-1231-4b9e-b478-380046523616"
            },
            "outputs": [],
            "execution_count": null
        },
        {
            "cell_type": "markdown",
            "source": [
                "7-\tFecha en que los bichos de tipo fuego y de tipo aire combatieron."
            ],
            "metadata": {
                "azdata_cell_guid": "84706a50-83e8-4b3e-9878-6908d57dbbdd"
            }
        },
        {
            "cell_type": "code",
            "source": [
                "USE bichos_de_bosillo\r\n",
                "select combate_fecha as 'Fecha' from Combates combate\r\n",
                "inner join Rondas rondas on combate.combate_id = rondas.combate_id\r\n",
                "inner join Bichos bicho1 on bicho1.bicho_id = rondas.bicho_uno\r\n",
                "inner join Bichos bicho2 on bicho2.bicho_id = rondas.bicho_dos\r\n",
                "where bicho1.bicho_tipo = 3 and bicho2.bicho_tipo = 2 "
            ],
            "metadata": {
                "azdata_cell_guid": "9a954aa7-4d27-4be4-99c5-75b2af4e65e4"
            },
            "outputs": [],
            "execution_count": null
        },
        {
            "cell_type": "markdown",
            "source": [
                "8-\tQue te muestre los ganadores de los combates del 20-30 con los bichos con los que participo el ganador. "
            ],
            "metadata": {
                "azdata_cell_guid": "7536ab07-0b63-4c7c-8eb8-85c3f34b4970"
            }
        },
        {
            "cell_type": "code",
            "source": [
                "USE bichos_de_bosillo\r\n",
                "select combates.combate_id as 'Combate',usuarios.usuario_nombre as 'Ganador',bichos.bicho_nombre as 'Bicho' from Combates combates \r\n",
                "inner join Rondas ronda on ronda.combate_id = combates.combate_id\r\n",
                "inner join Bichos bichos on bichos.bicho_propietario = ronda.ganador\r\n",
                "inner join Usuarios usuarios on usuario_id = ronda.ganador\r\n",
                "where combates.combate_id between 20 and 30 order by combates.combate_id asc"
            ],
            "metadata": {
                "azdata_cell_guid": "783869ed-ecc1-4084-bdff-abc144012f3e"
            },
            "outputs": [],
            "execution_count": null
        },
        {
            "cell_type": "markdown",
            "source": [
                "9-\tQue te muestre las especies que tienen un aumento de salud de 30 y 25. "
            ],
            "metadata": {
                "azdata_cell_guid": "b4a91fd6-184f-45a4-89b6-86d154b48609"
            }
        },
        {
            "cell_type": "code",
            "source": [
                "USE bichos_de_bosillo\r\n",
                "select (SELECT bicho_nombre\r\n",
                "        FROM Bichos\r\n",
                "        WHERE especie_id = bicho_id) as 'Bicho', especie_aumento_salud as 'Aumento de Salud' from Especies WHERE especie_aumento_salud in (25,30)"
            ],
            "metadata": {
                "azdata_cell_guid": "b08cefb3-fb7c-4580-852c-28ffc60f5e29"
            },
            "outputs": [],
            "execution_count": null
        },
        {
            "cell_type": "markdown",
            "source": [
                "10-\tMuestre la fecha cuando Lucia y Edgar combatieron. "
            ],
            "metadata": {
                "azdata_cell_guid": "0da16d2e-8cd3-4a55-b6d8-a0132b65af55"
            }
        },
        {
            "cell_type": "code",
            "source": [
                "USE bichos_de_bosillo\r\n",
                "select combate_id as 'Combate', (SELECT usuario_nombre from Usuarios where usuario_uno = usuario_id) as 'Jugador Uno', \r\n",
                "(SELECT usuario_nombre from Usuarios where usuario_dos = usuario_id) as 'Jugador Dos',\r\n",
                "combate_fecha as 'Fecha'\r\n",
                "from Combates combates where combates.usuario_uno in (1,2) and combates.usuario_dos in (1,2)"
            ],
            "metadata": {
                "azdata_cell_guid": "d1949110-493c-414c-ac32-b87b66008fea"
            },
            "outputs": [],
            "execution_count": null
        },
        {
            "cell_type": "markdown",
            "source": [
                "11-\tMostrar todas rondas por combate que gano Edgar."
            ],
            "metadata": {
                "azdata_cell_guid": "30e249e7-ff04-4feb-adba-daeabc277b23"
            }
        },
        {
            "cell_type": "code",
            "source": [
                "USE bichos_de_bosillo\r\n",
                "select * from Rondas r where r.ganador = 2"
            ],
            "metadata": {
                "azdata_cell_guid": "e7d4600c-8917-4c24-b0c1-b428526975a0"
            },
            "outputs": [],
            "execution_count": null
        },
        {
            "cell_type": "markdown",
            "source": [
                "12-\tObtener los combates ganados totales de todos lo jugadores. "
            ],
            "metadata": {
                "azdata_cell_guid": "165f8530-85bc-46d5-b3fa-431d44a5fd33"
            }
        },
        {
            "cell_type": "code",
            "source": [
                "USE bichos_de_bosillo\r\n",
                "select ganador,usr.usuario_nombre as 'Usuario',count(*) as 'Rondas Ganadas' from Rondas\r\n",
                "inner join Usuarios usr on usr.usuario_id = ganador\r\n",
                "group by ganador,usuario_nombre"
            ],
            "metadata": {
                "azdata_cell_guid": "821e59b6-d1b6-4d3d-9933-7085bff1db5b"
            },
            "outputs": [],
            "execution_count": null
        },
        {
            "cell_type": "markdown",
            "source": [
                "13-\tMostrar la suma total de combates ganados de Edgar. "
            ],
            "metadata": {
                "azdata_cell_guid": "6da2e77b-518b-4360-be45-f3aa6e287ad5"
            }
        },
        {
            "cell_type": "code",
            "source": [
                "USE bichos_de_bosillo\r\n",
                "select count(*) as 'Rondas Ganadas' from Rondas where ganador = 3  "
            ],
            "metadata": {
                "azdata_cell_guid": "be7e6bac-e327-4fab-8e13-5acf6899c2c1"
            },
            "outputs": [],
            "execution_count": null
        },
        {
            "cell_type": "markdown",
            "source": [
                "14-\tMostrar aquellos bichos que no tengan propietario."
            ],
            "metadata": {
                "azdata_cell_guid": "217978f7-4cd2-447c-980b-6e8cc37a752e"
            }
        },
        {
            "cell_type": "code",
            "source": [
                "USE bichos_de_bosillo\r\n",
                "select bicho_id as 'ID', bicho_nombre as 'Bicho' from Bichos b where b.bicho_propietario is null"
            ],
            "metadata": {
                "azdata_cell_guid": "0e607663-57de-4c19-96cc-3dde32d64355"
            },
            "outputs": [],
            "execution_count": null
        },
        {
            "cell_type": "markdown",
            "source": [
                "15-\tMostrar los bichos que sean resistente a tierra y fuego. "
            ],
            "metadata": {
                "azdata_cell_guid": "74147375-4633-4f91-a032-fc40db4ac7eb"
            }
        },
        {
            "cell_type": "code",
            "source": [
                "USE bichos_de_bosillo\r\n",
                "select * from Bichos bichos \r\n",
                "inner join Tipos tipos on bichos.bicho_tipo = tipos.tipo_id\r\n",
                "where tipos.resistente in ('Tierra','Fuego')"
            ],
            "metadata": {
                "azdata_cell_guid": "8848540b-cd98-4dab-921f-90abd3c7f517"
            },
            "outputs": [],
            "execution_count": null
        },
        {
            "cell_type": "markdown",
            "source": [
                "16-\tMostrar los usuarios que hayan ganado 20 o más combates."
            ],
            "metadata": {
                "azdata_cell_guid": "6498f122-3e2e-4737-8331-e4c66def6930"
            }
        },
        {
            "cell_type": "code",
            "source": [
                "USE bichos_de_bosillo\r\n",
                "select ganador as 'ID',usr.usuario_nombre as 'Usuario',count(*) as 'Rondas Ganadas' from Rondas\r\n",
                "inner join Usuarios usr on usr.usuario_id = ganador\r\n",
                "group by ganador,usuario_nombre having count (*) > 20"
            ],
            "metadata": {
                "azdata_cell_guid": "bf0c7931-2b60-4b61-91de-c5e9722f2837"
            },
            "outputs": [],
            "execution_count": null
        },
        {
            "cell_type": "markdown",
            "source": [
                "17-\tMostrar los bichos que no han sido utilizado en combates."
            ],
            "metadata": {
                "azdata_cell_guid": "e364d181-dc85-4251-8486-acacef4bd0f2"
            }
        },
        {
            "cell_type": "code",
            "source": [
                "USE bichos_de_bosillo\r\n",
                "select * from Bichos bichos where bichos.bicho_id not in \r\n",
                "(select bicho_uno from Rondas) or bichos.bicho_id not in (select bicho_dos from Rondas)"
            ],
            "metadata": {
                "azdata_cell_guid": "17d335c5-fbb3-45ce-b7c2-51bc73cf538b"
            },
            "outputs": [],
            "execution_count": null
        },
        {
            "cell_type": "markdown",
            "source": [
                "18-\tMostrar el numero de veces que x bicho fue intercambiado junto con su fecha de intercambio. "
            ],
            "metadata": {
                "azdata_cell_guid": "10866873-e1a4-4941-9e30-05d000909173"
            }
        },
        {
            "cell_type": "code",
            "source": [
                "USE bichos_de_bosillo\r\n",
                "select intercambio_fecha,(select bicho_nombre from Bichos where bicho_uno = bicho_id) as 'Bicho',\r\n",
                "count(bicho_uno) as 'Veces cambiado' from Intercambios group by bicho_uno,intercambio_fecha\r\n",
                ""
            ],
            "metadata": {
                "azdata_cell_guid": "d4574fb8-8a34-4f1f-bae4-96e40cb43e11"
            },
            "outputs": [],
            "execution_count": null
        },
        {
            "cell_type": "markdown",
            "source": [
                "19-\tMostrar los ataques que tiene charmander."
            ],
            "metadata": {
                "azdata_cell_guid": "84e82de7-a20e-4277-9259-2e5ec5969270"
            }
        },
        {
            "cell_type": "code",
            "source": [
                "USE bichos_de_bosillo\r\n",
                "select bichos.bicho_nombre,\r\n",
                "catalogoAtaques.catalogo_nombre\r\n",
                "from Bichos bichos \r\n",
                "inner join Tipos tipos on bicho_tipo = tipo_Id\r\n",
                "inner join Ataques_Bicho ataquesBichos on ataquesBichos.bicho_id = bichos.bicho_id\r\n",
                "inner join Catalogo_Ataques catalogoAtaques on catalogoAtaques.catalogo_id = ataquesBichos.ataque_id\r\n",
                "where bichos.bicho_id = 1"
            ],
            "metadata": {
                "azdata_cell_guid": "997986a4-f049-4bcb-ad30-d0f3589e7092"
            },
            "outputs": [],
            "execution_count": null
        },
        {
            "cell_type": "markdown",
            "source": [
                "20-\tMostrar la cantidad de bichos que los usuarios han intercambiado. (bicho uno)"
            ],
            "metadata": {
                "azdata_cell_guid": "ebaa2f8f-4236-473d-940a-5e246a196d32"
            }
        },
        {
            "cell_type": "code",
            "source": [
                "USE bichos_de_bosillo\r\n",
                "select (select usuario_nombre from Usuarios where usuario_uno = usuario_id) as 'Usuario',\r\n",
                "count(usuario_uno) as 'Numero intercambios' from Intercambios group by usuario_uno"
            ],
            "metadata": {
                "azdata_cell_guid": "de1030a0-9d16-4aa7-b2bc-85de806109a9"
            },
            "outputs": [],
            "execution_count": null
        },
        {
            "cell_type": "markdown",
            "source": [
                "21-\tMostrar los ataques ordenados por nivel en forma descendente. "
            ],
            "metadata": {
                "azdata_cell_guid": "283cda52-bd89-48e3-a098-1cf2edd33a9b"
            }
        },
        {
            "cell_type": "code",
            "source": [
                "USE bichos_de_bosillo\r\n",
                "select catalogo_nombre as 'Ataque' from Catalogo_Ataques order by catalogo_nivel desc"
            ],
            "metadata": {
                "azdata_cell_guid": "79626a84-a334-4192-9e89-282eebc788ac"
            },
            "outputs": [],
            "execution_count": null
        },
        {
            "cell_type": "markdown",
            "source": [
                "22-\tMostrar los bichos que se hayan intercambiado dos veces. "
            ],
            "metadata": {
                "azdata_cell_guid": "66046e6c-d1f9-4a42-8aca-f90730b0c796"
            }
        },
        {
            "cell_type": "code",
            "source": [
                "USE bichos_de_bosillo\r\n",
                "select bicho_uno,count(bicho_uno) as 'Veces cambiado' from Intercambios group by bicho_uno \r\n",
                "having count(bicho_uno) > 2 "
            ],
            "metadata": {
                "azdata_cell_guid": "40b89eed-cc3b-4218-996b-400562c72cff"
            },
            "outputs": [],
            "execution_count": null
        }
    ]
}
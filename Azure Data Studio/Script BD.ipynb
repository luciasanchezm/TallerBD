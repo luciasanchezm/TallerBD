{
    "metadata": {
        "kernelspec": {
            "name": "SQL",
            "display_name": "SQL",
            "language": "sql"
        },
        "language_info": {
            "name": "sql",
            "version": ""
        }
    },
    "nbformat_minor": 2,
    "nbformat": 4,
    "cells": [
        {
            "cell_type": "markdown",
            "source": [
                "**1. CREAR BD**"
            ],
            "metadata": {
                "azdata_cell_guid": "de3d332d-c07e-487d-a7c6-e86201995dd7"
            }
        },
        {
            "cell_type": "code",
            "source": [
                "IF EXISTS \r\n",
                "   (\r\n",
                "     SELECT name\r\n",
                "FROM master.dbo.sysdatabases\r\n",
                "WHERE name = 'bichos_de_bolsillo'\r\n",
                "    )\r\n",
                "  DROP DATABASE bichos_de_bolsillo\r\n",
                "\r\n",
                "GO\r\n",
                "\r\n",
                "IF EXISTS (SELECT loginname FROM MASTER.dbo.syslogins \r\n",
                "       WHERE NAME = 'Administrador')\r\n",
                "       DROP LOGIN Administrador\r\n",
                "\r\n",
                "GO\r\n",
                "\r\n",
                "IF EXISTS (SELECT loginname FROM MASTER.dbo.syslogins \r\n",
                "       WHERE NAME = 'Jugador')\r\n",
                "       DROP LOGIN Jugador\r\n",
                "\r\n",
                "GO\r\n",
                "\r\n",
                "CREATE DATABASE bichos_de_bolsillo\r\n",
                "\r\n",
                "GO\r\n",
                "\r\n",
                "USE bichos_de_bolsillo\r\n",
                "\r\n",
                "GO"
            ],
            "metadata": {
                "azdata_cell_guid": "03bf1184-39a5-409e-a6f5-e44ef0990aa0",
                "tags": [
                    "hide_input"
                ]
            },
            "outputs": [],
            "execution_count": 1
        },
        {
            "cell_type": "markdown",
            "source": [
                "**2. CREAR TABLAS**"
            ],
            "metadata": {
                "azdata_cell_guid": "303fe502-287b-4ce3-bfff-a3e6e6fd7e69"
            }
        },
        {
            "cell_type": "code",
            "source": [
                "--Tabla Tipos\r\n",
                "CREATE TABLE Tipos\r\n",
                "(\r\n",
                "    tipo_id INT PRIMARY KEY IDENTITY (1 , 1),\r\n",
                "    tipo_nombre VARCHAR(20) NOT NULL,\r\n",
                "    resistente VARCHAR(20)\r\n",
                ")\r\n",
                "\r\n",
                "--Tabla Especies\r\n",
                "CREATE TABLE Especies\r\n",
                "(\r\n",
                "    especie_id INT PRIMARY KEY IDENTITY (1 , 1),\r\n",
                "    especie_daño_ataque INT NOT NULL,\r\n",
                "    especie_velocidad_ataque INT NOT NULL,\r\n",
                "    especie_nombre VARCHAR(20) NOT NULL,\r\n",
                "    especie_aumento_salud INT NOT NULL,\r\n",
                "    especie_tipo INT FOREIGN KEY REFERENCES Tipos(tipo_id)\r\n",
                ")\r\n",
                "\r\n",
                "--Tabla Usuarios\r\n",
                "CREATE TABLE Usuarios\r\n",
                "(\r\n",
                "    usuario_id INT PRIMARY KEY IDENTITY (1,1),\r\n",
                "    usuario_nombre VARCHAR(20) NOT NULL,\r\n",
                "    usuario_correo VARCHAR(50) NOT NULL,\r\n",
                "    usuario_contraseña VARCHAR(20) NOT NULL,\r\n",
                "    usuario_tipo VARCHAR(20) NOT NULL,\r\n",
                "    usuario_estado BIT NOT NULL DEFAULT 1\r\n",
                ")\r\n",
                "\r\n",
                "--Tabla Catalogo de Ataques\r\n",
                "CREATE TABLE Catalogo_Ataques\r\n",
                "(\r\n",
                "    catalogo_id INT PRIMARY KEY IDENTITY (1,1),\r\n",
                "    catalogo_nombre VARCHAR(20) NOT NULL,\r\n",
                "    catalogo_nivel INT NOT NULL,\r\n",
                "    catalogo_tipo INT FOREIGN KEY REFERENCES Tipos(tipo_id)\r\n",
                ")\r\n",
                "\r\n",
                "--Tabla Bichos\r\n",
                "CREATE TABLE Bichos\r\n",
                "(\r\n",
                "    bicho_id INT PRIMARY KEY IDENTITY (1,1),\r\n",
                "    bicho_nombre VARCHAR(20) NOT NULL,\r\n",
                "    bicho_salud INT DEFAULT 100,\r\n",
                "    bicho_experiencia INT DEFAULT 1,\r\n",
                "    bicho_nivel INT DEFAULT 1,\r\n",
                "    bicho_tipo INT FOREIGN KEY REFERENCES Tipos(tipo_id),\r\n",
                "    bicho_especie INT FOREIGN KEY REFERENCES Especies(especie_id),\r\n",
                "    bicho_propietario INT FOREIGN KEY REFERENCES Usuarios(usuario_id) DEFAULT NULL\r\n",
                ")\r\n",
                "\r\n",
                "--Tabla Recolecciones\r\n",
                "CREATE TABLE Recolecciones\r\n",
                "(\r\n",
                "    recoleccion_id INT IDENTITY PRIMARY KEY,\r\n",
                "    recoleccion_bicho INT FOREIGN KEY REFERENCES Bichos(bicho_id),\r\n",
                "    recoleccion_fecha DATE NOT NULL,\r\n",
                "    recoleccion_usuario INT FOREIGN KEY REFERENCES Usuarios(usuario_id)\r\n",
                ")\r\n",
                "\r\n",
                "--Tabla Intercambios\r\n",
                "CREATE TABLE Intercambios\r\n",
                "(\r\n",
                "    intercambio_id INT PRIMARY KEY IDENTITY (1,1),\r\n",
                "    usuario_uno INT FOREIGN KEY REFERENCES Usuarios(usuario_id),\r\n",
                "    usuario_dos INT FOREIGN KEY REFERENCES Usuarios(usuario_id),\r\n",
                "    bicho_uno INT FOREIGN KEY REFERENCES Bichos(bicho_id),\r\n",
                "    bicho_dos INT FOREIGN KEY REFERENCES Bichos(bicho_id),\r\n",
                "    intercambio_fecha DATE NOT NULL\r\n",
                ")\r\n",
                "\r\n",
                "--Tabla Combates\r\n",
                "CREATE TABLE Combates\r\n",
                "(\r\n",
                "    combate_id INT PRIMARY KEY IDENTITY (1,1),\r\n",
                "    usuario_uno INT FOREIGN KEY REFERENCES Usuarios(usuario_id),\r\n",
                "    usuario_dos INT FOREIGN KEY REFERENCES Usuarios(usuario_id),\r\n",
                "    combate_fecha DATE NOT NULL,\r\n",
                "    ganador INT NOT NULL DEFAULT -1\r\n",
                ")\r\n",
                "\r\n",
                "--Tabla de Rondas\r\n",
                "CREATE TABLE Rondas\r\n",
                "(\r\n",
                "    ronda_noRonda INT IDENTITY (1,1),\r\n",
                "    combate_id INT FOREIGN KEY REFERENCES Combates(combate_id),\r\n",
                "    bicho_uno INT FOREIGN KEY REFERENCES Bichos(bicho_id),\r\n",
                "    bicho_dos INT FOREIGN KEY REFERENCES Bichos(bicho_id),\r\n",
                "    ataque_uno INT FOREIGN KEY REFERENCES Catalogo_Ataques(catalogo_id),\r\n",
                "    ataque_dos INT FOREIGN KEY REFERENCES Catalogo_Ataques(catalogo_id),\r\n",
                "    nivel_daño_uno INT NOT NULL,\r\n",
                "    nivel_daño_dos INT NOT NULL,\r\n",
                "    ganador INT NOT NULL DEFAULT -1 FOREIGN KEY REFERENCES Bichos(bicho_id)\r\n",
                "\r\n",
                "        PRIMARY KEY (ronda_noRonda, combate_id)\r\n",
                ")\r\n",
                "\r\n",
                "--Tabla de Ataques de Bichos\r\n",
                "CREATE TABLE Ataques_Bicho\r\n",
                "(\r\n",
                "    bicho_id INT FOREIGN KEY REFERENCES Bichos(bicho_id),\r\n",
                "    ataque_id INT FOREIGN KEY REFERENCES Catalogo_Ataques(catalogo_id),\r\n",
                "\r\n",
                "    PRIMARY KEY(bicho_id, ataque_id)\r\n",
                ")\r\n",
                ""
            ],
            "metadata": {
                "azdata_cell_guid": "e9751c6c-d68f-4d75-abf8-cd9eb4cbf265",
                "tags": [
                    "hide_input"
                ]
            },
            "outputs": [],
            "execution_count": null
        },
        {
            "cell_type": "markdown",
            "source": [
                "    CREATE CONSTRAINTS"
            ],
            "metadata": {
                "azdata_cell_guid": "34cdef2c-3991-4a76-a84b-4ee2faa44069"
            }
        },
        {
            "cell_type": "code",
            "source": [
                "ALTER TABLE Usuarios ADD CONSTRAINT UsuariosConstraint UNIQUE (usuario_correo)\r\n",
                "\r\n",
                "GO\r\n",
                "\r\n",
                "ALTER TABLE Bichos ADD CONSTRAINT BichosConstraint UNIQUE (bicho_nombre)\r\n",
                "\r\n",
                "GO\r\n",
                "\r\n",
                "ALTER TABLE Catalogo_Ataques ADD CONSTRAINT AtaquesConstraint UNIQUE (catalogo_nombre)\r\n",
                "\r\n",
                "GO\r\n",
                "\r\n",
                "ALTER TABLE Tipos ADD CONSTRAINT TiposConstraint UNIQUE (tipo_nombre)\r\n",
                "\r\n",
                "GO\r\n",
                "\r\n",
                "ALTER TABLE Especies ADD CONSTRAINT EspeciesConstraint UNIQUE (especie_nombre)\r\n",
                "\r\n",
                "GO\r\n",
                ""
            ],
            "metadata": {
                "azdata_cell_guid": "a5766b67-8ec0-4260-b93b-0585217ea333",
                "tags": [
                    "hide_input"
                ]
            },
            "outputs": [],
            "execution_count": null
        }
    ]
}
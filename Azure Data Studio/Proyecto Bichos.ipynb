{
    "metadata": {
        "kernelspec": {
            "name": "SQL",
            "display_name": "SQL",
            "language": "sql"
        },
        "language_info": {
            "name": "sql",
            "version": ""
        }
    },
    "nbformat_minor": 2,
    "nbformat": 4,
    "cells": [
        {
            "cell_type": "markdown",
            "source": [
                "1. SCRIPT DE LA BD INICIAL"
            ],
            "metadata": {
                "azdata_cell_guid": "9559ae22-baec-4f19-8d1e-1f6281db3fb6"
            }
        },
        {
            "cell_type": "markdown",
            "source": [
                "    Creacion de la BD"
            ],
            "metadata": {
                "azdata_cell_guid": "f60cf9a0-8235-4dcf-aa7b-d987b6470784"
            }
        },
        {
            "cell_type": "code",
            "source": [
                "IF EXISTS \r\n",
                "   (\r\n",
                "     SELECT name\r\n",
                "FROM master.dbo.sysdatabases\r\n",
                "WHERE name = 'bichos_de_bolsillo'\r\n",
                "    )\r\n",
                "  DROP DATABASE bichos_de_bolsillo\r\n",
                "\r\n",
                "GO\r\n",
                "\r\n",
                "IF EXISTS (SELECT loginname FROM MASTER.dbo.syslogins \r\n",
                "       WHERE NAME = 'Administrador')\r\n",
                "       DROP LOGIN Administrador\r\n",
                "\r\n",
                "GO\r\n",
                "\r\n",
                "IF EXISTS (SELECT loginname FROM MASTER.dbo.syslogins \r\n",
                "       WHERE NAME = 'Jugador')\r\n",
                "       DROP LOGIN Jugador\r\n",
                "\r\n",
                "GO\r\n",
                "\r\n",
                "CREATE DATABASE bichos_de_bolsillo\r\n",
                "\r\n",
                "GO\r\n",
                "\r\n",
                "USE bichos_de_bolsillo\r\n",
                "\r\n",
                "GO\r\n",
                "\r\n",
                "--Tabla Tipos\r\n",
                "CREATE TABLE Tipos\r\n",
                "(\r\n",
                "    tipo_id INT PRIMARY KEY IDENTITY (1 , 1),\r\n",
                "    tipo_nombre VARCHAR(20) NOT NULL,\r\n",
                "    resistente VARCHAR(20)\r\n",
                ")\r\n",
                "\r\n",
                "--Tabla Especies\r\n",
                "CREATE TABLE Especies\r\n",
                "(\r\n",
                "    especie_id INT PRIMARY KEY IDENTITY (1 , 1),\r\n",
                "    especie_daño_ataque INT NOT NULL,\r\n",
                "    especie_velocidad_ataque INT NOT NULL,\r\n",
                "    especie_nombre VARCHAR(20) NOT NULL,\r\n",
                "    especie_aumento_salud INT NOT NULL,\r\n",
                "    especie_tipo INT FOREIGN KEY REFERENCES Tipos(tipo_id)\r\n",
                ")\r\n",
                "\r\n",
                "--Tabla Usuarios\r\n",
                "CREATE TABLE Usuarios\r\n",
                "(\r\n",
                "    usuario_id INT PRIMARY KEY IDENTITY (1,1),\r\n",
                "    usuario_nombre VARCHAR(20) NOT NULL,\r\n",
                "    usuario_correo VARCHAR(50) NOT NULL,\r\n",
                "    usuario_contraseña VARCHAR(20) NOT NULL,\r\n",
                "    usuario_tipo VARCHAR(20) NOT NULL,\r\n",
                "    usuario_estado BIT NOT NULL DEFAULT 1\r\n",
                ")\r\n",
                "\r\n",
                "--Tabla Catalogo de Ataques\r\n",
                "CREATE TABLE Catalogo_Ataques\r\n",
                "(\r\n",
                "    catalogo_id INT PRIMARY KEY IDENTITY (1,1),\r\n",
                "    catalogo_nombre VARCHAR(20) NOT NULL,\r\n",
                "    catalogo_nivel INT NOT NULL,\r\n",
                "    catalogo_tipo INT FOREIGN KEY REFERENCES Tipos(tipo_id)\r\n",
                ")\r\n",
                "\r\n",
                "--Tabla Bichos\r\n",
                "CREATE TABLE Bichos\r\n",
                "(\r\n",
                "    bicho_id INT PRIMARY KEY IDENTITY (1,1),\r\n",
                "    bicho_nombre VARCHAR(20) NOT NULL,\r\n",
                "    bicho_salud INT DEFAULT 100,\r\n",
                "    bicho_experiencia INT DEFAULT 1,\r\n",
                "    bicho_nivel INT DEFAULT 1,\r\n",
                "    bicho_tipo INT FOREIGN KEY REFERENCES Tipos(tipo_id),\r\n",
                "    bicho_especie INT FOREIGN KEY REFERENCES Especies(especie_id),\r\n",
                "    bicho_propietario INT FOREIGN KEY REFERENCES Usuarios(usuario_id) DEFAULT NULL\r\n",
                ")\r\n",
                "\r\n",
                "--Tabla Recolecciones\r\n",
                "CREATE TABLE Recolecciones\r\n",
                "(\r\n",
                "    recoleccion_id INT IDENTITY PRIMARY KEY,\r\n",
                "    recoleccion_bicho INT FOREIGN KEY REFERENCES Bichos(bicho_id),\r\n",
                "    recoleccion_fecha DATE NOT NULL,\r\n",
                "    recoleccion_usuario INT FOREIGN KEY REFERENCES Usuarios(usuario_id)\r\n",
                ")\r\n",
                "\r\n",
                "--Tabla Intercambios\r\n",
                "CREATE TABLE Intercambios\r\n",
                "(\r\n",
                "    intercambio_id INT PRIMARY KEY IDENTITY (1,1),\r\n",
                "    usuario_uno INT FOREIGN KEY REFERENCES Usuarios(usuario_id),\r\n",
                "    usuario_dos INT FOREIGN KEY REFERENCES Usuarios(usuario_id),\r\n",
                "    bicho_uno INT FOREIGN KEY REFERENCES Bichos(bicho_id),\r\n",
                "    bicho_dos INT FOREIGN KEY REFERENCES Bichos(bicho_id),\r\n",
                "    intercambio_fecha DATE NOT NULL\r\n",
                ")\r\n",
                "\r\n",
                "--Tabla Combates\r\n",
                "CREATE TABLE Combates\r\n",
                "(\r\n",
                "    combate_id INT PRIMARY KEY IDENTITY (1,1),\r\n",
                "    usuario_uno INT FOREIGN KEY REFERENCES Usuarios(usuario_id),\r\n",
                "    usuario_dos INT FOREIGN KEY REFERENCES Usuarios(usuario_id),\r\n",
                "    combate_fecha DATE NOT NULL,\r\n",
                "    ganador INT NOT NULL DEFAULT -1\r\n",
                ")\r\n",
                "\r\n",
                "--Tabla de Rondas\r\n",
                "CREATE TABLE Rondas\r\n",
                "(\r\n",
                "    ronda_noRonda INT IDENTITY (1,1),\r\n",
                "    combate_id INT FOREIGN KEY REFERENCES Combates(combate_id),\r\n",
                "    bicho_uno INT FOREIGN KEY REFERENCES Bichos(bicho_id),\r\n",
                "    bicho_dos INT FOREIGN KEY REFERENCES Bichos(bicho_id),\r\n",
                "    ataque_uno INT FOREIGN KEY REFERENCES Catalogo_Ataques(catalogo_id),\r\n",
                "    ataque_dos INT FOREIGN KEY REFERENCES Catalogo_Ataques(catalogo_id),\r\n",
                "    nivel_daño_uno INT NOT NULL,\r\n",
                "    nivel_daño_dos INT NOT NULL,\r\n",
                "    ganador INT NOT NULL DEFAULT 1 FOREIGN KEY REFERENCES Bichos(bicho_id)\r\n",
                "\r\n",
                "        PRIMARY KEY (ronda_noRonda, combate_id)\r\n",
                ")\r\n",
                "\r\n",
                "--Tabla de Ataques de Bichos\r\n",
                "CREATE TABLE Ataques_Bicho\r\n",
                "(\r\n",
                "    bicho_id INT FOREIGN KEY REFERENCES Bichos(bicho_id),\r\n",
                "    ataque_id INT FOREIGN KEY REFERENCES Catalogo_Ataques(catalogo_id),\r\n",
                "\r\n",
                "    PRIMARY KEY(bicho_id, ataque_id)\r\n",
                ")\r\n",
                ""
            ],
            "metadata": {
                "azdata_cell_guid": "caa15cdf-a048-45fd-940a-0c410966ee3b",
                "tags": []
            },
            "outputs": [
                {
                    "output_type": "display_data",
                    "data": {
                        "text/html": "Commands completed successfully."
                    },
                    "metadata": {}
                },
                {
                    "output_type": "display_data",
                    "data": {
                        "text/html": "Commands completed successfully."
                    },
                    "metadata": {}
                },
                {
                    "output_type": "display_data",
                    "data": {
                        "text/html": "Commands completed successfully."
                    },
                    "metadata": {}
                },
                {
                    "output_type": "display_data",
                    "data": {
                        "text/html": "Commands completed successfully."
                    },
                    "metadata": {}
                },
                {
                    "output_type": "display_data",
                    "data": {
                        "text/html": "Commands completed successfully."
                    },
                    "metadata": {}
                },
                {
                    "output_type": "display_data",
                    "data": {
                        "text/html": "Commands completed successfully."
                    },
                    "metadata": {}
                },
                {
                    "output_type": "display_data",
                    "data": {
                        "text/html": "Total execution time: 00:00:02.923"
                    },
                    "metadata": {}
                }
            ],
            "execution_count": 1
        },
        {
            "cell_type": "markdown",
            "source": [
                "CONSTRAINTS"
            ],
            "metadata": {
                "azdata_cell_guid": "f0ae9f70-312b-446f-be45-2098fd034080"
            }
        },
        {
            "cell_type": "code",
            "source": [
                "ALTER TABLE Usuarios ADD CONSTRAINT UsuariosConstraint UNIQUE (usuario_correo)\r\n",
                "\r\n",
                "GO\r\n",
                "\r\n",
                "ALTER TABLE Bichos ADD CONSTRAINT BichosConstraint UNIQUE (bicho_nombre)\r\n",
                "\r\n",
                "GO\r\n",
                "\r\n",
                "ALTER TABLE Catalogo_Ataques ADD CONSTRAINT AtaquesConstraint UNIQUE (catalogo_nombre)\r\n",
                "\r\n",
                "GO\r\n",
                "\r\n",
                "ALTER TABLE Tipos ADD CONSTRAINT TiposConstraint UNIQUE (tipo_nombre)\r\n",
                "\r\n",
                "GO\r\n",
                "\r\n",
                "ALTER TABLE Especies ADD CONSTRAINT EspeciesConstraint UNIQUE (especie_nombre)\r\n",
                "\r\n",
                "GO\r\n",
                ""
            ],
            "metadata": {
                "azdata_cell_guid": "3f43bd30-62ee-4ec1-a936-5c27c9f00a15",
                "tags": []
            },
            "outputs": [
                {
                    "output_type": "display_data",
                    "data": {
                        "text/html": "Commands completed successfully."
                    },
                    "metadata": {}
                },
                {
                    "output_type": "display_data",
                    "data": {
                        "text/html": "Commands completed successfully."
                    },
                    "metadata": {}
                },
                {
                    "output_type": "display_data",
                    "data": {
                        "text/html": "Commands completed successfully."
                    },
                    "metadata": {}
                },
                {
                    "output_type": "display_data",
                    "data": {
                        "text/html": "Commands completed successfully."
                    },
                    "metadata": {}
                },
                {
                    "output_type": "display_data",
                    "data": {
                        "text/html": "Commands completed successfully."
                    },
                    "metadata": {}
                },
                {
                    "output_type": "display_data",
                    "data": {
                        "text/html": "Total execution time: 00:00:00.560"
                    },
                    "metadata": {}
                }
            ],
            "execution_count": 2
        },
        {
            "cell_type": "markdown",
            "source": [
                "3. INSERTAR DATOS"
            ],
            "metadata": {
                "azdata_cell_guid": "40bce236-6e45-4d1a-b461-51b45ad8a45c"
            }
        },
        {
            "cell_type": "code",
            "source": [
                "USE bichos_de_bolsillo\r\n",
                "\r\n",
                "GO\r\n",
                "\r\n",
                "--TIPOS\r\n",
                "INSERT INTO Tipos\r\n",
                "    (tipo_nombre, resistente)\r\n",
                "Values\r\n",
                "    ('Aire', 'Tierra'),\r\n",
                "    ('Tierra', 'Aire'),\r\n",
                "    ('Fuego', 'Agua'),\r\n",
                "    ('Agua', 'Fuego')\r\n",
                "\r\n",
                "--ESPECIES\r\n",
                "INSERT INTO Especies\r\n",
                "    (especie_nombre, especie_tipo, especie_aumento_salud, especie_daño_ataque, especie_velocidad_ataque)\r\n",
                "VALUES\r\n",
                "    ('Eolo', (SELECT tipo_id\r\n",
                "        FROM Tipos\r\n",
                "        WHERE tipo_nombre = 'Aire'), 20, 15, 15),\r\n",
                "    ('Boreas', (SELECT tipo_id\r\n",
                "        FROM Tipos\r\n",
                "        WHERE tipo_nombre = 'Aire'), 30, 25, 15),\r\n",
                "    ('Vulcano', (SELECT tipo_id\r\n",
                "        FROM Tipos\r\n",
                "        WHERE tipo_nombre = 'Fuego'), 25, 25, 20),\r\n",
                "    ('Prometeo', (SELECT tipo_id\r\n",
                "        FROM Tipos\r\n",
                "        WHERE tipo_nombre = 'Fuego'), 15, 20, 10),\r\n",
                "    ('Poseidon', (SELECT tipo_id\r\n",
                "        FROM Tipos\r\n",
                "        WHERE tipo_nombre = 'Agua'), 30, 30, 30),\r\n",
                "    ('Triton', (SELECT tipo_id\r\n",
                "        FROM Tipos\r\n",
                "        WHERE tipo_nombre = 'Agua'), 20, 15, 10),\r\n",
                "    ('Gaia', (SELECT tipo_id\r\n",
                "        FROM Tipos\r\n",
                "        WHERE tipo_nombre = 'Tierra'), 25, 30, 30),\r\n",
                "    ('Pan', (SELECT tipo_id\r\n",
                "        FROM Tipos\r\n",
                "        WHERE tipo_nombre = 'Tierra'), 15, 20, 20)\r\n",
                "\r\n",
                "--BICHOS\r\n",
                "INSERT INTO Bichos\r\n",
                "    (bicho_nombre, bicho_tipo, bicho_especie)\r\n",
                "VALUES\r\n",
                "    ('Charmander', (SELECT tipo_id\r\n",
                "        FROM Tipos\r\n",
                "        WHERE tipo_nombre = 'Fuego'), (SELECT especie_id\r\n",
                "        FROM Especies\r\n",
                "        WHERE especie_nombre = 'Vulcano')),\r\n",
                "    ('Charmeleon', (SELECT tipo_id\r\n",
                "        FROM Tipos\r\n",
                "        WHERE tipo_nombre = 'Fuego'), (SELECT especie_id\r\n",
                "        FROM Especies\r\n",
                "        WHERE especie_nombre = 'Vulcano')),\r\n",
                "    ('Ponyta', (SELECT tipo_id\r\n",
                "        FROM Tipos\r\n",
                "        WHERE tipo_nombre = 'Fuego'), (SELECT especie_id\r\n",
                "        FROM Especies\r\n",
                "        WHERE especie_nombre = 'Prometeo')),\r\n",
                "    ('Rapidash', (SELECT tipo_id\r\n",
                "        FROM Tipos\r\n",
                "        WHERE tipo_nombre = 'Fuego'), (SELECT especie_id\r\n",
                "        FROM Especies\r\n",
                "        WHERE especie_nombre = 'Prometeo')),\r\n",
                "    ('Vulpix', (SELECT tipo_id\r\n",
                "        FROM Tipos\r\n",
                "        WHERE tipo_nombre = 'Fuego'), (SELECT especie_id\r\n",
                "        FROM Especies\r\n",
                "        WHERE especie_nombre = 'Vulcano')),\r\n",
                "    ('Squirtle', (SELECT tipo_id\r\n",
                "        FROM Tipos\r\n",
                "        WHERE tipo_nombre = 'Agua'), (SELECT especie_id\r\n",
                "        FROM Especies\r\n",
                "        WHERE especie_nombre = 'Poseidon')),\r\n",
                "    ('Wartortle', (SELECT tipo_id\r\n",
                "        FROM Tipos\r\n",
                "        WHERE tipo_nombre = 'Agua'), (SELECT especie_id\r\n",
                "        FROM Especies\r\n",
                "        WHERE especie_nombre = 'Poseidon')),\r\n",
                "    ('Magikarp', (SELECT tipo_id\r\n",
                "        FROM Tipos\r\n",
                "        WHERE tipo_nombre = 'Agua'), (SELECT especie_id\r\n",
                "        FROM Especies\r\n",
                "        WHERE especie_nombre = 'Triton')),\r\n",
                "    ('Gyarados', (SELECT tipo_id\r\n",
                "        FROM Tipos\r\n",
                "        WHERE tipo_nombre = 'Agua'), (SELECT especie_id\r\n",
                "        FROM Especies\r\n",
                "        WHERE especie_nombre = 'Triton')),\r\n",
                "    ('Psyduck', (SELECT tipo_id\r\n",
                "        FROM Tipos\r\n",
                "        WHERE tipo_nombre = 'Agua'), (SELECT especie_id\r\n",
                "        FROM Especies\r\n",
                "        WHERE especie_nombre = 'Poseidon')),\r\n",
                "    ('Sandshrew', (SELECT tipo_id\r\n",
                "        FROM Tipos\r\n",
                "        WHERE tipo_nombre = 'Tierra'), (SELECT especie_id\r\n",
                "        FROM Especies\r\n",
                "        WHERE especie_nombre = 'Gaia')),\r\n",
                "    ('Sandslash', (SELECT tipo_id\r\n",
                "        FROM Tipos\r\n",
                "        WHERE tipo_nombre = 'Tierra'), (SELECT especie_id\r\n",
                "        FROM Especies\r\n",
                "        WHERE especie_nombre = 'Gaia')),\r\n",
                "    ('Diglett', (SELECT tipo_id\r\n",
                "        FROM Tipos\r\n",
                "        WHERE tipo_nombre = 'Tierra'), (SELECT especie_id\r\n",
                "        FROM Especies\r\n",
                "        WHERE especie_nombre = 'Pan')),\r\n",
                "    ('Dugtrio ', (SELECT tipo_id\r\n",
                "        FROM Tipos\r\n",
                "        WHERE tipo_nombre = 'Tierra'), (SELECT especie_id\r\n",
                "        FROM Especies\r\n",
                "        WHERE especie_nombre = 'Pan')),\r\n",
                "    ('Graveler', (SELECT tipo_id\r\n",
                "        FROM Tipos\r\n",
                "        WHERE tipo_nombre = 'Tierra'), (SELECT especie_id\r\n",
                "        FROM Especies\r\n",
                "        WHERE especie_nombre = 'Gaia')),\r\n",
                "    ('Pidgey', (SELECT tipo_id\r\n",
                "        FROM Tipos\r\n",
                "        WHERE tipo_nombre = 'Aire'), (SELECT especie_id\r\n",
                "        FROM Especies\r\n",
                "        WHERE especie_nombre = 'Eolo')),\r\n",
                "    ('Pidgeotto ', (SELECT tipo_id\r\n",
                "        FROM Tipos\r\n",
                "        WHERE tipo_nombre = 'Aire'), (SELECT especie_id\r\n",
                "        FROM Especies\r\n",
                "        WHERE especie_nombre = 'Eolo')),\r\n",
                "    ('Spearow', (SELECT tipo_id\r\n",
                "        FROM Tipos\r\n",
                "        WHERE tipo_nombre = 'Aire'), (SELECT especie_id\r\n",
                "        FROM Especies\r\n",
                "        WHERE especie_nombre = 'Boreas')),\r\n",
                "    ('Fearow', (SELECT tipo_id\r\n",
                "        FROM Tipos\r\n",
                "        WHERE tipo_nombre = 'Aire'), (SELECT especie_id\r\n",
                "        FROM Especies\r\n",
                "        WHERE especie_nombre = 'Boreas')),\r\n",
                "    ('Charizard', (SELECT tipo_id\r\n",
                "        FROM Tipos\r\n",
                "        WHERE tipo_nombre = 'Aire'), (SELECT especie_id\r\n",
                "        FROM Especies\r\n",
                "        WHERE especie_nombre = 'Eolo'))\r\n",
                "\r\n",
                "--CATALOGO DE ATAQUES\r\n",
                "INSERT INTO Catalogo_Ataques\r\n",
                "    (catalogo_nombre, catalogo_tipo, catalogo_nivel)\r\n",
                "VALUES\r\n",
                "    ('Puño de Fuego', (SELECT tipo_id\r\n",
                "        FROM Tipos\r\n",
                "        WHERE tipo_nombre = 'Fuego'), 1),\r\n",
                "    ('Puño de Agua', (SELECT tipo_id\r\n",
                "        FROM Tipos\r\n",
                "        WHERE tipo_nombre = 'Agua'), 1),\r\n",
                "    ('Puño de Tierra', (SELECT tipo_id\r\n",
                "        FROM Tipos\r\n",
                "        WHERE tipo_nombre = 'Tierra'), 1),\r\n",
                "    ('Puño de Aire', (SELECT tipo_id\r\n",
                "        FROM Tipos\r\n",
                "        WHERE tipo_nombre = 'Aire'), 1),\r\n",
                "    ('Huracan', (SELECT tipo_id\r\n",
                "        FROM Tipos\r\n",
                "        WHERE tipo_nombre = 'Agua'), 2),\r\n",
                "    ('Viento', (SELECT tipo_id\r\n",
                "        FROM Tipos\r\n",
                "        WHERE tipo_nombre = 'Aire'), 2),\r\n",
                "    ('Terremoto', (SELECT tipo_id\r\n",
                "        FROM Tipos\r\n",
                "        WHERE tipo_nombre = 'Tierra'), 2),\r\n",
                "    ('Incendio', (SELECT tipo_id\r\n",
                "        FROM Tipos\r\n",
                "        WHERE tipo_nombre = 'Fuego'), 2),\r\n",
                "    ('Tormenta', (SELECT tipo_id\r\n",
                "        FROM Tipos\r\n",
                "        WHERE tipo_nombre = 'Agua'), 3),\r\n",
                "    ('Volcan', (SELECT tipo_id\r\n",
                "        FROM Tipos\r\n",
                "        WHERE tipo_nombre = 'Fuego'), 3),\r\n",
                "    ('Arena Movediza', (SELECT tipo_id\r\n",
                "        FROM Tipos\r\n",
                "        WHERE tipo_nombre = 'Tierra'), 3),\r\n",
                "    ('Ventisca', (SELECT tipo_id\r\n",
                "        FROM Tipos\r\n",
                "        WHERE tipo_nombre = 'Aire'), 3),\r\n",
                "    ('Tsunami', (SELECT tipo_id\r\n",
                "        FROM Tipos\r\n",
                "        WHERE tipo_nombre = 'Agua'), 4),\r\n",
                "    ('Rayo', (SELECT tipo_id\r\n",
                "        FROM Tipos\r\n",
                "        WHERE tipo_nombre = 'Fuego'), 4),\r\n",
                "    ('Hierro', (SELECT tipo_id\r\n",
                "        FROM Tipos\r\n",
                "        WHERE tipo_nombre = 'Tierra'), 4),\r\n",
                "    ('Tornado', (SELECT tipo_id\r\n",
                "        FROM Tipos\r\n",
                "        WHERE tipo_nombre = 'Aire'), 4)\r\n",
                "\r\n",
                "--USUARIOS\r\n",
                "INSERT INTO Usuarios\r\n",
                "    (usuario_nombre, usuario_correo, usuario_contraseña, usuario_tipo)\r\n",
                "Values\r\n",
                "    ('Lucia', 'just.lucysm@gmail.com', '123456', 'Jugador'),\r\n",
                "    ('Edgar', 'edgar@gmail.com', '123456', 'Jugador'),\r\n",
                "    ('Jose', 'jose@gmail.com', '123456', 'Jugador'),\r\n",
                "    ('Fabiola', 'fabiola@gmail.com', '123456', 'Jugador'),\r\n",
                "    ('Diego', 'diego@gmail.com', '123456', 'Jugador'),\r\n",
                "    ('El Patron', 'rossy@gmail.com', '12345', 'Administrador')\r\n",
                "\r\n",
                "--RECOLECCIONES\r\n",
                "INSERT INTO Recolecciones\r\n",
                "    (recoleccion_fecha, recoleccion_bicho, recoleccion_usuario)\r\n",
                "Values\r\n",
                "    (GETDATE(), (SELECT bicho_id\r\n",
                "        FROM Bichos\r\n",
                "        WHERE bicho_nombre = 'Charmander'), (SELECT usuario_id\r\n",
                "        FROM Usuarios\r\n",
                "        WHERE usuario_nombre = 'Edgar')),\r\n",
                "    (GETDATE(), (SELECT bicho_id\r\n",
                "        FROM Bichos\r\n",
                "        WHERE bicho_nombre = 'Diglett'), (SELECT usuario_id\r\n",
                "        FROM Usuarios\r\n",
                "        WHERE usuario_nombre = 'Jose')),\r\n",
                "    (GETDATE(), (SELECT bicho_id\r\n",
                "        FROM Bichos\r\n",
                "        WHERE bicho_nombre = 'Pidgey'), (SELECT usuario_id\r\n",
                "        FROM Usuarios\r\n",
                "        WHERE usuario_nombre = 'Fabiola')),\r\n",
                "    (GETDATE(), (SELECT bicho_id\r\n",
                "        FROM Bichos\r\n",
                "        WHERE bicho_nombre = 'Pidgeotto'), (SELECT usuario_id\r\n",
                "        FROM Usuarios\r\n",
                "        WHERE usuario_nombre = 'Diego')),\r\n",
                "    (GETDATE(), (SELECT bicho_id\r\n",
                "        FROM Bichos\r\n",
                "        WHERE bicho_nombre = 'Spearow'), (SELECT usuario_id\r\n",
                "        FROM Usuarios\r\n",
                "        WHERE usuario_nombre = 'Jose')),\r\n",
                "    (GETDATE(), (SELECT bicho_id\r\n",
                "        FROM Bichos\r\n",
                "        WHERE bicho_nombre = 'Gyarados'), (SELECT usuario_id\r\n",
                "        FROM Usuarios\r\n",
                "        WHERE usuario_nombre = 'Lucia')),\r\n",
                "    (GETDATE(), (SELECT bicho_id\r\n",
                "        FROM Bichos\r\n",
                "        WHERE bicho_nombre = 'Squirtle'), (SELECT usuario_id\r\n",
                "        FROM Usuarios\r\n",
                "        WHERE usuario_nombre = 'Diego')),\r\n",
                "    (GETDATE(), (SELECT bicho_id\r\n",
                "        FROM Bichos\r\n",
                "        WHERE bicho_nombre = 'Psyduck'), (SELECT usuario_id\r\n",
                "        FROM Usuarios\r\n",
                "        WHERE usuario_nombre = 'Fabiola')),\r\n",
                "    (GETDATE(), (SELECT bicho_id\r\n",
                "        FROM Bichos\r\n",
                "        WHERE bicho_nombre = 'SandSlash'), (SELECT usuario_id\r\n",
                "        FROM Usuarios\r\n",
                "        WHERE usuario_nombre = 'Lucia')),\r\n",
                "    (GETDATE(), (SELECT bicho_id\r\n",
                "        FROM Bichos\r\n",
                "        WHERE bicho_nombre = 'Charmeleon'), (SELECT usuario_id\r\n",
                "        FROM Usuarios\r\n",
                "        WHERE usuario_nombre = 'Fabiola')),\r\n",
                "    (GETDATE(), (SELECT bicho_id\r\n",
                "        FROM Bichos\r\n",
                "        WHERE bicho_nombre = 'Magikarp'), (SELECT usuario_id\r\n",
                "        FROM Usuarios\r\n",
                "        WHERE usuario_nombre = 'Edgar')),\r\n",
                "    (GETDATE(), (SELECT bicho_id\r\n",
                "        FROM Bichos\r\n",
                "        WHERE bicho_nombre = 'Ponyta'), (SELECT usuario_id\r\n",
                "        FROM Usuarios\r\n",
                "        WHERE usuario_nombre = 'Diego')),\r\n",
                "    (GETDATE(), (SELECT bicho_id\r\n",
                "        FROM Bichos\r\n",
                "        WHERE bicho_nombre = 'Wartortle'), (SELECT usuario_id\r\n",
                "        FROM Usuarios\r\n",
                "        WHERE usuario_nombre = 'Edgar')),\r\n",
                "    (GETDATE(), (SELECT bicho_id\r\n",
                "        FROM Bichos\r\n",
                "        WHERE bicho_nombre = 'Graveler'), (SELECT usuario_id\r\n",
                "        FROM Usuarios\r\n",
                "        WHERE usuario_nombre = 'Lucia')),\r\n",
                "    (GETDATE(), (SELECT bicho_id\r\n",
                "        FROM Bichos\r\n",
                "        WHERE bicho_nombre = 'Charizard'), (SELECT usuario_id\r\n",
                "        FROM Usuarios\r\n",
                "        WHERE usuario_nombre = 'Jose'))\r\n",
                "\r\n",
                "--Actualizar el valor bicho_propietario en la tabla de Bichos por las recolecciones que se hicieron\r\n",
                "UPDATE Bichos \r\n",
                "SET bicho_propietario = (SELECT usuario_id\r\n",
                "FROM Usuarios\r\n",
                "WHERE usuario_nombre = 'Edgar')\r\n",
                "WHERE bicho_nombre = 'Charmander'\r\n",
                "UPDATE Bichos \r\n",
                "SET bicho_propietario = (SELECT usuario_id\r\n",
                "FROM Usuarios\r\n",
                "WHERE usuario_nombre = 'Jose')\r\n",
                "WHERE bicho_nombre = 'Diglett'\r\n",
                "UPDATE Bichos \r\n",
                "SET bicho_propietario = (SELECT usuario_id\r\n",
                "FROM Usuarios\r\n",
                "WHERE usuario_nombre = 'Fabiola')\r\n",
                "WHERE bicho_nombre = 'Pidgey'\r\n",
                "UPDATE Bichos \r\n",
                "SET bicho_propietario = (SELECT usuario_id\r\n",
                "FROM Usuarios\r\n",
                "WHERE usuario_nombre = 'Diego')\r\n",
                "WHERE bicho_nombre = 'Pidgeotto'\r\n",
                "UPDATE Bichos \r\n",
                "SET bicho_propietario = (SELECT usuario_id\r\n",
                "FROM Usuarios\r\n",
                "WHERE usuario_nombre = 'Jose')\r\n",
                "WHERE bicho_nombre = 'Spearow'\r\n",
                "UPDATE Bichos \r\n",
                "SET bicho_propietario = (SELECT usuario_id\r\n",
                "FROM Usuarios\r\n",
                "WHERE usuario_nombre = 'Lucia')\r\n",
                "WHERE bicho_nombre = 'Gyarados'\r\n",
                "UPDATE Bichos \r\n",
                "SET bicho_propietario = (SELECT usuario_id\r\n",
                "FROM Usuarios\r\n",
                "WHERE usuario_nombre = 'Diego')\r\n",
                "WHERE bicho_nombre = 'Squirtle'\r\n",
                "UPDATE Bichos \r\n",
                "SET bicho_propietario = (SELECT usuario_id\r\n",
                "FROM Usuarios\r\n",
                "WHERE usuario_nombre = 'Fabiola')\r\n",
                "WHERE bicho_nombre = 'Psyduck'\r\n",
                "UPDATE Bichos \r\n",
                "SET bicho_propietario = (SELECT usuario_id\r\n",
                "FROM Usuarios\r\n",
                "WHERE usuario_nombre = 'Lucia')\r\n",
                "WHERE bicho_nombre = 'SandSlash'\r\n",
                "UPDATE Bichos \r\n",
                "SET bicho_propietario = (SELECT usuario_id\r\n",
                "FROM Usuarios\r\n",
                "WHERE usuario_nombre = 'Fabiola')\r\n",
                "WHERE bicho_nombre = 'Charmeleon'\r\n",
                "UPDATE Bichos \r\n",
                "SET bicho_propietario = (SELECT usuario_id\r\n",
                "FROM Usuarios\r\n",
                "WHERE usuario_nombre = 'Edgar')\r\n",
                "WHERE bicho_nombre = 'Magikarp'\r\n",
                "UPDATE Bichos \r\n",
                "SET bicho_propietario = (SELECT usuario_id\r\n",
                "FROM Usuarios\r\n",
                "WHERE usuario_nombre = 'Diego')\r\n",
                "WHERE bicho_nombre = 'Ponyta'\r\n",
                "UPDATE Bichos \r\n",
                "SET bicho_propietario = (SELECT usuario_id\r\n",
                "FROM Usuarios\r\n",
                "WHERE usuario_nombre = 'Edgar')\r\n",
                "WHERE bicho_nombre = 'Wartortle'\r\n",
                "UPDATE Bichos \r\n",
                "SET bicho_propietario = (SELECT usuario_id\r\n",
                "FROM Usuarios\r\n",
                "WHERE usuario_nombre = 'Lucia')\r\n",
                "WHERE bicho_nombre = 'Graveler'\r\n",
                "UPDATE Bichos \r\n",
                "SET bicho_propietario = (SELECT usuario_id\r\n",
                "FROM Usuarios\r\n",
                "WHERE usuario_nombre = 'Jose')\r\n",
                "WHERE bicho_nombre = 'Charizard'\r\n",
                "\r\n",
                "\r\n",
                "--ATAQUES DE BICHOS\r\n",
                "INSERT INTO Ataques_Bicho\r\n",
                "    (bicho_id, ataque_id)\r\n",
                "VALUES\r\n",
                "    (1, (SELECT catalogo_id\r\n",
                "        FROM Catalogo_Ataques\r\n",
                "        WHERE catalogo_nombre = 'Puño de Fuego')),\r\n",
                "    (1, (SELECT catalogo_id\r\n",
                "        FROM Catalogo_Ataques\r\n",
                "        WHERE catalogo_nombre = 'Huracan')),\r\n",
                "    (1, (SELECT catalogo_id\r\n",
                "        FROM Catalogo_Ataques\r\n",
                "        WHERE catalogo_nombre = 'Terremoto')),\r\n",
                "    (1, (SELECT catalogo_id\r\n",
                "        FROM Catalogo_Ataques\r\n",
                "        WHERE catalogo_nombre = 'Arena Movediza')),\r\n",
                "    (1, (SELECT catalogo_id\r\n",
                "        FROM Catalogo_Ataques\r\n",
                "        WHERE catalogo_nombre = 'Rayo')),\r\n",
                "    (2, (SELECT catalogo_id\r\n",
                "        FROM Catalogo_Ataques\r\n",
                "        WHERE catalogo_nombre = 'Puño de Tierra')),\r\n",
                "    (2, (SELECT catalogo_id\r\n",
                "        FROM Catalogo_Ataques\r\n",
                "        WHERE catalogo_nombre = 'Viento')),\r\n",
                "    (2, (SELECT catalogo_id\r\n",
                "        FROM Catalogo_Ataques\r\n",
                "        WHERE catalogo_nombre = 'Incendio')),\r\n",
                "    (2, (SELECT catalogo_id\r\n",
                "        FROM Catalogo_Ataques\r\n",
                "        WHERE catalogo_nombre = 'Arena Movediza')),\r\n",
                "    (2, (SELECT catalogo_id\r\n",
                "        FROM Catalogo_Ataques\r\n",
                "        WHERE catalogo_nombre = 'Ventisca')),\r\n",
                "    (3, (SELECT catalogo_id\r\n",
                "        FROM Catalogo_Ataques\r\n",
                "        WHERE catalogo_nombre = 'Ventisca')),\r\n",
                "    (3, (SELECT catalogo_id\r\n",
                "        FROM Catalogo_Ataques\r\n",
                "        WHERE catalogo_nombre = 'Volcan')),\r\n",
                "    (3, (SELECT catalogo_id\r\n",
                "        FROM Catalogo_Ataques\r\n",
                "        WHERE catalogo_nombre = 'Hierro')),\r\n",
                "    (3, (SELECT catalogo_id\r\n",
                "        FROM Catalogo_Ataques\r\n",
                "        WHERE catalogo_nombre = 'Tormenta')),\r\n",
                "    (3, (SELECT catalogo_id\r\n",
                "        FROM Catalogo_Ataques\r\n",
                "        WHERE catalogo_nombre = 'Puño de Tierra')),\r\n",
                "    (4, (SELECT catalogo_id\r\n",
                "        FROM Catalogo_Ataques\r\n",
                "        WHERE catalogo_nombre = 'Puño de Agua')),\r\n",
                "    (4, (SELECT catalogo_id\r\n",
                "        FROM Catalogo_Ataques\r\n",
                "        WHERE catalogo_nombre = 'Viento')),\r\n",
                "    (4, (SELECT catalogo_id\r\n",
                "        FROM Catalogo_Ataques\r\n",
                "        WHERE catalogo_nombre = 'Ventisca')),\r\n",
                "    (4, (SELECT catalogo_id\r\n",
                "        FROM Catalogo_Ataques\r\n",
                "        WHERE catalogo_nombre = 'Puño de Aire')),\r\n",
                "    (4, (SELECT catalogo_id\r\n",
                "        FROM Catalogo_Ataques\r\n",
                "        WHERE catalogo_nombre = 'Rayo')),\r\n",
                "    (5, (SELECT catalogo_id\r\n",
                "        FROM Catalogo_Ataques\r\n",
                "        WHERE catalogo_nombre = 'Puño de Tierra')),\r\n",
                "    (5, (SELECT catalogo_id\r\n",
                "        FROM Catalogo_Ataques\r\n",
                "        WHERE catalogo_nombre = 'Incendio')),\r\n",
                "    (5, (SELECT catalogo_id\r\n",
                "        FROM Catalogo_Ataques\r\n",
                "        WHERE catalogo_nombre = 'Hierro')),\r\n",
                "    (5, (SELECT catalogo_id\r\n",
                "        FROM Catalogo_Ataques\r\n",
                "        WHERE catalogo_nombre = 'Puño de Aire')),\r\n",
                "    (5, (SELECT catalogo_id\r\n",
                "        FROM Catalogo_Ataques\r\n",
                "        WHERE catalogo_nombre = 'Viento')),\r\n",
                "    (6, (SELECT catalogo_id\r\n",
                "        FROM Catalogo_Ataques\r\n",
                "        WHERE catalogo_nombre = 'Puño de Fuego')),\r\n",
                "    (6, (SELECT catalogo_id\r\n",
                "        FROM Catalogo_Ataques\r\n",
                "        WHERE catalogo_nombre = 'Ventisca')),\r\n",
                "    (6, (SELECT catalogo_id\r\n",
                "        FROM Catalogo_Ataques\r\n",
                "        WHERE catalogo_nombre = 'Terremoto')),\r\n",
                "    (6, (SELECT catalogo_id\r\n",
                "        FROM Catalogo_Ataques\r\n",
                "        WHERE catalogo_nombre = 'Arena Movediza')),\r\n",
                "    (6, (SELECT catalogo_id\r\n",
                "        FROM Catalogo_Ataques\r\n",
                "        WHERE catalogo_nombre = 'Hierro')),\r\n",
                "    (7, (SELECT catalogo_id\r\n",
                "        FROM Catalogo_Ataques\r\n",
                "        WHERE catalogo_nombre = 'Puño de Agua')),\r\n",
                "    (7, (SELECT catalogo_id\r\n",
                "        FROM Catalogo_Ataques\r\n",
                "        WHERE catalogo_nombre = 'Tsunami')),\r\n",
                "    (7, (SELECT catalogo_id\r\n",
                "        FROM Catalogo_Ataques\r\n",
                "        WHERE catalogo_nombre = 'Hierro')),\r\n",
                "    (7, (SELECT catalogo_id\r\n",
                "        FROM Catalogo_Ataques\r\n",
                "        WHERE catalogo_nombre = 'Arena Movediza')),\r\n",
                "    (7, (SELECT catalogo_id\r\n",
                "        FROM Catalogo_Ataques\r\n",
                "        WHERE catalogo_nombre = 'Rayo')),\r\n",
                "    (8, (SELECT catalogo_id\r\n",
                "        FROM Catalogo_Ataques\r\n",
                "        WHERE catalogo_nombre = 'Puño de Fuego')),\r\n",
                "    (8, (SELECT catalogo_id\r\n",
                "        FROM Catalogo_Ataques\r\n",
                "        WHERE catalogo_nombre = 'Incendio')),\r\n",
                "    (8, (SELECT catalogo_id\r\n",
                "        FROM Catalogo_Ataques\r\n",
                "        WHERE catalogo_nombre = 'Ventisca')),\r\n",
                "    (8, (SELECT catalogo_id\r\n",
                "        FROM Catalogo_Ataques\r\n",
                "        WHERE catalogo_nombre = 'Tormenta')),\r\n",
                "    (8, (SELECT catalogo_id\r\n",
                "        FROM Catalogo_Ataques\r\n",
                "        WHERE catalogo_nombre = 'Viento')),\r\n",
                "    (9, (SELECT catalogo_id\r\n",
                "        FROM Catalogo_Ataques\r\n",
                "        WHERE catalogo_nombre = 'Puño de Fuego')),\r\n",
                "    (9, (SELECT catalogo_id\r\n",
                "        FROM Catalogo_Ataques\r\n",
                "        WHERE catalogo_nombre = 'Ventisca')),\r\n",
                "    (9, (SELECT catalogo_id\r\n",
                "        FROM Catalogo_Ataques\r\n",
                "        WHERE catalogo_nombre = 'Volcan')),\r\n",
                "    (9, (SELECT catalogo_id\r\n",
                "        FROM Catalogo_Ataques\r\n",
                "        WHERE catalogo_nombre = 'Hierro')),\r\n",
                "    (9, (SELECT catalogo_id\r\n",
                "        FROM Catalogo_Ataques\r\n",
                "        WHERE catalogo_nombre = 'Incendio')),\r\n",
                "    (10, (SELECT catalogo_id\r\n",
                "        FROM Catalogo_Ataques\r\n",
                "        WHERE catalogo_nombre = 'Puño de Agua')),\r\n",
                "    (10, (SELECT catalogo_id\r\n",
                "        FROM Catalogo_Ataques\r\n",
                "        WHERE catalogo_nombre = 'Viento')),\r\n",
                "    (10, (SELECT catalogo_id\r\n",
                "        FROM Catalogo_Ataques\r\n",
                "        WHERE catalogo_nombre = 'Tsunami')),\r\n",
                "    (10, (SELECT catalogo_id\r\n",
                "        FROM Catalogo_Ataques\r\n",
                "        WHERE catalogo_nombre = 'Arena Movediza')),\r\n",
                "    (10, (SELECT catalogo_id\r\n",
                "        FROM Catalogo_Ataques\r\n",
                "        WHERE catalogo_nombre = 'Puño de Aire')),\r\n",
                "    (11, (SELECT catalogo_id\r\n",
                "        FROM Catalogo_Ataques\r\n",
                "        WHERE catalogo_nombre = 'Ventisca')),\r\n",
                "    (11, (SELECT catalogo_id\r\n",
                "        FROM Catalogo_Ataques\r\n",
                "        WHERE catalogo_nombre = 'Huracan')),\r\n",
                "    (11, (SELECT catalogo_id\r\n",
                "        FROM Catalogo_Ataques\r\n",
                "        WHERE catalogo_nombre = 'Hierro')),\r\n",
                "    (11, (SELECT catalogo_id\r\n",
                "        FROM Catalogo_Ataques\r\n",
                "        WHERE catalogo_nombre = 'Tormenta')),\r\n",
                "    (11, (SELECT catalogo_id\r\n",
                "        FROM Catalogo_Ataques\r\n",
                "        WHERE catalogo_nombre = 'Incendio')),\r\n",
                "    (12, (SELECT catalogo_id\r\n",
                "        FROM Catalogo_Ataques\r\n",
                "        WHERE catalogo_nombre = 'Puño de Tierra')),\r\n",
                "    (12, (SELECT catalogo_id\r\n",
                "        FROM Catalogo_Ataques\r\n",
                "        WHERE catalogo_nombre = 'Incendio')),\r\n",
                "    (12, (SELECT catalogo_id\r\n",
                "        FROM Catalogo_Ataques\r\n",
                "        WHERE catalogo_nombre = 'Terremoto')),\r\n",
                "    (12, (SELECT catalogo_id\r\n",
                "        FROM Catalogo_Ataques\r\n",
                "        WHERE catalogo_nombre = 'Volcan')),\r\n",
                "    (12, (SELECT catalogo_id\r\n",
                "        FROM Catalogo_Ataques\r\n",
                "        WHERE catalogo_nombre = 'Viento')),\r\n",
                "    (13, (SELECT catalogo_id\r\n",
                "        FROM Catalogo_Ataques\r\n",
                "        WHERE catalogo_nombre = 'Puño de Fuego')),\r\n",
                "    (13, (SELECT catalogo_id\r\n",
                "        FROM Catalogo_Ataques\r\n",
                "        WHERE catalogo_nombre = 'Huracan')),\r\n",
                "    (13, (SELECT catalogo_id\r\n",
                "        FROM Catalogo_Ataques\r\n",
                "        WHERE catalogo_nombre = 'Terremoto')),\r\n",
                "    (13, (SELECT catalogo_id\r\n",
                "        FROM Catalogo_Ataques\r\n",
                "        WHERE catalogo_nombre = 'Arena Movediza')),\r\n",
                "    (13, (SELECT catalogo_id\r\n",
                "        FROM Catalogo_Ataques\r\n",
                "        WHERE catalogo_nombre = 'Puño de Aire')),\r\n",
                "    (14, (SELECT catalogo_id\r\n",
                "        FROM Catalogo_Ataques\r\n",
                "        WHERE catalogo_nombre = 'Puño de Agua')),\r\n",
                "    (14, (SELECT catalogo_id\r\n",
                "        FROM Catalogo_Ataques\r\n",
                "        WHERE catalogo_nombre = 'Huracan')),\r\n",
                "    (14, (SELECT catalogo_id\r\n",
                "        FROM Catalogo_Ataques\r\n",
                "        WHERE catalogo_nombre = 'Hierro')),\r\n",
                "    (14, (SELECT catalogo_id\r\n",
                "        FROM Catalogo_Ataques\r\n",
                "        WHERE catalogo_nombre = 'Arena Movediza')),\r\n",
                "    (14, (SELECT catalogo_id\r\n",
                "        FROM Catalogo_Ataques\r\n",
                "        WHERE catalogo_nombre = 'Incendio')),\r\n",
                "    (15, (SELECT catalogo_id\r\n",
                "        FROM Catalogo_Ataques\r\n",
                "        WHERE catalogo_nombre = 'Puño de Fuego')),\r\n",
                "    (15, (SELECT catalogo_id\r\n",
                "        FROM Catalogo_Ataques\r\n",
                "        WHERE catalogo_nombre = 'Huracan')),\r\n",
                "    (15, (SELECT catalogo_id\r\n",
                "        FROM Catalogo_Ataques\r\n",
                "        WHERE catalogo_nombre = 'Tsunami')),\r\n",
                "    (15, (SELECT catalogo_id\r\n",
                "        FROM Catalogo_Ataques\r\n",
                "        WHERE catalogo_nombre = 'Tormenta')),\r\n",
                "    (15, (SELECT catalogo_id\r\n",
                "        FROM Catalogo_Ataques\r\n",
                "        WHERE catalogo_nombre = 'Hierro')),\r\n",
                "    (16, (SELECT catalogo_id\r\n",
                "        FROM Catalogo_Ataques\r\n",
                "        WHERE catalogo_nombre = 'Puño de Fuego')),\r\n",
                "    (16, (SELECT catalogo_id\r\n",
                "        FROM Catalogo_Ataques\r\n",
                "        WHERE catalogo_nombre = 'Ventisca')),\r\n",
                "    (16, (SELECT catalogo_id\r\n",
                "        FROM Catalogo_Ataques\r\n",
                "        WHERE catalogo_nombre = 'Incendio')),\r\n",
                "    (16, (SELECT catalogo_id\r\n",
                "        FROM Catalogo_Ataques\r\n",
                "        WHERE catalogo_nombre = 'Volcan')),\r\n",
                "    (16, (SELECT catalogo_id\r\n",
                "        FROM Catalogo_Ataques\r\n",
                "        WHERE catalogo_nombre = 'Viento')),\r\n",
                "    (17, (SELECT catalogo_id\r\n",
                "        FROM Catalogo_Ataques\r\n",
                "        WHERE catalogo_nombre = 'Puño de Tierra')),\r\n",
                "    (17, (SELECT catalogo_id\r\n",
                "        FROM Catalogo_Ataques\r\n",
                "        WHERE catalogo_nombre = 'Huracan')),\r\n",
                "    (17, (SELECT catalogo_id\r\n",
                "        FROM Catalogo_Ataques\r\n",
                "        WHERE catalogo_nombre = 'Hierro')),\r\n",
                "    (17, (SELECT catalogo_id\r\n",
                "        FROM Catalogo_Ataques\r\n",
                "        WHERE catalogo_nombre = 'Arena Movediza')),\r\n",
                "    (17, (SELECT catalogo_id\r\n",
                "        FROM Catalogo_Ataques\r\n",
                "        WHERE catalogo_nombre = 'Rayo')),\r\n",
                "    (18, (SELECT catalogo_id\r\n",
                "        FROM Catalogo_Ataques\r\n",
                "        WHERE catalogo_nombre = 'Puño de Fuego')),\r\n",
                "    (18, (SELECT catalogo_id\r\n",
                "        FROM Catalogo_Ataques\r\n",
                "        WHERE catalogo_nombre = 'Puño de Aire')),\r\n",
                "    (18, (SELECT catalogo_id\r\n",
                "        FROM Catalogo_Ataques\r\n",
                "        WHERE catalogo_nombre = 'Terremoto')),\r\n",
                "    (18, (SELECT catalogo_id\r\n",
                "        FROM Catalogo_Ataques\r\n",
                "        WHERE catalogo_nombre = 'Tormenta')),\r\n",
                "    (18, (SELECT catalogo_id\r\n",
                "        FROM Catalogo_Ataques\r\n",
                "        WHERE catalogo_nombre = 'Incendio')),\r\n",
                "    (19, (SELECT catalogo_id\r\n",
                "        FROM Catalogo_Ataques\r\n",
                "        WHERE catalogo_nombre = 'Puño de Agua')),\r\n",
                "    (19, (SELECT catalogo_id\r\n",
                "        FROM Catalogo_Ataques\r\n",
                "        WHERE catalogo_nombre = 'Ventisca')),\r\n",
                "    (19, (SELECT catalogo_id\r\n",
                "        FROM Catalogo_Ataques\r\n",
                "        WHERE catalogo_nombre = 'Terremoto')),\r\n",
                "    (19, (SELECT catalogo_id\r\n",
                "        FROM Catalogo_Ataques\r\n",
                "        WHERE catalogo_nombre = 'Volcan')),\r\n",
                "    (19, (SELECT catalogo_id\r\n",
                "        FROM Catalogo_Ataques\r\n",
                "        WHERE catalogo_nombre = 'Puño de Aire')),\r\n",
                "    (20, (SELECT catalogo_id\r\n",
                "        FROM Catalogo_Ataques\r\n",
                "        WHERE catalogo_nombre = 'Puño de Fuego')),\r\n",
                "    (20, (SELECT catalogo_id\r\n",
                "        FROM Catalogo_Ataques\r\n",
                "        WHERE catalogo_nombre = 'Viento')),\r\n",
                "    (20, (SELECT catalogo_id\r\n",
                "        FROM Catalogo_Ataques\r\n",
                "        WHERE catalogo_nombre = 'Tsunami')),\r\n",
                "    (20, (SELECT catalogo_id\r\n",
                "        FROM Catalogo_Ataques\r\n",
                "        WHERE catalogo_nombre = 'Arena Movediza')),\r\n",
                "    (20, (SELECT catalogo_id\r\n",
                "        FROM Catalogo_Ataques\r\n",
                "        WHERE catalogo_nombre = 'Rayo'))\r\n",
                "\r\n",
                "--INTERCAMBIOS\r\n",
                "INSERT INTO Intercambios\r\n",
                "    (intercambio_fecha, usuario_uno, usuario_dos, bicho_uno, bicho_dos)\r\n",
                "Values\r\n",
                "    (GETDATE(), (SELECT usuario_id\r\n",
                "        FROM Usuarios\r\n",
                "        WHERE usuario_nombre = 'Edgar'), (SELECT usuario_id\r\n",
                "        FROM Usuarios\r\n",
                "        WHERE usuario_nombre = 'Jose'), 1, 2),\r\n",
                "    (GETDATE(), (SELECT usuario_id\r\n",
                "        FROM Usuarios\r\n",
                "        WHERE usuario_nombre = 'Jose'), (SELECT usuario_id\r\n",
                "        FROM Usuarios\r\n",
                "        WHERE usuario_nombre = 'Diego'), 5, 4),\r\n",
                "    (GETDATE(), (SELECT usuario_id\r\n",
                "        FROM Usuarios\r\n",
                "        WHERE usuario_nombre = 'Lucia'), (SELECT usuario_id\r\n",
                "        FROM Usuarios\r\n",
                "        WHERE usuario_nombre = 'Fabiola'), 6, 3),\r\n",
                "    (GETDATE(), (SELECT usuario_id\r\n",
                "        FROM Usuarios\r\n",
                "        WHERE usuario_nombre = 'Fabiola'), (SELECT usuario_id\r\n",
                "        FROM Usuarios\r\n",
                "        WHERE usuario_nombre = 'Edgar'), 10, 8),\r\n",
                "    (GETDATE(), (SELECT usuario_id\r\n",
                "        FROM Usuarios\r\n",
                "        WHERE usuario_nombre = 'Diego'), (SELECT usuario_id\r\n",
                "        FROM Usuarios\r\n",
                "        WHERE usuario_nombre = 'Jose'), 12, 15),\r\n",
                "    (GETDATE(), (SELECT usuario_id\r\n",
                "        FROM Usuarios\r\n",
                "        WHERE usuario_nombre = 'Fabiola'), (SELECT usuario_id\r\n",
                "        FROM Usuarios\r\n",
                "        WHERE usuario_nombre = 'Lucia'), 10, 14),\r\n",
                "    (GETDATE(), (SELECT usuario_id\r\n",
                "        FROM Usuarios\r\n",
                "        WHERE usuario_nombre = 'Lucia'), (SELECT usuario_id\r\n",
                "        FROM Usuarios\r\n",
                "        WHERE usuario_nombre = 'Diego'), 9, 7),\r\n",
                "    (GETDATE(), (SELECT usuario_id\r\n",
                "        FROM Usuarios\r\n",
                "        WHERE usuario_nombre = 'Edgar'), (SELECT usuario_id\r\n",
                "        FROM Usuarios\r\n",
                "        WHERE usuario_nombre = 'Fabiola'), 2, 8),\r\n",
                "    (GETDATE(), (SELECT usuario_id\r\n",
                "        FROM Usuarios\r\n",
                "        WHERE usuario_nombre = 'Diego'), (SELECT usuario_id\r\n",
                "        FROM Usuarios\r\n",
                "        WHERE usuario_nombre = 'Edgar'), 4, 1),\r\n",
                "    (GETDATE(), (SELECT usuario_id\r\n",
                "        FROM Usuarios\r\n",
                "        WHERE usuario_nombre = 'Jose'), (SELECT usuario_id\r\n",
                "        FROM Usuarios\r\n",
                "        WHERE usuario_nombre = 'Lucia'), 5, 6)\r\n",
                "\r\n",
                "\r\n",
                ""
            ],
            "metadata": {
                "azdata_cell_guid": "df71ca6c-d612-4a24-a4d4-7237f853601c",
                "tags": []
            },
            "outputs": [
                {
                    "output_type": "display_data",
                    "data": {
                        "text/html": "Commands completed successfully."
                    },
                    "metadata": {}
                },
                {
                    "output_type": "display_data",
                    "data": {
                        "text/html": "(4 rows affected)"
                    },
                    "metadata": {}
                },
                {
                    "output_type": "display_data",
                    "data": {
                        "text/html": "(8 rows affected)"
                    },
                    "metadata": {}
                },
                {
                    "output_type": "display_data",
                    "data": {
                        "text/html": "(20 rows affected)"
                    },
                    "metadata": {}
                },
                {
                    "output_type": "display_data",
                    "data": {
                        "text/html": "(16 rows affected)"
                    },
                    "metadata": {}
                },
                {
                    "output_type": "display_data",
                    "data": {
                        "text/html": "(6 rows affected)"
                    },
                    "metadata": {}
                },
                {
                    "output_type": "display_data",
                    "data": {
                        "text/html": "(15 rows affected)"
                    },
                    "metadata": {}
                },
                {
                    "output_type": "display_data",
                    "data": {
                        "text/html": "(1 row affected)"
                    },
                    "metadata": {}
                },
                {
                    "output_type": "display_data",
                    "data": {
                        "text/html": "(1 row affected)"
                    },
                    "metadata": {}
                },
                {
                    "output_type": "display_data",
                    "data": {
                        "text/html": "(1 row affected)"
                    },
                    "metadata": {}
                },
                {
                    "output_type": "display_data",
                    "data": {
                        "text/html": "(1 row affected)"
                    },
                    "metadata": {}
                },
                {
                    "output_type": "display_data",
                    "data": {
                        "text/html": "(1 row affected)"
                    },
                    "metadata": {}
                },
                {
                    "output_type": "display_data",
                    "data": {
                        "text/html": "(1 row affected)"
                    },
                    "metadata": {}
                },
                {
                    "output_type": "display_data",
                    "data": {
                        "text/html": "(1 row affected)"
                    },
                    "metadata": {}
                },
                {
                    "output_type": "display_data",
                    "data": {
                        "text/html": "(1 row affected)"
                    },
                    "metadata": {}
                },
                {
                    "output_type": "display_data",
                    "data": {
                        "text/html": "(1 row affected)"
                    },
                    "metadata": {}
                },
                {
                    "output_type": "display_data",
                    "data": {
                        "text/html": "(1 row affected)"
                    },
                    "metadata": {}
                },
                {
                    "output_type": "display_data",
                    "data": {
                        "text/html": "(1 row affected)"
                    },
                    "metadata": {}
                },
                {
                    "output_type": "display_data",
                    "data": {
                        "text/html": "(1 row affected)"
                    },
                    "metadata": {}
                },
                {
                    "output_type": "display_data",
                    "data": {
                        "text/html": "(1 row affected)"
                    },
                    "metadata": {}
                },
                {
                    "output_type": "display_data",
                    "data": {
                        "text/html": "(1 row affected)"
                    },
                    "metadata": {}
                },
                {
                    "output_type": "display_data",
                    "data": {
                        "text/html": "(1 row affected)"
                    },
                    "metadata": {}
                },
                {
                    "output_type": "display_data",
                    "data": {
                        "text/html": "(100 rows affected)"
                    },
                    "metadata": {}
                },
                {
                    "output_type": "display_data",
                    "data": {
                        "text/html": "(10 rows affected)"
                    },
                    "metadata": {}
                },
                {
                    "output_type": "display_data",
                    "data": {
                        "text/html": "Total execution time: 00:00:00.800"
                    },
                    "metadata": {}
                }
            ],
            "execution_count": 3
        },
        {
            "cell_type": "markdown",
            "source": [
                "    Insertar datos en Combates y Rondas (100 c/u)"
            ],
            "metadata": {
                "azdata_cell_guid": "b1c3c767-9f79-42a3-9501-789f7db887fa"
            }
        },
        {
            "cell_type": "code",
            "source": [
                "INSERT INTO Combates\r\n",
                "    (usuario_uno, usuario_dos, combate_fecha)\r\n",
                "VALUES\r\n",
                "    ((SELECT usuario_id\r\n",
                "        FROM Usuarios\r\n",
                "        WHERE usuario_nombre = 'Fabiola'), (SELECT usuario_id\r\n",
                "        FROM Usuarios\r\n",
                "        WHERE usuario_nombre = 'Jose'), GETDATE()),\r\n",
                "    ((SELECT usuario_id\r\n",
                "        FROM Usuarios\r\n",
                "        WHERE usuario_nombre = 'Edgar'), (SELECT usuario_id\r\n",
                "        FROM Usuarios\r\n",
                "        WHERE usuario_nombre = 'Diego'), GETDATE()),\r\n",
                "    ((SELECT usuario_id\r\n",
                "        FROM Usuarios\r\n",
                "        WHERE usuario_nombre = 'Lucia'), (SELECT usuario_id\r\n",
                "        FROM Usuarios\r\n",
                "        WHERE usuario_nombre = 'Diego'), GETDATE()),\r\n",
                "    ((SELECT usuario_id\r\n",
                "        FROM Usuarios\r\n",
                "        WHERE usuario_nombre = 'Diego'), (SELECT usuario_id\r\n",
                "        FROM Usuarios\r\n",
                "        WHERE usuario_nombre = 'Fabiola'), GETDATE()),\r\n",
                "    ((SELECT usuario_id\r\n",
                "        FROM Usuarios\r\n",
                "        WHERE usuario_nombre = 'Lucia'), (SELECT usuario_id\r\n",
                "        FROM Usuarios\r\n",
                "        WHERE usuario_nombre = 'Jose'), GETDATE()),\r\n",
                "    ((SELECT usuario_id\r\n",
                "        FROM Usuarios\r\n",
                "        WHERE usuario_nombre = 'Diego'), (SELECT usuario_id\r\n",
                "        FROM Usuarios\r\n",
                "        WHERE usuario_nombre = 'Edgar'), GETDATE()),\r\n",
                "    ((SELECT usuario_id\r\n",
                "        FROM Usuarios\r\n",
                "        WHERE usuario_nombre = 'Diego'), (SELECT usuario_id\r\n",
                "        FROM Usuarios\r\n",
                "        WHERE usuario_nombre = 'Fabiola'), GETDATE()),\r\n",
                "    ((SELECT usuario_id\r\n",
                "        FROM Usuarios\r\n",
                "        WHERE usuario_nombre = 'Diego'), (SELECT usuario_id\r\n",
                "        FROM Usuarios\r\n",
                "        WHERE usuario_nombre = 'Lucia'), GETDATE()),\r\n",
                "    ((SELECT usuario_id\r\n",
                "        FROM Usuarios\r\n",
                "        WHERE usuario_nombre = 'Edgar'), (SELECT usuario_id\r\n",
                "        FROM Usuarios\r\n",
                "        WHERE usuario_nombre = 'Diego'), GETDATE()),\r\n",
                "    ((SELECT usuario_id\r\n",
                "        FROM Usuarios\r\n",
                "        WHERE usuario_nombre = 'Edgar'), (SELECT usuario_id\r\n",
                "        FROM Usuarios\r\n",
                "        WHERE usuario_nombre = 'Fabiola'), GETDATE()),\r\n",
                "    ((SELECT usuario_id\r\n",
                "        FROM Usuarios\r\n",
                "        WHERE usuario_nombre = 'Diego'), (SELECT usuario_id\r\n",
                "        FROM Usuarios\r\n",
                "        WHERE usuario_nombre = 'Lucia'), GETDATE()),\r\n",
                "    ((SELECT usuario_id\r\n",
                "        FROM Usuarios\r\n",
                "        WHERE usuario_nombre = 'Lucia'), (SELECT usuario_id\r\n",
                "        FROM Usuarios\r\n",
                "        WHERE usuario_nombre = 'Edgar'), GETDATE()),\r\n",
                "    ((SELECT usuario_id\r\n",
                "        FROM Usuarios\r\n",
                "        WHERE usuario_nombre = 'Jose'), (SELECT usuario_id\r\n",
                "        FROM Usuarios\r\n",
                "        WHERE usuario_nombre = 'Edgar'), GETDATE()),\r\n",
                "    ((SELECT usuario_id\r\n",
                "        FROM Usuarios\r\n",
                "        WHERE usuario_nombre = 'Fabiola'), (SELECT usuario_id\r\n",
                "        FROM Usuarios\r\n",
                "        WHERE usuario_nombre = 'Lucia'), GETDATE()),\r\n",
                "    ((SELECT usuario_id\r\n",
                "        FROM Usuarios\r\n",
                "        WHERE usuario_nombre = 'Edgar'), (SELECT usuario_id\r\n",
                "        FROM Usuarios\r\n",
                "        WHERE usuario_nombre = 'Diego'), GETDATE()),\r\n",
                "    ((SELECT usuario_id\r\n",
                "        FROM Usuarios\r\n",
                "        WHERE usuario_nombre = 'Edgar'), (SELECT usuario_id\r\n",
                "        FROM Usuarios\r\n",
                "        WHERE usuario_nombre = 'Jose'), GETDATE()),\r\n",
                "    ((SELECT usuario_id\r\n",
                "        FROM Usuarios\r\n",
                "        WHERE usuario_nombre = 'Jose'), (SELECT usuario_id\r\n",
                "        FROM Usuarios\r\n",
                "        WHERE usuario_nombre = 'Lucia'), GETDATE()),\r\n",
                "    ((SELECT usuario_id\r\n",
                "        FROM Usuarios\r\n",
                "        WHERE usuario_nombre = 'Jose'), (SELECT usuario_id\r\n",
                "        FROM Usuarios\r\n",
                "        WHERE usuario_nombre = 'Lucia'), GETDATE()),\r\n",
                "    ((SELECT usuario_id\r\n",
                "        FROM Usuarios\r\n",
                "        WHERE usuario_nombre = 'Lucia'), (SELECT usuario_id\r\n",
                "        FROM Usuarios\r\n",
                "        WHERE usuario_nombre = 'Edgar'), GETDATE()),\r\n",
                "    ((SELECT usuario_id\r\n",
                "        FROM Usuarios\r\n",
                "        WHERE usuario_nombre = 'Diego'), (SELECT usuario_id\r\n",
                "        FROM Usuarios\r\n",
                "        WHERE usuario_nombre = 'Jose'), GETDATE()),\r\n",
                "    ((SELECT usuario_id\r\n",
                "        FROM Usuarios\r\n",
                "        WHERE usuario_nombre = 'Diego'), (SELECT usuario_id\r\n",
                "        FROM Usuarios\r\n",
                "        WHERE usuario_nombre = 'Lucia'), GETDATE()),\r\n",
                "    ((SELECT usuario_id\r\n",
                "        FROM Usuarios\r\n",
                "        WHERE usuario_nombre = 'Fabiola'), (SELECT usuario_id\r\n",
                "        FROM Usuarios\r\n",
                "        WHERE usuario_nombre = 'Jose'), GETDATE()),\r\n",
                "    ((SELECT usuario_id\r\n",
                "        FROM Usuarios\r\n",
                "        WHERE usuario_nombre = 'Fabiola'), (SELECT usuario_id\r\n",
                "        FROM Usuarios\r\n",
                "        WHERE usuario_nombre = 'Jose'), GETDATE()),\r\n",
                "    ((SELECT usuario_id\r\n",
                "        FROM Usuarios\r\n",
                "        WHERE usuario_nombre = 'Edgar'), (SELECT usuario_id\r\n",
                "        FROM Usuarios\r\n",
                "        WHERE usuario_nombre = 'Jose'), GETDATE()),\r\n",
                "    ((SELECT usuario_id\r\n",
                "        FROM Usuarios\r\n",
                "        WHERE usuario_nombre = 'Diego'), (SELECT usuario_id\r\n",
                "        FROM Usuarios\r\n",
                "        WHERE usuario_nombre = 'Fabiola'), GETDATE()),\r\n",
                "    ((SELECT usuario_id\r\n",
                "        FROM Usuarios\r\n",
                "        WHERE usuario_nombre = 'Diego'), (SELECT usuario_id\r\n",
                "        FROM Usuarios\r\n",
                "        WHERE usuario_nombre = 'Fabiola'), GETDATE()),\r\n",
                "    ((SELECT usuario_id\r\n",
                "        FROM Usuarios\r\n",
                "        WHERE usuario_nombre = 'Edgar'), (SELECT usuario_id\r\n",
                "        FROM Usuarios\r\n",
                "        WHERE usuario_nombre = 'Fabiola'), GETDATE()),\r\n",
                "    ((SELECT usuario_id\r\n",
                "        FROM Usuarios\r\n",
                "        WHERE usuario_nombre = 'Diego'), (SELECT usuario_id\r\n",
                "        FROM Usuarios\r\n",
                "        WHERE usuario_nombre = 'Jose'), GETDATE()),\r\n",
                "    ((SELECT usuario_id\r\n",
                "        FROM Usuarios\r\n",
                "        WHERE usuario_nombre = 'Edgar'), (SELECT usuario_id\r\n",
                "        FROM Usuarios\r\n",
                "        WHERE usuario_nombre = 'Lucia'), GETDATE()),\r\n",
                "    ((SELECT usuario_id\r\n",
                "        FROM Usuarios\r\n",
                "        WHERE usuario_nombre = 'Lucia'), (SELECT usuario_id\r\n",
                "        FROM Usuarios\r\n",
                "        WHERE usuario_nombre = 'Fabiola'), GETDATE()),\r\n",
                "    ((SELECT usuario_id\r\n",
                "        FROM Usuarios\r\n",
                "        WHERE usuario_nombre = 'Lucia'), (SELECT usuario_id\r\n",
                "        FROM Usuarios\r\n",
                "        WHERE usuario_nombre = 'Jose'), GETDATE()),\r\n",
                "    ((SELECT usuario_id\r\n",
                "        FROM Usuarios\r\n",
                "        WHERE usuario_nombre = 'Edgar'), (SELECT usuario_id\r\n",
                "        FROM Usuarios\r\n",
                "        WHERE usuario_nombre = 'Fabiola'), GETDATE()),\r\n",
                "    ((SELECT usuario_id\r\n",
                "        FROM Usuarios\r\n",
                "        WHERE usuario_nombre = 'Diego'), (SELECT usuario_id\r\n",
                "        FROM Usuarios\r\n",
                "        WHERE usuario_nombre = 'Lucia'), GETDATE()),\r\n",
                "    ((SELECT usuario_id\r\n",
                "        FROM Usuarios\r\n",
                "        WHERE usuario_nombre = 'Lucia'), (SELECT usuario_id\r\n",
                "        FROM Usuarios\r\n",
                "        WHERE usuario_nombre = 'Fabiola'), GETDATE()),\r\n",
                "    ((SELECT usuario_id\r\n",
                "        FROM Usuarios\r\n",
                "        WHERE usuario_nombre = 'Lucia'), (SELECT usuario_id\r\n",
                "        FROM Usuarios\r\n",
                "        WHERE usuario_nombre = 'Diego'), GETDATE()),\r\n",
                "    ((SELECT usuario_id\r\n",
                "        FROM Usuarios\r\n",
                "        WHERE usuario_nombre = 'Jose'), (SELECT usuario_id\r\n",
                "        FROM Usuarios\r\n",
                "        WHERE usuario_nombre = 'Diego'), GETDATE()),\r\n",
                "    ((SELECT usuario_id\r\n",
                "        FROM Usuarios\r\n",
                "        WHERE usuario_nombre = 'Edgar'), (SELECT usuario_id\r\n",
                "        FROM Usuarios\r\n",
                "        WHERE usuario_nombre = 'Fabiola'), GETDATE()),\r\n",
                "    ((SELECT usuario_id\r\n",
                "        FROM Usuarios\r\n",
                "        WHERE usuario_nombre = 'Lucia'), (SELECT usuario_id\r\n",
                "        FROM Usuarios\r\n",
                "        WHERE usuario_nombre = 'Fabiola'), GETDATE()),\r\n",
                "    ((SELECT usuario_id\r\n",
                "        FROM Usuarios\r\n",
                "        WHERE usuario_nombre = 'Diego'), (SELECT usuario_id\r\n",
                "        FROM Usuarios\r\n",
                "        WHERE usuario_nombre = 'Jose'), GETDATE()),\r\n",
                "    ((SELECT usuario_id\r\n",
                "        FROM Usuarios\r\n",
                "        WHERE usuario_nombre = 'Diego'), (SELECT usuario_id\r\n",
                "        FROM Usuarios\r\n",
                "        WHERE usuario_nombre = 'Fabiola'), GETDATE()),\r\n",
                "    ((SELECT usuario_id\r\n",
                "        FROM Usuarios\r\n",
                "        WHERE usuario_nombre = 'Jose'), (SELECT usuario_id\r\n",
                "        FROM Usuarios\r\n",
                "        WHERE usuario_nombre = 'Lucia'), GETDATE()),\r\n",
                "    ((SELECT usuario_id\r\n",
                "        FROM Usuarios\r\n",
                "        WHERE usuario_nombre = 'Fabiola'), (SELECT usuario_id\r\n",
                "        FROM Usuarios\r\n",
                "        WHERE usuario_nombre = 'Edgar'), GETDATE()),\r\n",
                "    ((SELECT usuario_id\r\n",
                "        FROM Usuarios\r\n",
                "        WHERE usuario_nombre = 'Jose'), (SELECT usuario_id\r\n",
                "        FROM Usuarios\r\n",
                "        WHERE usuario_nombre = 'Edgar'), GETDATE()),\r\n",
                "    ((SELECT usuario_id\r\n",
                "        FROM Usuarios\r\n",
                "        WHERE usuario_nombre = 'Edgar'), (SELECT usuario_id\r\n",
                "        FROM Usuarios\r\n",
                "        WHERE usuario_nombre = 'Lucia'), GETDATE()),\r\n",
                "    ((SELECT usuario_id\r\n",
                "        FROM Usuarios\r\n",
                "        WHERE usuario_nombre = 'Edgar'), (SELECT usuario_id\r\n",
                "        FROM Usuarios\r\n",
                "        WHERE usuario_nombre = 'Fabiola'), GETDATE()),\r\n",
                "    ((SELECT usuario_id\r\n",
                "        FROM Usuarios\r\n",
                "        WHERE usuario_nombre = 'Jose'), (SELECT usuario_id\r\n",
                "        FROM Usuarios\r\n",
                "        WHERE usuario_nombre = 'Fabiola'), GETDATE()),\r\n",
                "    ((SELECT usuario_id\r\n",
                "        FROM Usuarios\r\n",
                "        WHERE usuario_nombre = 'Diego'), (SELECT usuario_id\r\n",
                "        FROM Usuarios\r\n",
                "        WHERE usuario_nombre = 'Fabiola'), GETDATE()),\r\n",
                "    ((SELECT usuario_id\r\n",
                "        FROM Usuarios\r\n",
                "        WHERE usuario_nombre = 'Fabiola'), (SELECT usuario_id\r\n",
                "        FROM Usuarios\r\n",
                "        WHERE usuario_nombre = 'Lucia'), GETDATE()),\r\n",
                "    ((SELECT usuario_id\r\n",
                "        FROM Usuarios\r\n",
                "        WHERE usuario_nombre = 'Lucia'), (SELECT usuario_id\r\n",
                "        FROM Usuarios\r\n",
                "        WHERE usuario_nombre = 'Diego'), GETDATE()),\r\n",
                "    ((SELECT usuario_id\r\n",
                "        FROM Usuarios\r\n",
                "        WHERE usuario_nombre = 'Edgar'), (SELECT usuario_id\r\n",
                "        FROM Usuarios\r\n",
                "        WHERE usuario_nombre = 'Jose'), GETDATE()),\r\n",
                "    ((SELECT usuario_id\r\n",
                "        FROM Usuarios\r\n",
                "        WHERE usuario_nombre = 'Diego'), (SELECT usuario_id\r\n",
                "        FROM Usuarios\r\n",
                "        WHERE usuario_nombre = 'Jose'), GETDATE()),\r\n",
                "    ((SELECT usuario_id\r\n",
                "        FROM Usuarios\r\n",
                "        WHERE usuario_nombre = 'Lucia'), (SELECT usuario_id\r\n",
                "        FROM Usuarios\r\n",
                "        WHERE usuario_nombre = 'Edgar'), GETDATE()),\r\n",
                "    ((SELECT usuario_id\r\n",
                "        FROM Usuarios\r\n",
                "        WHERE usuario_nombre = 'Lucia'), (SELECT usuario_id\r\n",
                "        FROM Usuarios\r\n",
                "        WHERE usuario_nombre = 'Fabiola'), GETDATE()),\r\n",
                "    ((SELECT usuario_id\r\n",
                "        FROM Usuarios\r\n",
                "        WHERE usuario_nombre = 'Lucia'), (SELECT usuario_id\r\n",
                "        FROM Usuarios\r\n",
                "        WHERE usuario_nombre = 'Fabiola'), GETDATE()),\r\n",
                "    ((SELECT usuario_id\r\n",
                "        FROM Usuarios\r\n",
                "        WHERE usuario_nombre = 'Edgar'), (SELECT usuario_id\r\n",
                "        FROM Usuarios\r\n",
                "        WHERE usuario_nombre = 'Lucia'), GETDATE()),\r\n",
                "    ((SELECT usuario_id\r\n",
                "        FROM Usuarios\r\n",
                "        WHERE usuario_nombre = 'Lucia'), (SELECT usuario_id\r\n",
                "        FROM Usuarios\r\n",
                "        WHERE usuario_nombre = 'Fabiola'), GETDATE()),\r\n",
                "    ((SELECT usuario_id\r\n",
                "        FROM Usuarios\r\n",
                "        WHERE usuario_nombre = 'Edgar'), (SELECT usuario_id\r\n",
                "        FROM Usuarios\r\n",
                "        WHERE usuario_nombre = 'Lucia'), GETDATE()),\r\n",
                "    ((SELECT usuario_id\r\n",
                "        FROM Usuarios\r\n",
                "        WHERE usuario_nombre = 'Diego'), (SELECT usuario_id\r\n",
                "        FROM Usuarios\r\n",
                "        WHERE usuario_nombre = 'Edgar'), GETDATE()),\r\n",
                "    ((SELECT usuario_id\r\n",
                "        FROM Usuarios\r\n",
                "        WHERE usuario_nombre = 'Diego'), (SELECT usuario_id\r\n",
                "        FROM Usuarios\r\n",
                "        WHERE usuario_nombre = 'Jose'), GETDATE()),\r\n",
                "    ((SELECT usuario_id\r\n",
                "        FROM Usuarios\r\n",
                "        WHERE usuario_nombre = 'Diego'), (SELECT usuario_id\r\n",
                "        FROM Usuarios\r\n",
                "        WHERE usuario_nombre = 'Edgar'), GETDATE()),\r\n",
                "    ((SELECT usuario_id\r\n",
                "        FROM Usuarios\r\n",
                "        WHERE usuario_nombre = 'Diego'), (SELECT usuario_id\r\n",
                "        FROM Usuarios\r\n",
                "        WHERE usuario_nombre = 'Fabiola'), GETDATE()),\r\n",
                "    ((SELECT usuario_id\r\n",
                "        FROM Usuarios\r\n",
                "        WHERE usuario_nombre = 'Jose'), (SELECT usuario_id\r\n",
                "        FROM Usuarios\r\n",
                "        WHERE usuario_nombre = 'Edgar'), GETDATE()),\r\n",
                "    ((SELECT usuario_id\r\n",
                "        FROM Usuarios\r\n",
                "        WHERE usuario_nombre = 'Lucia'), (SELECT usuario_id\r\n",
                "        FROM Usuarios\r\n",
                "        WHERE usuario_nombre = 'Jose'), GETDATE()),\r\n",
                "    ((SELECT usuario_id\r\n",
                "        FROM Usuarios\r\n",
                "        WHERE usuario_nombre = 'Diego'), (SELECT usuario_id\r\n",
                "        FROM Usuarios\r\n",
                "        WHERE usuario_nombre = 'Lucia'), GETDATE()),\r\n",
                "    ((SELECT usuario_id\r\n",
                "        FROM Usuarios\r\n",
                "        WHERE usuario_nombre = 'Lucia'), (SELECT usuario_id\r\n",
                "        FROM Usuarios\r\n",
                "        WHERE usuario_nombre = 'Diego'), GETDATE()),\r\n",
                "    ((SELECT usuario_id\r\n",
                "        FROM Usuarios\r\n",
                "        WHERE usuario_nombre = 'Diego'), (SELECT usuario_id\r\n",
                "        FROM Usuarios\r\n",
                "        WHERE usuario_nombre = 'Lucia'), GETDATE()),\r\n",
                "    ((SELECT usuario_id\r\n",
                "        FROM Usuarios\r\n",
                "        WHERE usuario_nombre = 'Diego'), (SELECT usuario_id\r\n",
                "        FROM Usuarios\r\n",
                "        WHERE usuario_nombre = 'Edgar'), GETDATE()),\r\n",
                "    ((SELECT usuario_id\r\n",
                "        FROM Usuarios\r\n",
                "        WHERE usuario_nombre = 'Jose'), (SELECT usuario_id\r\n",
                "        FROM Usuarios\r\n",
                "        WHERE usuario_nombre = 'Edgar'), GETDATE()),\r\n",
                "    ((SELECT usuario_id\r\n",
                "        FROM Usuarios\r\n",
                "        WHERE usuario_nombre = 'Lucia'), (SELECT usuario_id\r\n",
                "        FROM Usuarios\r\n",
                "        WHERE usuario_nombre = 'Edgar'), GETDATE()),\r\n",
                "    ((SELECT usuario_id\r\n",
                "        FROM Usuarios\r\n",
                "        WHERE usuario_nombre = 'Jose'), (SELECT usuario_id\r\n",
                "        FROM Usuarios\r\n",
                "        WHERE usuario_nombre = 'Diego'), GETDATE()),\r\n",
                "    ((SELECT usuario_id\r\n",
                "        FROM Usuarios\r\n",
                "        WHERE usuario_nombre = 'Jose'), (SELECT usuario_id\r\n",
                "        FROM Usuarios\r\n",
                "        WHERE usuario_nombre = 'Edgar'), GETDATE()),\r\n",
                "    ((SELECT usuario_id\r\n",
                "        FROM Usuarios\r\n",
                "        WHERE usuario_nombre = 'Edgar'), (SELECT usuario_id\r\n",
                "        FROM Usuarios\r\n",
                "        WHERE usuario_nombre = 'Fabiola'), GETDATE()),\r\n",
                "    ((SELECT usuario_id\r\n",
                "        FROM Usuarios\r\n",
                "        WHERE usuario_nombre = 'Edgar'), (SELECT usuario_id\r\n",
                "        FROM Usuarios\r\n",
                "        WHERE usuario_nombre = 'Jose'), GETDATE()),\r\n",
                "    ((SELECT usuario_id\r\n",
                "        FROM Usuarios\r\n",
                "        WHERE usuario_nombre = 'Lucia'), (SELECT usuario_id\r\n",
                "        FROM Usuarios\r\n",
                "        WHERE usuario_nombre = 'Diego'), GETDATE()),\r\n",
                "    ((SELECT usuario_id\r\n",
                "        FROM Usuarios\r\n",
                "        WHERE usuario_nombre = 'Fabiola'), (SELECT usuario_id\r\n",
                "        FROM Usuarios\r\n",
                "        WHERE usuario_nombre = 'Lucia'), GETDATE()),\r\n",
                "    ((SELECT usuario_id\r\n",
                "        FROM Usuarios\r\n",
                "        WHERE usuario_nombre = 'Diego'), (SELECT usuario_id\r\n",
                "        FROM Usuarios\r\n",
                "        WHERE usuario_nombre = 'Jose'), GETDATE()),\r\n",
                "    ((SELECT usuario_id\r\n",
                "        FROM Usuarios\r\n",
                "        WHERE usuario_nombre = 'Fabiola'), (SELECT usuario_id\r\n",
                "        FROM Usuarios\r\n",
                "        WHERE usuario_nombre = 'Edgar'), GETDATE()),\r\n",
                "    ((SELECT usuario_id\r\n",
                "        FROM Usuarios\r\n",
                "        WHERE usuario_nombre = 'Edgar'), (SELECT usuario_id\r\n",
                "        FROM Usuarios\r\n",
                "        WHERE usuario_nombre = 'Jose'), GETDATE()),\r\n",
                "    ((SELECT usuario_id\r\n",
                "        FROM Usuarios\r\n",
                "        WHERE usuario_nombre = 'Lucia'), (SELECT usuario_id\r\n",
                "        FROM Usuarios\r\n",
                "        WHERE usuario_nombre = 'Diego'), GETDATE()),\r\n",
                "    ((SELECT usuario_id\r\n",
                "        FROM Usuarios\r\n",
                "        WHERE usuario_nombre = 'Lucia'), (SELECT usuario_id\r\n",
                "        FROM Usuarios\r\n",
                "        WHERE usuario_nombre = 'Edgar'), GETDATE()),\r\n",
                "    ((SELECT usuario_id\r\n",
                "        FROM Usuarios\r\n",
                "        WHERE usuario_nombre = 'Edgar'), (SELECT usuario_id\r\n",
                "        FROM Usuarios\r\n",
                "        WHERE usuario_nombre = 'Diego'), GETDATE()),\r\n",
                "    ((SELECT usuario_id\r\n",
                "        FROM Usuarios\r\n",
                "        WHERE usuario_nombre = 'Jose'), (SELECT usuario_id\r\n",
                "        FROM Usuarios\r\n",
                "        WHERE usuario_nombre = 'Diego'), GETDATE()),\r\n",
                "    ((SELECT usuario_id\r\n",
                "        FROM Usuarios\r\n",
                "        WHERE usuario_nombre = 'Lucia'), (SELECT usuario_id\r\n",
                "        FROM Usuarios\r\n",
                "        WHERE usuario_nombre = 'Jose'), GETDATE()),\r\n",
                "    ((SELECT usuario_id\r\n",
                "        FROM Usuarios\r\n",
                "        WHERE usuario_nombre = 'Fabiola'), (SELECT usuario_id\r\n",
                "        FROM Usuarios\r\n",
                "        WHERE usuario_nombre = 'Lucia'), GETDATE()),\r\n",
                "    ((SELECT usuario_id\r\n",
                "        FROM Usuarios\r\n",
                "        WHERE usuario_nombre = 'Fabiola'), (SELECT usuario_id\r\n",
                "        FROM Usuarios\r\n",
                "        WHERE usuario_nombre = 'Lucia'), GETDATE()),\r\n",
                "    ((SELECT usuario_id\r\n",
                "        FROM Usuarios\r\n",
                "        WHERE usuario_nombre = 'Lucia'), (SELECT usuario_id\r\n",
                "        FROM Usuarios\r\n",
                "        WHERE usuario_nombre = 'Jose'), GETDATE()),\r\n",
                "    ((SELECT usuario_id\r\n",
                "        FROM Usuarios\r\n",
                "        WHERE usuario_nombre = 'Lucia'), (SELECT usuario_id\r\n",
                "        FROM Usuarios\r\n",
                "        WHERE usuario_nombre = 'Fabiola'), GETDATE()),\r\n",
                "    ((SELECT usuario_id\r\n",
                "        FROM Usuarios\r\n",
                "        WHERE usuario_nombre = 'Fabiola'), (SELECT usuario_id\r\n",
                "        FROM Usuarios\r\n",
                "        WHERE usuario_nombre = 'Edgar'), GETDATE()),\r\n",
                "    ((SELECT usuario_id\r\n",
                "        FROM Usuarios\r\n",
                "        WHERE usuario_nombre = 'Fabiola'), (SELECT usuario_id\r\n",
                "        FROM Usuarios\r\n",
                "        WHERE usuario_nombre = 'Jose'), GETDATE()),\r\n",
                "    ((SELECT usuario_id\r\n",
                "        FROM Usuarios\r\n",
                "        WHERE usuario_nombre = 'Fabiola'), (SELECT usuario_id\r\n",
                "        FROM Usuarios\r\n",
                "        WHERE usuario_nombre = 'Diego'), GETDATE()),\r\n",
                "    ((SELECT usuario_id\r\n",
                "        FROM Usuarios\r\n",
                "        WHERE usuario_nombre = 'Diego'), (SELECT usuario_id\r\n",
                "        FROM Usuarios\r\n",
                "        WHERE usuario_nombre = 'Jose'), GETDATE()),\r\n",
                "    ((SELECT usuario_id\r\n",
                "        FROM Usuarios\r\n",
                "        WHERE usuario_nombre = 'Lucia'), (SELECT usuario_id\r\n",
                "        FROM Usuarios\r\n",
                "        WHERE usuario_nombre = 'Diego'), GETDATE()),\r\n",
                "    ((SELECT usuario_id\r\n",
                "        FROM Usuarios\r\n",
                "        WHERE usuario_nombre = 'Jose'), (SELECT usuario_id\r\n",
                "        FROM Usuarios\r\n",
                "        WHERE usuario_nombre = 'Diego'), GETDATE()),\r\n",
                "    ((SELECT usuario_id\r\n",
                "        FROM Usuarios\r\n",
                "        WHERE usuario_nombre = 'Jose'), (SELECT usuario_id\r\n",
                "        FROM Usuarios\r\n",
                "        WHERE usuario_nombre = 'Lucia'), GETDATE()),\r\n",
                "    ((SELECT usuario_id\r\n",
                "        FROM Usuarios\r\n",
                "        WHERE usuario_nombre = 'Jose'), (SELECT usuario_id\r\n",
                "        FROM Usuarios\r\n",
                "        WHERE usuario_nombre = 'Fabiola'), GETDATE()),\r\n",
                "    ((SELECT usuario_id\r\n",
                "        FROM Usuarios\r\n",
                "        WHERE usuario_nombre = 'Fabiola'), (SELECT usuario_id\r\n",
                "        FROM Usuarios\r\n",
                "        WHERE usuario_nombre = 'Diego'), GETDATE()),\r\n",
                "    ((SELECT usuario_id\r\n",
                "        FROM Usuarios\r\n",
                "        WHERE usuario_nombre = 'Fabiola'), (SELECT usuario_id\r\n",
                "        FROM Usuarios\r\n",
                "        WHERE usuario_nombre = 'Jose'), GETDATE()),\r\n",
                "    ((SELECT usuario_id\r\n",
                "        FROM Usuarios\r\n",
                "        WHERE usuario_nombre = 'Fabiola'), (SELECT usuario_id\r\n",
                "        FROM Usuarios\r\n",
                "        WHERE usuario_nombre = 'Diego'), GETDATE()),\r\n",
                "    ((SELECT usuario_id\r\n",
                "        FROM Usuarios\r\n",
                "        WHERE usuario_nombre = 'Jose'), (SELECT usuario_id\r\n",
                "        FROM Usuarios\r\n",
                "        WHERE usuario_nombre = 'Lucia'), GETDATE()),\r\n",
                "    ((SELECT usuario_id\r\n",
                "        FROM Usuarios\r\n",
                "        WHERE usuario_nombre = 'Edgar'), (SELECT usuario_id\r\n",
                "        FROM Usuarios\r\n",
                "        WHERE usuario_nombre = 'Diego'), GETDATE())\r\n",
                "\r\n",
                "\r\n",
                "\r\n",
                "\r\n",
                "INSERT INTO Rondas\r\n",
                "    (combate_id, bicho_uno, bicho_dos, ataque_uno, ataque_dos, nivel_daño_uno, nivel_daño_dos, ganador)\r\n",
                "VALUES\r\n",
                "    (58, (SELECT bicho_id\r\n",
                "        FROM\r\n",
                "            (SELECT\r\n",
                "                ROW_NUMBER() OVER(order by (select 1)) as row_number,\r\n",
                "                bicho_id\r\n",
                "            FROM Bichos\r\n",
                "            WHERE bicho_propietario = (SELECT usuario_id\r\n",
                "            FROM Usuarios\r\n",
                "            WHERE usuario_nombre = 'Diego')) AS Bichillos\r\n",
                "        WHERE row_number = 2), (SELECT bicho_id\r\n",
                "        FROM\r\n",
                "            (SELECT\r\n",
                "                ROW_NUMBER() OVER(order by (select 1)) as row_number,\r\n",
                "                bicho_id\r\n",
                "            FROM Bichos\r\n",
                "            WHERE bicho_propietario = (SELECT usuario_id\r\n",
                "            FROM Usuarios\r\n",
                "            WHERE usuario_nombre = 'Edgar')) AS Bichillos\r\n",
                "        WHERE row_number = 1),\r\n",
                "        7, 15, 86, 22,\r\n",
                "        (SELECT usuario_id\r\n",
                "        FROM Usuarios\r\n",
                "        WHERE usuario_nombre = 'Diego'))\r\n",
                ",\r\n",
                "    (78, (SELECT bicho_id\r\n",
                "        FROM\r\n",
                "            (SELECT\r\n",
                "                ROW_NUMBER() OVER(order by (select 1)) as row_number,\r\n",
                "                bicho_id\r\n",
                "            FROM Bichos\r\n",
                "            WHERE bicho_propietario = (SELECT usuario_id\r\n",
                "            FROM Usuarios\r\n",
                "            WHERE usuario_nombre = 'Edgar')) AS Bichillos\r\n",
                "        WHERE row_number = 3), (SELECT bicho_id\r\n",
                "        FROM\r\n",
                "            (SELECT\r\n",
                "                ROW_NUMBER() OVER(order by (select 1)) as row_number,\r\n",
                "                bicho_id\r\n",
                "            FROM Bichos\r\n",
                "            WHERE bicho_propietario = (SELECT usuario_id\r\n",
                "            FROM Usuarios\r\n",
                "            WHERE usuario_nombre = 'Jose')) AS Bichillos\r\n",
                "        WHERE row_number = 3),\r\n",
                "        13, 11, 24, 48,\r\n",
                "        (SELECT usuario_id\r\n",
                "        FROM Usuarios\r\n",
                "        WHERE usuario_nombre = 'Jose'))\r\n",
                ",\r\n",
                "    (68, (SELECT bicho_id\r\n",
                "        FROM\r\n",
                "            (SELECT\r\n",
                "                ROW_NUMBER() OVER(order by (select 1)) as row_number,\r\n",
                "                bicho_id\r\n",
                "            FROM Bichos\r\n",
                "            WHERE bicho_propietario = (SELECT usuario_id\r\n",
                "            FROM Usuarios\r\n",
                "            WHERE usuario_nombre = 'Jose')) AS Bichillos\r\n",
                "        WHERE row_number = 3), (SELECT bicho_id\r\n",
                "        FROM\r\n",
                "            (SELECT\r\n",
                "                ROW_NUMBER() OVER(order by (select 1)) as row_number,\r\n",
                "                bicho_id\r\n",
                "            FROM Bichos\r\n",
                "            WHERE bicho_propietario = (SELECT usuario_id\r\n",
                "            FROM Usuarios\r\n",
                "            WHERE usuario_nombre = 'Edgar')) AS Bichillos\r\n",
                "        WHERE row_number = 3),\r\n",
                "        7, 15, 79, 66,\r\n",
                "        (SELECT usuario_id\r\n",
                "        FROM Usuarios\r\n",
                "        WHERE usuario_nombre = 'Jose'))\r\n",
                ",\r\n",
                "    (1, (SELECT bicho_id\r\n",
                "        FROM\r\n",
                "            (SELECT\r\n",
                "                ROW_NUMBER() OVER(order by (select 1)) as row_number,\r\n",
                "                bicho_id\r\n",
                "            FROM Bichos\r\n",
                "            WHERE bicho_propietario = (SELECT usuario_id\r\n",
                "            FROM Usuarios\r\n",
                "            WHERE usuario_nombre = 'Fabiola')) AS Bichillos\r\n",
                "        WHERE row_number = 1), (SELECT bicho_id\r\n",
                "        FROM\r\n",
                "            (SELECT\r\n",
                "                ROW_NUMBER() OVER(order by (select 1)) as row_number,\r\n",
                "                bicho_id\r\n",
                "            FROM Bichos\r\n",
                "            WHERE bicho_propietario = (SELECT usuario_id\r\n",
                "            FROM Usuarios\r\n",
                "            WHERE usuario_nombre = 'Jose')) AS Bichillos\r\n",
                "        WHERE row_number = 3),\r\n",
                "        12, 11, 91, 62,\r\n",
                "        (SELECT usuario_id\r\n",
                "        FROM Usuarios\r\n",
                "        WHERE usuario_nombre = 'Fabiola'))\r\n",
                ",\r\n",
                "    (76, (SELECT bicho_id\r\n",
                "        FROM\r\n",
                "            (SELECT\r\n",
                "                ROW_NUMBER() OVER(order by (select 1)) as row_number,\r\n",
                "                bicho_id\r\n",
                "            FROM Bichos\r\n",
                "            WHERE bicho_propietario = (SELECT usuario_id\r\n",
                "            FROM Usuarios\r\n",
                "            WHERE usuario_nombre = 'Diego')) AS Bichillos\r\n",
                "        WHERE row_number = 3), (SELECT bicho_id\r\n",
                "        FROM\r\n",
                "            (SELECT\r\n",
                "                ROW_NUMBER() OVER(order by (select 1)) as row_number,\r\n",
                "                bicho_id\r\n",
                "            FROM Bichos\r\n",
                "            WHERE bicho_propietario = (SELECT usuario_id\r\n",
                "            FROM Usuarios\r\n",
                "            WHERE usuario_nombre = 'Jose')) AS Bichillos\r\n",
                "        WHERE row_number = 1),\r\n",
                "        8, 7, 53, 51,\r\n",
                "        (SELECT usuario_id\r\n",
                "        FROM Usuarios\r\n",
                "        WHERE usuario_nombre = 'Diego'))\r\n",
                ",\r\n",
                "    (96, (SELECT bicho_id\r\n",
                "        FROM\r\n",
                "            (SELECT\r\n",
                "                ROW_NUMBER() OVER(order by (select 1)) as row_number,\r\n",
                "                bicho_id\r\n",
                "            FROM Bichos\r\n",
                "            WHERE bicho_propietario = (SELECT usuario_id\r\n",
                "            FROM Usuarios\r\n",
                "            WHERE usuario_nombre = 'Fabiola')) AS Bichillos\r\n",
                "        WHERE row_number = 3), (SELECT bicho_id\r\n",
                "        FROM\r\n",
                "            (SELECT\r\n",
                "                ROW_NUMBER() OVER(order by (select 1)) as row_number,\r\n",
                "                bicho_id\r\n",
                "            FROM Bichos\r\n",
                "            WHERE bicho_propietario = (SELECT usuario_id\r\n",
                "            FROM Usuarios\r\n",
                "            WHERE usuario_nombre = 'Diego')) AS Bichillos\r\n",
                "        WHERE row_number = 3),\r\n",
                "        2, 1, 30, 1,\r\n",
                "        (SELECT usuario_id\r\n",
                "        FROM Usuarios\r\n",
                "        WHERE usuario_nombre = 'Fabiola'))\r\n",
                ",\r\n",
                "    (7, (SELECT bicho_id\r\n",
                "        FROM\r\n",
                "            (SELECT\r\n",
                "                ROW_NUMBER() OVER(order by (select 1)) as row_number,\r\n",
                "                bicho_id\r\n",
                "            FROM Bichos\r\n",
                "            WHERE bicho_propietario = (SELECT usuario_id\r\n",
                "            FROM Usuarios\r\n",
                "            WHERE usuario_nombre = 'Diego')) AS Bichillos\r\n",
                "        WHERE row_number = 2), (SELECT bicho_id\r\n",
                "        FROM\r\n",
                "            (SELECT\r\n",
                "                ROW_NUMBER() OVER(order by (select 1)) as row_number,\r\n",
                "                bicho_id\r\n",
                "            FROM Bichos\r\n",
                "            WHERE bicho_propietario = (SELECT usuario_id\r\n",
                "            FROM Usuarios\r\n",
                "            WHERE usuario_nombre = 'Fabiola')) AS Bichillos\r\n",
                "        WHERE row_number = 2),\r\n",
                "        12, 2, 72, 66,\r\n",
                "        (SELECT usuario_id\r\n",
                "        FROM Usuarios\r\n",
                "        WHERE usuario_nombre = 'Diego'))\r\n",
                ",\r\n",
                "    (10, (SELECT bicho_id\r\n",
                "        FROM\r\n",
                "            (SELECT\r\n",
                "                ROW_NUMBER() OVER(order by (select 1)) as row_number,\r\n",
                "                bicho_id\r\n",
                "            FROM Bichos\r\n",
                "            WHERE bicho_propietario = (SELECT usuario_id\r\n",
                "            FROM Usuarios\r\n",
                "            WHERE usuario_nombre = 'Edgar')) AS Bichillos\r\n",
                "        WHERE row_number = 1), (SELECT bicho_id\r\n",
                "        FROM\r\n",
                "            (SELECT\r\n",
                "                ROW_NUMBER() OVER(order by (select 1)) as row_number,\r\n",
                "                bicho_id\r\n",
                "            FROM Bichos\r\n",
                "            WHERE bicho_propietario = (SELECT usuario_id\r\n",
                "            FROM Usuarios\r\n",
                "            WHERE usuario_nombre = 'Fabiola')) AS Bichillos\r\n",
                "        WHERE row_number = 1),\r\n",
                "        5, 10, 20, 5,\r\n",
                "        (SELECT usuario_id\r\n",
                "        FROM Usuarios\r\n",
                "        WHERE usuario_nombre = 'Edgar'))\r\n",
                ",\r\n",
                "    (97, (SELECT bicho_id\r\n",
                "        FROM\r\n",
                "            (SELECT\r\n",
                "                ROW_NUMBER() OVER(order by (select 1)) as row_number,\r\n",
                "                bicho_id\r\n",
                "            FROM Bichos\r\n",
                "            WHERE bicho_propietario = (SELECT usuario_id\r\n",
                "            FROM Usuarios\r\n",
                "            WHERE usuario_nombre = 'Fabiola')) AS Bichillos\r\n",
                "        WHERE row_number = 2), (SELECT bicho_id\r\n",
                "        FROM\r\n",
                "            (SELECT\r\n",
                "                ROW_NUMBER() OVER(order by (select 1)) as row_number,\r\n",
                "                bicho_id\r\n",
                "            FROM Bichos\r\n",
                "            WHERE bicho_propietario = (SELECT usuario_id\r\n",
                "            FROM Usuarios\r\n",
                "            WHERE usuario_nombre = 'Jose')) AS Bichillos\r\n",
                "        WHERE row_number = 3),\r\n",
                "        16, 5, 42, 70,\r\n",
                "        (SELECT usuario_id\r\n",
                "        FROM Usuarios\r\n",
                "        WHERE usuario_nombre = 'Jose'))\r\n",
                ",\r\n",
                "    (88, (SELECT bicho_id\r\n",
                "        FROM\r\n",
                "            (SELECT\r\n",
                "                ROW_NUMBER() OVER(order by (select 1)) as row_number,\r\n",
                "                bicho_id\r\n",
                "            FROM Bichos\r\n",
                "            WHERE bicho_propietario = (SELECT usuario_id\r\n",
                "            FROM Usuarios\r\n",
                "            WHERE usuario_nombre = 'Fabiola')) AS Bichillos\r\n",
                "        WHERE row_number = 3), (SELECT bicho_id\r\n",
                "        FROM\r\n",
                "            (SELECT\r\n",
                "                ROW_NUMBER() OVER(order by (select 1)) as row_number,\r\n",
                "                bicho_id\r\n",
                "            FROM Bichos\r\n",
                "            WHERE bicho_propietario = (SELECT usuario_id\r\n",
                "            FROM Usuarios\r\n",
                "            WHERE usuario_nombre = 'Edgar')) AS Bichillos\r\n",
                "        WHERE row_number = 3),\r\n",
                "        16, 10, 99, 63,\r\n",
                "        (SELECT usuario_id\r\n",
                "        FROM Usuarios\r\n",
                "        WHERE usuario_nombre = 'Fabiola'))\r\n",
                ",\r\n",
                "    (69, (SELECT bicho_id\r\n",
                "        FROM\r\n",
                "            (SELECT\r\n",
                "                ROW_NUMBER() OVER(order by (select 1)) as row_number,\r\n",
                "                bicho_id\r\n",
                "            FROM Bichos\r\n",
                "            WHERE bicho_propietario = (SELECT usuario_id\r\n",
                "            FROM Usuarios\r\n",
                "            WHERE usuario_nombre = 'Lucia')) AS Bichillos\r\n",
                "        WHERE row_number = 3), (SELECT bicho_id\r\n",
                "        FROM\r\n",
                "            (SELECT\r\n",
                "                ROW_NUMBER() OVER(order by (select 1)) as row_number,\r\n",
                "                bicho_id\r\n",
                "            FROM Bichos\r\n",
                "            WHERE bicho_propietario = (SELECT usuario_id\r\n",
                "            FROM Usuarios\r\n",
                "            WHERE usuario_nombre = 'Edgar')) AS Bichillos\r\n",
                "        WHERE row_number = 2),\r\n",
                "        12, 11, 21, 43,\r\n",
                "        (SELECT usuario_id\r\n",
                "        FROM Usuarios\r\n",
                "        WHERE usuario_nombre = 'Edgar'))\r\n",
                ",\r\n",
                "    (27, (SELECT bicho_id\r\n",
                "        FROM\r\n",
                "            (SELECT\r\n",
                "                ROW_NUMBER() OVER(order by (select 1)) as row_number,\r\n",
                "                bicho_id\r\n",
                "            FROM Bichos\r\n",
                "            WHERE bicho_propietario = (SELECT usuario_id\r\n",
                "            FROM Usuarios\r\n",
                "            WHERE usuario_nombre = 'Edgar')) AS Bichillos\r\n",
                "        WHERE row_number = 2), (SELECT bicho_id\r\n",
                "        FROM\r\n",
                "            (SELECT\r\n",
                "                ROW_NUMBER() OVER(order by (select 1)) as row_number,\r\n",
                "                bicho_id\r\n",
                "            FROM Bichos\r\n",
                "            WHERE bicho_propietario = (SELECT usuario_id\r\n",
                "            FROM Usuarios\r\n",
                "            WHERE usuario_nombre = 'Fabiola')) AS Bichillos\r\n",
                "        WHERE row_number = 1),\r\n",
                "        9, 14, 31, 56,\r\n",
                "        (SELECT usuario_id\r\n",
                "        FROM Usuarios\r\n",
                "        WHERE usuario_nombre = 'Fabiola'))\r\n",
                ",\r\n",
                "    (89, (SELECT bicho_id\r\n",
                "        FROM\r\n",
                "            (SELECT\r\n",
                "                ROW_NUMBER() OVER(order by (select 1)) as row_number,\r\n",
                "                bicho_id\r\n",
                "            FROM Bichos\r\n",
                "            WHERE bicho_propietario = (SELECT usuario_id\r\n",
                "            FROM Usuarios\r\n",
                "            WHERE usuario_nombre = 'Fabiola')) AS Bichillos\r\n",
                "        WHERE row_number = 2), (SELECT bicho_id\r\n",
                "        FROM\r\n",
                "            (SELECT\r\n",
                "                ROW_NUMBER() OVER(order by (select 1)) as row_number,\r\n",
                "                bicho_id\r\n",
                "            FROM Bichos\r\n",
                "            WHERE bicho_propietario = (SELECT usuario_id\r\n",
                "            FROM Usuarios\r\n",
                "            WHERE usuario_nombre = 'Jose')) AS Bichillos\r\n",
                "        WHERE row_number = 2),\r\n",
                "        11, 11, 74, 73,\r\n",
                "        (SELECT usuario_id\r\n",
                "        FROM Usuarios\r\n",
                "        WHERE usuario_nombre = 'Fabiola'))\r\n",
                ",\r\n",
                "    (23, (SELECT bicho_id\r\n",
                "        FROM\r\n",
                "            (SELECT\r\n",
                "                ROW_NUMBER() OVER(order by (select 1)) as row_number,\r\n",
                "                bicho_id\r\n",
                "            FROM Bichos\r\n",
                "            WHERE bicho_propietario = (SELECT usuario_id\r\n",
                "            FROM Usuarios\r\n",
                "            WHERE usuario_nombre = 'Fabiola')) AS Bichillos\r\n",
                "        WHERE row_number = 2), (SELECT bicho_id\r\n",
                "        FROM\r\n",
                "            (SELECT\r\n",
                "                ROW_NUMBER() OVER(order by (select 1)) as row_number,\r\n",
                "                bicho_id\r\n",
                "            FROM Bichos\r\n",
                "            WHERE bicho_propietario = (SELECT usuario_id\r\n",
                "            FROM Usuarios\r\n",
                "            WHERE usuario_nombre = 'Jose')) AS Bichillos\r\n",
                "        WHERE row_number = 1),\r\n",
                "        7, 16, 84, 73,\r\n",
                "        (SELECT usuario_id\r\n",
                "        FROM Usuarios\r\n",
                "        WHERE usuario_nombre = 'Fabiola'))\r\n",
                ",\r\n",
                "    (20, (SELECT bicho_id\r\n",
                "        FROM\r\n",
                "            (SELECT\r\n",
                "                ROW_NUMBER() OVER(order by (select 1)) as row_number,\r\n",
                "                bicho_id\r\n",
                "            FROM Bichos\r\n",
                "            WHERE bicho_propietario = (SELECT usuario_id\r\n",
                "            FROM Usuarios\r\n",
                "            WHERE usuario_nombre = 'Diego')) AS Bichillos\r\n",
                "        WHERE row_number = 2), (SELECT bicho_id\r\n",
                "        FROM\r\n",
                "            (SELECT\r\n",
                "                ROW_NUMBER() OVER(order by (select 1)) as row_number,\r\n",
                "                bicho_id\r\n",
                "            FROM Bichos\r\n",
                "            WHERE bicho_propietario = (SELECT usuario_id\r\n",
                "            FROM Usuarios\r\n",
                "            WHERE usuario_nombre = 'Jose')) AS Bichillos\r\n",
                "        WHERE row_number = 1),\r\n",
                "        8, 9, 72, 13,\r\n",
                "        (SELECT usuario_id\r\n",
                "        FROM Usuarios\r\n",
                "        WHERE usuario_nombre = 'Diego'))\r\n",
                ",\r\n",
                "    (55, (SELECT bicho_id\r\n",
                "        FROM\r\n",
                "            (SELECT\r\n",
                "                ROW_NUMBER() OVER(order by (select 1)) as row_number,\r\n",
                "                bicho_id\r\n",
                "            FROM Bichos\r\n",
                "            WHERE bicho_propietario = (SELECT usuario_id\r\n",
                "            FROM Usuarios\r\n",
                "            WHERE usuario_nombre = 'Edgar')) AS Bichillos\r\n",
                "        WHERE row_number = 1), (SELECT bicho_id\r\n",
                "        FROM\r\n",
                "            (SELECT\r\n",
                "                ROW_NUMBER() OVER(order by (select 1)) as row_number,\r\n",
                "                bicho_id\r\n",
                "            FROM Bichos\r\n",
                "            WHERE bicho_propietario = (SELECT usuario_id\r\n",
                "            FROM Usuarios\r\n",
                "            WHERE usuario_nombre = 'Lucia')) AS Bichillos\r\n",
                "        WHERE row_number = 1),\r\n",
                "        5, 10, 9, 54,\r\n",
                "        (SELECT usuario_id\r\n",
                "        FROM Usuarios\r\n",
                "        WHERE usuario_nombre = 'Lucia'))\r\n",
                ",\r\n",
                "    (37, (SELECT bicho_id\r\n",
                "        FROM\r\n",
                "            (SELECT\r\n",
                "                ROW_NUMBER() OVER(order by (select 1)) as row_number,\r\n",
                "                bicho_id\r\n",
                "            FROM Bichos\r\n",
                "            WHERE bicho_propietario = (SELECT usuario_id\r\n",
                "            FROM Usuarios\r\n",
                "            WHERE usuario_nombre = 'Edgar')) AS Bichillos\r\n",
                "        WHERE row_number = 2), (SELECT bicho_id\r\n",
                "        FROM\r\n",
                "            (SELECT\r\n",
                "                ROW_NUMBER() OVER(order by (select 1)) as row_number,\r\n",
                "                bicho_id\r\n",
                "            FROM Bichos\r\n",
                "            WHERE bicho_propietario = (SELECT usuario_id\r\n",
                "            FROM Usuarios\r\n",
                "            WHERE usuario_nombre = 'Fabiola')) AS Bichillos\r\n",
                "        WHERE row_number = 3),\r\n",
                "        7, 14, 69, 64,\r\n",
                "        (SELECT usuario_id\r\n",
                "        FROM Usuarios\r\n",
                "        WHERE usuario_nombre = 'Edgar'))\r\n",
                ",\r\n",
                "    (33, (SELECT bicho_id\r\n",
                "        FROM\r\n",
                "            (SELECT\r\n",
                "                ROW_NUMBER() OVER(order by (select 1)) as row_number,\r\n",
                "                bicho_id\r\n",
                "            FROM Bichos\r\n",
                "            WHERE bicho_propietario = (SELECT usuario_id\r\n",
                "            FROM Usuarios\r\n",
                "            WHERE usuario_nombre = 'Diego')) AS Bichillos\r\n",
                "        WHERE row_number = 1), (SELECT bicho_id\r\n",
                "        FROM\r\n",
                "            (SELECT\r\n",
                "                ROW_NUMBER() OVER(order by (select 1)) as row_number,\r\n",
                "                bicho_id\r\n",
                "            FROM Bichos\r\n",
                "            WHERE bicho_propietario = (SELECT usuario_id\r\n",
                "            FROM Usuarios\r\n",
                "            WHERE usuario_nombre = 'Lucia')) AS Bichillos\r\n",
                "        WHERE row_number = 1),\r\n",
                "        10, 3, 51, 17,\r\n",
                "        (SELECT usuario_id\r\n",
                "        FROM Usuarios\r\n",
                "        WHERE usuario_nombre = 'Diego'))\r\n",
                ",\r\n",
                "    (15, (SELECT bicho_id\r\n",
                "        FROM\r\n",
                "            (SELECT\r\n",
                "                ROW_NUMBER() OVER(order by (select 1)) as row_number,\r\n",
                "                bicho_id\r\n",
                "            FROM Bichos\r\n",
                "            WHERE bicho_propietario = (SELECT usuario_id\r\n",
                "            FROM Usuarios\r\n",
                "            WHERE usuario_nombre = 'Edgar')) AS Bichillos\r\n",
                "        WHERE row_number = 1), (SELECT bicho_id\r\n",
                "        FROM\r\n",
                "            (SELECT\r\n",
                "                ROW_NUMBER() OVER(order by (select 1)) as row_number,\r\n",
                "                bicho_id\r\n",
                "            FROM Bichos\r\n",
                "            WHERE bicho_propietario = (SELECT usuario_id\r\n",
                "            FROM Usuarios\r\n",
                "            WHERE usuario_nombre = 'Diego')) AS Bichillos\r\n",
                "        WHERE row_number = 2),\r\n",
                "        6, 9, 97, 96,\r\n",
                "        (SELECT usuario_id\r\n",
                "        FROM Usuarios\r\n",
                "        WHERE usuario_nombre = 'Edgar'))\r\n",
                ",\r\n",
                "    (46, (SELECT bicho_id\r\n",
                "        FROM\r\n",
                "            (SELECT\r\n",
                "                ROW_NUMBER() OVER(order by (select 1)) as row_number,\r\n",
                "                bicho_id\r\n",
                "            FROM Bichos\r\n",
                "            WHERE bicho_propietario = (SELECT usuario_id\r\n",
                "            FROM Usuarios\r\n",
                "            WHERE usuario_nombre = 'Jose')) AS Bichillos\r\n",
                "        WHERE row_number = 3), (SELECT bicho_id\r\n",
                "        FROM\r\n",
                "            (SELECT\r\n",
                "                ROW_NUMBER() OVER(order by (select 1)) as row_number,\r\n",
                "                bicho_id\r\n",
                "            FROM Bichos\r\n",
                "            WHERE bicho_propietario = (SELECT usuario_id\r\n",
                "            FROM Usuarios\r\n",
                "            WHERE usuario_nombre = 'Fabiola')) AS Bichillos\r\n",
                "        WHERE row_number = 3),\r\n",
                "        3, 13, 9, 55,\r\n",
                "        (SELECT usuario_id\r\n",
                "        FROM Usuarios\r\n",
                "        WHERE usuario_nombre = 'Fabiola'))\r\n",
                ",\r\n",
                "    (35, (SELECT bicho_id\r\n",
                "        FROM\r\n",
                "            (SELECT\r\n",
                "                ROW_NUMBER() OVER(order by (select 1)) as row_number,\r\n",
                "                bicho_id\r\n",
                "            FROM Bichos\r\n",
                "            WHERE bicho_propietario = (SELECT usuario_id\r\n",
                "            FROM Usuarios\r\n",
                "            WHERE usuario_nombre = 'Lucia')) AS Bichillos\r\n",
                "        WHERE row_number = 2), (SELECT bicho_id\r\n",
                "        FROM\r\n",
                "            (SELECT\r\n",
                "                ROW_NUMBER() OVER(order by (select 1)) as row_number,\r\n",
                "                bicho_id\r\n",
                "            FROM Bichos\r\n",
                "            WHERE bicho_propietario = (SELECT usuario_id\r\n",
                "            FROM Usuarios\r\n",
                "            WHERE usuario_nombre = 'Diego')) AS Bichillos\r\n",
                "        WHERE row_number = 2),\r\n",
                "        4, 12, 39, 23,\r\n",
                "        (SELECT usuario_id\r\n",
                "        FROM Usuarios\r\n",
                "        WHERE usuario_nombre = 'Lucia'))\r\n",
                ",\r\n",
                "    (89, (SELECT bicho_id\r\n",
                "        FROM\r\n",
                "            (SELECT\r\n",
                "                ROW_NUMBER() OVER(order by (select 1)) as row_number,\r\n",
                "                bicho_id\r\n",
                "            FROM Bichos\r\n",
                "            WHERE bicho_propietario = (SELECT usuario_id\r\n",
                "            FROM Usuarios\r\n",
                "            WHERE usuario_nombre = 'Fabiola')) AS Bichillos\r\n",
                "        WHERE row_number = 2), (SELECT bicho_id\r\n",
                "        FROM\r\n",
                "            (SELECT\r\n",
                "                ROW_NUMBER() OVER(order by (select 1)) as row_number,\r\n",
                "                bicho_id\r\n",
                "            FROM Bichos\r\n",
                "            WHERE bicho_propietario = (SELECT usuario_id\r\n",
                "            FROM Usuarios\r\n",
                "            WHERE usuario_nombre = 'Jose')) AS Bichillos\r\n",
                "        WHERE row_number = 1),\r\n",
                "        4, 11, 59, 63,\r\n",
                "        (SELECT usuario_id\r\n",
                "        FROM Usuarios\r\n",
                "        WHERE usuario_nombre = 'Jose'))\r\n",
                ",\r\n",
                "    (21, (SELECT bicho_id\r\n",
                "        FROM\r\n",
                "            (SELECT\r\n",
                "                ROW_NUMBER() OVER(order by (select 1)) as row_number,\r\n",
                "                bicho_id\r\n",
                "            FROM Bichos\r\n",
                "            WHERE bicho_propietario = (SELECT usuario_id\r\n",
                "            FROM Usuarios\r\n",
                "            WHERE usuario_nombre = 'Diego')) AS Bichillos\r\n",
                "        WHERE row_number = 3), (SELECT bicho_id\r\n",
                "        FROM\r\n",
                "            (SELECT\r\n",
                "                ROW_NUMBER() OVER(order by (select 1)) as row_number,\r\n",
                "                bicho_id\r\n",
                "            FROM Bichos\r\n",
                "            WHERE bicho_propietario = (SELECT usuario_id\r\n",
                "            FROM Usuarios\r\n",
                "            WHERE usuario_nombre = 'Lucia')) AS Bichillos\r\n",
                "        WHERE row_number = 1),\r\n",
                "        13, 3, 20, 84,\r\n",
                "        (SELECT usuario_id\r\n",
                "        FROM Usuarios\r\n",
                "        WHERE usuario_nombre = 'Lucia'))\r\n",
                ",\r\n",
                "    (59, (SELECT bicho_id\r\n",
                "        FROM\r\n",
                "            (SELECT\r\n",
                "                ROW_NUMBER() OVER(order by (select 1)) as row_number,\r\n",
                "                bicho_id\r\n",
                "            FROM Bichos\r\n",
                "            WHERE bicho_propietario = (SELECT usuario_id\r\n",
                "            FROM Usuarios\r\n",
                "            WHERE usuario_nombre = 'Diego')) AS Bichillos\r\n",
                "        WHERE row_number = 2), (SELECT bicho_id\r\n",
                "        FROM\r\n",
                "            (SELECT\r\n",
                "                ROW_NUMBER() OVER(order by (select 1)) as row_number,\r\n",
                "                bicho_id\r\n",
                "            FROM Bichos\r\n",
                "            WHERE bicho_propietario = (SELECT usuario_id\r\n",
                "            FROM Usuarios\r\n",
                "            WHERE usuario_nombre = 'Jose')) AS Bichillos\r\n",
                "        WHERE row_number = 1),\r\n",
                "        3, 3, 42, 90,\r\n",
                "        (SELECT usuario_id\r\n",
                "        FROM Usuarios\r\n",
                "        WHERE usuario_nombre = 'Jose'))\r\n",
                ",\r\n",
                "    (89, (SELECT bicho_id\r\n",
                "        FROM\r\n",
                "            (SELECT\r\n",
                "                ROW_NUMBER() OVER(order by (select 1)) as row_number,\r\n",
                "                bicho_id\r\n",
                "            FROM Bichos\r\n",
                "            WHERE bicho_propietario = (SELECT usuario_id\r\n",
                "            FROM Usuarios\r\n",
                "            WHERE usuario_nombre = 'Fabiola')) AS Bichillos\r\n",
                "        WHERE row_number = 3), (SELECT bicho_id\r\n",
                "        FROM\r\n",
                "            (SELECT\r\n",
                "                ROW_NUMBER() OVER(order by (select 1)) as row_number,\r\n",
                "                bicho_id\r\n",
                "            FROM Bichos\r\n",
                "            WHERE bicho_propietario = (SELECT usuario_id\r\n",
                "            FROM Usuarios\r\n",
                "            WHERE usuario_nombre = 'Jose')) AS Bichillos\r\n",
                "        WHERE row_number = 2),\r\n",
                "        3, 1, 33, 63,\r\n",
                "        (SELECT usuario_id\r\n",
                "        FROM Usuarios\r\n",
                "        WHERE usuario_nombre = 'Jose'))\r\n",
                ",\r\n",
                "    (3, (SELECT bicho_id\r\n",
                "        FROM\r\n",
                "            (SELECT\r\n",
                "                ROW_NUMBER() OVER(order by (select 1)) as row_number,\r\n",
                "                bicho_id\r\n",
                "            FROM Bichos\r\n",
                "            WHERE bicho_propietario = (SELECT usuario_id\r\n",
                "            FROM Usuarios\r\n",
                "            WHERE usuario_nombre = 'Lucia')) AS Bichillos\r\n",
                "        WHERE row_number = 3), (SELECT bicho_id\r\n",
                "        FROM\r\n",
                "            (SELECT\r\n",
                "                ROW_NUMBER() OVER(order by (select 1)) as row_number,\r\n",
                "                bicho_id\r\n",
                "            FROM Bichos\r\n",
                "            WHERE bicho_propietario = (SELECT usuario_id\r\n",
                "            FROM Usuarios\r\n",
                "            WHERE usuario_nombre = 'Diego')) AS Bichillos\r\n",
                "        WHERE row_number = 3),\r\n",
                "        8, 7, 82, 2,\r\n",
                "        (SELECT usuario_id\r\n",
                "        FROM Usuarios\r\n",
                "        WHERE usuario_nombre = 'Lucia'))\r\n",
                ",\r\n",
                "    (63, (SELECT bicho_id\r\n",
                "        FROM\r\n",
                "            (SELECT\r\n",
                "                ROW_NUMBER() OVER(order by (select 1)) as row_number,\r\n",
                "                bicho_id\r\n",
                "            FROM Bichos\r\n",
                "            WHERE bicho_propietario = (SELECT usuario_id\r\n",
                "            FROM Usuarios\r\n",
                "            WHERE usuario_nombre = 'Lucia')) AS Bichillos\r\n",
                "        WHERE row_number = 2), (SELECT bicho_id\r\n",
                "        FROM\r\n",
                "            (SELECT\r\n",
                "                ROW_NUMBER() OVER(order by (select 1)) as row_number,\r\n",
                "                bicho_id\r\n",
                "            FROM Bichos\r\n",
                "            WHERE bicho_propietario = (SELECT usuario_id\r\n",
                "            FROM Usuarios\r\n",
                "            WHERE usuario_nombre = 'Jose')) AS Bichillos\r\n",
                "        WHERE row_number = 1),\r\n",
                "        2, 10, 97, 6,\r\n",
                "        (SELECT usuario_id\r\n",
                "        FROM Usuarios\r\n",
                "        WHERE usuario_nombre = 'Lucia'))\r\n",
                ",\r\n",
                "    (12, (SELECT bicho_id\r\n",
                "        FROM\r\n",
                "            (SELECT\r\n",
                "                ROW_NUMBER() OVER(order by (select 1)) as row_number,\r\n",
                "                bicho_id\r\n",
                "            FROM Bichos\r\n",
                "            WHERE bicho_propietario = (SELECT usuario_id\r\n",
                "            FROM Usuarios\r\n",
                "            WHERE usuario_nombre = 'Lucia')) AS Bichillos\r\n",
                "        WHERE row_number = 1), (SELECT bicho_id\r\n",
                "        FROM\r\n",
                "            (SELECT\r\n",
                "                ROW_NUMBER() OVER(order by (select 1)) as row_number,\r\n",
                "                bicho_id\r\n",
                "            FROM Bichos\r\n",
                "            WHERE bicho_propietario = (SELECT usuario_id\r\n",
                "            FROM Usuarios\r\n",
                "            WHERE usuario_nombre = 'Edgar')) AS Bichillos\r\n",
                "        WHERE row_number = 1),\r\n",
                "        10, 4, 2, 22,\r\n",
                "        (SELECT usuario_id\r\n",
                "        FROM Usuarios\r\n",
                "        WHERE usuario_nombre = 'Edgar'))\r\n",
                ",\r\n",
                "    (83, (SELECT bicho_id\r\n",
                "        FROM\r\n",
                "            (SELECT\r\n",
                "                ROW_NUMBER() OVER(order by (select 1)) as row_number,\r\n",
                "                bicho_id\r\n",
                "            FROM Bichos\r\n",
                "            WHERE bicho_propietario = (SELECT usuario_id\r\n",
                "            FROM Usuarios\r\n",
                "            WHERE usuario_nombre = 'Lucia')) AS Bichillos\r\n",
                "        WHERE row_number = 3), (SELECT bicho_id\r\n",
                "        FROM\r\n",
                "            (SELECT\r\n",
                "                ROW_NUMBER() OVER(order by (select 1)) as row_number,\r\n",
                "                bicho_id\r\n",
                "            FROM Bichos\r\n",
                "            WHERE bicho_propietario = (SELECT usuario_id\r\n",
                "            FROM Usuarios\r\n",
                "            WHERE usuario_nombre = 'Jose')) AS Bichillos\r\n",
                "        WHERE row_number = 1),\r\n",
                "        14, 5, 29, 69,\r\n",
                "        (SELECT usuario_id\r\n",
                "        FROM Usuarios\r\n",
                "        WHERE usuario_nombre = 'Jose'))\r\n",
                ",\r\n",
                "    (93, (SELECT bicho_id\r\n",
                "        FROM\r\n",
                "            (SELECT\r\n",
                "                ROW_NUMBER() OVER(order by (select 1)) as row_number,\r\n",
                "                bicho_id\r\n",
                "            FROM Bichos\r\n",
                "            WHERE bicho_propietario = (SELECT usuario_id\r\n",
                "            FROM Usuarios\r\n",
                "            WHERE usuario_nombre = 'Jose')) AS Bichillos\r\n",
                "        WHERE row_number = 1), (SELECT bicho_id\r\n",
                "        FROM\r\n",
                "            (SELECT\r\n",
                "                ROW_NUMBER() OVER(order by (select 1)) as row_number,\r\n",
                "                bicho_id\r\n",
                "            FROM Bichos\r\n",
                "            WHERE bicho_propietario = (SELECT usuario_id\r\n",
                "            FROM Usuarios\r\n",
                "            WHERE usuario_nombre = 'Diego')) AS Bichillos\r\n",
                "        WHERE row_number = 3),\r\n",
                "        8, 7, 51, 90,\r\n",
                "        (SELECT usuario_id\r\n",
                "        FROM Usuarios\r\n",
                "        WHERE usuario_nombre = 'Diego'))\r\n",
                ",\r\n",
                "    (51, (SELECT bicho_id\r\n",
                "        FROM\r\n",
                "            (SELECT\r\n",
                "                ROW_NUMBER() OVER(order by (select 1)) as row_number,\r\n",
                "                bicho_id\r\n",
                "            FROM Bichos\r\n",
                "            WHERE bicho_propietario = (SELECT usuario_id\r\n",
                "            FROM Usuarios\r\n",
                "            WHERE usuario_nombre = 'Diego')) AS Bichillos\r\n",
                "        WHERE row_number = 2), (SELECT bicho_id\r\n",
                "        FROM\r\n",
                "            (SELECT\r\n",
                "                ROW_NUMBER() OVER(order by (select 1)) as row_number,\r\n",
                "                bicho_id\r\n",
                "            FROM Bichos\r\n",
                "            WHERE bicho_propietario = (SELECT usuario_id\r\n",
                "            FROM Usuarios\r\n",
                "            WHERE usuario_nombre = 'Jose')) AS Bichillos\r\n",
                "        WHERE row_number = 1),\r\n",
                "        1, 6, 23, 74,\r\n",
                "        (SELECT usuario_id\r\n",
                "        FROM Usuarios\r\n",
                "        WHERE usuario_nombre = 'Jose'))\r\n",
                ",\r\n",
                "    (26, (SELECT bicho_id\r\n",
                "        FROM\r\n",
                "            (SELECT\r\n",
                "                ROW_NUMBER() OVER(order by (select 1)) as row_number,\r\n",
                "                bicho_id\r\n",
                "            FROM Bichos\r\n",
                "            WHERE bicho_propietario = (SELECT usuario_id\r\n",
                "            FROM Usuarios\r\n",
                "            WHERE usuario_nombre = 'Diego')) AS Bichillos\r\n",
                "        WHERE row_number = 2), (SELECT bicho_id\r\n",
                "        FROM\r\n",
                "            (SELECT\r\n",
                "                ROW_NUMBER() OVER(order by (select 1)) as row_number,\r\n",
                "                bicho_id\r\n",
                "            FROM Bichos\r\n",
                "            WHERE bicho_propietario = (SELECT usuario_id\r\n",
                "            FROM Usuarios\r\n",
                "            WHERE usuario_nombre = 'Fabiola')) AS Bichillos\r\n",
                "        WHERE row_number = 1),\r\n",
                "        14, 8, 78, 95,\r\n",
                "        (SELECT usuario_id\r\n",
                "        FROM Usuarios\r\n",
                "        WHERE usuario_nombre = 'Fabiola'))\r\n",
                ",\r\n",
                "    (43, (SELECT bicho_id\r\n",
                "        FROM\r\n",
                "            (SELECT\r\n",
                "                ROW_NUMBER() OVER(order by (select 1)) as row_number,\r\n",
                "                bicho_id\r\n",
                "            FROM Bichos\r\n",
                "            WHERE bicho_propietario = (SELECT usuario_id\r\n",
                "            FROM Usuarios\r\n",
                "            WHERE usuario_nombre = 'Jose')) AS Bichillos\r\n",
                "        WHERE row_number = 3), (SELECT bicho_id\r\n",
                "        FROM\r\n",
                "            (SELECT\r\n",
                "                ROW_NUMBER() OVER(order by (select 1)) as row_number,\r\n",
                "                bicho_id\r\n",
                "            FROM Bichos\r\n",
                "            WHERE bicho_propietario = (SELECT usuario_id\r\n",
                "            FROM Usuarios\r\n",
                "            WHERE usuario_nombre = 'Edgar')) AS Bichillos\r\n",
                "        WHERE row_number = 1),\r\n",
                "        14, 7, 24, 48,\r\n",
                "        (SELECT usuario_id\r\n",
                "        FROM Usuarios\r\n",
                "        WHERE usuario_nombre = 'Edgar'))\r\n",
                ",\r\n",
                "    (64, (SELECT bicho_id\r\n",
                "        FROM\r\n",
                "            (SELECT\r\n",
                "                ROW_NUMBER() OVER(order by (select 1)) as row_number,\r\n",
                "                bicho_id\r\n",
                "            FROM Bichos\r\n",
                "            WHERE bicho_propietario = (SELECT usuario_id\r\n",
                "            FROM Usuarios\r\n",
                "            WHERE usuario_nombre = 'Diego')) AS Bichillos\r\n",
                "        WHERE row_number = 3), (SELECT bicho_id\r\n",
                "        FROM\r\n",
                "            (SELECT\r\n",
                "                ROW_NUMBER() OVER(order by (select 1)) as row_number,\r\n",
                "                bicho_id\r\n",
                "            FROM Bichos\r\n",
                "            WHERE bicho_propietario = (SELECT usuario_id\r\n",
                "            FROM Usuarios\r\n",
                "            WHERE usuario_nombre = 'Lucia')) AS Bichillos\r\n",
                "        WHERE row_number = 3),\r\n",
                "        6, 14, 52, 47,\r\n",
                "        (SELECT usuario_id\r\n",
                "        FROM Usuarios\r\n",
                "        WHERE usuario_nombre = 'Diego'))\r\n",
                ",\r\n",
                "    (90, (SELECT bicho_id\r\n",
                "        FROM\r\n",
                "            (SELECT\r\n",
                "                ROW_NUMBER() OVER(order by (select 1)) as row_number,\r\n",
                "                bicho_id\r\n",
                "            FROM Bichos\r\n",
                "            WHERE bicho_propietario = (SELECT usuario_id\r\n",
                "            FROM Usuarios\r\n",
                "            WHERE usuario_nombre = 'Fabiola')) AS Bichillos\r\n",
                "        WHERE row_number = 3), (SELECT bicho_id\r\n",
                "        FROM\r\n",
                "            (SELECT\r\n",
                "                ROW_NUMBER() OVER(order by (select 1)) as row_number,\r\n",
                "                bicho_id\r\n",
                "            FROM Bichos\r\n",
                "            WHERE bicho_propietario = (SELECT usuario_id\r\n",
                "            FROM Usuarios\r\n",
                "            WHERE usuario_nombre = 'Diego')) AS Bichillos\r\n",
                "        WHERE row_number = 2),\r\n",
                "        7, 6, 7, 93,\r\n",
                "        (SELECT usuario_id\r\n",
                "        FROM Usuarios\r\n",
                "        WHERE usuario_nombre = 'Diego'))\r\n",
                ",\r\n",
                "    (68, (SELECT bicho_id\r\n",
                "        FROM\r\n",
                "            (SELECT\r\n",
                "                ROW_NUMBER() OVER(order by (select 1)) as row_number,\r\n",
                "                bicho_id\r\n",
                "            FROM Bichos\r\n",
                "            WHERE bicho_propietario = (SELECT usuario_id\r\n",
                "            FROM Usuarios\r\n",
                "            WHERE usuario_nombre = 'Jose')) AS Bichillos\r\n",
                "        WHERE row_number = 2), (SELECT bicho_id\r\n",
                "        FROM\r\n",
                "            (SELECT\r\n",
                "                ROW_NUMBER() OVER(order by (select 1)) as row_number,\r\n",
                "                bicho_id\r\n",
                "            FROM Bichos\r\n",
                "            WHERE bicho_propietario = (SELECT usuario_id\r\n",
                "            FROM Usuarios\r\n",
                "            WHERE usuario_nombre = 'Edgar')) AS Bichillos\r\n",
                "        WHERE row_number = 1),\r\n",
                "        15, 16, 59, 1,\r\n",
                "        (SELECT usuario_id\r\n",
                "        FROM Usuarios\r\n",
                "        WHERE usuario_nombre = 'Jose'))\r\n",
                ",\r\n",
                "    (20, (SELECT bicho_id\r\n",
                "        FROM\r\n",
                "            (SELECT\r\n",
                "                ROW_NUMBER() OVER(order by (select 1)) as row_number,\r\n",
                "                bicho_id\r\n",
                "            FROM Bichos\r\n",
                "            WHERE bicho_propietario = (SELECT usuario_id\r\n",
                "            FROM Usuarios\r\n",
                "            WHERE usuario_nombre = 'Diego')) AS Bichillos\r\n",
                "        WHERE row_number = 2), (SELECT bicho_id\r\n",
                "        FROM\r\n",
                "            (SELECT\r\n",
                "                ROW_NUMBER() OVER(order by (select 1)) as row_number,\r\n",
                "                bicho_id\r\n",
                "            FROM Bichos\r\n",
                "            WHERE bicho_propietario = (SELECT usuario_id\r\n",
                "            FROM Usuarios\r\n",
                "            WHERE usuario_nombre = 'Jose')) AS Bichillos\r\n",
                "        WHERE row_number = 3),\r\n",
                "        1, 11, 6, 73,\r\n",
                "        (SELECT usuario_id\r\n",
                "        FROM Usuarios\r\n",
                "        WHERE usuario_nombre = 'Jose'))\r\n",
                ",\r\n",
                "    (11, (SELECT bicho_id\r\n",
                "        FROM\r\n",
                "            (SELECT\r\n",
                "                ROW_NUMBER() OVER(order by (select 1)) as row_number,\r\n",
                "                bicho_id\r\n",
                "            FROM Bichos\r\n",
                "            WHERE bicho_propietario = (SELECT usuario_id\r\n",
                "            FROM Usuarios\r\n",
                "            WHERE usuario_nombre = 'Diego')) AS Bichillos\r\n",
                "        WHERE row_number = 3), (SELECT bicho_id\r\n",
                "        FROM\r\n",
                "            (SELECT\r\n",
                "                ROW_NUMBER() OVER(order by (select 1)) as row_number,\r\n",
                "                bicho_id\r\n",
                "            FROM Bichos\r\n",
                "            WHERE bicho_propietario = (SELECT usuario_id\r\n",
                "            FROM Usuarios\r\n",
                "            WHERE usuario_nombre = 'Lucia')) AS Bichillos\r\n",
                "        WHERE row_number = 3),\r\n",
                "        2, 16, 70, 43,\r\n",
                "        (SELECT usuario_id\r\n",
                "        FROM Usuarios\r\n",
                "        WHERE usuario_nombre = 'Diego'))\r\n",
                ",\r\n",
                "    (22, (SELECT bicho_id\r\n",
                "        FROM\r\n",
                "            (SELECT\r\n",
                "                ROW_NUMBER() OVER(order by (select 1)) as row_number,\r\n",
                "                bicho_id\r\n",
                "            FROM Bichos\r\n",
                "            WHERE bicho_propietario = (SELECT usuario_id\r\n",
                "            FROM Usuarios\r\n",
                "            WHERE usuario_nombre = 'Fabiola')) AS Bichillos\r\n",
                "        WHERE row_number = 3), (SELECT bicho_id\r\n",
                "        FROM\r\n",
                "            (SELECT\r\n",
                "                ROW_NUMBER() OVER(order by (select 1)) as row_number,\r\n",
                "                bicho_id\r\n",
                "            FROM Bichos\r\n",
                "            WHERE bicho_propietario = (SELECT usuario_id\r\n",
                "            FROM Usuarios\r\n",
                "            WHERE usuario_nombre = 'Jose')) AS Bichillos\r\n",
                "        WHERE row_number = 2),\r\n",
                "        4, 10, 84, 66,\r\n",
                "        (SELECT usuario_id\r\n",
                "        FROM Usuarios\r\n",
                "        WHERE usuario_nombre = 'Fabiola'))\r\n",
                ",\r\n",
                "    (78, (SELECT bicho_id\r\n",
                "        FROM\r\n",
                "            (SELECT\r\n",
                "                ROW_NUMBER() OVER(order by (select 1)) as row_number,\r\n",
                "                bicho_id\r\n",
                "            FROM Bichos\r\n",
                "            WHERE bicho_propietario = (SELECT usuario_id\r\n",
                "            FROM Usuarios\r\n",
                "            WHERE usuario_nombre = 'Edgar')) AS Bichillos\r\n",
                "        WHERE row_number = 3), (SELECT bicho_id\r\n",
                "        FROM\r\n",
                "            (SELECT\r\n",
                "                ROW_NUMBER() OVER(order by (select 1)) as row_number,\r\n",
                "                bicho_id\r\n",
                "            FROM Bichos\r\n",
                "            WHERE bicho_propietario = (SELECT usuario_id\r\n",
                "            FROM Usuarios\r\n",
                "            WHERE usuario_nombre = 'Jose')) AS Bichillos\r\n",
                "        WHERE row_number = 2),\r\n",
                "        9, 8, 29, 55,\r\n",
                "        (SELECT usuario_id\r\n",
                "        FROM Usuarios\r\n",
                "        WHERE usuario_nombre = 'Jose'))\r\n",
                ",\r\n",
                "    (39, (SELECT bicho_id\r\n",
                "        FROM\r\n",
                "            (SELECT\r\n",
                "                ROW_NUMBER() OVER(order by (select 1)) as row_number,\r\n",
                "                bicho_id\r\n",
                "            FROM Bichos\r\n",
                "            WHERE bicho_propietario = (SELECT usuario_id\r\n",
                "            FROM Usuarios\r\n",
                "            WHERE usuario_nombre = 'Diego')) AS Bichillos\r\n",
                "        WHERE row_number = 3), (SELECT bicho_id\r\n",
                "        FROM\r\n",
                "            (SELECT\r\n",
                "                ROW_NUMBER() OVER(order by (select 1)) as row_number,\r\n",
                "                bicho_id\r\n",
                "            FROM Bichos\r\n",
                "            WHERE bicho_propietario = (SELECT usuario_id\r\n",
                "            FROM Usuarios\r\n",
                "            WHERE usuario_nombre = 'Jose')) AS Bichillos\r\n",
                "        WHERE row_number = 1),\r\n",
                "        1, 2, 26, 29,\r\n",
                "        (SELECT usuario_id\r\n",
                "        FROM Usuarios\r\n",
                "        WHERE usuario_nombre = 'Jose'))\r\n",
                ",\r\n",
                "    (97, (SELECT bicho_id\r\n",
                "        FROM\r\n",
                "            (SELECT\r\n",
                "                ROW_NUMBER() OVER(order by (select 1)) as row_number,\r\n",
                "                bicho_id\r\n",
                "            FROM Bichos\r\n",
                "            WHERE bicho_propietario = (SELECT usuario_id\r\n",
                "            FROM Usuarios\r\n",
                "            WHERE usuario_nombre = 'Fabiola')) AS Bichillos\r\n",
                "        WHERE row_number = 2), (SELECT bicho_id\r\n",
                "        FROM\r\n",
                "            (SELECT\r\n",
                "                ROW_NUMBER() OVER(order by (select 1)) as row_number,\r\n",
                "                bicho_id\r\n",
                "            FROM Bichos\r\n",
                "            WHERE bicho_propietario = (SELECT usuario_id\r\n",
                "            FROM Usuarios\r\n",
                "            WHERE usuario_nombre = 'Jose')) AS Bichillos\r\n",
                "        WHERE row_number = 2),\r\n",
                "        8, 11, 11, 62,\r\n",
                "        (SELECT usuario_id\r\n",
                "        FROM Usuarios\r\n",
                "        WHERE usuario_nombre = 'Jose'))\r\n",
                ",\r\n",
                "    (25, (SELECT bicho_id\r\n",
                "        FROM\r\n",
                "            (SELECT\r\n",
                "                ROW_NUMBER() OVER(order by (select 1)) as row_number,\r\n",
                "                bicho_id\r\n",
                "            FROM Bichos\r\n",
                "            WHERE bicho_propietario = (SELECT usuario_id\r\n",
                "            FROM Usuarios\r\n",
                "            WHERE usuario_nombre = 'Diego')) AS Bichillos\r\n",
                "        WHERE row_number = 2), (SELECT bicho_id\r\n",
                "        FROM\r\n",
                "            (SELECT\r\n",
                "                ROW_NUMBER() OVER(order by (select 1)) as row_number,\r\n",
                "                bicho_id\r\n",
                "            FROM Bichos\r\n",
                "            WHERE bicho_propietario = (SELECT usuario_id\r\n",
                "            FROM Usuarios\r\n",
                "            WHERE usuario_nombre = 'Fabiola')) AS Bichillos\r\n",
                "        WHERE row_number = 3),\r\n",
                "        16, 6, 36, 25,\r\n",
                "        (SELECT usuario_id\r\n",
                "        FROM Usuarios\r\n",
                "        WHERE usuario_nombre = 'Diego'))\r\n",
                ",\r\n",
                "    (38, (SELECT bicho_id\r\n",
                "        FROM\r\n",
                "            (SELECT\r\n",
                "                ROW_NUMBER() OVER(order by (select 1)) as row_number,\r\n",
                "                bicho_id\r\n",
                "            FROM Bichos\r\n",
                "            WHERE bicho_propietario = (SELECT usuario_id\r\n",
                "            FROM Usuarios\r\n",
                "            WHERE usuario_nombre = 'Lucia')) AS Bichillos\r\n",
                "        WHERE row_number = 2), (SELECT bicho_id\r\n",
                "        FROM\r\n",
                "            (SELECT\r\n",
                "                ROW_NUMBER() OVER(order by (select 1)) as row_number,\r\n",
                "                bicho_id\r\n",
                "            FROM Bichos\r\n",
                "            WHERE bicho_propietario = (SELECT usuario_id\r\n",
                "            FROM Usuarios\r\n",
                "            WHERE usuario_nombre = 'Fabiola')) AS Bichillos\r\n",
                "        WHERE row_number = 3),\r\n",
                "        6, 4, 82, 95,\r\n",
                "        (SELECT usuario_id\r\n",
                "        FROM Usuarios\r\n",
                "        WHERE usuario_nombre = 'Fabiola'))\r\n",
                ",\r\n",
                "    (86, (SELECT bicho_id\r\n",
                "        FROM\r\n",
                "            (SELECT\r\n",
                "                ROW_NUMBER() OVER(order by (select 1)) as row_number,\r\n",
                "                bicho_id\r\n",
                "            FROM Bichos\r\n",
                "            WHERE bicho_propietario = (SELECT usuario_id\r\n",
                "            FROM Usuarios\r\n",
                "            WHERE usuario_nombre = 'Lucia')) AS Bichillos\r\n",
                "        WHERE row_number = 3), (SELECT bicho_id\r\n",
                "        FROM\r\n",
                "            (SELECT\r\n",
                "                ROW_NUMBER() OVER(order by (select 1)) as row_number,\r\n",
                "                bicho_id\r\n",
                "            FROM Bichos\r\n",
                "            WHERE bicho_propietario = (SELECT usuario_id\r\n",
                "            FROM Usuarios\r\n",
                "            WHERE usuario_nombre = 'Jose')) AS Bichillos\r\n",
                "        WHERE row_number = 1),\r\n",
                "        7, 16, 97, 55,\r\n",
                "        (SELECT usuario_id\r\n",
                "        FROM Usuarios\r\n",
                "        WHERE usuario_nombre = 'Lucia'))\r\n",
                ",\r\n",
                "    (72, (SELECT bicho_id\r\n",
                "        FROM\r\n",
                "            (SELECT\r\n",
                "                ROW_NUMBER() OVER(order by (select 1)) as row_number,\r\n",
                "                bicho_id\r\n",
                "            FROM Bichos\r\n",
                "            WHERE bicho_propietario = (SELECT usuario_id\r\n",
                "            FROM Usuarios\r\n",
                "            WHERE usuario_nombre = 'Edgar')) AS Bichillos\r\n",
                "        WHERE row_number = 3), (SELECT bicho_id\r\n",
                "        FROM\r\n",
                "            (SELECT\r\n",
                "                ROW_NUMBER() OVER(order by (select 1)) as row_number,\r\n",
                "                bicho_id\r\n",
                "            FROM Bichos\r\n",
                "            WHERE bicho_propietario = (SELECT usuario_id\r\n",
                "            FROM Usuarios\r\n",
                "            WHERE usuario_nombre = 'Fabiola')) AS Bichillos\r\n",
                "        WHERE row_number = 3),\r\n",
                "        12, 11, 5, 87,\r\n",
                "        (SELECT usuario_id\r\n",
                "        FROM Usuarios\r\n",
                "        WHERE usuario_nombre = 'Fabiola'))\r\n",
                ",\r\n",
                "    (43, (SELECT bicho_id\r\n",
                "        FROM\r\n",
                "            (SELECT\r\n",
                "                ROW_NUMBER() OVER(order by (select 1)) as row_number,\r\n",
                "                bicho_id\r\n",
                "            FROM Bichos\r\n",
                "            WHERE bicho_propietario = (SELECT usuario_id\r\n",
                "            FROM Usuarios\r\n",
                "            WHERE usuario_nombre = 'Jose')) AS Bichillos\r\n",
                "        WHERE row_number = 2), (SELECT bicho_id\r\n",
                "        FROM\r\n",
                "            (SELECT\r\n",
                "                ROW_NUMBER() OVER(order by (select 1)) as row_number,\r\n",
                "                bicho_id\r\n",
                "            FROM Bichos\r\n",
                "            WHERE bicho_propietario = (SELECT usuario_id\r\n",
                "            FROM Usuarios\r\n",
                "            WHERE usuario_nombre = 'Edgar')) AS Bichillos\r\n",
                "        WHERE row_number = 2),\r\n",
                "        5, 1, 89, 17,\r\n",
                "        (SELECT usuario_id\r\n",
                "        FROM Usuarios\r\n",
                "        WHERE usuario_nombre = 'Jose'))\r\n",
                ",\r\n",
                "    (42, (SELECT bicho_id\r\n",
                "        FROM\r\n",
                "            (SELECT\r\n",
                "                ROW_NUMBER() OVER(order by (select 1)) as row_number,\r\n",
                "                bicho_id\r\n",
                "            FROM Bichos\r\n",
                "            WHERE bicho_propietario = (SELECT usuario_id\r\n",
                "            FROM Usuarios\r\n",
                "            WHERE usuario_nombre = 'Fabiola')) AS Bichillos\r\n",
                "        WHERE row_number = 1), (SELECT bicho_id\r\n",
                "        FROM\r\n",
                "            (SELECT\r\n",
                "                ROW_NUMBER() OVER(order by (select 1)) as row_number,\r\n",
                "                bicho_id\r\n",
                "            FROM Bichos\r\n",
                "            WHERE bicho_propietario = (SELECT usuario_id\r\n",
                "            FROM Usuarios\r\n",
                "            WHERE usuario_nombre = 'Edgar')) AS Bichillos\r\n",
                "        WHERE row_number = 2),\r\n",
                "        14, 15, 75, 82,\r\n",
                "        (SELECT usuario_id\r\n",
                "        FROM Usuarios\r\n",
                "        WHERE usuario_nombre = 'Edgar'))\r\n",
                ",\r\n",
                "    (98, (SELECT bicho_id\r\n",
                "        FROM\r\n",
                "            (SELECT\r\n",
                "                ROW_NUMBER() OVER(order by (select 1)) as row_number,\r\n",
                "                bicho_id\r\n",
                "            FROM Bichos\r\n",
                "            WHERE bicho_propietario = (SELECT usuario_id\r\n",
                "            FROM Usuarios\r\n",
                "            WHERE usuario_nombre = 'Fabiola')) AS Bichillos\r\n",
                "        WHERE row_number = 3), (SELECT bicho_id\r\n",
                "        FROM\r\n",
                "            (SELECT\r\n",
                "                ROW_NUMBER() OVER(order by (select 1)) as row_number,\r\n",
                "                bicho_id\r\n",
                "            FROM Bichos\r\n",
                "            WHERE bicho_propietario = (SELECT usuario_id\r\n",
                "            FROM Usuarios\r\n",
                "            WHERE usuario_nombre = 'Diego')) AS Bichillos\r\n",
                "        WHERE row_number = 2),\r\n",
                "        3, 3, 86, 41,\r\n",
                "        (SELECT usuario_id\r\n",
                "        FROM Usuarios\r\n",
                "        WHERE usuario_nombre = 'Fabiola'))\r\n",
                ",\r\n",
                "    (87, (SELECT bicho_id\r\n",
                "        FROM\r\n",
                "            (SELECT\r\n",
                "                ROW_NUMBER() OVER(order by (select 1)) as row_number,\r\n",
                "                bicho_id\r\n",
                "            FROM Bichos\r\n",
                "            WHERE bicho_propietario = (SELECT usuario_id\r\n",
                "            FROM Usuarios\r\n",
                "            WHERE usuario_nombre = 'Lucia')) AS Bichillos\r\n",
                "        WHERE row_number = 2), (SELECT bicho_id\r\n",
                "        FROM\r\n",
                "            (SELECT\r\n",
                "                ROW_NUMBER() OVER(order by (select 1)) as row_number,\r\n",
                "                bicho_id\r\n",
                "            FROM Bichos\r\n",
                "            WHERE bicho_propietario = (SELECT usuario_id\r\n",
                "            FROM Usuarios\r\n",
                "            WHERE usuario_nombre = 'Fabiola')) AS Bichillos\r\n",
                "        WHERE row_number = 2),\r\n",
                "        11, 16, 14, 87,\r\n",
                "        (SELECT usuario_id\r\n",
                "        FROM Usuarios\r\n",
                "        WHERE usuario_nombre = 'Fabiola'))\r\n",
                ",\r\n",
                "    (46, (SELECT bicho_id\r\n",
                "        FROM\r\n",
                "            (SELECT\r\n",
                "                ROW_NUMBER() OVER(order by (select 1)) as row_number,\r\n",
                "                bicho_id\r\n",
                "            FROM Bichos\r\n",
                "            WHERE bicho_propietario = (SELECT usuario_id\r\n",
                "            FROM Usuarios\r\n",
                "            WHERE usuario_nombre = 'Jose')) AS Bichillos\r\n",
                "        WHERE row_number = 2), (SELECT bicho_id\r\n",
                "        FROM\r\n",
                "            (SELECT\r\n",
                "                ROW_NUMBER() OVER(order by (select 1)) as row_number,\r\n",
                "                bicho_id\r\n",
                "            FROM Bichos\r\n",
                "            WHERE bicho_propietario = (SELECT usuario_id\r\n",
                "            FROM Usuarios\r\n",
                "            WHERE usuario_nombre = 'Fabiola')) AS Bichillos\r\n",
                "        WHERE row_number = 2),\r\n",
                "        3, 10, 57, 69,\r\n",
                "        (SELECT usuario_id\r\n",
                "        FROM Usuarios\r\n",
                "        WHERE usuario_nombre = 'Fabiola'))\r\n",
                ",\r\n",
                "    (5, (SELECT bicho_id\r\n",
                "        FROM\r\n",
                "            (SELECT\r\n",
                "                ROW_NUMBER() OVER(order by (select 1)) as row_number,\r\n",
                "                bicho_id\r\n",
                "            FROM Bichos\r\n",
                "            WHERE bicho_propietario = (SELECT usuario_id\r\n",
                "            FROM Usuarios\r\n",
                "            WHERE usuario_nombre = 'Lucia')) AS Bichillos\r\n",
                "        WHERE row_number = 3), (SELECT bicho_id\r\n",
                "        FROM\r\n",
                "            (SELECT\r\n",
                "                ROW_NUMBER() OVER(order by (select 1)) as row_number,\r\n",
                "                bicho_id\r\n",
                "            FROM Bichos\r\n",
                "            WHERE bicho_propietario = (SELECT usuario_id\r\n",
                "            FROM Usuarios\r\n",
                "            WHERE usuario_nombre = 'Jose')) AS Bichillos\r\n",
                "        WHERE row_number = 2),\r\n",
                "        15, 4, 47, 72,\r\n",
                "        (SELECT usuario_id\r\n",
                "        FROM Usuarios\r\n",
                "        WHERE usuario_nombre = 'Jose'))\r\n",
                ",\r\n",
                "    (77, (SELECT bicho_id\r\n",
                "        FROM\r\n",
                "            (SELECT\r\n",
                "                ROW_NUMBER() OVER(order by (select 1)) as row_number,\r\n",
                "                bicho_id\r\n",
                "            FROM Bichos\r\n",
                "            WHERE bicho_propietario = (SELECT usuario_id\r\n",
                "            FROM Usuarios\r\n",
                "            WHERE usuario_nombre = 'Fabiola')) AS Bichillos\r\n",
                "        WHERE row_number = 3), (SELECT bicho_id\r\n",
                "        FROM\r\n",
                "            (SELECT\r\n",
                "                ROW_NUMBER() OVER(order by (select 1)) as row_number,\r\n",
                "                bicho_id\r\n",
                "            FROM Bichos\r\n",
                "            WHERE bicho_propietario = (SELECT usuario_id\r\n",
                "            FROM Usuarios\r\n",
                "            WHERE usuario_nombre = 'Edgar')) AS Bichillos\r\n",
                "        WHERE row_number = 1),\r\n",
                "        8, 14, 84, 46,\r\n",
                "        (SELECT usuario_id\r\n",
                "        FROM Usuarios\r\n",
                "        WHERE usuario_nombre = 'Fabiola'))\r\n",
                ",\r\n",
                "    (61, (SELECT bicho_id\r\n",
                "        FROM\r\n",
                "            (SELECT\r\n",
                "                ROW_NUMBER() OVER(order by (select 1)) as row_number,\r\n",
                "                bicho_id\r\n",
                "            FROM Bichos\r\n",
                "            WHERE bicho_propietario = (SELECT usuario_id\r\n",
                "            FROM Usuarios\r\n",
                "            WHERE usuario_nombre = 'Diego')) AS Bichillos\r\n",
                "        WHERE row_number = 2), (SELECT bicho_id\r\n",
                "        FROM\r\n",
                "            (SELECT\r\n",
                "                ROW_NUMBER() OVER(order by (select 1)) as row_number,\r\n",
                "                bicho_id\r\n",
                "            FROM Bichos\r\n",
                "            WHERE bicho_propietario = (SELECT usuario_id\r\n",
                "            FROM Usuarios\r\n",
                "            WHERE usuario_nombre = 'Fabiola')) AS Bichillos\r\n",
                "        WHERE row_number = 2),\r\n",
                "        16, 14, 0, 74,\r\n",
                "        (SELECT usuario_id\r\n",
                "        FROM Usuarios\r\n",
                "        WHERE usuario_nombre = 'Fabiola'))\r\n",
                ",\r\n",
                "    (56, (SELECT bicho_id\r\n",
                "        FROM\r\n",
                "            (SELECT\r\n",
                "                ROW_NUMBER() OVER(order by (select 1)) as row_number,\r\n",
                "                bicho_id\r\n",
                "            FROM Bichos\r\n",
                "            WHERE bicho_propietario = (SELECT usuario_id\r\n",
                "            FROM Usuarios\r\n",
                "            WHERE usuario_nombre = 'Lucia')) AS Bichillos\r\n",
                "        WHERE row_number = 2), (SELECT bicho_id\r\n",
                "        FROM\r\n",
                "            (SELECT\r\n",
                "                ROW_NUMBER() OVER(order by (select 1)) as row_number,\r\n",
                "                bicho_id\r\n",
                "            FROM Bichos\r\n",
                "            WHERE bicho_propietario = (SELECT usuario_id\r\n",
                "            FROM Usuarios\r\n",
                "            WHERE usuario_nombre = 'Fabiola')) AS Bichillos\r\n",
                "        WHERE row_number = 2),\r\n",
                "        6, 2, 85, 98,\r\n",
                "        (SELECT usuario_id\r\n",
                "        FROM Usuarios\r\n",
                "        WHERE usuario_nombre = 'Fabiola'))\r\n",
                ",\r\n",
                "    (73, (SELECT bicho_id\r\n",
                "        FROM\r\n",
                "            (SELECT\r\n",
                "                ROW_NUMBER() OVER(order by (select 1)) as row_number,\r\n",
                "                bicho_id\r\n",
                "            FROM Bichos\r\n",
                "            WHERE bicho_propietario = (SELECT usuario_id\r\n",
                "            FROM Usuarios\r\n",
                "            WHERE usuario_nombre = 'Edgar')) AS Bichillos\r\n",
                "        WHERE row_number = 1), (SELECT bicho_id\r\n",
                "        FROM\r\n",
                "            (SELECT\r\n",
                "                ROW_NUMBER() OVER(order by (select 1)) as row_number,\r\n",
                "                bicho_id\r\n",
                "            FROM Bichos\r\n",
                "            WHERE bicho_propietario = (SELECT usuario_id\r\n",
                "            FROM Usuarios\r\n",
                "            WHERE usuario_nombre = 'Jose')) AS Bichillos\r\n",
                "        WHERE row_number = 3),\r\n",
                "        5, 8, 69, 25,\r\n",
                "        (SELECT usuario_id\r\n",
                "        FROM Usuarios\r\n",
                "        WHERE usuario_nombre = 'Edgar'))\r\n",
                ",\r\n",
                "    (88, (SELECT bicho_id\r\n",
                "        FROM\r\n",
                "            (SELECT\r\n",
                "                ROW_NUMBER() OVER(order by (select 1)) as row_number,\r\n",
                "                bicho_id\r\n",
                "            FROM Bichos\r\n",
                "            WHERE bicho_propietario = (SELECT usuario_id\r\n",
                "            FROM Usuarios\r\n",
                "            WHERE usuario_nombre = 'Fabiola')) AS Bichillos\r\n",
                "        WHERE row_number = 3), (SELECT bicho_id\r\n",
                "        FROM\r\n",
                "            (SELECT\r\n",
                "                ROW_NUMBER() OVER(order by (select 1)) as row_number,\r\n",
                "                bicho_id\r\n",
                "            FROM Bichos\r\n",
                "            WHERE bicho_propietario = (SELECT usuario_id\r\n",
                "            FROM Usuarios\r\n",
                "            WHERE usuario_nombre = 'Edgar')) AS Bichillos\r\n",
                "        WHERE row_number = 1),\r\n",
                "        12, 13, 78, 30,\r\n",
                "        (SELECT usuario_id\r\n",
                "        FROM Usuarios\r\n",
                "        WHERE usuario_nombre = 'Fabiola'))\r\n",
                ",\r\n",
                "    (80, (SELECT bicho_id\r\n",
                "        FROM\r\n",
                "            (SELECT\r\n",
                "                ROW_NUMBER() OVER(order by (select 1)) as row_number,\r\n",
                "                bicho_id\r\n",
                "            FROM Bichos\r\n",
                "            WHERE bicho_propietario = (SELECT usuario_id\r\n",
                "            FROM Usuarios\r\n",
                "            WHERE usuario_nombre = 'Lucia')) AS Bichillos\r\n",
                "        WHERE row_number = 2), (SELECT bicho_id\r\n",
                "        FROM\r\n",
                "            (SELECT\r\n",
                "                ROW_NUMBER() OVER(order by (select 1)) as row_number,\r\n",
                "                bicho_id\r\n",
                "            FROM Bichos\r\n",
                "            WHERE bicho_propietario = (SELECT usuario_id\r\n",
                "            FROM Usuarios\r\n",
                "            WHERE usuario_nombre = 'Edgar')) AS Bichillos\r\n",
                "        WHERE row_number = 1),\r\n",
                "        6, 10, 91, 67,\r\n",
                "        (SELECT usuario_id\r\n",
                "        FROM Usuarios\r\n",
                "        WHERE usuario_nombre = 'Lucia'))\r\n",
                ",\r\n",
                "    (1, (SELECT bicho_id\r\n",
                "        FROM\r\n",
                "            (SELECT\r\n",
                "                ROW_NUMBER() OVER(order by (select 1)) as row_number,\r\n",
                "                bicho_id\r\n",
                "            FROM Bichos\r\n",
                "            WHERE bicho_propietario = (SELECT usuario_id\r\n",
                "            FROM Usuarios\r\n",
                "            WHERE usuario_nombre = 'Fabiola')) AS Bichillos\r\n",
                "        WHERE row_number = 1), (SELECT bicho_id\r\n",
                "        FROM\r\n",
                "            (SELECT\r\n",
                "                ROW_NUMBER() OVER(order by (select 1)) as row_number,\r\n",
                "                bicho_id\r\n",
                "            FROM Bichos\r\n",
                "            WHERE bicho_propietario = (SELECT usuario_id\r\n",
                "            FROM Usuarios\r\n",
                "            WHERE usuario_nombre = 'Jose')) AS Bichillos\r\n",
                "        WHERE row_number = 3),\r\n",
                "        7, 16, 56, 56,\r\n",
                "        (SELECT usuario_id\r\n",
                "        FROM Usuarios\r\n",
                "        WHERE usuario_nombre = 'Jose'))\r\n",
                ",\r\n",
                "    (75, (SELECT bicho_id\r\n",
                "        FROM\r\n",
                "            (SELECT\r\n",
                "                ROW_NUMBER() OVER(order by (select 1)) as row_number,\r\n",
                "                bicho_id\r\n",
                "            FROM Bichos\r\n",
                "            WHERE bicho_propietario = (SELECT usuario_id\r\n",
                "            FROM Usuarios\r\n",
                "            WHERE usuario_nombre = 'Fabiola')) AS Bichillos\r\n",
                "        WHERE row_number = 3), (SELECT bicho_id\r\n",
                "        FROM\r\n",
                "            (SELECT\r\n",
                "                ROW_NUMBER() OVER(order by (select 1)) as row_number,\r\n",
                "                bicho_id\r\n",
                "            FROM Bichos\r\n",
                "            WHERE bicho_propietario = (SELECT usuario_id\r\n",
                "            FROM Usuarios\r\n",
                "            WHERE usuario_nombre = 'Lucia')) AS Bichillos\r\n",
                "        WHERE row_number = 1),\r\n",
                "        15, 14, 13, 6,\r\n",
                "        (SELECT usuario_id\r\n",
                "        FROM Usuarios\r\n",
                "        WHERE usuario_nombre = 'Fabiola'))\r\n",
                ",\r\n",
                "    (48, (SELECT bicho_id\r\n",
                "        FROM\r\n",
                "            (SELECT\r\n",
                "                ROW_NUMBER() OVER(order by (select 1)) as row_number,\r\n",
                "                bicho_id\r\n",
                "            FROM Bichos\r\n",
                "            WHERE bicho_propietario = (SELECT usuario_id\r\n",
                "            FROM Usuarios\r\n",
                "            WHERE usuario_nombre = 'Fabiola')) AS Bichillos\r\n",
                "        WHERE row_number = 1), (SELECT bicho_id\r\n",
                "        FROM\r\n",
                "            (SELECT\r\n",
                "                ROW_NUMBER() OVER(order by (select 1)) as row_number,\r\n",
                "                bicho_id\r\n",
                "            FROM Bichos\r\n",
                "            WHERE bicho_propietario = (SELECT usuario_id\r\n",
                "            FROM Usuarios\r\n",
                "            WHERE usuario_nombre = 'Lucia')) AS Bichillos\r\n",
                "        WHERE row_number = 2),\r\n",
                "        16, 14, 39, 14,\r\n",
                "        (SELECT usuario_id\r\n",
                "        FROM Usuarios\r\n",
                "        WHERE usuario_nombre = 'Fabiola'))\r\n",
                ",\r\n",
                "    (81, (SELECT bicho_id\r\n",
                "        FROM\r\n",
                "            (SELECT\r\n",
                "                ROW_NUMBER() OVER(order by (select 1)) as row_number,\r\n",
                "                bicho_id\r\n",
                "            FROM Bichos\r\n",
                "            WHERE bicho_propietario = (SELECT usuario_id\r\n",
                "            FROM Usuarios\r\n",
                "            WHERE usuario_nombre = 'Edgar')) AS Bichillos\r\n",
                "        WHERE row_number = 1), (SELECT bicho_id\r\n",
                "        FROM\r\n",
                "            (SELECT\r\n",
                "                ROW_NUMBER() OVER(order by (select 1)) as row_number,\r\n",
                "                bicho_id\r\n",
                "            FROM Bichos\r\n",
                "            WHERE bicho_propietario = (SELECT usuario_id\r\n",
                "            FROM Usuarios\r\n",
                "            WHERE usuario_nombre = 'Diego')) AS Bichillos\r\n",
                "        WHERE row_number = 1),\r\n",
                "        9, 4, 49, 12,\r\n",
                "        (SELECT usuario_id\r\n",
                "        FROM Usuarios\r\n",
                "        WHERE usuario_nombre = 'Edgar'))\r\n",
                ",\r\n",
                "    (92, (SELECT bicho_id\r\n",
                "        FROM\r\n",
                "            (SELECT\r\n",
                "                ROW_NUMBER() OVER(order by (select 1)) as row_number,\r\n",
                "                bicho_id\r\n",
                "            FROM Bichos\r\n",
                "            WHERE bicho_propietario = (SELECT usuario_id\r\n",
                "            FROM Usuarios\r\n",
                "            WHERE usuario_nombre = 'Lucia')) AS Bichillos\r\n",
                "        WHERE row_number = 1), (SELECT bicho_id\r\n",
                "        FROM\r\n",
                "            (SELECT\r\n",
                "                ROW_NUMBER() OVER(order by (select 1)) as row_number,\r\n",
                "                bicho_id\r\n",
                "            FROM Bichos\r\n",
                "            WHERE bicho_propietario = (SELECT usuario_id\r\n",
                "            FROM Usuarios\r\n",
                "            WHERE usuario_nombre = 'Diego')) AS Bichillos\r\n",
                "        WHERE row_number = 1),\r\n",
                "        13, 3, 5, 33,\r\n",
                "        (SELECT usuario_id\r\n",
                "        FROM Usuarios\r\n",
                "        WHERE usuario_nombre = 'Diego'))\r\n",
                ",\r\n",
                "    (97, (SELECT bicho_id\r\n",
                "        FROM\r\n",
                "            (SELECT\r\n",
                "                ROW_NUMBER() OVER(order by (select 1)) as row_number,\r\n",
                "                bicho_id\r\n",
                "            FROM Bichos\r\n",
                "            WHERE bicho_propietario = (SELECT usuario_id\r\n",
                "            FROM Usuarios\r\n",
                "            WHERE usuario_nombre = 'Fabiola')) AS Bichillos\r\n",
                "        WHERE row_number = 2), (SELECT bicho_id\r\n",
                "        FROM\r\n",
                "            (SELECT\r\n",
                "                ROW_NUMBER() OVER(order by (select 1)) as row_number,\r\n",
                "                bicho_id\r\n",
                "            FROM Bichos\r\n",
                "            WHERE bicho_propietario = (SELECT usuario_id\r\n",
                "            FROM Usuarios\r\n",
                "            WHERE usuario_nombre = 'Jose')) AS Bichillos\r\n",
                "        WHERE row_number = 2),\r\n",
                "        13, 12, 75, 79,\r\n",
                "        (SELECT usuario_id\r\n",
                "        FROM Usuarios\r\n",
                "        WHERE usuario_nombre = 'Jose'))\r\n",
                ",\r\n",
                "    (36, (SELECT bicho_id\r\n",
                "        FROM\r\n",
                "            (SELECT\r\n",
                "                ROW_NUMBER() OVER(order by (select 1)) as row_number,\r\n",
                "                bicho_id\r\n",
                "            FROM Bichos\r\n",
                "            WHERE bicho_propietario = (SELECT usuario_id\r\n",
                "            FROM Usuarios\r\n",
                "            WHERE usuario_nombre = 'Jose')) AS Bichillos\r\n",
                "        WHERE row_number = 3), (SELECT bicho_id\r\n",
                "        FROM\r\n",
                "            (SELECT\r\n",
                "                ROW_NUMBER() OVER(order by (select 1)) as row_number,\r\n",
                "                bicho_id\r\n",
                "            FROM Bichos\r\n",
                "            WHERE bicho_propietario = (SELECT usuario_id\r\n",
                "            FROM Usuarios\r\n",
                "            WHERE usuario_nombre = 'Diego')) AS Bichillos\r\n",
                "        WHERE row_number = 3),\r\n",
                "        6, 9, 94, 58,\r\n",
                "        (SELECT usuario_id\r\n",
                "        FROM Usuarios\r\n",
                "        WHERE usuario_nombre = 'Jose'))\r\n",
                ",\r\n",
                "    (54, (SELECT bicho_id\r\n",
                "        FROM\r\n",
                "            (SELECT\r\n",
                "                ROW_NUMBER() OVER(order by (select 1)) as row_number,\r\n",
                "                bicho_id\r\n",
                "            FROM Bichos\r\n",
                "            WHERE bicho_propietario = (SELECT usuario_id\r\n",
                "            FROM Usuarios\r\n",
                "            WHERE usuario_nombre = 'Lucia')) AS Bichillos\r\n",
                "        WHERE row_number = 2), (SELECT bicho_id\r\n",
                "        FROM\r\n",
                "            (SELECT\r\n",
                "                ROW_NUMBER() OVER(order by (select 1)) as row_number,\r\n",
                "                bicho_id\r\n",
                "            FROM Bichos\r\n",
                "            WHERE bicho_propietario = (SELECT usuario_id\r\n",
                "            FROM Usuarios\r\n",
                "            WHERE usuario_nombre = 'Fabiola')) AS Bichillos\r\n",
                "        WHERE row_number = 3),\r\n",
                "        12, 12, 78, 55,\r\n",
                "        (SELECT usuario_id\r\n",
                "        FROM Usuarios\r\n",
                "        WHERE usuario_nombre = 'Lucia'))\r\n",
                ",\r\n",
                "    (4, (SELECT bicho_id\r\n",
                "        FROM\r\n",
                "            (SELECT\r\n",
                "                ROW_NUMBER() OVER(order by (select 1)) as row_number,\r\n",
                "                bicho_id\r\n",
                "            FROM Bichos\r\n",
                "            WHERE bicho_propietario = (SELECT usuario_id\r\n",
                "            FROM Usuarios\r\n",
                "            WHERE usuario_nombre = 'Diego')) AS Bichillos\r\n",
                "        WHERE row_number = 1), (SELECT bicho_id\r\n",
                "        FROM\r\n",
                "            (SELECT\r\n",
                "                ROW_NUMBER() OVER(order by (select 1)) as row_number,\r\n",
                "                bicho_id\r\n",
                "            FROM Bichos\r\n",
                "            WHERE bicho_propietario = (SELECT usuario_id\r\n",
                "            FROM Usuarios\r\n",
                "            WHERE usuario_nombre = 'Fabiola')) AS Bichillos\r\n",
                "        WHERE row_number = 1),\r\n",
                "        2, 14, 83, 98,\r\n",
                "        (SELECT usuario_id\r\n",
                "        FROM Usuarios\r\n",
                "        WHERE usuario_nombre = 'Fabiola'))\r\n",
                ",\r\n",
                "    (70, (SELECT bicho_id\r\n",
                "        FROM\r\n",
                "            (SELECT\r\n",
                "                ROW_NUMBER() OVER(order by (select 1)) as row_number,\r\n",
                "                bicho_id\r\n",
                "            FROM Bichos\r\n",
                "            WHERE bicho_propietario = (SELECT usuario_id\r\n",
                "            FROM Usuarios\r\n",
                "            WHERE usuario_nombre = 'Jose')) AS Bichillos\r\n",
                "        WHERE row_number = 2), (SELECT bicho_id\r\n",
                "        FROM\r\n",
                "            (SELECT\r\n",
                "                ROW_NUMBER() OVER(order by (select 1)) as row_number,\r\n",
                "                bicho_id\r\n",
                "            FROM Bichos\r\n",
                "            WHERE bicho_propietario = (SELECT usuario_id\r\n",
                "            FROM Usuarios\r\n",
                "            WHERE usuario_nombre = 'Diego')) AS Bichillos\r\n",
                "        WHERE row_number = 1),\r\n",
                "        1, 1, 12, 26,\r\n",
                "        (SELECT usuario_id\r\n",
                "        FROM Usuarios\r\n",
                "        WHERE usuario_nombre = 'Diego'))\r\n",
                ",\r\n",
                "    (78, (SELECT bicho_id\r\n",
                "        FROM\r\n",
                "            (SELECT\r\n",
                "                ROW_NUMBER() OVER(order by (select 1)) as row_number,\r\n",
                "                bicho_id\r\n",
                "            FROM Bichos\r\n",
                "            WHERE bicho_propietario = (SELECT usuario_id\r\n",
                "            FROM Usuarios\r\n",
                "            WHERE usuario_nombre = 'Edgar')) AS Bichillos\r\n",
                "        WHERE row_number = 1), (SELECT bicho_id\r\n",
                "        FROM\r\n",
                "            (SELECT\r\n",
                "                ROW_NUMBER() OVER(order by (select 1)) as row_number,\r\n",
                "                bicho_id\r\n",
                "            FROM Bichos\r\n",
                "            WHERE bicho_propietario = (SELECT usuario_id\r\n",
                "            FROM Usuarios\r\n",
                "            WHERE usuario_nombre = 'Jose')) AS Bichillos\r\n",
                "        WHERE row_number = 3),\r\n",
                "        1, 6, 86, 85,\r\n",
                "        (SELECT usuario_id\r\n",
                "        FROM Usuarios\r\n",
                "        WHERE usuario_nombre = 'Edgar'))\r\n",
                ",\r\n",
                "    (2, (SELECT bicho_id\r\n",
                "        FROM\r\n",
                "            (SELECT\r\n",
                "                ROW_NUMBER() OVER(order by (select 1)) as row_number,\r\n",
                "                bicho_id\r\n",
                "            FROM Bichos\r\n",
                "            WHERE bicho_propietario = (SELECT usuario_id\r\n",
                "            FROM Usuarios\r\n",
                "            WHERE usuario_nombre = 'Edgar')) AS Bichillos\r\n",
                "        WHERE row_number = 1), (SELECT bicho_id\r\n",
                "        FROM\r\n",
                "            (SELECT\r\n",
                "                ROW_NUMBER() OVER(order by (select 1)) as row_number,\r\n",
                "                bicho_id\r\n",
                "            FROM Bichos\r\n",
                "            WHERE bicho_propietario = (SELECT usuario_id\r\n",
                "            FROM Usuarios\r\n",
                "            WHERE usuario_nombre = 'Diego')) AS Bichillos\r\n",
                "        WHERE row_number = 3),\r\n",
                "        6, 4, 70, 49,\r\n",
                "        (SELECT usuario_id\r\n",
                "        FROM Usuarios\r\n",
                "        WHERE usuario_nombre = 'Edgar'))\r\n",
                ",\r\n",
                "    (36, (SELECT bicho_id\r\n",
                "        FROM\r\n",
                "            (SELECT\r\n",
                "                ROW_NUMBER() OVER(order by (select 1)) as row_number,\r\n",
                "                bicho_id\r\n",
                "            FROM Bichos\r\n",
                "            WHERE bicho_propietario = (SELECT usuario_id\r\n",
                "            FROM Usuarios\r\n",
                "            WHERE usuario_nombre = 'Jose')) AS Bichillos\r\n",
                "        WHERE row_number = 3), (SELECT bicho_id\r\n",
                "        FROM\r\n",
                "            (SELECT\r\n",
                "                ROW_NUMBER() OVER(order by (select 1)) as row_number,\r\n",
                "                bicho_id\r\n",
                "            FROM Bichos\r\n",
                "            WHERE bicho_propietario = (SELECT usuario_id\r\n",
                "            FROM Usuarios\r\n",
                "            WHERE usuario_nombre = 'Diego')) AS Bichillos\r\n",
                "        WHERE row_number = 2),\r\n",
                "        3, 12, 8, 54,\r\n",
                "        (SELECT usuario_id\r\n",
                "        FROM Usuarios\r\n",
                "        WHERE usuario_nombre = 'Diego'))\r\n",
                ",\r\n",
                "    (3, (SELECT bicho_id\r\n",
                "        FROM\r\n",
                "            (SELECT\r\n",
                "                ROW_NUMBER() OVER(order by (select 1)) as row_number,\r\n",
                "                bicho_id\r\n",
                "            FROM Bichos\r\n",
                "            WHERE bicho_propietario = (SELECT usuario_id\r\n",
                "            FROM Usuarios\r\n",
                "            WHERE usuario_nombre = 'Lucia')) AS Bichillos\r\n",
                "        WHERE row_number = 3), (SELECT bicho_id\r\n",
                "        FROM\r\n",
                "            (SELECT\r\n",
                "                ROW_NUMBER() OVER(order by (select 1)) as row_number,\r\n",
                "                bicho_id\r\n",
                "            FROM Bichos\r\n",
                "            WHERE bicho_propietario = (SELECT usuario_id\r\n",
                "            FROM Usuarios\r\n",
                "            WHERE usuario_nombre = 'Diego')) AS Bichillos\r\n",
                "        WHERE row_number = 1),\r\n",
                "        1, 13, 33, 75,\r\n",
                "        (SELECT usuario_id\r\n",
                "        FROM Usuarios\r\n",
                "        WHERE usuario_nombre = 'Diego'))\r\n",
                ",\r\n",
                "    (24, (SELECT bicho_id\r\n",
                "        FROM\r\n",
                "            (SELECT\r\n",
                "                ROW_NUMBER() OVER(order by (select 1)) as row_number,\r\n",
                "                bicho_id\r\n",
                "            FROM Bichos\r\n",
                "            WHERE bicho_propietario = (SELECT usuario_id\r\n",
                "            FROM Usuarios\r\n",
                "            WHERE usuario_nombre = 'Edgar')) AS Bichillos\r\n",
                "        WHERE row_number = 1), (SELECT bicho_id\r\n",
                "        FROM\r\n",
                "            (SELECT\r\n",
                "                ROW_NUMBER() OVER(order by (select 1)) as row_number,\r\n",
                "                bicho_id\r\n",
                "            FROM Bichos\r\n",
                "            WHERE bicho_propietario = (SELECT usuario_id\r\n",
                "            FROM Usuarios\r\n",
                "            WHERE usuario_nombre = 'Jose')) AS Bichillos\r\n",
                "        WHERE row_number = 1),\r\n",
                "        16, 4, 0, 44,\r\n",
                "        (SELECT usuario_id\r\n",
                "        FROM Usuarios\r\n",
                "        WHERE usuario_nombre = 'Jose'))\r\n",
                ",\r\n",
                "    (25, (SELECT bicho_id\r\n",
                "        FROM\r\n",
                "            (SELECT\r\n",
                "                ROW_NUMBER() OVER(order by (select 1)) as row_number,\r\n",
                "                bicho_id\r\n",
                "            FROM Bichos\r\n",
                "            WHERE bicho_propietario = (SELECT usuario_id\r\n",
                "            FROM Usuarios\r\n",
                "            WHERE usuario_nombre = 'Diego')) AS Bichillos\r\n",
                "        WHERE row_number = 1), (SELECT bicho_id\r\n",
                "        FROM\r\n",
                "            (SELECT\r\n",
                "                ROW_NUMBER() OVER(order by (select 1)) as row_number,\r\n",
                "                bicho_id\r\n",
                "            FROM Bichos\r\n",
                "            WHERE bicho_propietario = (SELECT usuario_id\r\n",
                "            FROM Usuarios\r\n",
                "            WHERE usuario_nombre = 'Fabiola')) AS Bichillos\r\n",
                "        WHERE row_number = 2),\r\n",
                "        16, 13, 68, 96,\r\n",
                "        (SELECT usuario_id\r\n",
                "        FROM Usuarios\r\n",
                "        WHERE usuario_nombre = 'Fabiola'))\r\n",
                ",\r\n",
                "    (36, (SELECT bicho_id\r\n",
                "        FROM\r\n",
                "            (SELECT\r\n",
                "                ROW_NUMBER() OVER(order by (select 1)) as row_number,\r\n",
                "                bicho_id\r\n",
                "            FROM Bichos\r\n",
                "            WHERE bicho_propietario = (SELECT usuario_id\r\n",
                "            FROM Usuarios\r\n",
                "            WHERE usuario_nombre = 'Jose')) AS Bichillos\r\n",
                "        WHERE row_number = 1), (SELECT bicho_id\r\n",
                "        FROM\r\n",
                "            (SELECT\r\n",
                "                ROW_NUMBER() OVER(order by (select 1)) as row_number,\r\n",
                "                bicho_id\r\n",
                "            FROM Bichos\r\n",
                "            WHERE bicho_propietario = (SELECT usuario_id\r\n",
                "            FROM Usuarios\r\n",
                "            WHERE usuario_nombre = 'Diego')) AS Bichillos\r\n",
                "        WHERE row_number = 2),\r\n",
                "        6, 4, 66, 78,\r\n",
                "        (SELECT usuario_id\r\n",
                "        FROM Usuarios\r\n",
                "        WHERE usuario_nombre = 'Diego'))\r\n",
                ",\r\n",
                "    (54, (SELECT bicho_id\r\n",
                "        FROM\r\n",
                "            (SELECT\r\n",
                "                ROW_NUMBER() OVER(order by (select 1)) as row_number,\r\n",
                "                bicho_id\r\n",
                "            FROM Bichos\r\n",
                "            WHERE bicho_propietario = (SELECT usuario_id\r\n",
                "            FROM Usuarios\r\n",
                "            WHERE usuario_nombre = 'Lucia')) AS Bichillos\r\n",
                "        WHERE row_number = 2), (SELECT bicho_id\r\n",
                "        FROM\r\n",
                "            (SELECT\r\n",
                "                ROW_NUMBER() OVER(order by (select 1)) as row_number,\r\n",
                "                bicho_id\r\n",
                "            FROM Bichos\r\n",
                "            WHERE bicho_propietario = (SELECT usuario_id\r\n",
                "            FROM Usuarios\r\n",
                "            WHERE usuario_nombre = 'Fabiola')) AS Bichillos\r\n",
                "        WHERE row_number = 1),\r\n",
                "        14, 11, 77, 46,\r\n",
                "        (SELECT usuario_id\r\n",
                "        FROM Usuarios\r\n",
                "        WHERE usuario_nombre = 'Lucia'))\r\n",
                ",\r\n",
                "    (85, (SELECT bicho_id\r\n",
                "        FROM\r\n",
                "            (SELECT\r\n",
                "                ROW_NUMBER() OVER(order by (select 1)) as row_number,\r\n",
                "                bicho_id\r\n",
                "            FROM Bichos\r\n",
                "            WHERE bicho_propietario = (SELECT usuario_id\r\n",
                "            FROM Usuarios\r\n",
                "            WHERE usuario_nombre = 'Fabiola')) AS Bichillos\r\n",
                "        WHERE row_number = 3), (SELECT bicho_id\r\n",
                "        FROM\r\n",
                "            (SELECT\r\n",
                "                ROW_NUMBER() OVER(order by (select 1)) as row_number,\r\n",
                "                bicho_id\r\n",
                "            FROM Bichos\r\n",
                "            WHERE bicho_propietario = (SELECT usuario_id\r\n",
                "            FROM Usuarios\r\n",
                "            WHERE usuario_nombre = 'Lucia')) AS Bichillos\r\n",
                "        WHERE row_number = 1),\r\n",
                "        9, 16, 10, 91,\r\n",
                "        (SELECT usuario_id\r\n",
                "        FROM Usuarios\r\n",
                "        WHERE usuario_nombre = 'Lucia'))\r\n",
                ",\r\n",
                "    (75, (SELECT bicho_id\r\n",
                "        FROM\r\n",
                "            (SELECT\r\n",
                "                ROW_NUMBER() OVER(order by (select 1)) as row_number,\r\n",
                "                bicho_id\r\n",
                "            FROM Bichos\r\n",
                "            WHERE bicho_propietario = (SELECT usuario_id\r\n",
                "            FROM Usuarios\r\n",
                "            WHERE usuario_nombre = 'Fabiola')) AS Bichillos\r\n",
                "        WHERE row_number = 3), (SELECT bicho_id\r\n",
                "        FROM\r\n",
                "            (SELECT\r\n",
                "                ROW_NUMBER() OVER(order by (select 1)) as row_number,\r\n",
                "                bicho_id\r\n",
                "            FROM Bichos\r\n",
                "            WHERE bicho_propietario = (SELECT usuario_id\r\n",
                "            FROM Usuarios\r\n",
                "            WHERE usuario_nombre = 'Lucia')) AS Bichillos\r\n",
                "        WHERE row_number = 2),\r\n",
                "        15, 13, 93, 68,\r\n",
                "        (SELECT usuario_id\r\n",
                "        FROM Usuarios\r\n",
                "        WHERE usuario_nombre = 'Fabiola'))\r\n",
                ",\r\n",
                "    (31, (SELECT bicho_id\r\n",
                "        FROM\r\n",
                "            (SELECT\r\n",
                "                ROW_NUMBER() OVER(order by (select 1)) as row_number,\r\n",
                "                bicho_id\r\n",
                "            FROM Bichos\r\n",
                "            WHERE bicho_propietario = (SELECT usuario_id\r\n",
                "            FROM Usuarios\r\n",
                "            WHERE usuario_nombre = 'Lucia')) AS Bichillos\r\n",
                "        WHERE row_number = 3), (SELECT bicho_id\r\n",
                "        FROM\r\n",
                "            (SELECT\r\n",
                "                ROW_NUMBER() OVER(order by (select 1)) as row_number,\r\n",
                "                bicho_id\r\n",
                "            FROM Bichos\r\n",
                "            WHERE bicho_propietario = (SELECT usuario_id\r\n",
                "            FROM Usuarios\r\n",
                "            WHERE usuario_nombre = 'Jose')) AS Bichillos\r\n",
                "        WHERE row_number = 3),\r\n",
                "        11, 14, 1, 40,\r\n",
                "        (SELECT usuario_id\r\n",
                "        FROM Usuarios\r\n",
                "        WHERE usuario_nombre = 'Jose'))\r\n",
                ",\r\n",
                "    (85, (SELECT bicho_id\r\n",
                "        FROM\r\n",
                "            (SELECT\r\n",
                "                ROW_NUMBER() OVER(order by (select 1)) as row_number,\r\n",
                "                bicho_id\r\n",
                "            FROM Bichos\r\n",
                "            WHERE bicho_propietario = (SELECT usuario_id\r\n",
                "            FROM Usuarios\r\n",
                "            WHERE usuario_nombre = 'Fabiola')) AS Bichillos\r\n",
                "        WHERE row_number = 3), (SELECT bicho_id\r\n",
                "        FROM\r\n",
                "            (SELECT\r\n",
                "                ROW_NUMBER() OVER(order by (select 1)) as row_number,\r\n",
                "                bicho_id\r\n",
                "            FROM Bichos\r\n",
                "            WHERE bicho_propietario = (SELECT usuario_id\r\n",
                "            FROM Usuarios\r\n",
                "            WHERE usuario_nombre = 'Lucia')) AS Bichillos\r\n",
                "        WHERE row_number = 1),\r\n",
                "        1, 12, 54, 74,\r\n",
                "        (SELECT usuario_id\r\n",
                "        FROM Usuarios\r\n",
                "        WHERE usuario_nombre = 'Lucia'))\r\n",
                ",\r\n",
                "    (42, (SELECT bicho_id\r\n",
                "        FROM\r\n",
                "            (SELECT\r\n",
                "                ROW_NUMBER() OVER(order by (select 1)) as row_number,\r\n",
                "                bicho_id\r\n",
                "            FROM Bichos\r\n",
                "            WHERE bicho_propietario = (SELECT usuario_id\r\n",
                "            FROM Usuarios\r\n",
                "            WHERE usuario_nombre = 'Fabiola')) AS Bichillos\r\n",
                "        WHERE row_number = 2), (SELECT bicho_id\r\n",
                "        FROM\r\n",
                "            (SELECT\r\n",
                "                ROW_NUMBER() OVER(order by (select 1)) as row_number,\r\n",
                "                bicho_id\r\n",
                "            FROM Bichos\r\n",
                "            WHERE bicho_propietario = (SELECT usuario_id\r\n",
                "            FROM Usuarios\r\n",
                "            WHERE usuario_nombre = 'Edgar')) AS Bichillos\r\n",
                "        WHERE row_number = 1),\r\n",
                "        4, 1, 48, 76,\r\n",
                "        (SELECT usuario_id\r\n",
                "        FROM Usuarios\r\n",
                "        WHERE usuario_nombre = 'Edgar'))\r\n",
                ",\r\n",
                "    (43, (SELECT bicho_id\r\n",
                "        FROM\r\n",
                "            (SELECT\r\n",
                "                ROW_NUMBER() OVER(order by (select 1)) as row_number,\r\n",
                "                bicho_id\r\n",
                "            FROM Bichos\r\n",
                "            WHERE bicho_propietario = (SELECT usuario_id\r\n",
                "            FROM Usuarios\r\n",
                "            WHERE usuario_nombre = 'Jose')) AS Bichillos\r\n",
                "        WHERE row_number = 3), (SELECT bicho_id\r\n",
                "        FROM\r\n",
                "            (SELECT\r\n",
                "                ROW_NUMBER() OVER(order by (select 1)) as row_number,\r\n",
                "                bicho_id\r\n",
                "            FROM Bichos\r\n",
                "            WHERE bicho_propietario = (SELECT usuario_id\r\n",
                "            FROM Usuarios\r\n",
                "            WHERE usuario_nombre = 'Edgar')) AS Bichillos\r\n",
                "        WHERE row_number = 2),\r\n",
                "        10, 13, 21, 7,\r\n",
                "        (SELECT usuario_id\r\n",
                "        FROM Usuarios\r\n",
                "        WHERE usuario_nombre = 'Jose'))\r\n",
                ",\r\n",
                "    (19, (SELECT bicho_id\r\n",
                "        FROM\r\n",
                "            (SELECT\r\n",
                "                ROW_NUMBER() OVER(order by (select 1)) as row_number,\r\n",
                "                bicho_id\r\n",
                "            FROM Bichos\r\n",
                "            WHERE bicho_propietario = (SELECT usuario_id\r\n",
                "            FROM Usuarios\r\n",
                "            WHERE usuario_nombre = 'Lucia')) AS Bichillos\r\n",
                "        WHERE row_number = 3), (SELECT bicho_id\r\n",
                "        FROM\r\n",
                "            (SELECT\r\n",
                "                ROW_NUMBER() OVER(order by (select 1)) as row_number,\r\n",
                "                bicho_id\r\n",
                "            FROM Bichos\r\n",
                "            WHERE bicho_propietario = (SELECT usuario_id\r\n",
                "            FROM Usuarios\r\n",
                "            WHERE usuario_nombre = 'Edgar')) AS Bichillos\r\n",
                "        WHERE row_number = 1),\r\n",
                "        8, 4, 24, 26,\r\n",
                "        (SELECT usuario_id\r\n",
                "        FROM Usuarios\r\n",
                "        WHERE usuario_nombre = 'Edgar'))\r\n",
                ",\r\n",
                "    (80, (SELECT bicho_id\r\n",
                "        FROM\r\n",
                "            (SELECT\r\n",
                "                ROW_NUMBER() OVER(order by (select 1)) as row_number,\r\n",
                "                bicho_id\r\n",
                "            FROM Bichos\r\n",
                "            WHERE bicho_propietario = (SELECT usuario_id\r\n",
                "            FROM Usuarios\r\n",
                "            WHERE usuario_nombre = 'Lucia')) AS Bichillos\r\n",
                "        WHERE row_number = 2), (SELECT bicho_id\r\n",
                "        FROM\r\n",
                "            (SELECT\r\n",
                "                ROW_NUMBER() OVER(order by (select 1)) as row_number,\r\n",
                "                bicho_id\r\n",
                "            FROM Bichos\r\n",
                "            WHERE bicho_propietario = (SELECT usuario_id\r\n",
                "            FROM Usuarios\r\n",
                "            WHERE usuario_nombre = 'Edgar')) AS Bichillos\r\n",
                "        WHERE row_number = 1),\r\n",
                "        15, 13, 13, 47,\r\n",
                "        (SELECT usuario_id\r\n",
                "        FROM Usuarios\r\n",
                "        WHERE usuario_nombre = 'Edgar'))\r\n",
                ",\r\n",
                "    (46, (SELECT bicho_id\r\n",
                "        FROM\r\n",
                "            (SELECT\r\n",
                "                ROW_NUMBER() OVER(order by (select 1)) as row_number,\r\n",
                "                bicho_id\r\n",
                "            FROM Bichos\r\n",
                "            WHERE bicho_propietario = (SELECT usuario_id\r\n",
                "            FROM Usuarios\r\n",
                "            WHERE usuario_nombre = 'Jose')) AS Bichillos\r\n",
                "        WHERE row_number = 2), (SELECT bicho_id\r\n",
                "        FROM\r\n",
                "            (SELECT\r\n",
                "                ROW_NUMBER() OVER(order by (select 1)) as row_number,\r\n",
                "                bicho_id\r\n",
                "            FROM Bichos\r\n",
                "            WHERE bicho_propietario = (SELECT usuario_id\r\n",
                "            FROM Usuarios\r\n",
                "            WHERE usuario_nombre = 'Fabiola')) AS Bichillos\r\n",
                "        WHERE row_number = 1),\r\n",
                "        15, 12, 25, 66,\r\n",
                "        (SELECT usuario_id\r\n",
                "        FROM Usuarios\r\n",
                "        WHERE usuario_nombre = 'Fabiola'))\r\n",
                ",\r\n",
                "    (77, (SELECT bicho_id\r\n",
                "        FROM\r\n",
                "            (SELECT\r\n",
                "                ROW_NUMBER() OVER(order by (select 1)) as row_number,\r\n",
                "                bicho_id\r\n",
                "            FROM Bichos\r\n",
                "            WHERE bicho_propietario = (SELECT usuario_id\r\n",
                "            FROM Usuarios\r\n",
                "            WHERE usuario_nombre = 'Fabiola')) AS Bichillos\r\n",
                "        WHERE row_number = 3), (SELECT bicho_id\r\n",
                "        FROM\r\n",
                "            (SELECT\r\n",
                "                ROW_NUMBER() OVER(order by (select 1)) as row_number,\r\n",
                "                bicho_id\r\n",
                "            FROM Bichos\r\n",
                "            WHERE bicho_propietario = (SELECT usuario_id\r\n",
                "            FROM Usuarios\r\n",
                "            WHERE usuario_nombre = 'Edgar')) AS Bichillos\r\n",
                "        WHERE row_number = 1),\r\n",
                "        1, 14, 6, 70,\r\n",
                "        (SELECT usuario_id\r\n",
                "        FROM Usuarios\r\n",
                "        WHERE usuario_nombre = 'Edgar'))\r\n",
                ",\r\n",
                "    (95, (SELECT bicho_id\r\n",
                "        FROM\r\n",
                "            (SELECT\r\n",
                "                ROW_NUMBER() OVER(order by (select 1)) as row_number,\r\n",
                "                bicho_id\r\n",
                "            FROM Bichos\r\n",
                "            WHERE bicho_propietario = (SELECT usuario_id\r\n",
                "            FROM Usuarios\r\n",
                "            WHERE usuario_nombre = 'Jose')) AS Bichillos\r\n",
                "        WHERE row_number = 3), (SELECT bicho_id\r\n",
                "        FROM\r\n",
                "            (SELECT\r\n",
                "                ROW_NUMBER() OVER(order by (select 1)) as row_number,\r\n",
                "                bicho_id\r\n",
                "            FROM Bichos\r\n",
                "            WHERE bicho_propietario = (SELECT usuario_id\r\n",
                "            FROM Usuarios\r\n",
                "            WHERE usuario_nombre = 'Fabiola')) AS Bichillos\r\n",
                "        WHERE row_number = 1),\r\n",
                "        13, 16, 95, 23,\r\n",
                "        (SELECT usuario_id\r\n",
                "        FROM Usuarios\r\n",
                "        WHERE usuario_nombre = 'Jose'))\r\n",
                ",\r\n",
                "    (73, (SELECT bicho_id\r\n",
                "        FROM\r\n",
                "            (SELECT\r\n",
                "                ROW_NUMBER() OVER(order by (select 1)) as row_number,\r\n",
                "                bicho_id\r\n",
                "            FROM Bichos\r\n",
                "            WHERE bicho_propietario = (SELECT usuario_id\r\n",
                "            FROM Usuarios\r\n",
                "            WHERE usuario_nombre = 'Edgar')) AS Bichillos\r\n",
                "        WHERE row_number = 1), (SELECT bicho_id\r\n",
                "        FROM\r\n",
                "            (SELECT\r\n",
                "                ROW_NUMBER() OVER(order by (select 1)) as row_number,\r\n",
                "                bicho_id\r\n",
                "            FROM Bichos\r\n",
                "            WHERE bicho_propietario = (SELECT usuario_id\r\n",
                "            FROM Usuarios\r\n",
                "            WHERE usuario_nombre = 'Jose')) AS Bichillos\r\n",
                "        WHERE row_number = 1),\r\n",
                "        2, 16, 9, 87,\r\n",
                "        (SELECT usuario_id\r\n",
                "        FROM Usuarios\r\n",
                "        WHERE usuario_nombre = 'Jose'))\r\n",
                ",\r\n",
                "    (50, (SELECT bicho_id\r\n",
                "        FROM\r\n",
                "            (SELECT\r\n",
                "                ROW_NUMBER() OVER(order by (select 1)) as row_number,\r\n",
                "                bicho_id\r\n",
                "            FROM Bichos\r\n",
                "            WHERE bicho_propietario = (SELECT usuario_id\r\n",
                "            FROM Usuarios\r\n",
                "            WHERE usuario_nombre = 'Edgar')) AS Bichillos\r\n",
                "        WHERE row_number = 1), (SELECT bicho_id\r\n",
                "        FROM\r\n",
                "            (SELECT\r\n",
                "                ROW_NUMBER() OVER(order by (select 1)) as row_number,\r\n",
                "                bicho_id\r\n",
                "            FROM Bichos\r\n",
                "            WHERE bicho_propietario = (SELECT usuario_id\r\n",
                "            FROM Usuarios\r\n",
                "            WHERE usuario_nombre = 'Jose')) AS Bichillos\r\n",
                "        WHERE row_number = 3),\r\n",
                "        5, 3, 31, 19,\r\n",
                "        (SELECT usuario_id\r\n",
                "        FROM Usuarios\r\n",
                "        WHERE usuario_nombre = 'Edgar'))\r\n",
                ",\r\n",
                "    (6, (SELECT bicho_id\r\n",
                "        FROM\r\n",
                "            (SELECT\r\n",
                "                ROW_NUMBER() OVER(order by (select 1)) as row_number,\r\n",
                "                bicho_id\r\n",
                "            FROM Bichos\r\n",
                "            WHERE bicho_propietario = (SELECT usuario_id\r\n",
                "            FROM Usuarios\r\n",
                "            WHERE usuario_nombre = 'Diego')) AS Bichillos\r\n",
                "        WHERE row_number = 3), (SELECT bicho_id\r\n",
                "        FROM\r\n",
                "            (SELECT\r\n",
                "                ROW_NUMBER() OVER(order by (select 1)) as row_number,\r\n",
                "                bicho_id\r\n",
                "            FROM Bichos\r\n",
                "            WHERE bicho_propietario = (SELECT usuario_id\r\n",
                "            FROM Usuarios\r\n",
                "            WHERE usuario_nombre = 'Edgar')) AS Bichillos\r\n",
                "        WHERE row_number = 2),\r\n",
                "        16, 11, 75, 85,\r\n",
                "        (SELECT usuario_id\r\n",
                "        FROM Usuarios\r\n",
                "        WHERE usuario_nombre = 'Edgar'))\r\n",
                ",\r\n",
                "    (93, (SELECT bicho_id\r\n",
                "        FROM\r\n",
                "            (SELECT\r\n",
                "                ROW_NUMBER() OVER(order by (select 1)) as row_number,\r\n",
                "                bicho_id\r\n",
                "            FROM Bichos\r\n",
                "            WHERE bicho_propietario = (SELECT usuario_id\r\n",
                "            FROM Usuarios\r\n",
                "            WHERE usuario_nombre = 'Jose')) AS Bichillos\r\n",
                "        WHERE row_number = 3), (SELECT bicho_id\r\n",
                "        FROM\r\n",
                "            (SELECT\r\n",
                "                ROW_NUMBER() OVER(order by (select 1)) as row_number,\r\n",
                "                bicho_id\r\n",
                "            FROM Bichos\r\n",
                "            WHERE bicho_propietario = (SELECT usuario_id\r\n",
                "            FROM Usuarios\r\n",
                "            WHERE usuario_nombre = 'Diego')) AS Bichillos\r\n",
                "        WHERE row_number = 3),\r\n",
                "        8, 9, 53, 13,\r\n",
                "        (SELECT usuario_id\r\n",
                "        FROM Usuarios\r\n",
                "        WHERE usuario_nombre = 'Jose'))\r\n",
                ",\r\n",
                "    (48, (SELECT bicho_id\r\n",
                "        FROM\r\n",
                "            (SELECT\r\n",
                "                ROW_NUMBER() OVER(order by (select 1)) as row_number,\r\n",
                "                bicho_id\r\n",
                "            FROM Bichos\r\n",
                "            WHERE bicho_propietario = (SELECT usuario_id\r\n",
                "            FROM Usuarios\r\n",
                "            WHERE usuario_nombre = 'Fabiola')) AS Bichillos\r\n",
                "        WHERE row_number = 2), (SELECT bicho_id\r\n",
                "        FROM\r\n",
                "            (SELECT\r\n",
                "                ROW_NUMBER() OVER(order by (select 1)) as row_number,\r\n",
                "                bicho_id\r\n",
                "            FROM Bichos\r\n",
                "            WHERE bicho_propietario = (SELECT usuario_id\r\n",
                "            FROM Usuarios\r\n",
                "            WHERE usuario_nombre = 'Lucia')) AS Bichillos\r\n",
                "        WHERE row_number = 3),\r\n",
                "        12, 13, 15, 19,\r\n",
                "        (SELECT usuario_id\r\n",
                "        FROM Usuarios\r\n",
                "        WHERE usuario_nombre = 'Lucia'))\r\n",
                ",\r\n",
                "    (87, (SELECT bicho_id\r\n",
                "        FROM\r\n",
                "            (SELECT\r\n",
                "                ROW_NUMBER() OVER(order by (select 1)) as row_number,\r\n",
                "                bicho_id\r\n",
                "            FROM Bichos\r\n",
                "            WHERE bicho_propietario = (SELECT usuario_id\r\n",
                "            FROM Usuarios\r\n",
                "            WHERE usuario_nombre = 'Lucia')) AS Bichillos\r\n",
                "        WHERE row_number = 2), (SELECT bicho_id\r\n",
                "        FROM\r\n",
                "            (SELECT\r\n",
                "                ROW_NUMBER() OVER(order by (select 1)) as row_number,\r\n",
                "                bicho_id\r\n",
                "            FROM Bichos\r\n",
                "            WHERE bicho_propietario = (SELECT usuario_id\r\n",
                "            FROM Usuarios\r\n",
                "            WHERE usuario_nombre = 'Fabiola')) AS Bichillos\r\n",
                "        WHERE row_number = 2),\r\n",
                "        13, 1, 14, 35,\r\n",
                "        (SELECT usuario_id\r\n",
                "        FROM Usuarios\r\n",
                "        WHERE usuario_nombre = 'Fabiola'))\r\n",
                ",\r\n",
                "    (73, (SELECT bicho_id\r\n",
                "        FROM\r\n",
                "            (SELECT\r\n",
                "                ROW_NUMBER() OVER(order by (select 1)) as row_number,\r\n",
                "                bicho_id\r\n",
                "            FROM Bichos\r\n",
                "            WHERE bicho_propietario = (SELECT usuario_id\r\n",
                "            FROM Usuarios\r\n",
                "            WHERE usuario_nombre = 'Edgar')) AS Bichillos\r\n",
                "        WHERE row_number = 1), (SELECT bicho_id\r\n",
                "        FROM\r\n",
                "            (SELECT\r\n",
                "                ROW_NUMBER() OVER(order by (select 1)) as row_number,\r\n",
                "                bicho_id\r\n",
                "            FROM Bichos\r\n",
                "            WHERE bicho_propietario = (SELECT usuario_id\r\n",
                "            FROM Usuarios\r\n",
                "            WHERE usuario_nombre = 'Jose')) AS Bichillos\r\n",
                "        WHERE row_number = 3),\r\n",
                "        4, 5, 28, 79,\r\n",
                "        (SELECT usuario_id\r\n",
                "        FROM Usuarios\r\n",
                "        WHERE usuario_nombre = 'Jose'))\r\n",
                ",\r\n",
                "    (95, (SELECT bicho_id\r\n",
                "        FROM\r\n",
                "            (SELECT\r\n",
                "                ROW_NUMBER() OVER(order by (select 1)) as row_number,\r\n",
                "                bicho_id\r\n",
                "            FROM Bichos\r\n",
                "            WHERE bicho_propietario = (SELECT usuario_id\r\n",
                "            FROM Usuarios\r\n",
                "            WHERE usuario_nombre = 'Jose')) AS Bichillos\r\n",
                "        WHERE row_number = 2), (SELECT bicho_id\r\n",
                "        FROM\r\n",
                "            (SELECT\r\n",
                "                ROW_NUMBER() OVER(order by (select 1)) as row_number,\r\n",
                "                bicho_id\r\n",
                "            FROM Bichos\r\n",
                "            WHERE bicho_propietario = (SELECT usuario_id\r\n",
                "            FROM Usuarios\r\n",
                "            WHERE usuario_nombre = 'Fabiola')) AS Bichillos\r\n",
                "        WHERE row_number = 3),\r\n",
                "        9, 15, 71, 58,\r\n",
                "        (SELECT usuario_id\r\n",
                "        FROM Usuarios\r\n",
                "        WHERE usuario_nombre = 'Jose'))\r\n",
                ",\r\n",
                "    (83, (SELECT bicho_id\r\n",
                "        FROM\r\n",
                "            (SELECT\r\n",
                "                ROW_NUMBER() OVER(order by (select 1)) as row_number,\r\n",
                "                bicho_id\r\n",
                "            FROM Bichos\r\n",
                "            WHERE bicho_propietario = (SELECT usuario_id\r\n",
                "            FROM Usuarios\r\n",
                "            WHERE usuario_nombre = 'Lucia')) AS Bichillos\r\n",
                "        WHERE row_number = 2), (SELECT bicho_id\r\n",
                "        FROM\r\n",
                "            (SELECT\r\n",
                "                ROW_NUMBER() OVER(order by (select 1)) as row_number,\r\n",
                "                bicho_id\r\n",
                "            FROM Bichos\r\n",
                "            WHERE bicho_propietario = (SELECT usuario_id\r\n",
                "            FROM Usuarios\r\n",
                "            WHERE usuario_nombre = 'Jose')) AS Bichillos\r\n",
                "        WHERE row_number = 3),\r\n",
                "        16, 15, 76, 78,\r\n",
                "        (SELECT usuario_id\r\n",
                "        FROM Usuarios\r\n",
                "        WHERE usuario_nombre = 'Jose'))\r\n",
                ",\r\n",
                "    (49, (SELECT bicho_id\r\n",
                "        FROM\r\n",
                "            (SELECT\r\n",
                "                ROW_NUMBER() OVER(order by (select 1)) as row_number,\r\n",
                "                bicho_id\r\n",
                "            FROM Bichos\r\n",
                "            WHERE bicho_propietario = (SELECT usuario_id\r\n",
                "            FROM Usuarios\r\n",
                "            WHERE usuario_nombre = 'Lucia')) AS Bichillos\r\n",
                "        WHERE row_number = 1), (SELECT bicho_id\r\n",
                "        FROM\r\n",
                "            (SELECT\r\n",
                "                ROW_NUMBER() OVER(order by (select 1)) as row_number,\r\n",
                "                bicho_id\r\n",
                "            FROM Bichos\r\n",
                "            WHERE bicho_propietario = (SELECT usuario_id\r\n",
                "            FROM Usuarios\r\n",
                "            WHERE usuario_nombre = 'Diego')) AS Bichillos\r\n",
                "        WHERE row_number = 1),\r\n",
                "        15, 7, 75, 65,\r\n",
                "        (SELECT usuario_id\r\n",
                "        FROM Usuarios\r\n",
                "        WHERE usuario_nombre = 'Lucia'))\r\n",
                ",\r\n",
                "    (6, (SELECT bicho_id\r\n",
                "        FROM\r\n",
                "            (SELECT\r\n",
                "                ROW_NUMBER() OVER(order by (select 1)) as row_number,\r\n",
                "                bicho_id\r\n",
                "            FROM Bichos\r\n",
                "            WHERE bicho_propietario = (SELECT usuario_id\r\n",
                "            FROM Usuarios\r\n",
                "            WHERE usuario_nombre = 'Diego')) AS Bichillos\r\n",
                "        WHERE row_number = 1), (SELECT bicho_id\r\n",
                "        FROM\r\n",
                "            (SELECT\r\n",
                "                ROW_NUMBER() OVER(order by (select 1)) as row_number,\r\n",
                "                bicho_id\r\n",
                "            FROM Bichos\r\n",
                "            WHERE bicho_propietario = (SELECT usuario_id\r\n",
                "            FROM Usuarios\r\n",
                "            WHERE usuario_nombre = 'Edgar')) AS Bichillos\r\n",
                "        WHERE row_number = 2),\r\n",
                "        9, 9, 14, 59,\r\n",
                "        (SELECT usuario_id\r\n",
                "        FROM Usuarios\r\n",
                "        WHERE usuario_nombre = 'Edgar'))\r\n",
                ",\r\n",
                "    (31, (SELECT bicho_id\r\n",
                "        FROM\r\n",
                "            (SELECT\r\n",
                "                ROW_NUMBER() OVER(order by (select 1)) as row_number,\r\n",
                "                bicho_id\r\n",
                "            FROM Bichos\r\n",
                "            WHERE bicho_propietario = (SELECT usuario_id\r\n",
                "            FROM Usuarios\r\n",
                "            WHERE usuario_nombre = 'Lucia')) AS Bichillos\r\n",
                "        WHERE row_number = 2), (SELECT bicho_id\r\n",
                "        FROM\r\n",
                "            (SELECT\r\n",
                "                ROW_NUMBER() OVER(order by (select 1)) as row_number,\r\n",
                "                bicho_id\r\n",
                "            FROM Bichos\r\n",
                "            WHERE bicho_propietario = (SELECT usuario_id\r\n",
                "            FROM Usuarios\r\n",
                "            WHERE usuario_nombre = 'Jose')) AS Bichillos\r\n",
                "        WHERE row_number = 2),\r\n",
                "        4, 16, 15, 43,\r\n",
                "        (SELECT usuario_id\r\n",
                "        FROM Usuarios\r\n",
                "        WHERE usuario_nombre = 'Jose'))\r\n",
                ",\r\n",
                "    (65, (SELECT bicho_id\r\n",
                "        FROM\r\n",
                "            (SELECT\r\n",
                "                ROW_NUMBER() OVER(order by (select 1)) as row_number,\r\n",
                "                bicho_id\r\n",
                "            FROM Bichos\r\n",
                "            WHERE bicho_propietario = (SELECT usuario_id\r\n",
                "            FROM Usuarios\r\n",
                "            WHERE usuario_nombre = 'Lucia')) AS Bichillos\r\n",
                "        WHERE row_number = 1), (SELECT bicho_id\r\n",
                "        FROM\r\n",
                "            (SELECT\r\n",
                "                ROW_NUMBER() OVER(order by (select 1)) as row_number,\r\n",
                "                bicho_id\r\n",
                "            FROM Bichos\r\n",
                "            WHERE bicho_propietario = (SELECT usuario_id\r\n",
                "            FROM Usuarios\r\n",
                "            WHERE usuario_nombre = 'Diego')) AS Bichillos\r\n",
                "        WHERE row_number = 3),\r\n",
                "        2, 15, 86, 3,\r\n",
                "        (SELECT usuario_id\r\n",
                "        FROM Usuarios\r\n",
                "        WHERE usuario_nombre = 'Lucia'))\r\n",
                ""
            ],
            "metadata": {
                "azdata_cell_guid": "f2af032c-d56c-4404-8aa6-5bff8c87bb7f",
                "tags": [
                    "hide_input"
                ]
            },
            "outputs": [
                {
                    "output_type": "display_data",
                    "data": {
                        "text/html": "(100 rows affected)"
                    },
                    "metadata": {}
                },
                {
                    "output_type": "display_data",
                    "data": {
                        "text/html": "(100 rows affected)"
                    },
                    "metadata": {}
                },
                {
                    "output_type": "display_data",
                    "data": {
                        "text/html": "Total execution time: 00:00:03.300"
                    },
                    "metadata": {}
                }
            ],
            "execution_count": 4
        },
        {
            "cell_type": "markdown",
            "source": [
                "4. CONSULTA DE DATOS"
            ],
            "metadata": {
                "azdata_cell_guid": "bf1eb82b-c893-4660-a53f-58db7c5f6940"
            }
        },
        {
            "cell_type": "code",
            "source": [
                "SELECT\n",
                "    tipo_id AS 'ID',\n",
                "    tipo_nombre AS 'Nombre de los Tipos',\n",
                "    resistente AS 'Resistente a'\n",
                "\n",
                "FROM Tipos;\n",
                "\n",
                "\n",
                "SELECT\n",
                "    especie_id AS 'ID',\n",
                "    especie_nombre AS 'Nombre de la Especie',\n",
                "    especie_tipo AS 'ID del Tipo',\n",
                "    especie_aumento_salud AS 'Aumento de Salud',\n",
                "    especie_daño_ataque AS 'Daño de Ataque',\n",
                "    especie_velocidad_ataque AS 'Velocidad de Ataque'\n",
                "\n",
                "FROM Especies;\n",
                "\n",
                "\n",
                "SELECT\n",
                "    bicho_id AS 'ID',\n",
                "    bicho_nombre AS 'Nombre del Bicho',\n",
                "    bicho_salud AS 'Salud',\n",
                "    bicho_tipo AS 'Tipo',\n",
                "    bicho_especie AS 'Especie',\n",
                "    bicho_propietario AS 'Propietario ID',\n",
                "    (SELECT usuario_nombre\n",
                "    FROM Usuarios\n",
                "    WHERE usuario_id = bicho_propietario) AS 'Propietario Nombre'\n",
                "\n",
                "FROM Bichos;\n",
                "\n",
                "\n",
                "SELECT\n",
                "    catalogo_id AS 'ID',\n",
                "    catalogo_nombre AS 'Nombre del Ataque',\n",
                "    catalogo_tipo AS 'ID del Tipo',\n",
                "    catalogo_nivel AS 'Nivel de Ataque'\n",
                "\n",
                "FROM Catalogo_Ataques;\n",
                "\n",
                "\n",
                "SELECT\n",
                "    usuario_id AS 'ID',\n",
                "    usuario_nombre AS 'Nombre del Usuario'\n",
                "FROM Usuarios;\n",
                "\n",
                "\n",
                "SELECT\n",
                "    recoleccion_fecha AS 'Fecha de Recoleccion',\n",
                "    recoleccion_bicho AS 'ID Bicho',\n",
                "    recoleccion_usuario AS 'Usuario'\n",
                "\n",
                "FROM Recolecciones;\n",
                "\n",
                "SELECT\n",
                "    intercambio_id AS 'ID',\n",
                "    intercambio_fecha AS 'Fecha del Intercambio',\n",
                "    usuario_uno AS 'Usuario 1',\n",
                "    usuario_dos AS 'Usuario 2',\n",
                "    bicho_uno AS 'Bicho del Usuario1',\n",
                "    bicho_dos AS 'Bicho del Usuario2'\n",
                "\n",
                "FROM Intercambios;\n",
                "\n",
                "SELECT\n",
                "    bicho_id AS \"Bicho\",\n",
                "    ataque_id AS \"Ataque\"\n",
                "FROM Ataques_Bicho\n",
                "\n",
                "SELECT\n",
                "    combate_id AS 'ID',\n",
                "    usuario_uno AS 'Jugador 1',\n",
                "    usuario_dos AS 'Jugador 2',\n",
                "    combate_fecha AS 'Fecha'\n",
                "FROM Combates\n",
                "\n",
                "SELECT\n",
                "    combate_id AS 'Combate',\n",
                "    bicho_uno AS 'Bicho 1',\n",
                "    bicho_dos AS 'Bicho 2',\n",
                "    ataque_uno AS 'Ataque 1',\n",
                "    ataque_dos AS 'Ataque 2',\n",
                "    nivel_daño_uno AS 'Daño 1',\n",
                "    nivel_daño_dos AS 'Daño 2',\n",
                "    ganador AS 'Ganador'\n",
                "FROM Rondas\n",
                "ORDER BY combate_id\n",
                "\n",
                "/*11-Bichos que tiene faviola*/\n",
                "select bichos.bicho_nombre as 'Bicho',tipos.tipo_nombre as 'Tipo',tipos.resistente from Bichos bichos \n",
                "inner join Tipos tipos on bicho_tipo = tipo_Id\n",
                "where bicho_propietario = 4 \n",
                "\n",
                "/*12- Bichos que tiene José con el nombre de cada bicho + su salud + que te diga a que es resistente cada bicho que posee y que te muestre su daño de ataque.*/\n",
                "select bichos.bicho_nombre as 'Bicho',bichos.bicho_salud as 'Salud',tipos.resistente as 'Resistente',\n",
                "catalogoAtaques.catalogo_nombre as 'Ataques'\n",
                "from Bichos bichos \n",
                "inner join Tipos tipos on bicho_tipo = tipo_Id\n",
                "inner join Ataques_Bicho ataquesBichos on ataquesBichos.bicho_id = bichos.bicho_id\n",
                "inner join Catalogo_Ataques catalogoAtaques on catalogoAtaques.catalogo_id = ataquesBichos.ataque_id\n",
                "where bicho_propietario = 3 \n",
                "\n",
                "/*13- Bichos que existen en total y en orden alfabético.*/\n",
                "select bicho_nombre as 'Bicho' from Bichos order by bicho_nombre asc ; \n",
                "\n",
                "/*14- Que te muestre el bicho con sus respectivos ataques con un orden de mayor a menor.*/\n",
                "select bichos.bicho_nombre as 'Bicho',bichos.bicho_salud as 'Salud',tipos.resistente as 'Resistente',\n",
                "catalogoAtaques.catalogo_nombre as 'Ataque',catalogoAtaques.catalogo_nivel as 'Nivel'\n",
                "from Bichos bichos \n",
                "inner join Tipos tipos on bicho_tipo = tipo_Id\n",
                "inner join Ataques_Bicho ataquesBichos on ataquesBichos.bicho_id = bichos.bicho_id\n",
                "inner join Catalogo_Ataques catalogoAtaques on catalogoAtaques.catalogo_id = ataquesBichos.ataque_id\n",
                "order by catalogoAtaques.catalogo_nivel\n",
                "\n",
                "/*15- Que te muestre la fecha en que se llevó a cabo el combate 35,70 y 90.*/\n",
                "select combate_fecha AS 'Fecha' from Combates where combate_id in (35,70,90)\n",
                "\n",
                "/*16-muestre la fecha en que Edgar intercambio a charmander.*/\n",
                "select intercambio_fecha as 'Fecha' from Intercambios\n",
                "where usuario_uno = 2 and bicho_uno = 1 ;\n",
                "\n",
                "/*17- Fecha en que los bichos de tipo fuego y de tipo aire combatieron.*/\n",
                "select combate_fecha as 'Fecha' from Combates combate\n",
                "inner join Rondas rondas on combate.combate_id = rondas.combate_id\n",
                "inner join Bichos bicho1 on bicho1.bicho_id = rondas.bicho_uno\n",
                "inner join Bichos bicho2 on bicho2.bicho_id = rondas.bicho_dos\n",
                "where bicho1.bicho_tipo = 3 and bicho2.bicho_tipo = 2 \n",
                "\n",
                "/*18- Que te muestre los ganadores de los combates del 20-30 con los bichos con los que participo el ganador.*/\n",
                "select combates.combate_id as 'Combate',usuarios.usuario_nombre as 'Ganador',bichos.bicho_nombre as 'Bicho' from Combates combates \n",
                "inner join Rondas ronda on ronda.combate_id = combates.combate_id\n",
                "inner join Bichos bichos on bichos.bicho_propietario = ronda.ganador\n",
                "inner join Usuarios usuarios on usuario_id = ronda.ganador\n",
                "where combates.combate_id between 20 and 30 order by combates.combate_id asc\n",
                "\n",
                "/*19- Que te muestre las especies que tienen un aumento de salud de 30 y 25.*/\n",
                "select (SELECT bicho_nombre\n",
                "        FROM Bichos\n",
                "        WHERE especie_id = bicho_id) as 'Bicho', especie_aumento_salud as 'Aumento de Salud' from Especies WHERE especie_aumento_salud in (25,30)\n",
                "\n",
                "/*20- Muestre la fecha cuando Lucia y Edgar combatieron.*/\n",
                "select combate_id as 'Combate', (SELECT usuario_nombre from Usuarios where usuario_uno = usuario_id) as 'Jugador Uno', \n",
                "(SELECT usuario_nombre from Usuarios where usuario_dos = usuario_id) as 'Jugador Dos',\n",
                "combate_fecha as 'Fecha'\n",
                "from Combates combates where combates.usuario_uno in (1,2) and combates.usuario_dos in (1,2)\n",
                "\n",
                "/*21- Mostrar todas rondas por combate que gano Edgar.*/\n",
                "select * from Rondas r where r.ganador = 2\n",
                "\n",
                "/*22- Obtener los combates ganados totales de todos lo jugadores.*/\n",
                "select ganador,usr.usuario_nombre as 'Usuario',count(*) as 'Rondas Ganadas' from Rondas\n",
                "inner join Usuarios usr on usr.usuario_id = ganador\n",
                "group by ganador,usuario_nombre\n",
                "\n",
                "/*23- Mostrar la suma total de combates ganados de Jose.*/\n",
                "select count(*) as 'Rondas Ganadas' from Rondas where ganador = 3  \n",
                "\n",
                "/*24- Mostrar aquellos bichos que no tengan propietario.*/\n",
                "select bicho_id as 'ID', bicho_nombre as 'Bicho' from Bichos b where b.bicho_propietario is null\n",
                "\n",
                "/*25- Mostrar los bichos que sean resistente a tierra y fuego.*/\n",
                "select * from Bichos bichos \n",
                "inner join Tipos tipos on bichos.bicho_tipo = tipos.tipo_id\n",
                "where tipos.resistente in ('Tierra','Fuego')\n",
                "\n",
                "/*26- Mostrar los usuarios que hayan ganado 20 o más combates.*/\n",
                "select ganador as 'ID',usr.usuario_nombre as 'Usuario',count(*) as 'Rondas Ganadas' from Rondas\n",
                "inner join Usuarios usr on usr.usuario_id = ganador\n",
                "group by ganador,usuario_nombre having count (*) > 20\n",
                "\n",
                "/*27- Mostrar los bichos que no han sido utilizado en combates.*/\n",
                "select * from Bichos bichos where bichos.bicho_id not in \n",
                "(select bicho_uno from Rondas) or bichos.bicho_id not in (select bicho_dos from Rondas)\n",
                "\n",
                "/*28- Mostrar el numero de veces que x bicho fue intercambiado junto con su fecha de intercambio.*/\n",
                "select intercambio_fecha,(select bicho_nombre from Bichos where bicho_uno = bicho_id) as 'Bicho',\n",
                "count(bicho_uno) as 'Veces cambiado' from Intercambios group by bicho_uno,intercambio_fecha\n",
                "\n",
                "/*29- Mostrar los ataques que tiene charmander.*/\n",
                "select bichos.bicho_nombre,\n",
                "catalogoAtaques.catalogo_nombre\n",
                "from Bichos bichos \n",
                "inner join Tipos tipos on bicho_tipo = tipo_Id\n",
                "inner join Ataques_Bicho ataquesBichos on ataquesBichos.bicho_id = bichos.bicho_id\n",
                "inner join Catalogo_Ataques catalogoAtaques on catalogoAtaques.catalogo_id = ataquesBichos.ataque_id\n",
                "where bichos.bicho_id = 1\n",
                "\n",
                "/*30- Mostrar la cantidad de bichos que los usuarios han intercambiado. (bicho uno)*/\n",
                "select (select usuario_nombre from Usuarios where usuario_uno = usuario_id) as 'Usuario',\n",
                "count(usuario_uno) as 'Numero intercambios' from Intercambios group by usuario_uno\n",
                "\n",
                "/*31- Mostrar los ataques ordenados por nivel en forma descendente.*/\n",
                "select catalogo_nombre as 'Ataque' from Catalogo_Ataques order by catalogo_nivel desc\n",
                "\n",
                "/*32- Mostrar los bichos que se hayan intercambiado dos veces.*/\n",
                "select bicho_uno,count(bicho_uno) as 'Veces cambiado' from Intercambios group by bicho_uno \n",
                "having count(bicho_uno) > 2 \n",
                "\n",
                "/*33-Bichos que tiene Edgar*/\n",
                "select bichos.bicho_nombre as 'Bicho',tipos.tipo_nombre as 'Tipo',tipos.resistente from Bichos bichos \n",
                "inner join Tipos tipos on bicho_tipo = tipo_Id\n",
                "where bicho_propietario = 2 \n",
                "\n",
                "/*34- Bichos que existen en total y en orden alfabético y orden descendente.*/\n",
                "select bicho_nombre as 'Bicho' from Bichos order by bicho_nombre desc\n",
                "\n",
                "/*35- Que te muestre la fecha en que se llevó a cabo el combate 10,20 y 30.*/\n",
                "select combate_fecha AS 'Fecha' from Combates where combate_id in (10,20,30)\n",
                "\n",
                "/*36- Mostrar los ataques que tiene charizard.*/\n",
                "select bichos.bicho_nombre,\n",
                "catalogoAtaques.catalogo_nombre\n",
                "from Bichos bichos \n",
                "inner join Tipos tipos on bicho_tipo = tipo_Id\n",
                "inner join Ataques_Bicho ataquesBichos on ataquesBichos.bicho_id = bichos.bicho_id\n",
                "inner join Catalogo_Ataques catalogoAtaques on catalogoAtaques.catalogo_id = ataquesBichos.ataque_id\n",
                "where bichos.bicho_id = 20\n",
                "\n",
                "/*37-Bichos que tiene Jose*/\n",
                "select bichos.bicho_nombre as 'Bicho',tipos.tipo_nombre as 'Tipo',tipos.resistente from Bichos bichos \n",
                "inner join Tipos tipos on bicho_tipo = tipo_Id\n",
                "where bicho_propietario = 3\n",
                "\n",
                "/*38- Mostrar los bichos que sean resistente a agua y aire.*/\n",
                "select * from Bichos bichos \n",
                "inner join Tipos tipos on bichos.bicho_tipo = tipos.tipo_id\n",
                "where tipos.resistente in ('Agua','Aire')\n",
                "\n",
                "/*39- Fecha en que los bichos de tipo agua y de tipo tierra combatieron.*/\n",
                "select combate_fecha as 'Fecha' from Combates combate\n",
                "inner join Rondas rondas on combate.combate_id = rondas.combate_id\n",
                "inner join Bichos bicho1 on bicho1.bicho_id = rondas.bicho_uno\n",
                "inner join Bichos bicho2 on bicho2.bicho_id = rondas.bicho_dos\n",
                "where bicho1.bicho_tipo = 1 and bicho2.bicho_tipo = 4 \n",
                "\n",
                "/*40- Muestre la fecha cuando Jose y Edgar combatieron.*/\n",
                "select combate_id as 'Combate', (SELECT usuario_nombre from Usuarios where usuario_uno = usuario_id) as 'Jugador Uno', \n",
                "(SELECT usuario_nombre from Usuarios where usuario_dos = usuario_id) as 'Jugador Dos',\n",
                "combate_fecha as 'Fecha'\n",
                "from Combates combates where combates.usuario_uno in (3,2) and combates.usuario_dos in (3,2)\n",
                "\n",
                "/*41-Bichos que tiene Diego*/\n",
                "select bichos.bicho_nombre as 'Bicho',tipos.tipo_nombre as 'Tipo',tipos.resistente from Bichos bichos \n",
                "inner join Tipos tipos on bicho_tipo = tipo_Id\n",
                "where bicho_propietario = 5 \n",
                "\n",
                "/*42- Que te muestre los ganadores de los combates del 10-20 con los bichos con los que participo el ganador.*/\n",
                "select combates.combate_id as 'Combate',usuarios.usuario_nombre as 'Ganador',bichos.bicho_nombre as 'Bicho' from Combates combates \n",
                "inner join Rondas ronda on ronda.combate_id = combates.combate_id\n",
                "inner join Bichos bichos on bichos.bicho_propietario = ronda.ganador\n",
                "inner join Usuarios usuarios on usuario_id = ronda.ganador\n",
                "where combates.combate_id between 10 and 20 order by combates.combate_id asc\n",
                "\n",
                "/*43- Mostrar todas rondas por combate que gano Jose.*/\n",
                "select * from Rondas r where r.ganador = 3\n",
                "\n",
                "/*44-Bichos que tiene Lucia*/\n",
                "select bichos.bicho_nombre as 'Bicho',tipos.tipo_nombre as 'Tipo',tipos.resistente from Bichos bichos \n",
                "inner join Tipos tipos on bicho_tipo = tipo_Id\n",
                "where bicho_propietario = 1 \n",
                "\n",
                "/*45- Mostrar los ataques que tiene vulpix.*/\n",
                "select bichos.bicho_nombre,\n",
                "catalogoAtaques.catalogo_nombre\n",
                "from Bichos bichos \n",
                "inner join Tipos tipos on bicho_tipo = tipo_Id\n",
                "inner join Ataques_Bicho ataquesBichos on ataquesBichos.bicho_id = bichos.bicho_id\n",
                "inner join Catalogo_Ataques catalogoAtaques on catalogoAtaques.catalogo_id = ataquesBichos.ataque_id\n",
                "where bichos.bicho_id = 5"
            ],
            "metadata": {
                "azdata_cell_guid": "74c79f6f-32eb-43e8-9302-e007d4c651b2",
                "tags": []
            },
            "outputs": [
                {
                    "output_type": "display_data",
                    "data": {
                        "text/html": "(4 rows affected)"
                    },
                    "metadata": {}
                },
                {
                    "output_type": "display_data",
                    "data": {
                        "text/html": "(8 rows affected)"
                    },
                    "metadata": {}
                },
                {
                    "output_type": "display_data",
                    "data": {
                        "text/html": "(20 rows affected)"
                    },
                    "metadata": {}
                },
                {
                    "output_type": "display_data",
                    "data": {
                        "text/html": "(16 rows affected)"
                    },
                    "metadata": {}
                },
                {
                    "output_type": "display_data",
                    "data": {
                        "text/html": "(6 rows affected)"
                    },
                    "metadata": {}
                },
                {
                    "output_type": "display_data",
                    "data": {
                        "text/html": "(15 rows affected)"
                    },
                    "metadata": {}
                },
                {
                    "output_type": "display_data",
                    "data": {
                        "text/html": "(10 rows affected)"
                    },
                    "metadata": {}
                },
                {
                    "output_type": "display_data",
                    "data": {
                        "text/html": "(100 rows affected)"
                    },
                    "metadata": {}
                },
                {
                    "output_type": "display_data",
                    "data": {
                        "text/html": "(100 rows affected)"
                    },
                    "metadata": {}
                },
                {
                    "output_type": "display_data",
                    "data": {
                        "text/html": "(100 rows affected)"
                    },
                    "metadata": {}
                },
                {
                    "output_type": "display_data",
                    "data": {
                        "text/html": "(3 rows affected)"
                    },
                    "metadata": {}
                },
                {
                    "output_type": "display_data",
                    "data": {
                        "text/html": "(15 rows affected)"
                    },
                    "metadata": {}
                },
                {
                    "output_type": "display_data",
                    "data": {
                        "text/html": "(20 rows affected)"
                    },
                    "metadata": {}
                },
                {
                    "output_type": "display_data",
                    "data": {
                        "text/html": "(100 rows affected)"
                    },
                    "metadata": {}
                },
                {
                    "output_type": "display_data",
                    "data": {
                        "text/html": "(3 rows affected)"
                    },
                    "metadata": {}
                },
                {
                    "output_type": "display_data",
                    "data": {
                        "text/html": "(1 row affected)"
                    },
                    "metadata": {}
                },
                {
                    "output_type": "display_data",
                    "data": {
                        "text/html": "(3 rows affected)"
                    },
                    "metadata": {}
                },
                {
                    "output_type": "display_data",
                    "data": {
                        "text/html": "(30 rows affected)"
                    },
                    "metadata": {}
                },
                {
                    "output_type": "display_data",
                    "data": {
                        "text/html": "(4 rows affected)"
                    },
                    "metadata": {}
                },
                {
                    "output_type": "display_data",
                    "data": {
                        "text/html": "(9 rows affected)"
                    },
                    "metadata": {}
                },
                {
                    "output_type": "display_data",
                    "data": {
                        "text/html": "(18 rows affected)"
                    },
                    "metadata": {}
                },
                {
                    "output_type": "display_data",
                    "data": {
                        "text/html": "(5 rows affected)"
                    },
                    "metadata": {}
                },
                {
                    "output_type": "display_data",
                    "data": {
                        "text/html": "(1 row affected)"
                    },
                    "metadata": {}
                },
                {
                    "output_type": "display_data",
                    "data": {
                        "text/html": "(5 rows affected)"
                    },
                    "metadata": {}
                },
                {
                    "output_type": "display_data",
                    "data": {
                        "text/html": "(10 rows affected)"
                    },
                    "metadata": {}
                },
                {
                    "output_type": "display_data",
                    "data": {
                        "text/html": "(2 rows affected)"
                    },
                    "metadata": {}
                },
                {
                    "output_type": "display_data",
                    "data": {
                        "text/html": "(5 rows affected)"
                    },
                    "metadata": {}
                },
                {
                    "output_type": "display_data",
                    "data": {
                        "text/html": "(8 rows affected)"
                    },
                    "metadata": {}
                },
                {
                    "output_type": "display_data",
                    "data": {
                        "text/html": "(5 rows affected)"
                    },
                    "metadata": {}
                },
                {
                    "output_type": "display_data",
                    "data": {
                        "text/html": "(5 rows affected)"
                    },
                    "metadata": {}
                },
                {
                    "output_type": "display_data",
                    "data": {
                        "text/html": "(16 rows affected)"
                    },
                    "metadata": {}
                },
                {
                    "output_type": "display_data",
                    "data": {
                        "text/html": "(0 rows affected)"
                    },
                    "metadata": {}
                },
                {
                    "output_type": "display_data",
                    "data": {
                        "text/html": "Total execution time: 00:00:01.388"
                    },
                    "metadata": {}
                },
                {
                    "output_type": "execute_result",
                    "metadata": {},
                    "execution_count": 5,
                    "data": {
                        "application/vnd.dataresource+json": {
                            "schema": {
                                "fields": [
                                    {
                                        "name": "ID"
                                    },
                                    {
                                        "name": "Nombre de los Tipos"
                                    },
                                    {
                                        "name": "Resistente a"
                                    }
                                ]
                            },
                            "data": [
                                {
                                    "0": "1",
                                    "1": "Aire",
                                    "2": "Tierra"
                                },
                                {
                                    "0": "2",
                                    "1": "Tierra",
                                    "2": "Aire"
                                },
                                {
                                    "0": "3",
                                    "1": "Fuego",
                                    "2": "Agua"
                                },
                                {
                                    "0": "4",
                                    "1": "Agua",
                                    "2": "Fuego"
                                }
                            ]
                        },
                        "text/html": [
                            "<table>",
                            "<tr><th>ID</th><th>Nombre de los Tipos</th><th>Resistente a</th></tr>",
                            "<tr><td>1</td><td>Aire</td><td>Tierra</td></tr>",
                            "<tr><td>2</td><td>Tierra</td><td>Aire</td></tr>",
                            "<tr><td>3</td><td>Fuego</td><td>Agua</td></tr>",
                            "<tr><td>4</td><td>Agua</td><td>Fuego</td></tr>",
                            "</table>"
                        ]
                    }
                },
                {
                    "output_type": "execute_result",
                    "metadata": {},
                    "execution_count": 5,
                    "data": {
                        "application/vnd.dataresource+json": {
                            "schema": {
                                "fields": [
                                    {
                                        "name": "ID"
                                    },
                                    {
                                        "name": "Nombre de la Especie"
                                    },
                                    {
                                        "name": "ID del Tipo"
                                    },
                                    {
                                        "name": "Aumento de Salud"
                                    },
                                    {
                                        "name": "Daño de Ataque"
                                    },
                                    {
                                        "name": "Velocidad de Ataque"
                                    }
                                ]
                            },
                            "data": [
                                {
                                    "0": "1",
                                    "1": "Eolo",
                                    "2": "1",
                                    "3": "20",
                                    "4": "15",
                                    "5": "15"
                                },
                                {
                                    "0": "2",
                                    "1": "Boreas",
                                    "2": "1",
                                    "3": "30",
                                    "4": "25",
                                    "5": "15"
                                },
                                {
                                    "0": "3",
                                    "1": "Vulcano",
                                    "2": "3",
                                    "3": "25",
                                    "4": "25",
                                    "5": "20"
                                },
                                {
                                    "0": "4",
                                    "1": "Prometeo",
                                    "2": "3",
                                    "3": "15",
                                    "4": "20",
                                    "5": "10"
                                },
                                {
                                    "0": "5",
                                    "1": "Poseidon",
                                    "2": "4",
                                    "3": "30",
                                    "4": "30",
                                    "5": "30"
                                },
                                {
                                    "0": "6",
                                    "1": "Triton",
                                    "2": "4",
                                    "3": "20",
                                    "4": "15",
                                    "5": "10"
                                },
                                {
                                    "0": "7",
                                    "1": "Gaia",
                                    "2": "2",
                                    "3": "25",
                                    "4": "30",
                                    "5": "30"
                                },
                                {
                                    "0": "8",
                                    "1": "Pan",
                                    "2": "2",
                                    "3": "15",
                                    "4": "20",
                                    "5": "20"
                                }
                            ]
                        },
                        "text/html": [
                            "<table>",
                            "<tr><th>ID</th><th>Nombre de la Especie</th><th>ID del Tipo</th><th>Aumento de Salud</th><th>Daño de Ataque</th><th>Velocidad de Ataque</th></tr>",
                            "<tr><td>1</td><td>Eolo</td><td>1</td><td>20</td><td>15</td><td>15</td></tr>",
                            "<tr><td>2</td><td>Boreas</td><td>1</td><td>30</td><td>25</td><td>15</td></tr>",
                            "<tr><td>3</td><td>Vulcano</td><td>3</td><td>25</td><td>25</td><td>20</td></tr>",
                            "<tr><td>4</td><td>Prometeo</td><td>3</td><td>15</td><td>20</td><td>10</td></tr>",
                            "<tr><td>5</td><td>Poseidon</td><td>4</td><td>30</td><td>30</td><td>30</td></tr>",
                            "<tr><td>6</td><td>Triton</td><td>4</td><td>20</td><td>15</td><td>10</td></tr>",
                            "<tr><td>7</td><td>Gaia</td><td>2</td><td>25</td><td>30</td><td>30</td></tr>",
                            "<tr><td>8</td><td>Pan</td><td>2</td><td>15</td><td>20</td><td>20</td></tr>",
                            "</table>"
                        ]
                    }
                },
                {
                    "output_type": "execute_result",
                    "metadata": {},
                    "execution_count": 5,
                    "data": {
                        "application/vnd.dataresource+json": {
                            "schema": {
                                "fields": [
                                    {
                                        "name": "ID"
                                    },
                                    {
                                        "name": "Nombre del Bicho"
                                    },
                                    {
                                        "name": "Salud"
                                    },
                                    {
                                        "name": "Tipo"
                                    },
                                    {
                                        "name": "Especie"
                                    },
                                    {
                                        "name": "Propietario ID"
                                    },
                                    {
                                        "name": "Propietario Nombre"
                                    }
                                ]
                            },
                            "data": [
                                {
                                    "0": "1",
                                    "1": "Charmander",
                                    "2": "100",
                                    "3": "3",
                                    "4": "3",
                                    "5": "2",
                                    "6": "Edgar"
                                },
                                {
                                    "0": "2",
                                    "1": "Charmeleon",
                                    "2": "100",
                                    "3": "3",
                                    "4": "3",
                                    "5": "4",
                                    "6": "Fabiola"
                                },
                                {
                                    "0": "3",
                                    "1": "Ponyta",
                                    "2": "100",
                                    "3": "3",
                                    "4": "4",
                                    "5": "5",
                                    "6": "Diego"
                                },
                                {
                                    "0": "4",
                                    "1": "Rapidash",
                                    "2": "100",
                                    "3": "3",
                                    "4": "4",
                                    "5": "NULL",
                                    "6": "NULL"
                                },
                                {
                                    "0": "5",
                                    "1": "Vulpix",
                                    "2": "100",
                                    "3": "3",
                                    "4": "3",
                                    "5": "NULL",
                                    "6": "NULL"
                                },
                                {
                                    "0": "6",
                                    "1": "Squirtle",
                                    "2": "100",
                                    "3": "4",
                                    "4": "5",
                                    "5": "5",
                                    "6": "Diego"
                                },
                                {
                                    "0": "7",
                                    "1": "Wartortle",
                                    "2": "100",
                                    "3": "4",
                                    "4": "5",
                                    "5": "2",
                                    "6": "Edgar"
                                },
                                {
                                    "0": "8",
                                    "1": "Magikarp",
                                    "2": "100",
                                    "3": "4",
                                    "4": "6",
                                    "5": "2",
                                    "6": "Edgar"
                                },
                                {
                                    "0": "9",
                                    "1": "Gyarados",
                                    "2": "100",
                                    "3": "4",
                                    "4": "6",
                                    "5": "1",
                                    "6": "Lucia"
                                },
                                {
                                    "0": "10",
                                    "1": "Psyduck",
                                    "2": "100",
                                    "3": "4",
                                    "4": "5",
                                    "5": "4",
                                    "6": "Fabiola"
                                },
                                {
                                    "0": "11",
                                    "1": "Sandshrew",
                                    "2": "100",
                                    "3": "2",
                                    "4": "7",
                                    "5": "NULL",
                                    "6": "NULL"
                                },
                                {
                                    "0": "12",
                                    "1": "Sandslash",
                                    "2": "100",
                                    "3": "2",
                                    "4": "7",
                                    "5": "1",
                                    "6": "Lucia"
                                },
                                {
                                    "0": "13",
                                    "1": "Diglett",
                                    "2": "100",
                                    "3": "2",
                                    "4": "8",
                                    "5": "3",
                                    "6": "Jose"
                                },
                                {
                                    "0": "14",
                                    "1": "Dugtrio ",
                                    "2": "100",
                                    "3": "2",
                                    "4": "8",
                                    "5": "NULL",
                                    "6": "NULL"
                                },
                                {
                                    "0": "15",
                                    "1": "Graveler",
                                    "2": "100",
                                    "3": "2",
                                    "4": "7",
                                    "5": "1",
                                    "6": "Lucia"
                                },
                                {
                                    "0": "16",
                                    "1": "Pidgey",
                                    "2": "100",
                                    "3": "1",
                                    "4": "1",
                                    "5": "4",
                                    "6": "Fabiola"
                                },
                                {
                                    "0": "17",
                                    "1": "Pidgeotto ",
                                    "2": "100",
                                    "3": "1",
                                    "4": "1",
                                    "5": "5",
                                    "6": "Diego"
                                },
                                {
                                    "0": "18",
                                    "1": "Spearow",
                                    "2": "100",
                                    "3": "1",
                                    "4": "2",
                                    "5": "3",
                                    "6": "Jose"
                                },
                                {
                                    "0": "19",
                                    "1": "Fearow",
                                    "2": "100",
                                    "3": "1",
                                    "4": "2",
                                    "5": "NULL",
                                    "6": "NULL"
                                },
                                {
                                    "0": "20",
                                    "1": "Charizard",
                                    "2": "100",
                                    "3": "1",
                                    "4": "1",
                                    "5": "3",
                                    "6": "Jose"
                                }
                            ]
                        },
                        "text/html": [
                            "<table>",
                            "<tr><th>ID</th><th>Nombre del Bicho</th><th>Salud</th><th>Tipo</th><th>Especie</th><th>Propietario ID</th><th>Propietario Nombre</th></tr>",
                            "<tr><td>1</td><td>Charmander</td><td>100</td><td>3</td><td>3</td><td>2</td><td>Edgar</td></tr>",
                            "<tr><td>2</td><td>Charmeleon</td><td>100</td><td>3</td><td>3</td><td>4</td><td>Fabiola</td></tr>",
                            "<tr><td>3</td><td>Ponyta</td><td>100</td><td>3</td><td>4</td><td>5</td><td>Diego</td></tr>",
                            "<tr><td>4</td><td>Rapidash</td><td>100</td><td>3</td><td>4</td><td>NULL</td><td>NULL</td></tr>",
                            "<tr><td>5</td><td>Vulpix</td><td>100</td><td>3</td><td>3</td><td>NULL</td><td>NULL</td></tr>",
                            "<tr><td>6</td><td>Squirtle</td><td>100</td><td>4</td><td>5</td><td>5</td><td>Diego</td></tr>",
                            "<tr><td>7</td><td>Wartortle</td><td>100</td><td>4</td><td>5</td><td>2</td><td>Edgar</td></tr>",
                            "<tr><td>8</td><td>Magikarp</td><td>100</td><td>4</td><td>6</td><td>2</td><td>Edgar</td></tr>",
                            "<tr><td>9</td><td>Gyarados</td><td>100</td><td>4</td><td>6</td><td>1</td><td>Lucia</td></tr>",
                            "<tr><td>10</td><td>Psyduck</td><td>100</td><td>4</td><td>5</td><td>4</td><td>Fabiola</td></tr>",
                            "<tr><td>11</td><td>Sandshrew</td><td>100</td><td>2</td><td>7</td><td>NULL</td><td>NULL</td></tr>",
                            "<tr><td>12</td><td>Sandslash</td><td>100</td><td>2</td><td>7</td><td>1</td><td>Lucia</td></tr>",
                            "<tr><td>13</td><td>Diglett</td><td>100</td><td>2</td><td>8</td><td>3</td><td>Jose</td></tr>",
                            "<tr><td>14</td><td>Dugtrio </td><td>100</td><td>2</td><td>8</td><td>NULL</td><td>NULL</td></tr>",
                            "<tr><td>15</td><td>Graveler</td><td>100</td><td>2</td><td>7</td><td>1</td><td>Lucia</td></tr>",
                            "<tr><td>16</td><td>Pidgey</td><td>100</td><td>1</td><td>1</td><td>4</td><td>Fabiola</td></tr>",
                            "<tr><td>17</td><td>Pidgeotto </td><td>100</td><td>1</td><td>1</td><td>5</td><td>Diego</td></tr>",
                            "<tr><td>18</td><td>Spearow</td><td>100</td><td>1</td><td>2</td><td>3</td><td>Jose</td></tr>",
                            "<tr><td>19</td><td>Fearow</td><td>100</td><td>1</td><td>2</td><td>NULL</td><td>NULL</td></tr>",
                            "<tr><td>20</td><td>Charizard</td><td>100</td><td>1</td><td>1</td><td>3</td><td>Jose</td></tr>",
                            "</table>"
                        ]
                    }
                },
                {
                    "output_type": "execute_result",
                    "metadata": {},
                    "execution_count": 5,
                    "data": {
                        "application/vnd.dataresource+json": {
                            "schema": {
                                "fields": [
                                    {
                                        "name": "ID"
                                    },
                                    {
                                        "name": "Nombre del Ataque"
                                    },
                                    {
                                        "name": "ID del Tipo"
                                    },
                                    {
                                        "name": "Nivel de Ataque"
                                    }
                                ]
                            },
                            "data": [
                                {
                                    "0": "1",
                                    "1": "Puño de Fuego",
                                    "2": "3",
                                    "3": "1"
                                },
                                {
                                    "0": "2",
                                    "1": "Puño de Agua",
                                    "2": "4",
                                    "3": "1"
                                },
                                {
                                    "0": "3",
                                    "1": "Puño de Tierra",
                                    "2": "2",
                                    "3": "1"
                                },
                                {
                                    "0": "4",
                                    "1": "Puño de Aire",
                                    "2": "1",
                                    "3": "1"
                                },
                                {
                                    "0": "5",
                                    "1": "Huracan",
                                    "2": "4",
                                    "3": "2"
                                },
                                {
                                    "0": "6",
                                    "1": "Viento",
                                    "2": "1",
                                    "3": "2"
                                },
                                {
                                    "0": "7",
                                    "1": "Terremoto",
                                    "2": "2",
                                    "3": "2"
                                },
                                {
                                    "0": "8",
                                    "1": "Incendio",
                                    "2": "3",
                                    "3": "2"
                                },
                                {
                                    "0": "9",
                                    "1": "Tormenta",
                                    "2": "4",
                                    "3": "3"
                                },
                                {
                                    "0": "10",
                                    "1": "Volcan",
                                    "2": "3",
                                    "3": "3"
                                },
                                {
                                    "0": "11",
                                    "1": "Arena Movediza",
                                    "2": "2",
                                    "3": "3"
                                },
                                {
                                    "0": "12",
                                    "1": "Ventisca",
                                    "2": "1",
                                    "3": "3"
                                },
                                {
                                    "0": "13",
                                    "1": "Tsunami",
                                    "2": "4",
                                    "3": "4"
                                },
                                {
                                    "0": "14",
                                    "1": "Rayo",
                                    "2": "3",
                                    "3": "4"
                                },
                                {
                                    "0": "15",
                                    "1": "Hierro",
                                    "2": "2",
                                    "3": "4"
                                },
                                {
                                    "0": "16",
                                    "1": "Tornado",
                                    "2": "1",
                                    "3": "4"
                                }
                            ]
                        },
                        "text/html": [
                            "<table>",
                            "<tr><th>ID</th><th>Nombre del Ataque</th><th>ID del Tipo</th><th>Nivel de Ataque</th></tr>",
                            "<tr><td>1</td><td>Puño de Fuego</td><td>3</td><td>1</td></tr>",
                            "<tr><td>2</td><td>Puño de Agua</td><td>4</td><td>1</td></tr>",
                            "<tr><td>3</td><td>Puño de Tierra</td><td>2</td><td>1</td></tr>",
                            "<tr><td>4</td><td>Puño de Aire</td><td>1</td><td>1</td></tr>",
                            "<tr><td>5</td><td>Huracan</td><td>4</td><td>2</td></tr>",
                            "<tr><td>6</td><td>Viento</td><td>1</td><td>2</td></tr>",
                            "<tr><td>7</td><td>Terremoto</td><td>2</td><td>2</td></tr>",
                            "<tr><td>8</td><td>Incendio</td><td>3</td><td>2</td></tr>",
                            "<tr><td>9</td><td>Tormenta</td><td>4</td><td>3</td></tr>",
                            "<tr><td>10</td><td>Volcan</td><td>3</td><td>3</td></tr>",
                            "<tr><td>11</td><td>Arena Movediza</td><td>2</td><td>3</td></tr>",
                            "<tr><td>12</td><td>Ventisca</td><td>1</td><td>3</td></tr>",
                            "<tr><td>13</td><td>Tsunami</td><td>4</td><td>4</td></tr>",
                            "<tr><td>14</td><td>Rayo</td><td>3</td><td>4</td></tr>",
                            "<tr><td>15</td><td>Hierro</td><td>2</td><td>4</td></tr>",
                            "<tr><td>16</td><td>Tornado</td><td>1</td><td>4</td></tr>",
                            "</table>"
                        ]
                    }
                },
                {
                    "output_type": "execute_result",
                    "metadata": {},
                    "execution_count": 5,
                    "data": {
                        "application/vnd.dataresource+json": {
                            "schema": {
                                "fields": [
                                    {
                                        "name": "ID"
                                    },
                                    {
                                        "name": "Nombre del Usuario"
                                    }
                                ]
                            },
                            "data": [
                                {
                                    "0": "1",
                                    "1": "Lucia"
                                },
                                {
                                    "0": "2",
                                    "1": "Edgar"
                                },
                                {
                                    "0": "3",
                                    "1": "Jose"
                                },
                                {
                                    "0": "4",
                                    "1": "Fabiola"
                                },
                                {
                                    "0": "5",
                                    "1": "Diego"
                                },
                                {
                                    "0": "6",
                                    "1": "El Patron"
                                }
                            ]
                        },
                        "text/html": [
                            "<table>",
                            "<tr><th>ID</th><th>Nombre del Usuario</th></tr>",
                            "<tr><td>1</td><td>Lucia</td></tr>",
                            "<tr><td>2</td><td>Edgar</td></tr>",
                            "<tr><td>3</td><td>Jose</td></tr>",
                            "<tr><td>4</td><td>Fabiola</td></tr>",
                            "<tr><td>5</td><td>Diego</td></tr>",
                            "<tr><td>6</td><td>El Patron</td></tr>",
                            "</table>"
                        ]
                    }
                },
                {
                    "output_type": "execute_result",
                    "metadata": {},
                    "execution_count": 5,
                    "data": {
                        "application/vnd.dataresource+json": {
                            "schema": {
                                "fields": [
                                    {
                                        "name": "Fecha de Recoleccion"
                                    },
                                    {
                                        "name": "ID Bicho"
                                    },
                                    {
                                        "name": "Usuario"
                                    }
                                ]
                            },
                            "data": [
                                {
                                    "0": "2020-06-03",
                                    "1": "1",
                                    "2": "2"
                                },
                                {
                                    "0": "2020-06-03",
                                    "1": "13",
                                    "2": "3"
                                },
                                {
                                    "0": "2020-06-03",
                                    "1": "16",
                                    "2": "4"
                                },
                                {
                                    "0": "2020-06-03",
                                    "1": "17",
                                    "2": "5"
                                },
                                {
                                    "0": "2020-06-03",
                                    "1": "18",
                                    "2": "3"
                                },
                                {
                                    "0": "2020-06-03",
                                    "1": "9",
                                    "2": "1"
                                },
                                {
                                    "0": "2020-06-03",
                                    "1": "6",
                                    "2": "5"
                                },
                                {
                                    "0": "2020-06-03",
                                    "1": "10",
                                    "2": "4"
                                },
                                {
                                    "0": "2020-06-03",
                                    "1": "12",
                                    "2": "1"
                                },
                                {
                                    "0": "2020-06-03",
                                    "1": "2",
                                    "2": "4"
                                },
                                {
                                    "0": "2020-06-03",
                                    "1": "8",
                                    "2": "2"
                                },
                                {
                                    "0": "2020-06-03",
                                    "1": "3",
                                    "2": "5"
                                },
                                {
                                    "0": "2020-06-03",
                                    "1": "7",
                                    "2": "2"
                                },
                                {
                                    "0": "2020-06-03",
                                    "1": "15",
                                    "2": "1"
                                },
                                {
                                    "0": "2020-06-03",
                                    "1": "20",
                                    "2": "3"
                                }
                            ]
                        },
                        "text/html": [
                            "<table>",
                            "<tr><th>Fecha de Recoleccion</th><th>ID Bicho</th><th>Usuario</th></tr>",
                            "<tr><td>2020-06-03</td><td>1</td><td>2</td></tr>",
                            "<tr><td>2020-06-03</td><td>13</td><td>3</td></tr>",
                            "<tr><td>2020-06-03</td><td>16</td><td>4</td></tr>",
                            "<tr><td>2020-06-03</td><td>17</td><td>5</td></tr>",
                            "<tr><td>2020-06-03</td><td>18</td><td>3</td></tr>",
                            "<tr><td>2020-06-03</td><td>9</td><td>1</td></tr>",
                            "<tr><td>2020-06-03</td><td>6</td><td>5</td></tr>",
                            "<tr><td>2020-06-03</td><td>10</td><td>4</td></tr>",
                            "<tr><td>2020-06-03</td><td>12</td><td>1</td></tr>",
                            "<tr><td>2020-06-03</td><td>2</td><td>4</td></tr>",
                            "<tr><td>2020-06-03</td><td>8</td><td>2</td></tr>",
                            "<tr><td>2020-06-03</td><td>3</td><td>5</td></tr>",
                            "<tr><td>2020-06-03</td><td>7</td><td>2</td></tr>",
                            "<tr><td>2020-06-03</td><td>15</td><td>1</td></tr>",
                            "<tr><td>2020-06-03</td><td>20</td><td>3</td></tr>",
                            "</table>"
                        ]
                    }
                },
                {
                    "output_type": "execute_result",
                    "metadata": {},
                    "execution_count": 5,
                    "data": {
                        "application/vnd.dataresource+json": {
                            "schema": {
                                "fields": [
                                    {
                                        "name": "ID"
                                    },
                                    {
                                        "name": "Fecha del Intercambio"
                                    },
                                    {
                                        "name": "Usuario 1"
                                    },
                                    {
                                        "name": "Usuario 2"
                                    },
                                    {
                                        "name": "Bicho del Usuario1"
                                    },
                                    {
                                        "name": "Bicho del Usuario2"
                                    }
                                ]
                            },
                            "data": [
                                {
                                    "0": "1",
                                    "1": "2020-06-03",
                                    "2": "2",
                                    "3": "3",
                                    "4": "1",
                                    "5": "2"
                                },
                                {
                                    "0": "2",
                                    "1": "2020-06-03",
                                    "2": "3",
                                    "3": "5",
                                    "4": "5",
                                    "5": "4"
                                },
                                {
                                    "0": "3",
                                    "1": "2020-06-03",
                                    "2": "1",
                                    "3": "4",
                                    "4": "6",
                                    "5": "3"
                                },
                                {
                                    "0": "4",
                                    "1": "2020-06-03",
                                    "2": "4",
                                    "3": "2",
                                    "4": "10",
                                    "5": "8"
                                },
                                {
                                    "0": "5",
                                    "1": "2020-06-03",
                                    "2": "5",
                                    "3": "3",
                                    "4": "12",
                                    "5": "15"
                                },
                                {
                                    "0": "6",
                                    "1": "2020-06-03",
                                    "2": "4",
                                    "3": "1",
                                    "4": "10",
                                    "5": "14"
                                },
                                {
                                    "0": "7",
                                    "1": "2020-06-03",
                                    "2": "1",
                                    "3": "5",
                                    "4": "9",
                                    "5": "7"
                                },
                                {
                                    "0": "8",
                                    "1": "2020-06-03",
                                    "2": "2",
                                    "3": "4",
                                    "4": "2",
                                    "5": "8"
                                },
                                {
                                    "0": "9",
                                    "1": "2020-06-03",
                                    "2": "5",
                                    "3": "2",
                                    "4": "4",
                                    "5": "1"
                                },
                                {
                                    "0": "10",
                                    "1": "2020-06-03",
                                    "2": "3",
                                    "3": "1",
                                    "4": "5",
                                    "5": "6"
                                }
                            ]
                        },
                        "text/html": [
                            "<table>",
                            "<tr><th>ID</th><th>Fecha del Intercambio</th><th>Usuario 1</th><th>Usuario 2</th><th>Bicho del Usuario1</th><th>Bicho del Usuario2</th></tr>",
                            "<tr><td>1</td><td>2020-06-03</td><td>2</td><td>3</td><td>1</td><td>2</td></tr>",
                            "<tr><td>2</td><td>2020-06-03</td><td>3</td><td>5</td><td>5</td><td>4</td></tr>",
                            "<tr><td>3</td><td>2020-06-03</td><td>1</td><td>4</td><td>6</td><td>3</td></tr>",
                            "<tr><td>4</td><td>2020-06-03</td><td>4</td><td>2</td><td>10</td><td>8</td></tr>",
                            "<tr><td>5</td><td>2020-06-03</td><td>5</td><td>3</td><td>12</td><td>15</td></tr>",
                            "<tr><td>6</td><td>2020-06-03</td><td>4</td><td>1</td><td>10</td><td>14</td></tr>",
                            "<tr><td>7</td><td>2020-06-03</td><td>1</td><td>5</td><td>9</td><td>7</td></tr>",
                            "<tr><td>8</td><td>2020-06-03</td><td>2</td><td>4</td><td>2</td><td>8</td></tr>",
                            "<tr><td>9</td><td>2020-06-03</td><td>5</td><td>2</td><td>4</td><td>1</td></tr>",
                            "<tr><td>10</td><td>2020-06-03</td><td>3</td><td>1</td><td>5</td><td>6</td></tr>",
                            "</table>"
                        ]
                    }
                },
                {
                    "output_type": "execute_result",
                    "metadata": {},
                    "execution_count": 5,
                    "data": {
                        "application/vnd.dataresource+json": {
                            "schema": {
                                "fields": [
                                    {
                                        "name": "Bicho"
                                    },
                                    {
                                        "name": "Ataque"
                                    }
                                ]
                            },
                            "data": [
                                {
                                    "0": "1",
                                    "1": "1"
                                },
                                {
                                    "0": "1",
                                    "1": "5"
                                },
                                {
                                    "0": "1",
                                    "1": "7"
                                },
                                {
                                    "0": "1",
                                    "1": "11"
                                },
                                {
                                    "0": "1",
                                    "1": "14"
                                },
                                {
                                    "0": "2",
                                    "1": "3"
                                },
                                {
                                    "0": "2",
                                    "1": "6"
                                },
                                {
                                    "0": "2",
                                    "1": "8"
                                },
                                {
                                    "0": "2",
                                    "1": "11"
                                },
                                {
                                    "0": "2",
                                    "1": "12"
                                },
                                {
                                    "0": "3",
                                    "1": "3"
                                },
                                {
                                    "0": "3",
                                    "1": "9"
                                },
                                {
                                    "0": "3",
                                    "1": "10"
                                },
                                {
                                    "0": "3",
                                    "1": "12"
                                },
                                {
                                    "0": "3",
                                    "1": "15"
                                },
                                {
                                    "0": "4",
                                    "1": "2"
                                },
                                {
                                    "0": "4",
                                    "1": "4"
                                },
                                {
                                    "0": "4",
                                    "1": "6"
                                },
                                {
                                    "0": "4",
                                    "1": "12"
                                },
                                {
                                    "0": "4",
                                    "1": "14"
                                },
                                {
                                    "0": "5",
                                    "1": "3"
                                },
                                {
                                    "0": "5",
                                    "1": "4"
                                },
                                {
                                    "0": "5",
                                    "1": "6"
                                },
                                {
                                    "0": "5",
                                    "1": "8"
                                },
                                {
                                    "0": "5",
                                    "1": "15"
                                },
                                {
                                    "0": "6",
                                    "1": "1"
                                },
                                {
                                    "0": "6",
                                    "1": "7"
                                },
                                {
                                    "0": "6",
                                    "1": "11"
                                },
                                {
                                    "0": "6",
                                    "1": "12"
                                },
                                {
                                    "0": "6",
                                    "1": "15"
                                },
                                {
                                    "0": "7",
                                    "1": "2"
                                },
                                {
                                    "0": "7",
                                    "1": "11"
                                },
                                {
                                    "0": "7",
                                    "1": "13"
                                },
                                {
                                    "0": "7",
                                    "1": "14"
                                },
                                {
                                    "0": "7",
                                    "1": "15"
                                },
                                {
                                    "0": "8",
                                    "1": "1"
                                },
                                {
                                    "0": "8",
                                    "1": "6"
                                },
                                {
                                    "0": "8",
                                    "1": "8"
                                },
                                {
                                    "0": "8",
                                    "1": "9"
                                },
                                {
                                    "0": "8",
                                    "1": "12"
                                },
                                {
                                    "0": "9",
                                    "1": "1"
                                },
                                {
                                    "0": "9",
                                    "1": "8"
                                },
                                {
                                    "0": "9",
                                    "1": "10"
                                },
                                {
                                    "0": "9",
                                    "1": "12"
                                },
                                {
                                    "0": "9",
                                    "1": "15"
                                },
                                {
                                    "0": "10",
                                    "1": "2"
                                },
                                {
                                    "0": "10",
                                    "1": "4"
                                },
                                {
                                    "0": "10",
                                    "1": "6"
                                },
                                {
                                    "0": "10",
                                    "1": "11"
                                },
                                {
                                    "0": "10",
                                    "1": "13"
                                },
                                {
                                    "0": "11",
                                    "1": "5"
                                },
                                {
                                    "0": "11",
                                    "1": "8"
                                },
                                {
                                    "0": "11",
                                    "1": "9"
                                },
                                {
                                    "0": "11",
                                    "1": "12"
                                },
                                {
                                    "0": "11",
                                    "1": "15"
                                },
                                {
                                    "0": "12",
                                    "1": "3"
                                },
                                {
                                    "0": "12",
                                    "1": "6"
                                },
                                {
                                    "0": "12",
                                    "1": "7"
                                },
                                {
                                    "0": "12",
                                    "1": "8"
                                },
                                {
                                    "0": "12",
                                    "1": "10"
                                },
                                {
                                    "0": "13",
                                    "1": "1"
                                },
                                {
                                    "0": "13",
                                    "1": "4"
                                },
                                {
                                    "0": "13",
                                    "1": "5"
                                },
                                {
                                    "0": "13",
                                    "1": "7"
                                },
                                {
                                    "0": "13",
                                    "1": "11"
                                },
                                {
                                    "0": "14",
                                    "1": "2"
                                },
                                {
                                    "0": "14",
                                    "1": "5"
                                },
                                {
                                    "0": "14",
                                    "1": "8"
                                },
                                {
                                    "0": "14",
                                    "1": "11"
                                },
                                {
                                    "0": "14",
                                    "1": "15"
                                },
                                {
                                    "0": "15",
                                    "1": "1"
                                },
                                {
                                    "0": "15",
                                    "1": "5"
                                },
                                {
                                    "0": "15",
                                    "1": "9"
                                },
                                {
                                    "0": "15",
                                    "1": "13"
                                },
                                {
                                    "0": "15",
                                    "1": "15"
                                },
                                {
                                    "0": "16",
                                    "1": "1"
                                },
                                {
                                    "0": "16",
                                    "1": "6"
                                },
                                {
                                    "0": "16",
                                    "1": "8"
                                },
                                {
                                    "0": "16",
                                    "1": "10"
                                },
                                {
                                    "0": "16",
                                    "1": "12"
                                },
                                {
                                    "0": "17",
                                    "1": "3"
                                },
                                {
                                    "0": "17",
                                    "1": "5"
                                },
                                {
                                    "0": "17",
                                    "1": "11"
                                },
                                {
                                    "0": "17",
                                    "1": "14"
                                },
                                {
                                    "0": "17",
                                    "1": "15"
                                },
                                {
                                    "0": "18",
                                    "1": "1"
                                },
                                {
                                    "0": "18",
                                    "1": "4"
                                },
                                {
                                    "0": "18",
                                    "1": "7"
                                },
                                {
                                    "0": "18",
                                    "1": "8"
                                },
                                {
                                    "0": "18",
                                    "1": "9"
                                },
                                {
                                    "0": "19",
                                    "1": "2"
                                },
                                {
                                    "0": "19",
                                    "1": "4"
                                },
                                {
                                    "0": "19",
                                    "1": "7"
                                },
                                {
                                    "0": "19",
                                    "1": "10"
                                },
                                {
                                    "0": "19",
                                    "1": "12"
                                },
                                {
                                    "0": "20",
                                    "1": "1"
                                },
                                {
                                    "0": "20",
                                    "1": "6"
                                },
                                {
                                    "0": "20",
                                    "1": "11"
                                },
                                {
                                    "0": "20",
                                    "1": "13"
                                },
                                {
                                    "0": "20",
                                    "1": "14"
                                }
                            ]
                        },
                        "text/html": [
                            "<table>",
                            "<tr><th>Bicho</th><th>Ataque</th></tr>",
                            "<tr><td>1</td><td>1</td></tr>",
                            "<tr><td>1</td><td>5</td></tr>",
                            "<tr><td>1</td><td>7</td></tr>",
                            "<tr><td>1</td><td>11</td></tr>",
                            "<tr><td>1</td><td>14</td></tr>",
                            "<tr><td>2</td><td>3</td></tr>",
                            "<tr><td>2</td><td>6</td></tr>",
                            "<tr><td>2</td><td>8</td></tr>",
                            "<tr><td>2</td><td>11</td></tr>",
                            "<tr><td>2</td><td>12</td></tr>",
                            "<tr><td>3</td><td>3</td></tr>",
                            "<tr><td>3</td><td>9</td></tr>",
                            "<tr><td>3</td><td>10</td></tr>",
                            "<tr><td>3</td><td>12</td></tr>",
                            "<tr><td>3</td><td>15</td></tr>",
                            "<tr><td>4</td><td>2</td></tr>",
                            "<tr><td>4</td><td>4</td></tr>",
                            "<tr><td>4</td><td>6</td></tr>",
                            "<tr><td>4</td><td>12</td></tr>",
                            "<tr><td>4</td><td>14</td></tr>",
                            "<tr><td>5</td><td>3</td></tr>",
                            "<tr><td>5</td><td>4</td></tr>",
                            "<tr><td>5</td><td>6</td></tr>",
                            "<tr><td>5</td><td>8</td></tr>",
                            "<tr><td>5</td><td>15</td></tr>",
                            "<tr><td>6</td><td>1</td></tr>",
                            "<tr><td>6</td><td>7</td></tr>",
                            "<tr><td>6</td><td>11</td></tr>",
                            "<tr><td>6</td><td>12</td></tr>",
                            "<tr><td>6</td><td>15</td></tr>",
                            "<tr><td>7</td><td>2</td></tr>",
                            "<tr><td>7</td><td>11</td></tr>",
                            "<tr><td>7</td><td>13</td></tr>",
                            "<tr><td>7</td><td>14</td></tr>",
                            "<tr><td>7</td><td>15</td></tr>",
                            "<tr><td>8</td><td>1</td></tr>",
                            "<tr><td>8</td><td>6</td></tr>",
                            "<tr><td>8</td><td>8</td></tr>",
                            "<tr><td>8</td><td>9</td></tr>",
                            "<tr><td>8</td><td>12</td></tr>",
                            "<tr><td>9</td><td>1</td></tr>",
                            "<tr><td>9</td><td>8</td></tr>",
                            "<tr><td>9</td><td>10</td></tr>",
                            "<tr><td>9</td><td>12</td></tr>",
                            "<tr><td>9</td><td>15</td></tr>",
                            "<tr><td>10</td><td>2</td></tr>",
                            "<tr><td>10</td><td>4</td></tr>",
                            "<tr><td>10</td><td>6</td></tr>",
                            "<tr><td>10</td><td>11</td></tr>",
                            "<tr><td>10</td><td>13</td></tr>",
                            "<tr><td>11</td><td>5</td></tr>",
                            "<tr><td>11</td><td>8</td></tr>",
                            "<tr><td>11</td><td>9</td></tr>",
                            "<tr><td>11</td><td>12</td></tr>",
                            "<tr><td>11</td><td>15</td></tr>",
                            "<tr><td>12</td><td>3</td></tr>",
                            "<tr><td>12</td><td>6</td></tr>",
                            "<tr><td>12</td><td>7</td></tr>",
                            "<tr><td>12</td><td>8</td></tr>",
                            "<tr><td>12</td><td>10</td></tr>",
                            "<tr><td>13</td><td>1</td></tr>",
                            "<tr><td>13</td><td>4</td></tr>",
                            "<tr><td>13</td><td>5</td></tr>",
                            "<tr><td>13</td><td>7</td></tr>",
                            "<tr><td>13</td><td>11</td></tr>",
                            "<tr><td>14</td><td>2</td></tr>",
                            "<tr><td>14</td><td>5</td></tr>",
                            "<tr><td>14</td><td>8</td></tr>",
                            "<tr><td>14</td><td>11</td></tr>",
                            "<tr><td>14</td><td>15</td></tr>",
                            "<tr><td>15</td><td>1</td></tr>",
                            "<tr><td>15</td><td>5</td></tr>",
                            "<tr><td>15</td><td>9</td></tr>",
                            "<tr><td>15</td><td>13</td></tr>",
                            "<tr><td>15</td><td>15</td></tr>",
                            "<tr><td>16</td><td>1</td></tr>",
                            "<tr><td>16</td><td>6</td></tr>",
                            "<tr><td>16</td><td>8</td></tr>",
                            "<tr><td>16</td><td>10</td></tr>",
                            "<tr><td>16</td><td>12</td></tr>",
                            "<tr><td>17</td><td>3</td></tr>",
                            "<tr><td>17</td><td>5</td></tr>",
                            "<tr><td>17</td><td>11</td></tr>",
                            "<tr><td>17</td><td>14</td></tr>",
                            "<tr><td>17</td><td>15</td></tr>",
                            "<tr><td>18</td><td>1</td></tr>",
                            "<tr><td>18</td><td>4</td></tr>",
                            "<tr><td>18</td><td>7</td></tr>",
                            "<tr><td>18</td><td>8</td></tr>",
                            "<tr><td>18</td><td>9</td></tr>",
                            "<tr><td>19</td><td>2</td></tr>",
                            "<tr><td>19</td><td>4</td></tr>",
                            "<tr><td>19</td><td>7</td></tr>",
                            "<tr><td>19</td><td>10</td></tr>",
                            "<tr><td>19</td><td>12</td></tr>",
                            "<tr><td>20</td><td>1</td></tr>",
                            "<tr><td>20</td><td>6</td></tr>",
                            "<tr><td>20</td><td>11</td></tr>",
                            "<tr><td>20</td><td>13</td></tr>",
                            "<tr><td>20</td><td>14</td></tr>",
                            "</table>"
                        ]
                    }
                },
                {
                    "output_type": "execute_result",
                    "metadata": {},
                    "execution_count": 5,
                    "data": {
                        "application/vnd.dataresource+json": {
                            "schema": {
                                "fields": [
                                    {
                                        "name": "ID"
                                    },
                                    {
                                        "name": "Jugador 1"
                                    },
                                    {
                                        "name": "Jugador 2"
                                    },
                                    {
                                        "name": "Fecha"
                                    }
                                ]
                            },
                            "data": [
                                {
                                    "0": "1",
                                    "1": "4",
                                    "2": "3",
                                    "3": "2020-06-03"
                                },
                                {
                                    "0": "2",
                                    "1": "2",
                                    "2": "5",
                                    "3": "2020-06-03"
                                },
                                {
                                    "0": "3",
                                    "1": "1",
                                    "2": "5",
                                    "3": "2020-06-03"
                                },
                                {
                                    "0": "4",
                                    "1": "5",
                                    "2": "4",
                                    "3": "2020-06-03"
                                },
                                {
                                    "0": "5",
                                    "1": "1",
                                    "2": "3",
                                    "3": "2020-06-03"
                                },
                                {
                                    "0": "6",
                                    "1": "5",
                                    "2": "2",
                                    "3": "2020-06-03"
                                },
                                {
                                    "0": "7",
                                    "1": "5",
                                    "2": "4",
                                    "3": "2020-06-03"
                                },
                                {
                                    "0": "8",
                                    "1": "5",
                                    "2": "1",
                                    "3": "2020-06-03"
                                },
                                {
                                    "0": "9",
                                    "1": "2",
                                    "2": "5",
                                    "3": "2020-06-03"
                                },
                                {
                                    "0": "10",
                                    "1": "2",
                                    "2": "4",
                                    "3": "2020-06-03"
                                },
                                {
                                    "0": "11",
                                    "1": "5",
                                    "2": "1",
                                    "3": "2020-06-03"
                                },
                                {
                                    "0": "12",
                                    "1": "1",
                                    "2": "2",
                                    "3": "2020-06-03"
                                },
                                {
                                    "0": "13",
                                    "1": "3",
                                    "2": "2",
                                    "3": "2020-06-03"
                                },
                                {
                                    "0": "14",
                                    "1": "4",
                                    "2": "1",
                                    "3": "2020-06-03"
                                },
                                {
                                    "0": "15",
                                    "1": "2",
                                    "2": "5",
                                    "3": "2020-06-03"
                                },
                                {
                                    "0": "16",
                                    "1": "2",
                                    "2": "3",
                                    "3": "2020-06-03"
                                },
                                {
                                    "0": "17",
                                    "1": "3",
                                    "2": "1",
                                    "3": "2020-06-03"
                                },
                                {
                                    "0": "18",
                                    "1": "3",
                                    "2": "1",
                                    "3": "2020-06-03"
                                },
                                {
                                    "0": "19",
                                    "1": "1",
                                    "2": "2",
                                    "3": "2020-06-03"
                                },
                                {
                                    "0": "20",
                                    "1": "5",
                                    "2": "3",
                                    "3": "2020-06-03"
                                },
                                {
                                    "0": "21",
                                    "1": "5",
                                    "2": "1",
                                    "3": "2020-06-03"
                                },
                                {
                                    "0": "22",
                                    "1": "4",
                                    "2": "3",
                                    "3": "2020-06-03"
                                },
                                {
                                    "0": "23",
                                    "1": "4",
                                    "2": "3",
                                    "3": "2020-06-03"
                                },
                                {
                                    "0": "24",
                                    "1": "2",
                                    "2": "3",
                                    "3": "2020-06-03"
                                },
                                {
                                    "0": "25",
                                    "1": "5",
                                    "2": "4",
                                    "3": "2020-06-03"
                                },
                                {
                                    "0": "26",
                                    "1": "5",
                                    "2": "4",
                                    "3": "2020-06-03"
                                },
                                {
                                    "0": "27",
                                    "1": "2",
                                    "2": "4",
                                    "3": "2020-06-03"
                                },
                                {
                                    "0": "28",
                                    "1": "5",
                                    "2": "3",
                                    "3": "2020-06-03"
                                },
                                {
                                    "0": "29",
                                    "1": "2",
                                    "2": "1",
                                    "3": "2020-06-03"
                                },
                                {
                                    "0": "30",
                                    "1": "1",
                                    "2": "4",
                                    "3": "2020-06-03"
                                },
                                {
                                    "0": "31",
                                    "1": "1",
                                    "2": "3",
                                    "3": "2020-06-03"
                                },
                                {
                                    "0": "32",
                                    "1": "2",
                                    "2": "4",
                                    "3": "2020-06-03"
                                },
                                {
                                    "0": "33",
                                    "1": "5",
                                    "2": "1",
                                    "3": "2020-06-03"
                                },
                                {
                                    "0": "34",
                                    "1": "1",
                                    "2": "4",
                                    "3": "2020-06-03"
                                },
                                {
                                    "0": "35",
                                    "1": "1",
                                    "2": "5",
                                    "3": "2020-06-03"
                                },
                                {
                                    "0": "36",
                                    "1": "3",
                                    "2": "5",
                                    "3": "2020-06-03"
                                },
                                {
                                    "0": "37",
                                    "1": "2",
                                    "2": "4",
                                    "3": "2020-06-03"
                                },
                                {
                                    "0": "38",
                                    "1": "1",
                                    "2": "4",
                                    "3": "2020-06-03"
                                },
                                {
                                    "0": "39",
                                    "1": "5",
                                    "2": "3",
                                    "3": "2020-06-03"
                                },
                                {
                                    "0": "40",
                                    "1": "5",
                                    "2": "4",
                                    "3": "2020-06-03"
                                },
                                {
                                    "0": "41",
                                    "1": "3",
                                    "2": "1",
                                    "3": "2020-06-03"
                                },
                                {
                                    "0": "42",
                                    "1": "4",
                                    "2": "2",
                                    "3": "2020-06-03"
                                },
                                {
                                    "0": "43",
                                    "1": "3",
                                    "2": "2",
                                    "3": "2020-06-03"
                                },
                                {
                                    "0": "44",
                                    "1": "2",
                                    "2": "1",
                                    "3": "2020-06-03"
                                },
                                {
                                    "0": "45",
                                    "1": "2",
                                    "2": "4",
                                    "3": "2020-06-03"
                                },
                                {
                                    "0": "46",
                                    "1": "3",
                                    "2": "4",
                                    "3": "2020-06-03"
                                },
                                {
                                    "0": "47",
                                    "1": "5",
                                    "2": "4",
                                    "3": "2020-06-03"
                                },
                                {
                                    "0": "48",
                                    "1": "4",
                                    "2": "1",
                                    "3": "2020-06-03"
                                },
                                {
                                    "0": "49",
                                    "1": "1",
                                    "2": "5",
                                    "3": "2020-06-03"
                                },
                                {
                                    "0": "50",
                                    "1": "2",
                                    "2": "3",
                                    "3": "2020-06-03"
                                },
                                {
                                    "0": "51",
                                    "1": "5",
                                    "2": "3",
                                    "3": "2020-06-03"
                                },
                                {
                                    "0": "52",
                                    "1": "1",
                                    "2": "2",
                                    "3": "2020-06-03"
                                },
                                {
                                    "0": "53",
                                    "1": "1",
                                    "2": "4",
                                    "3": "2020-06-03"
                                },
                                {
                                    "0": "54",
                                    "1": "1",
                                    "2": "4",
                                    "3": "2020-06-03"
                                },
                                {
                                    "0": "55",
                                    "1": "2",
                                    "2": "1",
                                    "3": "2020-06-03"
                                },
                                {
                                    "0": "56",
                                    "1": "1",
                                    "2": "4",
                                    "3": "2020-06-03"
                                },
                                {
                                    "0": "57",
                                    "1": "2",
                                    "2": "1",
                                    "3": "2020-06-03"
                                },
                                {
                                    "0": "58",
                                    "1": "5",
                                    "2": "2",
                                    "3": "2020-06-03"
                                },
                                {
                                    "0": "59",
                                    "1": "5",
                                    "2": "3",
                                    "3": "2020-06-03"
                                },
                                {
                                    "0": "60",
                                    "1": "5",
                                    "2": "2",
                                    "3": "2020-06-03"
                                },
                                {
                                    "0": "61",
                                    "1": "5",
                                    "2": "4",
                                    "3": "2020-06-03"
                                },
                                {
                                    "0": "62",
                                    "1": "3",
                                    "2": "2",
                                    "3": "2020-06-03"
                                },
                                {
                                    "0": "63",
                                    "1": "1",
                                    "2": "3",
                                    "3": "2020-06-03"
                                },
                                {
                                    "0": "64",
                                    "1": "5",
                                    "2": "1",
                                    "3": "2020-06-03"
                                },
                                {
                                    "0": "65",
                                    "1": "1",
                                    "2": "5",
                                    "3": "2020-06-03"
                                },
                                {
                                    "0": "66",
                                    "1": "5",
                                    "2": "1",
                                    "3": "2020-06-03"
                                },
                                {
                                    "0": "67",
                                    "1": "5",
                                    "2": "2",
                                    "3": "2020-06-03"
                                },
                                {
                                    "0": "68",
                                    "1": "3",
                                    "2": "2",
                                    "3": "2020-06-03"
                                },
                                {
                                    "0": "69",
                                    "1": "1",
                                    "2": "2",
                                    "3": "2020-06-03"
                                },
                                {
                                    "0": "70",
                                    "1": "3",
                                    "2": "5",
                                    "3": "2020-06-03"
                                },
                                {
                                    "0": "71",
                                    "1": "3",
                                    "2": "2",
                                    "3": "2020-06-03"
                                },
                                {
                                    "0": "72",
                                    "1": "2",
                                    "2": "4",
                                    "3": "2020-06-03"
                                },
                                {
                                    "0": "73",
                                    "1": "2",
                                    "2": "3",
                                    "3": "2020-06-03"
                                },
                                {
                                    "0": "74",
                                    "1": "1",
                                    "2": "5",
                                    "3": "2020-06-03"
                                },
                                {
                                    "0": "75",
                                    "1": "4",
                                    "2": "1",
                                    "3": "2020-06-03"
                                },
                                {
                                    "0": "76",
                                    "1": "5",
                                    "2": "3",
                                    "3": "2020-06-03"
                                },
                                {
                                    "0": "77",
                                    "1": "4",
                                    "2": "2",
                                    "3": "2020-06-03"
                                },
                                {
                                    "0": "78",
                                    "1": "2",
                                    "2": "3",
                                    "3": "2020-06-03"
                                },
                                {
                                    "0": "79",
                                    "1": "1",
                                    "2": "5",
                                    "3": "2020-06-03"
                                },
                                {
                                    "0": "80",
                                    "1": "1",
                                    "2": "2",
                                    "3": "2020-06-03"
                                },
                                {
                                    "0": "81",
                                    "1": "2",
                                    "2": "5",
                                    "3": "2020-06-03"
                                },
                                {
                                    "0": "82",
                                    "1": "3",
                                    "2": "5",
                                    "3": "2020-06-03"
                                },
                                {
                                    "0": "83",
                                    "1": "1",
                                    "2": "3",
                                    "3": "2020-06-03"
                                },
                                {
                                    "0": "84",
                                    "1": "4",
                                    "2": "1",
                                    "3": "2020-06-03"
                                },
                                {
                                    "0": "85",
                                    "1": "4",
                                    "2": "1",
                                    "3": "2020-06-03"
                                },
                                {
                                    "0": "86",
                                    "1": "1",
                                    "2": "3",
                                    "3": "2020-06-03"
                                },
                                {
                                    "0": "87",
                                    "1": "1",
                                    "2": "4",
                                    "3": "2020-06-03"
                                },
                                {
                                    "0": "88",
                                    "1": "4",
                                    "2": "2",
                                    "3": "2020-06-03"
                                },
                                {
                                    "0": "89",
                                    "1": "4",
                                    "2": "3",
                                    "3": "2020-06-03"
                                },
                                {
                                    "0": "90",
                                    "1": "4",
                                    "2": "5",
                                    "3": "2020-06-03"
                                },
                                {
                                    "0": "91",
                                    "1": "5",
                                    "2": "3",
                                    "3": "2020-06-03"
                                },
                                {
                                    "0": "92",
                                    "1": "1",
                                    "2": "5",
                                    "3": "2020-06-03"
                                },
                                {
                                    "0": "93",
                                    "1": "3",
                                    "2": "5",
                                    "3": "2020-06-03"
                                },
                                {
                                    "0": "94",
                                    "1": "3",
                                    "2": "1",
                                    "3": "2020-06-03"
                                },
                                {
                                    "0": "95",
                                    "1": "3",
                                    "2": "4",
                                    "3": "2020-06-03"
                                },
                                {
                                    "0": "96",
                                    "1": "4",
                                    "2": "5",
                                    "3": "2020-06-03"
                                },
                                {
                                    "0": "97",
                                    "1": "4",
                                    "2": "3",
                                    "3": "2020-06-03"
                                },
                                {
                                    "0": "98",
                                    "1": "4",
                                    "2": "5",
                                    "3": "2020-06-03"
                                },
                                {
                                    "0": "99",
                                    "1": "3",
                                    "2": "1",
                                    "3": "2020-06-03"
                                },
                                {
                                    "0": "100",
                                    "1": "2",
                                    "2": "5",
                                    "3": "2020-06-03"
                                }
                            ]
                        },
                        "text/html": [
                            "<table>",
                            "<tr><th>ID</th><th>Jugador 1</th><th>Jugador 2</th><th>Fecha</th></tr>",
                            "<tr><td>1</td><td>4</td><td>3</td><td>2020-06-03</td></tr>",
                            "<tr><td>2</td><td>2</td><td>5</td><td>2020-06-03</td></tr>",
                            "<tr><td>3</td><td>1</td><td>5</td><td>2020-06-03</td></tr>",
                            "<tr><td>4</td><td>5</td><td>4</td><td>2020-06-03</td></tr>",
                            "<tr><td>5</td><td>1</td><td>3</td><td>2020-06-03</td></tr>",
                            "<tr><td>6</td><td>5</td><td>2</td><td>2020-06-03</td></tr>",
                            "<tr><td>7</td><td>5</td><td>4</td><td>2020-06-03</td></tr>",
                            "<tr><td>8</td><td>5</td><td>1</td><td>2020-06-03</td></tr>",
                            "<tr><td>9</td><td>2</td><td>5</td><td>2020-06-03</td></tr>",
                            "<tr><td>10</td><td>2</td><td>4</td><td>2020-06-03</td></tr>",
                            "<tr><td>11</td><td>5</td><td>1</td><td>2020-06-03</td></tr>",
                            "<tr><td>12</td><td>1</td><td>2</td><td>2020-06-03</td></tr>",
                            "<tr><td>13</td><td>3</td><td>2</td><td>2020-06-03</td></tr>",
                            "<tr><td>14</td><td>4</td><td>1</td><td>2020-06-03</td></tr>",
                            "<tr><td>15</td><td>2</td><td>5</td><td>2020-06-03</td></tr>",
                            "<tr><td>16</td><td>2</td><td>3</td><td>2020-06-03</td></tr>",
                            "<tr><td>17</td><td>3</td><td>1</td><td>2020-06-03</td></tr>",
                            "<tr><td>18</td><td>3</td><td>1</td><td>2020-06-03</td></tr>",
                            "<tr><td>19</td><td>1</td><td>2</td><td>2020-06-03</td></tr>",
                            "<tr><td>20</td><td>5</td><td>3</td><td>2020-06-03</td></tr>",
                            "<tr><td>21</td><td>5</td><td>1</td><td>2020-06-03</td></tr>",
                            "<tr><td>22</td><td>4</td><td>3</td><td>2020-06-03</td></tr>",
                            "<tr><td>23</td><td>4</td><td>3</td><td>2020-06-03</td></tr>",
                            "<tr><td>24</td><td>2</td><td>3</td><td>2020-06-03</td></tr>",
                            "<tr><td>25</td><td>5</td><td>4</td><td>2020-06-03</td></tr>",
                            "<tr><td>26</td><td>5</td><td>4</td><td>2020-06-03</td></tr>",
                            "<tr><td>27</td><td>2</td><td>4</td><td>2020-06-03</td></tr>",
                            "<tr><td>28</td><td>5</td><td>3</td><td>2020-06-03</td></tr>",
                            "<tr><td>29</td><td>2</td><td>1</td><td>2020-06-03</td></tr>",
                            "<tr><td>30</td><td>1</td><td>4</td><td>2020-06-03</td></tr>",
                            "<tr><td>31</td><td>1</td><td>3</td><td>2020-06-03</td></tr>",
                            "<tr><td>32</td><td>2</td><td>4</td><td>2020-06-03</td></tr>",
                            "<tr><td>33</td><td>5</td><td>1</td><td>2020-06-03</td></tr>",
                            "<tr><td>34</td><td>1</td><td>4</td><td>2020-06-03</td></tr>",
                            "<tr><td>35</td><td>1</td><td>5</td><td>2020-06-03</td></tr>",
                            "<tr><td>36</td><td>3</td><td>5</td><td>2020-06-03</td></tr>",
                            "<tr><td>37</td><td>2</td><td>4</td><td>2020-06-03</td></tr>",
                            "<tr><td>38</td><td>1</td><td>4</td><td>2020-06-03</td></tr>",
                            "<tr><td>39</td><td>5</td><td>3</td><td>2020-06-03</td></tr>",
                            "<tr><td>40</td><td>5</td><td>4</td><td>2020-06-03</td></tr>",
                            "<tr><td>41</td><td>3</td><td>1</td><td>2020-06-03</td></tr>",
                            "<tr><td>42</td><td>4</td><td>2</td><td>2020-06-03</td></tr>",
                            "<tr><td>43</td><td>3</td><td>2</td><td>2020-06-03</td></tr>",
                            "<tr><td>44</td><td>2</td><td>1</td><td>2020-06-03</td></tr>",
                            "<tr><td>45</td><td>2</td><td>4</td><td>2020-06-03</td></tr>",
                            "<tr><td>46</td><td>3</td><td>4</td><td>2020-06-03</td></tr>",
                            "<tr><td>47</td><td>5</td><td>4</td><td>2020-06-03</td></tr>",
                            "<tr><td>48</td><td>4</td><td>1</td><td>2020-06-03</td></tr>",
                            "<tr><td>49</td><td>1</td><td>5</td><td>2020-06-03</td></tr>",
                            "<tr><td>50</td><td>2</td><td>3</td><td>2020-06-03</td></tr>",
                            "<tr><td>51</td><td>5</td><td>3</td><td>2020-06-03</td></tr>",
                            "<tr><td>52</td><td>1</td><td>2</td><td>2020-06-03</td></tr>",
                            "<tr><td>53</td><td>1</td><td>4</td><td>2020-06-03</td></tr>",
                            "<tr><td>54</td><td>1</td><td>4</td><td>2020-06-03</td></tr>",
                            "<tr><td>55</td><td>2</td><td>1</td><td>2020-06-03</td></tr>",
                            "<tr><td>56</td><td>1</td><td>4</td><td>2020-06-03</td></tr>",
                            "<tr><td>57</td><td>2</td><td>1</td><td>2020-06-03</td></tr>",
                            "<tr><td>58</td><td>5</td><td>2</td><td>2020-06-03</td></tr>",
                            "<tr><td>59</td><td>5</td><td>3</td><td>2020-06-03</td></tr>",
                            "<tr><td>60</td><td>5</td><td>2</td><td>2020-06-03</td></tr>",
                            "<tr><td>61</td><td>5</td><td>4</td><td>2020-06-03</td></tr>",
                            "<tr><td>62</td><td>3</td><td>2</td><td>2020-06-03</td></tr>",
                            "<tr><td>63</td><td>1</td><td>3</td><td>2020-06-03</td></tr>",
                            "<tr><td>64</td><td>5</td><td>1</td><td>2020-06-03</td></tr>",
                            "<tr><td>65</td><td>1</td><td>5</td><td>2020-06-03</td></tr>",
                            "<tr><td>66</td><td>5</td><td>1</td><td>2020-06-03</td></tr>",
                            "<tr><td>67</td><td>5</td><td>2</td><td>2020-06-03</td></tr>",
                            "<tr><td>68</td><td>3</td><td>2</td><td>2020-06-03</td></tr>",
                            "<tr><td>69</td><td>1</td><td>2</td><td>2020-06-03</td></tr>",
                            "<tr><td>70</td><td>3</td><td>5</td><td>2020-06-03</td></tr>",
                            "<tr><td>71</td><td>3</td><td>2</td><td>2020-06-03</td></tr>",
                            "<tr><td>72</td><td>2</td><td>4</td><td>2020-06-03</td></tr>",
                            "<tr><td>73</td><td>2</td><td>3</td><td>2020-06-03</td></tr>",
                            "<tr><td>74</td><td>1</td><td>5</td><td>2020-06-03</td></tr>",
                            "<tr><td>75</td><td>4</td><td>1</td><td>2020-06-03</td></tr>",
                            "<tr><td>76</td><td>5</td><td>3</td><td>2020-06-03</td></tr>",
                            "<tr><td>77</td><td>4</td><td>2</td><td>2020-06-03</td></tr>",
                            "<tr><td>78</td><td>2</td><td>3</td><td>2020-06-03</td></tr>",
                            "<tr><td>79</td><td>1</td><td>5</td><td>2020-06-03</td></tr>",
                            "<tr><td>80</td><td>1</td><td>2</td><td>2020-06-03</td></tr>",
                            "<tr><td>81</td><td>2</td><td>5</td><td>2020-06-03</td></tr>",
                            "<tr><td>82</td><td>3</td><td>5</td><td>2020-06-03</td></tr>",
                            "<tr><td>83</td><td>1</td><td>3</td><td>2020-06-03</td></tr>",
                            "<tr><td>84</td><td>4</td><td>1</td><td>2020-06-03</td></tr>",
                            "<tr><td>85</td><td>4</td><td>1</td><td>2020-06-03</td></tr>",
                            "<tr><td>86</td><td>1</td><td>3</td><td>2020-06-03</td></tr>",
                            "<tr><td>87</td><td>1</td><td>4</td><td>2020-06-03</td></tr>",
                            "<tr><td>88</td><td>4</td><td>2</td><td>2020-06-03</td></tr>",
                            "<tr><td>89</td><td>4</td><td>3</td><td>2020-06-03</td></tr>",
                            "<tr><td>90</td><td>4</td><td>5</td><td>2020-06-03</td></tr>",
                            "<tr><td>91</td><td>5</td><td>3</td><td>2020-06-03</td></tr>",
                            "<tr><td>92</td><td>1</td><td>5</td><td>2020-06-03</td></tr>",
                            "<tr><td>93</td><td>3</td><td>5</td><td>2020-06-03</td></tr>",
                            "<tr><td>94</td><td>3</td><td>1</td><td>2020-06-03</td></tr>",
                            "<tr><td>95</td><td>3</td><td>4</td><td>2020-06-03</td></tr>",
                            "<tr><td>96</td><td>4</td><td>5</td><td>2020-06-03</td></tr>",
                            "<tr><td>97</td><td>4</td><td>3</td><td>2020-06-03</td></tr>",
                            "<tr><td>98</td><td>4</td><td>5</td><td>2020-06-03</td></tr>",
                            "<tr><td>99</td><td>3</td><td>1</td><td>2020-06-03</td></tr>",
                            "<tr><td>100</td><td>2</td><td>5</td><td>2020-06-03</td></tr>",
                            "</table>"
                        ]
                    }
                },
                {
                    "output_type": "execute_result",
                    "metadata": {},
                    "execution_count": 5,
                    "data": {
                        "application/vnd.dataresource+json": {
                            "schema": {
                                "fields": [
                                    {
                                        "name": "Combate"
                                    },
                                    {
                                        "name": "Bicho 1"
                                    },
                                    {
                                        "name": "Bicho 2"
                                    },
                                    {
                                        "name": "Ataque 1"
                                    },
                                    {
                                        "name": "Ataque 2"
                                    },
                                    {
                                        "name": "Daño 1"
                                    },
                                    {
                                        "name": "Daño 2"
                                    },
                                    {
                                        "name": "Ganador"
                                    }
                                ]
                            },
                            "data": [
                                {
                                    "0": "1",
                                    "1": "2",
                                    "2": "20",
                                    "3": "12",
                                    "4": "11",
                                    "5": "91",
                                    "6": "62",
                                    "7": "4"
                                },
                                {
                                    "0": "1",
                                    "1": "2",
                                    "2": "20",
                                    "3": "7",
                                    "4": "16",
                                    "5": "56",
                                    "6": "56",
                                    "7": "3"
                                },
                                {
                                    "0": "2",
                                    "1": "1",
                                    "2": "17",
                                    "3": "6",
                                    "4": "4",
                                    "5": "70",
                                    "6": "49",
                                    "7": "2"
                                },
                                {
                                    "0": "3",
                                    "1": "15",
                                    "2": "3",
                                    "3": "1",
                                    "4": "13",
                                    "5": "33",
                                    "6": "75",
                                    "7": "5"
                                },
                                {
                                    "0": "3",
                                    "1": "15",
                                    "2": "17",
                                    "3": "8",
                                    "4": "7",
                                    "5": "82",
                                    "6": "2",
                                    "7": "1"
                                },
                                {
                                    "0": "4",
                                    "1": "3",
                                    "2": "2",
                                    "3": "2",
                                    "4": "14",
                                    "5": "83",
                                    "6": "98",
                                    "7": "4"
                                },
                                {
                                    "0": "5",
                                    "1": "15",
                                    "2": "18",
                                    "3": "15",
                                    "4": "4",
                                    "5": "47",
                                    "6": "72",
                                    "7": "3"
                                },
                                {
                                    "0": "6",
                                    "1": "17",
                                    "2": "7",
                                    "3": "16",
                                    "4": "11",
                                    "5": "75",
                                    "6": "85",
                                    "7": "2"
                                },
                                {
                                    "0": "6",
                                    "1": "3",
                                    "2": "7",
                                    "3": "9",
                                    "4": "9",
                                    "5": "14",
                                    "6": "59",
                                    "7": "2"
                                },
                                {
                                    "0": "7",
                                    "1": "6",
                                    "2": "10",
                                    "3": "12",
                                    "4": "2",
                                    "5": "72",
                                    "6": "66",
                                    "7": "5"
                                },
                                {
                                    "0": "10",
                                    "1": "1",
                                    "2": "2",
                                    "3": "5",
                                    "4": "10",
                                    "5": "20",
                                    "6": "5",
                                    "7": "2"
                                },
                                {
                                    "0": "11",
                                    "1": "17",
                                    "2": "15",
                                    "3": "2",
                                    "4": "16",
                                    "5": "70",
                                    "6": "43",
                                    "7": "5"
                                },
                                {
                                    "0": "12",
                                    "1": "9",
                                    "2": "1",
                                    "3": "10",
                                    "4": "4",
                                    "5": "2",
                                    "6": "22",
                                    "7": "2"
                                },
                                {
                                    "0": "15",
                                    "1": "1",
                                    "2": "6",
                                    "3": "6",
                                    "4": "9",
                                    "5": "97",
                                    "6": "96",
                                    "7": "2"
                                },
                                {
                                    "0": "19",
                                    "1": "15",
                                    "2": "1",
                                    "3": "8",
                                    "4": "4",
                                    "5": "24",
                                    "6": "26",
                                    "7": "2"
                                },
                                {
                                    "0": "20",
                                    "1": "6",
                                    "2": "13",
                                    "3": "8",
                                    "4": "9",
                                    "5": "72",
                                    "6": "13",
                                    "7": "5"
                                },
                                {
                                    "0": "20",
                                    "1": "6",
                                    "2": "20",
                                    "3": "1",
                                    "4": "11",
                                    "5": "6",
                                    "6": "73",
                                    "7": "3"
                                },
                                {
                                    "0": "21",
                                    "1": "17",
                                    "2": "9",
                                    "3": "13",
                                    "4": "3",
                                    "5": "20",
                                    "6": "84",
                                    "7": "1"
                                },
                                {
                                    "0": "22",
                                    "1": "16",
                                    "2": "18",
                                    "3": "4",
                                    "4": "10",
                                    "5": "84",
                                    "6": "66",
                                    "7": "4"
                                },
                                {
                                    "0": "23",
                                    "1": "10",
                                    "2": "13",
                                    "3": "7",
                                    "4": "16",
                                    "5": "84",
                                    "6": "73",
                                    "7": "4"
                                },
                                {
                                    "0": "24",
                                    "1": "1",
                                    "2": "13",
                                    "3": "16",
                                    "4": "4",
                                    "5": "0",
                                    "6": "44",
                                    "7": "3"
                                },
                                {
                                    "0": "25",
                                    "1": "3",
                                    "2": "10",
                                    "3": "16",
                                    "4": "13",
                                    "5": "68",
                                    "6": "96",
                                    "7": "4"
                                },
                                {
                                    "0": "25",
                                    "1": "6",
                                    "2": "16",
                                    "3": "16",
                                    "4": "6",
                                    "5": "36",
                                    "6": "25",
                                    "7": "5"
                                },
                                {
                                    "0": "26",
                                    "1": "6",
                                    "2": "2",
                                    "3": "14",
                                    "4": "8",
                                    "5": "78",
                                    "6": "95",
                                    "7": "4"
                                },
                                {
                                    "0": "27",
                                    "1": "7",
                                    "2": "2",
                                    "3": "9",
                                    "4": "14",
                                    "5": "31",
                                    "6": "56",
                                    "7": "4"
                                },
                                {
                                    "0": "31",
                                    "1": "15",
                                    "2": "20",
                                    "3": "11",
                                    "4": "14",
                                    "5": "1",
                                    "6": "40",
                                    "7": "3"
                                },
                                {
                                    "0": "31",
                                    "1": "12",
                                    "2": "18",
                                    "3": "4",
                                    "4": "16",
                                    "5": "15",
                                    "6": "43",
                                    "7": "3"
                                },
                                {
                                    "0": "33",
                                    "1": "3",
                                    "2": "9",
                                    "3": "10",
                                    "4": "3",
                                    "5": "51",
                                    "6": "17",
                                    "7": "5"
                                },
                                {
                                    "0": "35",
                                    "1": "12",
                                    "2": "6",
                                    "3": "4",
                                    "4": "12",
                                    "5": "39",
                                    "6": "23",
                                    "7": "1"
                                },
                                {
                                    "0": "36",
                                    "1": "13",
                                    "2": "6",
                                    "3": "6",
                                    "4": "4",
                                    "5": "66",
                                    "6": "78",
                                    "7": "5"
                                },
                                {
                                    "0": "36",
                                    "1": "20",
                                    "2": "17",
                                    "3": "6",
                                    "4": "9",
                                    "5": "94",
                                    "6": "58",
                                    "7": "3"
                                },
                                {
                                    "0": "36",
                                    "1": "20",
                                    "2": "6",
                                    "3": "3",
                                    "4": "12",
                                    "5": "8",
                                    "6": "54",
                                    "7": "5"
                                },
                                {
                                    "0": "37",
                                    "1": "7",
                                    "2": "16",
                                    "3": "7",
                                    "4": "14",
                                    "5": "69",
                                    "6": "64",
                                    "7": "2"
                                },
                                {
                                    "0": "38",
                                    "1": "12",
                                    "2": "16",
                                    "3": "6",
                                    "4": "4",
                                    "5": "82",
                                    "6": "95",
                                    "7": "4"
                                },
                                {
                                    "0": "39",
                                    "1": "17",
                                    "2": "13",
                                    "3": "1",
                                    "4": "2",
                                    "5": "26",
                                    "6": "29",
                                    "7": "3"
                                },
                                {
                                    "0": "42",
                                    "1": "2",
                                    "2": "7",
                                    "3": "14",
                                    "4": "15",
                                    "5": "75",
                                    "6": "82",
                                    "7": "2"
                                },
                                {
                                    "0": "42",
                                    "1": "10",
                                    "2": "1",
                                    "3": "4",
                                    "4": "1",
                                    "5": "48",
                                    "6": "76",
                                    "7": "2"
                                },
                                {
                                    "0": "43",
                                    "1": "20",
                                    "2": "7",
                                    "3": "10",
                                    "4": "13",
                                    "5": "21",
                                    "6": "7",
                                    "7": "3"
                                },
                                {
                                    "0": "43",
                                    "1": "18",
                                    "2": "7",
                                    "3": "5",
                                    "4": "1",
                                    "5": "89",
                                    "6": "17",
                                    "7": "3"
                                },
                                {
                                    "0": "43",
                                    "1": "20",
                                    "2": "1",
                                    "3": "14",
                                    "4": "7",
                                    "5": "24",
                                    "6": "48",
                                    "7": "2"
                                },
                                {
                                    "0": "46",
                                    "1": "20",
                                    "2": "16",
                                    "3": "3",
                                    "4": "13",
                                    "5": "9",
                                    "6": "55",
                                    "7": "4"
                                },
                                {
                                    "0": "46",
                                    "1": "18",
                                    "2": "10",
                                    "3": "3",
                                    "4": "10",
                                    "5": "57",
                                    "6": "69",
                                    "7": "4"
                                },
                                {
                                    "0": "46",
                                    "1": "18",
                                    "2": "2",
                                    "3": "15",
                                    "4": "12",
                                    "5": "25",
                                    "6": "66",
                                    "7": "4"
                                },
                                {
                                    "0": "48",
                                    "1": "10",
                                    "2": "15",
                                    "3": "12",
                                    "4": "13",
                                    "5": "15",
                                    "6": "19",
                                    "7": "1"
                                },
                                {
                                    "0": "48",
                                    "1": "2",
                                    "2": "12",
                                    "3": "16",
                                    "4": "14",
                                    "5": "39",
                                    "6": "14",
                                    "7": "4"
                                },
                                {
                                    "0": "49",
                                    "1": "9",
                                    "2": "3",
                                    "3": "15",
                                    "4": "7",
                                    "5": "75",
                                    "6": "65",
                                    "7": "1"
                                },
                                {
                                    "0": "50",
                                    "1": "1",
                                    "2": "20",
                                    "3": "5",
                                    "4": "3",
                                    "5": "31",
                                    "6": "19",
                                    "7": "2"
                                },
                                {
                                    "0": "51",
                                    "1": "6",
                                    "2": "13",
                                    "3": "1",
                                    "4": "6",
                                    "5": "23",
                                    "6": "74",
                                    "7": "3"
                                },
                                {
                                    "0": "54",
                                    "1": "12",
                                    "2": "16",
                                    "3": "12",
                                    "4": "12",
                                    "5": "78",
                                    "6": "55",
                                    "7": "1"
                                },
                                {
                                    "0": "54",
                                    "1": "12",
                                    "2": "2",
                                    "3": "14",
                                    "4": "11",
                                    "5": "77",
                                    "6": "46",
                                    "7": "1"
                                },
                                {
                                    "0": "55",
                                    "1": "1",
                                    "2": "9",
                                    "3": "5",
                                    "4": "10",
                                    "5": "9",
                                    "6": "54",
                                    "7": "1"
                                },
                                {
                                    "0": "56",
                                    "1": "12",
                                    "2": "10",
                                    "3": "6",
                                    "4": "2",
                                    "5": "85",
                                    "6": "98",
                                    "7": "4"
                                },
                                {
                                    "0": "58",
                                    "1": "6",
                                    "2": "1",
                                    "3": "7",
                                    "4": "15",
                                    "5": "86",
                                    "6": "22",
                                    "7": "5"
                                },
                                {
                                    "0": "59",
                                    "1": "6",
                                    "2": "13",
                                    "3": "3",
                                    "4": "3",
                                    "5": "42",
                                    "6": "90",
                                    "7": "3"
                                },
                                {
                                    "0": "61",
                                    "1": "6",
                                    "2": "10",
                                    "3": "16",
                                    "4": "14",
                                    "5": "0",
                                    "6": "74",
                                    "7": "4"
                                },
                                {
                                    "0": "63",
                                    "1": "12",
                                    "2": "13",
                                    "3": "2",
                                    "4": "10",
                                    "5": "97",
                                    "6": "6",
                                    "7": "1"
                                },
                                {
                                    "0": "64",
                                    "1": "17",
                                    "2": "15",
                                    "3": "6",
                                    "4": "14",
                                    "5": "52",
                                    "6": "47",
                                    "7": "5"
                                },
                                {
                                    "0": "65",
                                    "1": "9",
                                    "2": "17",
                                    "3": "2",
                                    "4": "15",
                                    "5": "86",
                                    "6": "3",
                                    "7": "1"
                                },
                                {
                                    "0": "68",
                                    "1": "18",
                                    "2": "1",
                                    "3": "15",
                                    "4": "16",
                                    "5": "59",
                                    "6": "1",
                                    "7": "3"
                                },
                                {
                                    "0": "68",
                                    "1": "20",
                                    "2": "8",
                                    "3": "7",
                                    "4": "15",
                                    "5": "79",
                                    "6": "66",
                                    "7": "3"
                                },
                                {
                                    "0": "69",
                                    "1": "15",
                                    "2": "7",
                                    "3": "12",
                                    "4": "11",
                                    "5": "21",
                                    "6": "43",
                                    "7": "2"
                                },
                                {
                                    "0": "70",
                                    "1": "18",
                                    "2": "3",
                                    "3": "1",
                                    "4": "1",
                                    "5": "12",
                                    "6": "26",
                                    "7": "5"
                                },
                                {
                                    "0": "72",
                                    "1": "8",
                                    "2": "16",
                                    "3": "12",
                                    "4": "11",
                                    "5": "5",
                                    "6": "87",
                                    "7": "4"
                                },
                                {
                                    "0": "73",
                                    "1": "1",
                                    "2": "20",
                                    "3": "5",
                                    "4": "8",
                                    "5": "69",
                                    "6": "25",
                                    "7": "2"
                                },
                                {
                                    "0": "73",
                                    "1": "1",
                                    "2": "20",
                                    "3": "4",
                                    "4": "5",
                                    "5": "28",
                                    "6": "79",
                                    "7": "3"
                                },
                                {
                                    "0": "73",
                                    "1": "1",
                                    "2": "13",
                                    "3": "2",
                                    "4": "16",
                                    "5": "9",
                                    "6": "87",
                                    "7": "3"
                                },
                                {
                                    "0": "75",
                                    "1": "16",
                                    "2": "12",
                                    "3": "15",
                                    "4": "13",
                                    "5": "93",
                                    "6": "68",
                                    "7": "4"
                                },
                                {
                                    "0": "75",
                                    "1": "16",
                                    "2": "9",
                                    "3": "15",
                                    "4": "14",
                                    "5": "13",
                                    "6": "6",
                                    "7": "4"
                                },
                                {
                                    "0": "76",
                                    "1": "17",
                                    "2": "13",
                                    "3": "8",
                                    "4": "7",
                                    "5": "53",
                                    "6": "51",
                                    "7": "5"
                                },
                                {
                                    "0": "77",
                                    "1": "16",
                                    "2": "1",
                                    "3": "8",
                                    "4": "14",
                                    "5": "84",
                                    "6": "46",
                                    "7": "4"
                                },
                                {
                                    "0": "77",
                                    "1": "16",
                                    "2": "1",
                                    "3": "1",
                                    "4": "14",
                                    "5": "6",
                                    "6": "70",
                                    "7": "2"
                                },
                                {
                                    "0": "78",
                                    "1": "8",
                                    "2": "18",
                                    "3": "9",
                                    "4": "8",
                                    "5": "29",
                                    "6": "55",
                                    "7": "3"
                                },
                                {
                                    "0": "78",
                                    "1": "1",
                                    "2": "20",
                                    "3": "1",
                                    "4": "6",
                                    "5": "86",
                                    "6": "85",
                                    "7": "2"
                                },
                                {
                                    "0": "78",
                                    "1": "8",
                                    "2": "20",
                                    "3": "13",
                                    "4": "11",
                                    "5": "24",
                                    "6": "48",
                                    "7": "3"
                                },
                                {
                                    "0": "80",
                                    "1": "12",
                                    "2": "1",
                                    "3": "15",
                                    "4": "13",
                                    "5": "13",
                                    "6": "47",
                                    "7": "2"
                                },
                                {
                                    "0": "80",
                                    "1": "12",
                                    "2": "1",
                                    "3": "6",
                                    "4": "10",
                                    "5": "91",
                                    "6": "67",
                                    "7": "1"
                                },
                                {
                                    "0": "81",
                                    "1": "1",
                                    "2": "3",
                                    "3": "9",
                                    "4": "4",
                                    "5": "49",
                                    "6": "12",
                                    "7": "2"
                                },
                                {
                                    "0": "83",
                                    "1": "15",
                                    "2": "13",
                                    "3": "14",
                                    "4": "5",
                                    "5": "29",
                                    "6": "69",
                                    "7": "3"
                                },
                                {
                                    "0": "83",
                                    "1": "12",
                                    "2": "20",
                                    "3": "16",
                                    "4": "15",
                                    "5": "76",
                                    "6": "78",
                                    "7": "3"
                                },
                                {
                                    "0": "85",
                                    "1": "16",
                                    "2": "9",
                                    "3": "1",
                                    "4": "12",
                                    "5": "54",
                                    "6": "74",
                                    "7": "1"
                                },
                                {
                                    "0": "85",
                                    "1": "16",
                                    "2": "9",
                                    "3": "9",
                                    "4": "16",
                                    "5": "10",
                                    "6": "91",
                                    "7": "1"
                                },
                                {
                                    "0": "86",
                                    "1": "15",
                                    "2": "13",
                                    "3": "7",
                                    "4": "16",
                                    "5": "97",
                                    "6": "55",
                                    "7": "1"
                                },
                                {
                                    "0": "87",
                                    "1": "12",
                                    "2": "10",
                                    "3": "11",
                                    "4": "16",
                                    "5": "14",
                                    "6": "87",
                                    "7": "4"
                                },
                                {
                                    "0": "87",
                                    "1": "12",
                                    "2": "10",
                                    "3": "13",
                                    "4": "1",
                                    "5": "14",
                                    "6": "35",
                                    "7": "4"
                                },
                                {
                                    "0": "88",
                                    "1": "16",
                                    "2": "1",
                                    "3": "12",
                                    "4": "13",
                                    "5": "78",
                                    "6": "30",
                                    "7": "4"
                                },
                                {
                                    "0": "88",
                                    "1": "16",
                                    "2": "8",
                                    "3": "16",
                                    "4": "10",
                                    "5": "99",
                                    "6": "63",
                                    "7": "4"
                                },
                                {
                                    "0": "89",
                                    "1": "10",
                                    "2": "18",
                                    "3": "11",
                                    "4": "11",
                                    "5": "74",
                                    "6": "73",
                                    "7": "4"
                                },
                                {
                                    "0": "89",
                                    "1": "16",
                                    "2": "18",
                                    "3": "3",
                                    "4": "1",
                                    "5": "33",
                                    "6": "63",
                                    "7": "3"
                                },
                                {
                                    "0": "89",
                                    "1": "10",
                                    "2": "13",
                                    "3": "4",
                                    "4": "11",
                                    "5": "59",
                                    "6": "63",
                                    "7": "3"
                                },
                                {
                                    "0": "90",
                                    "1": "16",
                                    "2": "6",
                                    "3": "7",
                                    "4": "6",
                                    "5": "7",
                                    "6": "93",
                                    "7": "5"
                                },
                                {
                                    "0": "92",
                                    "1": "9",
                                    "2": "3",
                                    "3": "13",
                                    "4": "3",
                                    "5": "5",
                                    "6": "33",
                                    "7": "5"
                                },
                                {
                                    "0": "93",
                                    "1": "13",
                                    "2": "17",
                                    "3": "8",
                                    "4": "7",
                                    "5": "51",
                                    "6": "90",
                                    "7": "5"
                                },
                                {
                                    "0": "93",
                                    "1": "20",
                                    "2": "17",
                                    "3": "8",
                                    "4": "9",
                                    "5": "53",
                                    "6": "13",
                                    "7": "3"
                                },
                                {
                                    "0": "95",
                                    "1": "20",
                                    "2": "2",
                                    "3": "13",
                                    "4": "16",
                                    "5": "95",
                                    "6": "23",
                                    "7": "3"
                                },
                                {
                                    "0": "95",
                                    "1": "18",
                                    "2": "16",
                                    "3": "9",
                                    "4": "15",
                                    "5": "71",
                                    "6": "58",
                                    "7": "3"
                                },
                                {
                                    "0": "96",
                                    "1": "16",
                                    "2": "17",
                                    "3": "2",
                                    "4": "1",
                                    "5": "30",
                                    "6": "1",
                                    "7": "4"
                                },
                                {
                                    "0": "97",
                                    "1": "10",
                                    "2": "20",
                                    "3": "16",
                                    "4": "5",
                                    "5": "42",
                                    "6": "70",
                                    "7": "3"
                                },
                                {
                                    "0": "97",
                                    "1": "10",
                                    "2": "18",
                                    "3": "13",
                                    "4": "12",
                                    "5": "75",
                                    "6": "79",
                                    "7": "3"
                                },
                                {
                                    "0": "97",
                                    "1": "10",
                                    "2": "18",
                                    "3": "8",
                                    "4": "11",
                                    "5": "11",
                                    "6": "62",
                                    "7": "3"
                                },
                                {
                                    "0": "98",
                                    "1": "16",
                                    "2": "6",
                                    "3": "3",
                                    "4": "3",
                                    "5": "86",
                                    "6": "41",
                                    "7": "4"
                                }
                            ]
                        },
                        "text/html": [
                            "<table>",
                            "<tr><th>Combate</th><th>Bicho 1</th><th>Bicho 2</th><th>Ataque 1</th><th>Ataque 2</th><th>Daño 1</th><th>Daño 2</th><th>Ganador</th></tr>",
                            "<tr><td>1</td><td>2</td><td>20</td><td>12</td><td>11</td><td>91</td><td>62</td><td>4</td></tr>",
                            "<tr><td>1</td><td>2</td><td>20</td><td>7</td><td>16</td><td>56</td><td>56</td><td>3</td></tr>",
                            "<tr><td>2</td><td>1</td><td>17</td><td>6</td><td>4</td><td>70</td><td>49</td><td>2</td></tr>",
                            "<tr><td>3</td><td>15</td><td>3</td><td>1</td><td>13</td><td>33</td><td>75</td><td>5</td></tr>",
                            "<tr><td>3</td><td>15</td><td>17</td><td>8</td><td>7</td><td>82</td><td>2</td><td>1</td></tr>",
                            "<tr><td>4</td><td>3</td><td>2</td><td>2</td><td>14</td><td>83</td><td>98</td><td>4</td></tr>",
                            "<tr><td>5</td><td>15</td><td>18</td><td>15</td><td>4</td><td>47</td><td>72</td><td>3</td></tr>",
                            "<tr><td>6</td><td>17</td><td>7</td><td>16</td><td>11</td><td>75</td><td>85</td><td>2</td></tr>",
                            "<tr><td>6</td><td>3</td><td>7</td><td>9</td><td>9</td><td>14</td><td>59</td><td>2</td></tr>",
                            "<tr><td>7</td><td>6</td><td>10</td><td>12</td><td>2</td><td>72</td><td>66</td><td>5</td></tr>",
                            "<tr><td>10</td><td>1</td><td>2</td><td>5</td><td>10</td><td>20</td><td>5</td><td>2</td></tr>",
                            "<tr><td>11</td><td>17</td><td>15</td><td>2</td><td>16</td><td>70</td><td>43</td><td>5</td></tr>",
                            "<tr><td>12</td><td>9</td><td>1</td><td>10</td><td>4</td><td>2</td><td>22</td><td>2</td></tr>",
                            "<tr><td>15</td><td>1</td><td>6</td><td>6</td><td>9</td><td>97</td><td>96</td><td>2</td></tr>",
                            "<tr><td>19</td><td>15</td><td>1</td><td>8</td><td>4</td><td>24</td><td>26</td><td>2</td></tr>",
                            "<tr><td>20</td><td>6</td><td>13</td><td>8</td><td>9</td><td>72</td><td>13</td><td>5</td></tr>",
                            "<tr><td>20</td><td>6</td><td>20</td><td>1</td><td>11</td><td>6</td><td>73</td><td>3</td></tr>",
                            "<tr><td>21</td><td>17</td><td>9</td><td>13</td><td>3</td><td>20</td><td>84</td><td>1</td></tr>",
                            "<tr><td>22</td><td>16</td><td>18</td><td>4</td><td>10</td><td>84</td><td>66</td><td>4</td></tr>",
                            "<tr><td>23</td><td>10</td><td>13</td><td>7</td><td>16</td><td>84</td><td>73</td><td>4</td></tr>",
                            "<tr><td>24</td><td>1</td><td>13</td><td>16</td><td>4</td><td>0</td><td>44</td><td>3</td></tr>",
                            "<tr><td>25</td><td>3</td><td>10</td><td>16</td><td>13</td><td>68</td><td>96</td><td>4</td></tr>",
                            "<tr><td>25</td><td>6</td><td>16</td><td>16</td><td>6</td><td>36</td><td>25</td><td>5</td></tr>",
                            "<tr><td>26</td><td>6</td><td>2</td><td>14</td><td>8</td><td>78</td><td>95</td><td>4</td></tr>",
                            "<tr><td>27</td><td>7</td><td>2</td><td>9</td><td>14</td><td>31</td><td>56</td><td>4</td></tr>",
                            "<tr><td>31</td><td>15</td><td>20</td><td>11</td><td>14</td><td>1</td><td>40</td><td>3</td></tr>",
                            "<tr><td>31</td><td>12</td><td>18</td><td>4</td><td>16</td><td>15</td><td>43</td><td>3</td></tr>",
                            "<tr><td>33</td><td>3</td><td>9</td><td>10</td><td>3</td><td>51</td><td>17</td><td>5</td></tr>",
                            "<tr><td>35</td><td>12</td><td>6</td><td>4</td><td>12</td><td>39</td><td>23</td><td>1</td></tr>",
                            "<tr><td>36</td><td>13</td><td>6</td><td>6</td><td>4</td><td>66</td><td>78</td><td>5</td></tr>",
                            "<tr><td>36</td><td>20</td><td>17</td><td>6</td><td>9</td><td>94</td><td>58</td><td>3</td></tr>",
                            "<tr><td>36</td><td>20</td><td>6</td><td>3</td><td>12</td><td>8</td><td>54</td><td>5</td></tr>",
                            "<tr><td>37</td><td>7</td><td>16</td><td>7</td><td>14</td><td>69</td><td>64</td><td>2</td></tr>",
                            "<tr><td>38</td><td>12</td><td>16</td><td>6</td><td>4</td><td>82</td><td>95</td><td>4</td></tr>",
                            "<tr><td>39</td><td>17</td><td>13</td><td>1</td><td>2</td><td>26</td><td>29</td><td>3</td></tr>",
                            "<tr><td>42</td><td>2</td><td>7</td><td>14</td><td>15</td><td>75</td><td>82</td><td>2</td></tr>",
                            "<tr><td>42</td><td>10</td><td>1</td><td>4</td><td>1</td><td>48</td><td>76</td><td>2</td></tr>",
                            "<tr><td>43</td><td>20</td><td>7</td><td>10</td><td>13</td><td>21</td><td>7</td><td>3</td></tr>",
                            "<tr><td>43</td><td>18</td><td>7</td><td>5</td><td>1</td><td>89</td><td>17</td><td>3</td></tr>",
                            "<tr><td>43</td><td>20</td><td>1</td><td>14</td><td>7</td><td>24</td><td>48</td><td>2</td></tr>",
                            "<tr><td>46</td><td>20</td><td>16</td><td>3</td><td>13</td><td>9</td><td>55</td><td>4</td></tr>",
                            "<tr><td>46</td><td>18</td><td>10</td><td>3</td><td>10</td><td>57</td><td>69</td><td>4</td></tr>",
                            "<tr><td>46</td><td>18</td><td>2</td><td>15</td><td>12</td><td>25</td><td>66</td><td>4</td></tr>",
                            "<tr><td>48</td><td>10</td><td>15</td><td>12</td><td>13</td><td>15</td><td>19</td><td>1</td></tr>",
                            "<tr><td>48</td><td>2</td><td>12</td><td>16</td><td>14</td><td>39</td><td>14</td><td>4</td></tr>",
                            "<tr><td>49</td><td>9</td><td>3</td><td>15</td><td>7</td><td>75</td><td>65</td><td>1</td></tr>",
                            "<tr><td>50</td><td>1</td><td>20</td><td>5</td><td>3</td><td>31</td><td>19</td><td>2</td></tr>",
                            "<tr><td>51</td><td>6</td><td>13</td><td>1</td><td>6</td><td>23</td><td>74</td><td>3</td></tr>",
                            "<tr><td>54</td><td>12</td><td>16</td><td>12</td><td>12</td><td>78</td><td>55</td><td>1</td></tr>",
                            "<tr><td>54</td><td>12</td><td>2</td><td>14</td><td>11</td><td>77</td><td>46</td><td>1</td></tr>",
                            "<tr><td>55</td><td>1</td><td>9</td><td>5</td><td>10</td><td>9</td><td>54</td><td>1</td></tr>",
                            "<tr><td>56</td><td>12</td><td>10</td><td>6</td><td>2</td><td>85</td><td>98</td><td>4</td></tr>",
                            "<tr><td>58</td><td>6</td><td>1</td><td>7</td><td>15</td><td>86</td><td>22</td><td>5</td></tr>",
                            "<tr><td>59</td><td>6</td><td>13</td><td>3</td><td>3</td><td>42</td><td>90</td><td>3</td></tr>",
                            "<tr><td>61</td><td>6</td><td>10</td><td>16</td><td>14</td><td>0</td><td>74</td><td>4</td></tr>",
                            "<tr><td>63</td><td>12</td><td>13</td><td>2</td><td>10</td><td>97</td><td>6</td><td>1</td></tr>",
                            "<tr><td>64</td><td>17</td><td>15</td><td>6</td><td>14</td><td>52</td><td>47</td><td>5</td></tr>",
                            "<tr><td>65</td><td>9</td><td>17</td><td>2</td><td>15</td><td>86</td><td>3</td><td>1</td></tr>",
                            "<tr><td>68</td><td>18</td><td>1</td><td>15</td><td>16</td><td>59</td><td>1</td><td>3</td></tr>",
                            "<tr><td>68</td><td>20</td><td>8</td><td>7</td><td>15</td><td>79</td><td>66</td><td>3</td></tr>",
                            "<tr><td>69</td><td>15</td><td>7</td><td>12</td><td>11</td><td>21</td><td>43</td><td>2</td></tr>",
                            "<tr><td>70</td><td>18</td><td>3</td><td>1</td><td>1</td><td>12</td><td>26</td><td>5</td></tr>",
                            "<tr><td>72</td><td>8</td><td>16</td><td>12</td><td>11</td><td>5</td><td>87</td><td>4</td></tr>",
                            "<tr><td>73</td><td>1</td><td>20</td><td>5</td><td>8</td><td>69</td><td>25</td><td>2</td></tr>",
                            "<tr><td>73</td><td>1</td><td>20</td><td>4</td><td>5</td><td>28</td><td>79</td><td>3</td></tr>",
                            "<tr><td>73</td><td>1</td><td>13</td><td>2</td><td>16</td><td>9</td><td>87</td><td>3</td></tr>",
                            "<tr><td>75</td><td>16</td><td>12</td><td>15</td><td>13</td><td>93</td><td>68</td><td>4</td></tr>",
                            "<tr><td>75</td><td>16</td><td>9</td><td>15</td><td>14</td><td>13</td><td>6</td><td>4</td></tr>",
                            "<tr><td>76</td><td>17</td><td>13</td><td>8</td><td>7</td><td>53</td><td>51</td><td>5</td></tr>",
                            "<tr><td>77</td><td>16</td><td>1</td><td>8</td><td>14</td><td>84</td><td>46</td><td>4</td></tr>",
                            "<tr><td>77</td><td>16</td><td>1</td><td>1</td><td>14</td><td>6</td><td>70</td><td>2</td></tr>",
                            "<tr><td>78</td><td>8</td><td>18</td><td>9</td><td>8</td><td>29</td><td>55</td><td>3</td></tr>",
                            "<tr><td>78</td><td>1</td><td>20</td><td>1</td><td>6</td><td>86</td><td>85</td><td>2</td></tr>",
                            "<tr><td>78</td><td>8</td><td>20</td><td>13</td><td>11</td><td>24</td><td>48</td><td>3</td></tr>",
                            "<tr><td>80</td><td>12</td><td>1</td><td>15</td><td>13</td><td>13</td><td>47</td><td>2</td></tr>",
                            "<tr><td>80</td><td>12</td><td>1</td><td>6</td><td>10</td><td>91</td><td>67</td><td>1</td></tr>",
                            "<tr><td>81</td><td>1</td><td>3</td><td>9</td><td>4</td><td>49</td><td>12</td><td>2</td></tr>",
                            "<tr><td>83</td><td>15</td><td>13</td><td>14</td><td>5</td><td>29</td><td>69</td><td>3</td></tr>",
                            "<tr><td>83</td><td>12</td><td>20</td><td>16</td><td>15</td><td>76</td><td>78</td><td>3</td></tr>",
                            "<tr><td>85</td><td>16</td><td>9</td><td>1</td><td>12</td><td>54</td><td>74</td><td>1</td></tr>",
                            "<tr><td>85</td><td>16</td><td>9</td><td>9</td><td>16</td><td>10</td><td>91</td><td>1</td></tr>",
                            "<tr><td>86</td><td>15</td><td>13</td><td>7</td><td>16</td><td>97</td><td>55</td><td>1</td></tr>",
                            "<tr><td>87</td><td>12</td><td>10</td><td>11</td><td>16</td><td>14</td><td>87</td><td>4</td></tr>",
                            "<tr><td>87</td><td>12</td><td>10</td><td>13</td><td>1</td><td>14</td><td>35</td><td>4</td></tr>",
                            "<tr><td>88</td><td>16</td><td>1</td><td>12</td><td>13</td><td>78</td><td>30</td><td>4</td></tr>",
                            "<tr><td>88</td><td>16</td><td>8</td><td>16</td><td>10</td><td>99</td><td>63</td><td>4</td></tr>",
                            "<tr><td>89</td><td>10</td><td>18</td><td>11</td><td>11</td><td>74</td><td>73</td><td>4</td></tr>",
                            "<tr><td>89</td><td>16</td><td>18</td><td>3</td><td>1</td><td>33</td><td>63</td><td>3</td></tr>",
                            "<tr><td>89</td><td>10</td><td>13</td><td>4</td><td>11</td><td>59</td><td>63</td><td>3</td></tr>",
                            "<tr><td>90</td><td>16</td><td>6</td><td>7</td><td>6</td><td>7</td><td>93</td><td>5</td></tr>",
                            "<tr><td>92</td><td>9</td><td>3</td><td>13</td><td>3</td><td>5</td><td>33</td><td>5</td></tr>",
                            "<tr><td>93</td><td>13</td><td>17</td><td>8</td><td>7</td><td>51</td><td>90</td><td>5</td></tr>",
                            "<tr><td>93</td><td>20</td><td>17</td><td>8</td><td>9</td><td>53</td><td>13</td><td>3</td></tr>",
                            "<tr><td>95</td><td>20</td><td>2</td><td>13</td><td>16</td><td>95</td><td>23</td><td>3</td></tr>",
                            "<tr><td>95</td><td>18</td><td>16</td><td>9</td><td>15</td><td>71</td><td>58</td><td>3</td></tr>",
                            "<tr><td>96</td><td>16</td><td>17</td><td>2</td><td>1</td><td>30</td><td>1</td><td>4</td></tr>",
                            "<tr><td>97</td><td>10</td><td>20</td><td>16</td><td>5</td><td>42</td><td>70</td><td>3</td></tr>",
                            "<tr><td>97</td><td>10</td><td>18</td><td>13</td><td>12</td><td>75</td><td>79</td><td>3</td></tr>",
                            "<tr><td>97</td><td>10</td><td>18</td><td>8</td><td>11</td><td>11</td><td>62</td><td>3</td></tr>",
                            "<tr><td>98</td><td>16</td><td>6</td><td>3</td><td>3</td><td>86</td><td>41</td><td>4</td></tr>",
                            "</table>"
                        ]
                    }
                },
                {
                    "output_type": "execute_result",
                    "metadata": {},
                    "execution_count": 5,
                    "data": {
                        "application/vnd.dataresource+json": {
                            "schema": {
                                "fields": [
                                    {
                                        "name": "Bicho"
                                    },
                                    {
                                        "name": "Tipo"
                                    },
                                    {
                                        "name": "resistente"
                                    }
                                ]
                            },
                            "data": [
                                {
                                    "0": "Charmeleon",
                                    "1": "Fuego",
                                    "2": "Agua"
                                },
                                {
                                    "0": "Psyduck",
                                    "1": "Agua",
                                    "2": "Fuego"
                                },
                                {
                                    "0": "Pidgey",
                                    "1": "Aire",
                                    "2": "Tierra"
                                }
                            ]
                        },
                        "text/html": [
                            "<table>",
                            "<tr><th>Bicho</th><th>Tipo</th><th>resistente</th></tr>",
                            "<tr><td>Charmeleon</td><td>Fuego</td><td>Agua</td></tr>",
                            "<tr><td>Psyduck</td><td>Agua</td><td>Fuego</td></tr>",
                            "<tr><td>Pidgey</td><td>Aire</td><td>Tierra</td></tr>",
                            "</table>"
                        ]
                    }
                },
                {
                    "output_type": "execute_result",
                    "metadata": {},
                    "execution_count": 5,
                    "data": {
                        "application/vnd.dataresource+json": {
                            "schema": {
                                "fields": [
                                    {
                                        "name": "Bicho"
                                    },
                                    {
                                        "name": "Salud"
                                    },
                                    {
                                        "name": "Resistente"
                                    },
                                    {
                                        "name": "Ataques"
                                    }
                                ]
                            },
                            "data": [
                                {
                                    "0": "Diglett",
                                    "1": "100",
                                    "2": "Aire",
                                    "3": "Puño de Fuego"
                                },
                                {
                                    "0": "Diglett",
                                    "1": "100",
                                    "2": "Aire",
                                    "3": "Puño de Aire"
                                },
                                {
                                    "0": "Diglett",
                                    "1": "100",
                                    "2": "Aire",
                                    "3": "Huracan"
                                },
                                {
                                    "0": "Diglett",
                                    "1": "100",
                                    "2": "Aire",
                                    "3": "Terremoto"
                                },
                                {
                                    "0": "Diglett",
                                    "1": "100",
                                    "2": "Aire",
                                    "3": "Arena Movediza"
                                },
                                {
                                    "0": "Spearow",
                                    "1": "100",
                                    "2": "Tierra",
                                    "3": "Puño de Fuego"
                                },
                                {
                                    "0": "Spearow",
                                    "1": "100",
                                    "2": "Tierra",
                                    "3": "Puño de Aire"
                                },
                                {
                                    "0": "Spearow",
                                    "1": "100",
                                    "2": "Tierra",
                                    "3": "Terremoto"
                                },
                                {
                                    "0": "Spearow",
                                    "1": "100",
                                    "2": "Tierra",
                                    "3": "Incendio"
                                },
                                {
                                    "0": "Spearow",
                                    "1": "100",
                                    "2": "Tierra",
                                    "3": "Tormenta"
                                },
                                {
                                    "0": "Charizard",
                                    "1": "100",
                                    "2": "Tierra",
                                    "3": "Puño de Fuego"
                                },
                                {
                                    "0": "Charizard",
                                    "1": "100",
                                    "2": "Tierra",
                                    "3": "Viento"
                                },
                                {
                                    "0": "Charizard",
                                    "1": "100",
                                    "2": "Tierra",
                                    "3": "Arena Movediza"
                                },
                                {
                                    "0": "Charizard",
                                    "1": "100",
                                    "2": "Tierra",
                                    "3": "Tsunami"
                                },
                                {
                                    "0": "Charizard",
                                    "1": "100",
                                    "2": "Tierra",
                                    "3": "Rayo"
                                }
                            ]
                        },
                        "text/html": [
                            "<table>",
                            "<tr><th>Bicho</th><th>Salud</th><th>Resistente</th><th>Ataques</th></tr>",
                            "<tr><td>Diglett</td><td>100</td><td>Aire</td><td>Puño de Fuego</td></tr>",
                            "<tr><td>Diglett</td><td>100</td><td>Aire</td><td>Puño de Aire</td></tr>",
                            "<tr><td>Diglett</td><td>100</td><td>Aire</td><td>Huracan</td></tr>",
                            "<tr><td>Diglett</td><td>100</td><td>Aire</td><td>Terremoto</td></tr>",
                            "<tr><td>Diglett</td><td>100</td><td>Aire</td><td>Arena Movediza</td></tr>",
                            "<tr><td>Spearow</td><td>100</td><td>Tierra</td><td>Puño de Fuego</td></tr>",
                            "<tr><td>Spearow</td><td>100</td><td>Tierra</td><td>Puño de Aire</td></tr>",
                            "<tr><td>Spearow</td><td>100</td><td>Tierra</td><td>Terremoto</td></tr>",
                            "<tr><td>Spearow</td><td>100</td><td>Tierra</td><td>Incendio</td></tr>",
                            "<tr><td>Spearow</td><td>100</td><td>Tierra</td><td>Tormenta</td></tr>",
                            "<tr><td>Charizard</td><td>100</td><td>Tierra</td><td>Puño de Fuego</td></tr>",
                            "<tr><td>Charizard</td><td>100</td><td>Tierra</td><td>Viento</td></tr>",
                            "<tr><td>Charizard</td><td>100</td><td>Tierra</td><td>Arena Movediza</td></tr>",
                            "<tr><td>Charizard</td><td>100</td><td>Tierra</td><td>Tsunami</td></tr>",
                            "<tr><td>Charizard</td><td>100</td><td>Tierra</td><td>Rayo</td></tr>",
                            "</table>"
                        ]
                    }
                },
                {
                    "output_type": "execute_result",
                    "metadata": {},
                    "execution_count": 5,
                    "data": {
                        "application/vnd.dataresource+json": {
                            "schema": {
                                "fields": [
                                    {
                                        "name": "Bicho"
                                    }
                                ]
                            },
                            "data": [
                                {
                                    "0": "Charizard"
                                },
                                {
                                    "0": "Charmander"
                                },
                                {
                                    "0": "Charmeleon"
                                },
                                {
                                    "0": "Diglett"
                                },
                                {
                                    "0": "Dugtrio "
                                },
                                {
                                    "0": "Fearow"
                                },
                                {
                                    "0": "Graveler"
                                },
                                {
                                    "0": "Gyarados"
                                },
                                {
                                    "0": "Magikarp"
                                },
                                {
                                    "0": "Pidgeotto "
                                },
                                {
                                    "0": "Pidgey"
                                },
                                {
                                    "0": "Ponyta"
                                },
                                {
                                    "0": "Psyduck"
                                },
                                {
                                    "0": "Rapidash"
                                },
                                {
                                    "0": "Sandshrew"
                                },
                                {
                                    "0": "Sandslash"
                                },
                                {
                                    "0": "Spearow"
                                },
                                {
                                    "0": "Squirtle"
                                },
                                {
                                    "0": "Vulpix"
                                },
                                {
                                    "0": "Wartortle"
                                }
                            ]
                        },
                        "text/html": [
                            "<table>",
                            "<tr><th>Bicho</th></tr>",
                            "<tr><td>Charizard</td></tr>",
                            "<tr><td>Charmander</td></tr>",
                            "<tr><td>Charmeleon</td></tr>",
                            "<tr><td>Diglett</td></tr>",
                            "<tr><td>Dugtrio </td></tr>",
                            "<tr><td>Fearow</td></tr>",
                            "<tr><td>Graveler</td></tr>",
                            "<tr><td>Gyarados</td></tr>",
                            "<tr><td>Magikarp</td></tr>",
                            "<tr><td>Pidgeotto </td></tr>",
                            "<tr><td>Pidgey</td></tr>",
                            "<tr><td>Ponyta</td></tr>",
                            "<tr><td>Psyduck</td></tr>",
                            "<tr><td>Rapidash</td></tr>",
                            "<tr><td>Sandshrew</td></tr>",
                            "<tr><td>Sandslash</td></tr>",
                            "<tr><td>Spearow</td></tr>",
                            "<tr><td>Squirtle</td></tr>",
                            "<tr><td>Vulpix</td></tr>",
                            "<tr><td>Wartortle</td></tr>",
                            "</table>"
                        ]
                    }
                },
                {
                    "output_type": "execute_result",
                    "metadata": {},
                    "execution_count": 5,
                    "data": {
                        "application/vnd.dataresource+json": {
                            "schema": {
                                "fields": [
                                    {
                                        "name": "Bicho"
                                    },
                                    {
                                        "name": "Salud"
                                    },
                                    {
                                        "name": "Resistente"
                                    },
                                    {
                                        "name": "Ataque"
                                    },
                                    {
                                        "name": "Nivel"
                                    }
                                ]
                            },
                            "data": [
                                {
                                    "0": "Charmander",
                                    "1": "100",
                                    "2": "Agua",
                                    "3": "Puño de Fuego",
                                    "4": "1"
                                },
                                {
                                    "0": "Charmeleon",
                                    "1": "100",
                                    "2": "Agua",
                                    "3": "Puño de Tierra",
                                    "4": "1"
                                },
                                {
                                    "0": "Ponyta",
                                    "1": "100",
                                    "2": "Agua",
                                    "3": "Puño de Tierra",
                                    "4": "1"
                                },
                                {
                                    "0": "Rapidash",
                                    "1": "100",
                                    "2": "Agua",
                                    "3": "Puño de Agua",
                                    "4": "1"
                                },
                                {
                                    "0": "Rapidash",
                                    "1": "100",
                                    "2": "Agua",
                                    "3": "Puño de Aire",
                                    "4": "1"
                                },
                                {
                                    "0": "Vulpix",
                                    "1": "100",
                                    "2": "Agua",
                                    "3": "Puño de Tierra",
                                    "4": "1"
                                },
                                {
                                    "0": "Vulpix",
                                    "1": "100",
                                    "2": "Agua",
                                    "3": "Puño de Aire",
                                    "4": "1"
                                },
                                {
                                    "0": "Squirtle",
                                    "1": "100",
                                    "2": "Fuego",
                                    "3": "Puño de Fuego",
                                    "4": "1"
                                },
                                {
                                    "0": "Wartortle",
                                    "1": "100",
                                    "2": "Fuego",
                                    "3": "Puño de Agua",
                                    "4": "1"
                                },
                                {
                                    "0": "Magikarp",
                                    "1": "100",
                                    "2": "Fuego",
                                    "3": "Puño de Fuego",
                                    "4": "1"
                                },
                                {
                                    "0": "Gyarados",
                                    "1": "100",
                                    "2": "Fuego",
                                    "3": "Puño de Fuego",
                                    "4": "1"
                                },
                                {
                                    "0": "Psyduck",
                                    "1": "100",
                                    "2": "Fuego",
                                    "3": "Puño de Agua",
                                    "4": "1"
                                },
                                {
                                    "0": "Psyduck",
                                    "1": "100",
                                    "2": "Fuego",
                                    "3": "Puño de Aire",
                                    "4": "1"
                                },
                                {
                                    "0": "Sandslash",
                                    "1": "100",
                                    "2": "Aire",
                                    "3": "Puño de Tierra",
                                    "4": "1"
                                },
                                {
                                    "0": "Diglett",
                                    "1": "100",
                                    "2": "Aire",
                                    "3": "Puño de Fuego",
                                    "4": "1"
                                },
                                {
                                    "0": "Diglett",
                                    "1": "100",
                                    "2": "Aire",
                                    "3": "Puño de Aire",
                                    "4": "1"
                                },
                                {
                                    "0": "Dugtrio ",
                                    "1": "100",
                                    "2": "Aire",
                                    "3": "Puño de Agua",
                                    "4": "1"
                                },
                                {
                                    "0": "Graveler",
                                    "1": "100",
                                    "2": "Aire",
                                    "3": "Puño de Fuego",
                                    "4": "1"
                                },
                                {
                                    "0": "Pidgey",
                                    "1": "100",
                                    "2": "Tierra",
                                    "3": "Puño de Fuego",
                                    "4": "1"
                                },
                                {
                                    "0": "Pidgeotto ",
                                    "1": "100",
                                    "2": "Tierra",
                                    "3": "Puño de Tierra",
                                    "4": "1"
                                },
                                {
                                    "0": "Spearow",
                                    "1": "100",
                                    "2": "Tierra",
                                    "3": "Puño de Fuego",
                                    "4": "1"
                                },
                                {
                                    "0": "Spearow",
                                    "1": "100",
                                    "2": "Tierra",
                                    "3": "Puño de Aire",
                                    "4": "1"
                                },
                                {
                                    "0": "Fearow",
                                    "1": "100",
                                    "2": "Tierra",
                                    "3": "Puño de Agua",
                                    "4": "1"
                                },
                                {
                                    "0": "Fearow",
                                    "1": "100",
                                    "2": "Tierra",
                                    "3": "Puño de Aire",
                                    "4": "1"
                                },
                                {
                                    "0": "Charizard",
                                    "1": "100",
                                    "2": "Tierra",
                                    "3": "Puño de Fuego",
                                    "4": "1"
                                },
                                {
                                    "0": "Charizard",
                                    "1": "100",
                                    "2": "Tierra",
                                    "3": "Viento",
                                    "4": "2"
                                },
                                {
                                    "0": "Fearow",
                                    "1": "100",
                                    "2": "Tierra",
                                    "3": "Terremoto",
                                    "4": "2"
                                },
                                {
                                    "0": "Spearow",
                                    "1": "100",
                                    "2": "Tierra",
                                    "3": "Terremoto",
                                    "4": "2"
                                },
                                {
                                    "0": "Spearow",
                                    "1": "100",
                                    "2": "Tierra",
                                    "3": "Incendio",
                                    "4": "2"
                                },
                                {
                                    "0": "Pidgeotto ",
                                    "1": "100",
                                    "2": "Tierra",
                                    "3": "Huracan",
                                    "4": "2"
                                },
                                {
                                    "0": "Pidgey",
                                    "1": "100",
                                    "2": "Tierra",
                                    "3": "Viento",
                                    "4": "2"
                                },
                                {
                                    "0": "Pidgey",
                                    "1": "100",
                                    "2": "Tierra",
                                    "3": "Incendio",
                                    "4": "2"
                                },
                                {
                                    "0": "Graveler",
                                    "1": "100",
                                    "2": "Aire",
                                    "3": "Huracan",
                                    "4": "2"
                                },
                                {
                                    "0": "Dugtrio ",
                                    "1": "100",
                                    "2": "Aire",
                                    "3": "Huracan",
                                    "4": "2"
                                },
                                {
                                    "0": "Dugtrio ",
                                    "1": "100",
                                    "2": "Aire",
                                    "3": "Incendio",
                                    "4": "2"
                                },
                                {
                                    "0": "Diglett",
                                    "1": "100",
                                    "2": "Aire",
                                    "3": "Huracan",
                                    "4": "2"
                                },
                                {
                                    "0": "Diglett",
                                    "1": "100",
                                    "2": "Aire",
                                    "3": "Terremoto",
                                    "4": "2"
                                },
                                {
                                    "0": "Sandslash",
                                    "1": "100",
                                    "2": "Aire",
                                    "3": "Viento",
                                    "4": "2"
                                },
                                {
                                    "0": "Sandslash",
                                    "1": "100",
                                    "2": "Aire",
                                    "3": "Terremoto",
                                    "4": "2"
                                },
                                {
                                    "0": "Sandslash",
                                    "1": "100",
                                    "2": "Aire",
                                    "3": "Incendio",
                                    "4": "2"
                                },
                                {
                                    "0": "Sandshrew",
                                    "1": "100",
                                    "2": "Aire",
                                    "3": "Huracan",
                                    "4": "2"
                                },
                                {
                                    "0": "Sandshrew",
                                    "1": "100",
                                    "2": "Aire",
                                    "3": "Incendio",
                                    "4": "2"
                                },
                                {
                                    "0": "Psyduck",
                                    "1": "100",
                                    "2": "Fuego",
                                    "3": "Viento",
                                    "4": "2"
                                },
                                {
                                    "0": "Gyarados",
                                    "1": "100",
                                    "2": "Fuego",
                                    "3": "Incendio",
                                    "4": "2"
                                },
                                {
                                    "0": "Magikarp",
                                    "1": "100",
                                    "2": "Fuego",
                                    "3": "Viento",
                                    "4": "2"
                                },
                                {
                                    "0": "Magikarp",
                                    "1": "100",
                                    "2": "Fuego",
                                    "3": "Incendio",
                                    "4": "2"
                                },
                                {
                                    "0": "Squirtle",
                                    "1": "100",
                                    "2": "Fuego",
                                    "3": "Terremoto",
                                    "4": "2"
                                },
                                {
                                    "0": "Vulpix",
                                    "1": "100",
                                    "2": "Agua",
                                    "3": "Viento",
                                    "4": "2"
                                },
                                {
                                    "0": "Vulpix",
                                    "1": "100",
                                    "2": "Agua",
                                    "3": "Incendio",
                                    "4": "2"
                                },
                                {
                                    "0": "Rapidash",
                                    "1": "100",
                                    "2": "Agua",
                                    "3": "Viento",
                                    "4": "2"
                                },
                                {
                                    "0": "Charmeleon",
                                    "1": "100",
                                    "2": "Agua",
                                    "3": "Viento",
                                    "4": "2"
                                },
                                {
                                    "0": "Charmeleon",
                                    "1": "100",
                                    "2": "Agua",
                                    "3": "Incendio",
                                    "4": "2"
                                },
                                {
                                    "0": "Charmander",
                                    "1": "100",
                                    "2": "Agua",
                                    "3": "Huracan",
                                    "4": "2"
                                },
                                {
                                    "0": "Charmander",
                                    "1": "100",
                                    "2": "Agua",
                                    "3": "Terremoto",
                                    "4": "2"
                                },
                                {
                                    "0": "Charmander",
                                    "1": "100",
                                    "2": "Agua",
                                    "3": "Arena Movediza",
                                    "4": "3"
                                },
                                {
                                    "0": "Charmeleon",
                                    "1": "100",
                                    "2": "Agua",
                                    "3": "Arena Movediza",
                                    "4": "3"
                                },
                                {
                                    "0": "Charmeleon",
                                    "1": "100",
                                    "2": "Agua",
                                    "3": "Ventisca",
                                    "4": "3"
                                },
                                {
                                    "0": "Rapidash",
                                    "1": "100",
                                    "2": "Agua",
                                    "3": "Ventisca",
                                    "4": "3"
                                },
                                {
                                    "0": "Ponyta",
                                    "1": "100",
                                    "2": "Agua",
                                    "3": "Tormenta",
                                    "4": "3"
                                },
                                {
                                    "0": "Ponyta",
                                    "1": "100",
                                    "2": "Agua",
                                    "3": "Volcan",
                                    "4": "3"
                                },
                                {
                                    "0": "Ponyta",
                                    "1": "100",
                                    "2": "Agua",
                                    "3": "Ventisca",
                                    "4": "3"
                                },
                                {
                                    "0": "Squirtle",
                                    "1": "100",
                                    "2": "Fuego",
                                    "3": "Arena Movediza",
                                    "4": "3"
                                },
                                {
                                    "0": "Squirtle",
                                    "1": "100",
                                    "2": "Fuego",
                                    "3": "Ventisca",
                                    "4": "3"
                                },
                                {
                                    "0": "Magikarp",
                                    "1": "100",
                                    "2": "Fuego",
                                    "3": "Tormenta",
                                    "4": "3"
                                },
                                {
                                    "0": "Magikarp",
                                    "1": "100",
                                    "2": "Fuego",
                                    "3": "Ventisca",
                                    "4": "3"
                                },
                                {
                                    "0": "Wartortle",
                                    "1": "100",
                                    "2": "Fuego",
                                    "3": "Arena Movediza",
                                    "4": "3"
                                },
                                {
                                    "0": "Gyarados",
                                    "1": "100",
                                    "2": "Fuego",
                                    "3": "Volcan",
                                    "4": "3"
                                },
                                {
                                    "0": "Gyarados",
                                    "1": "100",
                                    "2": "Fuego",
                                    "3": "Ventisca",
                                    "4": "3"
                                },
                                {
                                    "0": "Psyduck",
                                    "1": "100",
                                    "2": "Fuego",
                                    "3": "Arena Movediza",
                                    "4": "3"
                                },
                                {
                                    "0": "Sandshrew",
                                    "1": "100",
                                    "2": "Aire",
                                    "3": "Tormenta",
                                    "4": "3"
                                },
                                {
                                    "0": "Sandshrew",
                                    "1": "100",
                                    "2": "Aire",
                                    "3": "Ventisca",
                                    "4": "3"
                                },
                                {
                                    "0": "Sandslash",
                                    "1": "100",
                                    "2": "Aire",
                                    "3": "Volcan",
                                    "4": "3"
                                },
                                {
                                    "0": "Diglett",
                                    "1": "100",
                                    "2": "Aire",
                                    "3": "Arena Movediza",
                                    "4": "3"
                                },
                                {
                                    "0": "Dugtrio ",
                                    "1": "100",
                                    "2": "Aire",
                                    "3": "Arena Movediza",
                                    "4": "3"
                                },
                                {
                                    "0": "Graveler",
                                    "1": "100",
                                    "2": "Aire",
                                    "3": "Tormenta",
                                    "4": "3"
                                },
                                {
                                    "0": "Pidgey",
                                    "1": "100",
                                    "2": "Tierra",
                                    "3": "Volcan",
                                    "4": "3"
                                },
                                {
                                    "0": "Pidgey",
                                    "1": "100",
                                    "2": "Tierra",
                                    "3": "Ventisca",
                                    "4": "3"
                                },
                                {
                                    "0": "Pidgeotto ",
                                    "1": "100",
                                    "2": "Tierra",
                                    "3": "Arena Movediza",
                                    "4": "3"
                                },
                                {
                                    "0": "Spearow",
                                    "1": "100",
                                    "2": "Tierra",
                                    "3": "Tormenta",
                                    "4": "3"
                                },
                                {
                                    "0": "Fearow",
                                    "1": "100",
                                    "2": "Tierra",
                                    "3": "Volcan",
                                    "4": "3"
                                },
                                {
                                    "0": "Fearow",
                                    "1": "100",
                                    "2": "Tierra",
                                    "3": "Ventisca",
                                    "4": "3"
                                },
                                {
                                    "0": "Charizard",
                                    "1": "100",
                                    "2": "Tierra",
                                    "3": "Arena Movediza",
                                    "4": "3"
                                },
                                {
                                    "0": "Charizard",
                                    "1": "100",
                                    "2": "Tierra",
                                    "3": "Tsunami",
                                    "4": "4"
                                },
                                {
                                    "0": "Charizard",
                                    "1": "100",
                                    "2": "Tierra",
                                    "3": "Rayo",
                                    "4": "4"
                                },
                                {
                                    "0": "Pidgeotto ",
                                    "1": "100",
                                    "2": "Tierra",
                                    "3": "Rayo",
                                    "4": "4"
                                },
                                {
                                    "0": "Pidgeotto ",
                                    "1": "100",
                                    "2": "Tierra",
                                    "3": "Hierro",
                                    "4": "4"
                                },
                                {
                                    "0": "Graveler",
                                    "1": "100",
                                    "2": "Aire",
                                    "3": "Tsunami",
                                    "4": "4"
                                },
                                {
                                    "0": "Graveler",
                                    "1": "100",
                                    "2": "Aire",
                                    "3": "Hierro",
                                    "4": "4"
                                },
                                {
                                    "0": "Dugtrio ",
                                    "1": "100",
                                    "2": "Aire",
                                    "3": "Hierro",
                                    "4": "4"
                                },
                                {
                                    "0": "Sandshrew",
                                    "1": "100",
                                    "2": "Aire",
                                    "3": "Hierro",
                                    "4": "4"
                                },
                                {
                                    "0": "Psyduck",
                                    "1": "100",
                                    "2": "Fuego",
                                    "3": "Tsunami",
                                    "4": "4"
                                },
                                {
                                    "0": "Gyarados",
                                    "1": "100",
                                    "2": "Fuego",
                                    "3": "Hierro",
                                    "4": "4"
                                },
                                {
                                    "0": "Wartortle",
                                    "1": "100",
                                    "2": "Fuego",
                                    "3": "Tsunami",
                                    "4": "4"
                                },
                                {
                                    "0": "Wartortle",
                                    "1": "100",
                                    "2": "Fuego",
                                    "3": "Rayo",
                                    "4": "4"
                                },
                                {
                                    "0": "Wartortle",
                                    "1": "100",
                                    "2": "Fuego",
                                    "3": "Hierro",
                                    "4": "4"
                                },
                                {
                                    "0": "Squirtle",
                                    "1": "100",
                                    "2": "Fuego",
                                    "3": "Hierro",
                                    "4": "4"
                                },
                                {
                                    "0": "Vulpix",
                                    "1": "100",
                                    "2": "Agua",
                                    "3": "Hierro",
                                    "4": "4"
                                },
                                {
                                    "0": "Ponyta",
                                    "1": "100",
                                    "2": "Agua",
                                    "3": "Hierro",
                                    "4": "4"
                                },
                                {
                                    "0": "Rapidash",
                                    "1": "100",
                                    "2": "Agua",
                                    "3": "Rayo",
                                    "4": "4"
                                },
                                {
                                    "0": "Charmander",
                                    "1": "100",
                                    "2": "Agua",
                                    "3": "Rayo",
                                    "4": "4"
                                }
                            ]
                        },
                        "text/html": [
                            "<table>",
                            "<tr><th>Bicho</th><th>Salud</th><th>Resistente</th><th>Ataque</th><th>Nivel</th></tr>",
                            "<tr><td>Charmander</td><td>100</td><td>Agua</td><td>Puño de Fuego</td><td>1</td></tr>",
                            "<tr><td>Charmeleon</td><td>100</td><td>Agua</td><td>Puño de Tierra</td><td>1</td></tr>",
                            "<tr><td>Ponyta</td><td>100</td><td>Agua</td><td>Puño de Tierra</td><td>1</td></tr>",
                            "<tr><td>Rapidash</td><td>100</td><td>Agua</td><td>Puño de Agua</td><td>1</td></tr>",
                            "<tr><td>Rapidash</td><td>100</td><td>Agua</td><td>Puño de Aire</td><td>1</td></tr>",
                            "<tr><td>Vulpix</td><td>100</td><td>Agua</td><td>Puño de Tierra</td><td>1</td></tr>",
                            "<tr><td>Vulpix</td><td>100</td><td>Agua</td><td>Puño de Aire</td><td>1</td></tr>",
                            "<tr><td>Squirtle</td><td>100</td><td>Fuego</td><td>Puño de Fuego</td><td>1</td></tr>",
                            "<tr><td>Wartortle</td><td>100</td><td>Fuego</td><td>Puño de Agua</td><td>1</td></tr>",
                            "<tr><td>Magikarp</td><td>100</td><td>Fuego</td><td>Puño de Fuego</td><td>1</td></tr>",
                            "<tr><td>Gyarados</td><td>100</td><td>Fuego</td><td>Puño de Fuego</td><td>1</td></tr>",
                            "<tr><td>Psyduck</td><td>100</td><td>Fuego</td><td>Puño de Agua</td><td>1</td></tr>",
                            "<tr><td>Psyduck</td><td>100</td><td>Fuego</td><td>Puño de Aire</td><td>1</td></tr>",
                            "<tr><td>Sandslash</td><td>100</td><td>Aire</td><td>Puño de Tierra</td><td>1</td></tr>",
                            "<tr><td>Diglett</td><td>100</td><td>Aire</td><td>Puño de Fuego</td><td>1</td></tr>",
                            "<tr><td>Diglett</td><td>100</td><td>Aire</td><td>Puño de Aire</td><td>1</td></tr>",
                            "<tr><td>Dugtrio </td><td>100</td><td>Aire</td><td>Puño de Agua</td><td>1</td></tr>",
                            "<tr><td>Graveler</td><td>100</td><td>Aire</td><td>Puño de Fuego</td><td>1</td></tr>",
                            "<tr><td>Pidgey</td><td>100</td><td>Tierra</td><td>Puño de Fuego</td><td>1</td></tr>",
                            "<tr><td>Pidgeotto </td><td>100</td><td>Tierra</td><td>Puño de Tierra</td><td>1</td></tr>",
                            "<tr><td>Spearow</td><td>100</td><td>Tierra</td><td>Puño de Fuego</td><td>1</td></tr>",
                            "<tr><td>Spearow</td><td>100</td><td>Tierra</td><td>Puño de Aire</td><td>1</td></tr>",
                            "<tr><td>Fearow</td><td>100</td><td>Tierra</td><td>Puño de Agua</td><td>1</td></tr>",
                            "<tr><td>Fearow</td><td>100</td><td>Tierra</td><td>Puño de Aire</td><td>1</td></tr>",
                            "<tr><td>Charizard</td><td>100</td><td>Tierra</td><td>Puño de Fuego</td><td>1</td></tr>",
                            "<tr><td>Charizard</td><td>100</td><td>Tierra</td><td>Viento</td><td>2</td></tr>",
                            "<tr><td>Fearow</td><td>100</td><td>Tierra</td><td>Terremoto</td><td>2</td></tr>",
                            "<tr><td>Spearow</td><td>100</td><td>Tierra</td><td>Terremoto</td><td>2</td></tr>",
                            "<tr><td>Spearow</td><td>100</td><td>Tierra</td><td>Incendio</td><td>2</td></tr>",
                            "<tr><td>Pidgeotto </td><td>100</td><td>Tierra</td><td>Huracan</td><td>2</td></tr>",
                            "<tr><td>Pidgey</td><td>100</td><td>Tierra</td><td>Viento</td><td>2</td></tr>",
                            "<tr><td>Pidgey</td><td>100</td><td>Tierra</td><td>Incendio</td><td>2</td></tr>",
                            "<tr><td>Graveler</td><td>100</td><td>Aire</td><td>Huracan</td><td>2</td></tr>",
                            "<tr><td>Dugtrio </td><td>100</td><td>Aire</td><td>Huracan</td><td>2</td></tr>",
                            "<tr><td>Dugtrio </td><td>100</td><td>Aire</td><td>Incendio</td><td>2</td></tr>",
                            "<tr><td>Diglett</td><td>100</td><td>Aire</td><td>Huracan</td><td>2</td></tr>",
                            "<tr><td>Diglett</td><td>100</td><td>Aire</td><td>Terremoto</td><td>2</td></tr>",
                            "<tr><td>Sandslash</td><td>100</td><td>Aire</td><td>Viento</td><td>2</td></tr>",
                            "<tr><td>Sandslash</td><td>100</td><td>Aire</td><td>Terremoto</td><td>2</td></tr>",
                            "<tr><td>Sandslash</td><td>100</td><td>Aire</td><td>Incendio</td><td>2</td></tr>",
                            "<tr><td>Sandshrew</td><td>100</td><td>Aire</td><td>Huracan</td><td>2</td></tr>",
                            "<tr><td>Sandshrew</td><td>100</td><td>Aire</td><td>Incendio</td><td>2</td></tr>",
                            "<tr><td>Psyduck</td><td>100</td><td>Fuego</td><td>Viento</td><td>2</td></tr>",
                            "<tr><td>Gyarados</td><td>100</td><td>Fuego</td><td>Incendio</td><td>2</td></tr>",
                            "<tr><td>Magikarp</td><td>100</td><td>Fuego</td><td>Viento</td><td>2</td></tr>",
                            "<tr><td>Magikarp</td><td>100</td><td>Fuego</td><td>Incendio</td><td>2</td></tr>",
                            "<tr><td>Squirtle</td><td>100</td><td>Fuego</td><td>Terremoto</td><td>2</td></tr>",
                            "<tr><td>Vulpix</td><td>100</td><td>Agua</td><td>Viento</td><td>2</td></tr>",
                            "<tr><td>Vulpix</td><td>100</td><td>Agua</td><td>Incendio</td><td>2</td></tr>",
                            "<tr><td>Rapidash</td><td>100</td><td>Agua</td><td>Viento</td><td>2</td></tr>",
                            "<tr><td>Charmeleon</td><td>100</td><td>Agua</td><td>Viento</td><td>2</td></tr>",
                            "<tr><td>Charmeleon</td><td>100</td><td>Agua</td><td>Incendio</td><td>2</td></tr>",
                            "<tr><td>Charmander</td><td>100</td><td>Agua</td><td>Huracan</td><td>2</td></tr>",
                            "<tr><td>Charmander</td><td>100</td><td>Agua</td><td>Terremoto</td><td>2</td></tr>",
                            "<tr><td>Charmander</td><td>100</td><td>Agua</td><td>Arena Movediza</td><td>3</td></tr>",
                            "<tr><td>Charmeleon</td><td>100</td><td>Agua</td><td>Arena Movediza</td><td>3</td></tr>",
                            "<tr><td>Charmeleon</td><td>100</td><td>Agua</td><td>Ventisca</td><td>3</td></tr>",
                            "<tr><td>Rapidash</td><td>100</td><td>Agua</td><td>Ventisca</td><td>3</td></tr>",
                            "<tr><td>Ponyta</td><td>100</td><td>Agua</td><td>Tormenta</td><td>3</td></tr>",
                            "<tr><td>Ponyta</td><td>100</td><td>Agua</td><td>Volcan</td><td>3</td></tr>",
                            "<tr><td>Ponyta</td><td>100</td><td>Agua</td><td>Ventisca</td><td>3</td></tr>",
                            "<tr><td>Squirtle</td><td>100</td><td>Fuego</td><td>Arena Movediza</td><td>3</td></tr>",
                            "<tr><td>Squirtle</td><td>100</td><td>Fuego</td><td>Ventisca</td><td>3</td></tr>",
                            "<tr><td>Magikarp</td><td>100</td><td>Fuego</td><td>Tormenta</td><td>3</td></tr>",
                            "<tr><td>Magikarp</td><td>100</td><td>Fuego</td><td>Ventisca</td><td>3</td></tr>",
                            "<tr><td>Wartortle</td><td>100</td><td>Fuego</td><td>Arena Movediza</td><td>3</td></tr>",
                            "<tr><td>Gyarados</td><td>100</td><td>Fuego</td><td>Volcan</td><td>3</td></tr>",
                            "<tr><td>Gyarados</td><td>100</td><td>Fuego</td><td>Ventisca</td><td>3</td></tr>",
                            "<tr><td>Psyduck</td><td>100</td><td>Fuego</td><td>Arena Movediza</td><td>3</td></tr>",
                            "<tr><td>Sandshrew</td><td>100</td><td>Aire</td><td>Tormenta</td><td>3</td></tr>",
                            "<tr><td>Sandshrew</td><td>100</td><td>Aire</td><td>Ventisca</td><td>3</td></tr>",
                            "<tr><td>Sandslash</td><td>100</td><td>Aire</td><td>Volcan</td><td>3</td></tr>",
                            "<tr><td>Diglett</td><td>100</td><td>Aire</td><td>Arena Movediza</td><td>3</td></tr>",
                            "<tr><td>Dugtrio </td><td>100</td><td>Aire</td><td>Arena Movediza</td><td>3</td></tr>",
                            "<tr><td>Graveler</td><td>100</td><td>Aire</td><td>Tormenta</td><td>3</td></tr>",
                            "<tr><td>Pidgey</td><td>100</td><td>Tierra</td><td>Volcan</td><td>3</td></tr>",
                            "<tr><td>Pidgey</td><td>100</td><td>Tierra</td><td>Ventisca</td><td>3</td></tr>",
                            "<tr><td>Pidgeotto </td><td>100</td><td>Tierra</td><td>Arena Movediza</td><td>3</td></tr>",
                            "<tr><td>Spearow</td><td>100</td><td>Tierra</td><td>Tormenta</td><td>3</td></tr>",
                            "<tr><td>Fearow</td><td>100</td><td>Tierra</td><td>Volcan</td><td>3</td></tr>",
                            "<tr><td>Fearow</td><td>100</td><td>Tierra</td><td>Ventisca</td><td>3</td></tr>",
                            "<tr><td>Charizard</td><td>100</td><td>Tierra</td><td>Arena Movediza</td><td>3</td></tr>",
                            "<tr><td>Charizard</td><td>100</td><td>Tierra</td><td>Tsunami</td><td>4</td></tr>",
                            "<tr><td>Charizard</td><td>100</td><td>Tierra</td><td>Rayo</td><td>4</td></tr>",
                            "<tr><td>Pidgeotto </td><td>100</td><td>Tierra</td><td>Rayo</td><td>4</td></tr>",
                            "<tr><td>Pidgeotto </td><td>100</td><td>Tierra</td><td>Hierro</td><td>4</td></tr>",
                            "<tr><td>Graveler</td><td>100</td><td>Aire</td><td>Tsunami</td><td>4</td></tr>",
                            "<tr><td>Graveler</td><td>100</td><td>Aire</td><td>Hierro</td><td>4</td></tr>",
                            "<tr><td>Dugtrio </td><td>100</td><td>Aire</td><td>Hierro</td><td>4</td></tr>",
                            "<tr><td>Sandshrew</td><td>100</td><td>Aire</td><td>Hierro</td><td>4</td></tr>",
                            "<tr><td>Psyduck</td><td>100</td><td>Fuego</td><td>Tsunami</td><td>4</td></tr>",
                            "<tr><td>Gyarados</td><td>100</td><td>Fuego</td><td>Hierro</td><td>4</td></tr>",
                            "<tr><td>Wartortle</td><td>100</td><td>Fuego</td><td>Tsunami</td><td>4</td></tr>",
                            "<tr><td>Wartortle</td><td>100</td><td>Fuego</td><td>Rayo</td><td>4</td></tr>",
                            "<tr><td>Wartortle</td><td>100</td><td>Fuego</td><td>Hierro</td><td>4</td></tr>",
                            "<tr><td>Squirtle</td><td>100</td><td>Fuego</td><td>Hierro</td><td>4</td></tr>",
                            "<tr><td>Vulpix</td><td>100</td><td>Agua</td><td>Hierro</td><td>4</td></tr>",
                            "<tr><td>Ponyta</td><td>100</td><td>Agua</td><td>Hierro</td><td>4</td></tr>",
                            "<tr><td>Rapidash</td><td>100</td><td>Agua</td><td>Rayo</td><td>4</td></tr>",
                            "<tr><td>Charmander</td><td>100</td><td>Agua</td><td>Rayo</td><td>4</td></tr>",
                            "</table>"
                        ]
                    }
                },
                {
                    "output_type": "execute_result",
                    "metadata": {},
                    "execution_count": 5,
                    "data": {
                        "application/vnd.dataresource+json": {
                            "schema": {
                                "fields": [
                                    {
                                        "name": "Fecha"
                                    }
                                ]
                            },
                            "data": [
                                {
                                    "0": "2020-06-03"
                                },
                                {
                                    "0": "2020-06-03"
                                },
                                {
                                    "0": "2020-06-03"
                                }
                            ]
                        },
                        "text/html": [
                            "<table>",
                            "<tr><th>Fecha</th></tr>",
                            "<tr><td>2020-06-03</td></tr>",
                            "<tr><td>2020-06-03</td></tr>",
                            "<tr><td>2020-06-03</td></tr>",
                            "</table>"
                        ]
                    }
                },
                {
                    "output_type": "execute_result",
                    "metadata": {},
                    "execution_count": 5,
                    "data": {
                        "application/vnd.dataresource+json": {
                            "schema": {
                                "fields": [
                                    {
                                        "name": "Fecha"
                                    }
                                ]
                            },
                            "data": [
                                {
                                    "0": "2020-06-03"
                                }
                            ]
                        },
                        "text/html": [
                            "<table>",
                            "<tr><th>Fecha</th></tr>",
                            "<tr><td>2020-06-03</td></tr>",
                            "</table>"
                        ]
                    }
                },
                {
                    "output_type": "execute_result",
                    "metadata": {},
                    "execution_count": 5,
                    "data": {
                        "application/vnd.dataresource+json": {
                            "schema": {
                                "fields": [
                                    {
                                        "name": "Fecha"
                                    }
                                ]
                            },
                            "data": [
                                {
                                    "0": "2020-06-03"
                                },
                                {
                                    "0": "2020-06-03"
                                },
                                {
                                    "0": "2020-06-03"
                                }
                            ]
                        },
                        "text/html": [
                            "<table>",
                            "<tr><th>Fecha</th></tr>",
                            "<tr><td>2020-06-03</td></tr>",
                            "<tr><td>2020-06-03</td></tr>",
                            "<tr><td>2020-06-03</td></tr>",
                            "</table>"
                        ]
                    }
                },
                {
                    "output_type": "execute_result",
                    "metadata": {},
                    "execution_count": 5,
                    "data": {
                        "application/vnd.dataresource+json": {
                            "schema": {
                                "fields": [
                                    {
                                        "name": "Combate"
                                    },
                                    {
                                        "name": "Ganador"
                                    },
                                    {
                                        "name": "Bicho"
                                    }
                                ]
                            },
                            "data": [
                                {
                                    "0": "20",
                                    "1": "Diego",
                                    "2": "Ponyta"
                                },
                                {
                                    "0": "20",
                                    "1": "Diego",
                                    "2": "Squirtle"
                                },
                                {
                                    "0": "20",
                                    "1": "Diego",
                                    "2": "Pidgeotto "
                                },
                                {
                                    "0": "20",
                                    "1": "Jose",
                                    "2": "Diglett"
                                },
                                {
                                    "0": "20",
                                    "1": "Jose",
                                    "2": "Spearow"
                                },
                                {
                                    "0": "20",
                                    "1": "Jose",
                                    "2": "Charizard"
                                },
                                {
                                    "0": "21",
                                    "1": "Lucia",
                                    "2": "Gyarados"
                                },
                                {
                                    "0": "21",
                                    "1": "Lucia",
                                    "2": "Sandslash"
                                },
                                {
                                    "0": "21",
                                    "1": "Lucia",
                                    "2": "Graveler"
                                },
                                {
                                    "0": "22",
                                    "1": "Fabiola",
                                    "2": "Charmeleon"
                                },
                                {
                                    "0": "22",
                                    "1": "Fabiola",
                                    "2": "Psyduck"
                                },
                                {
                                    "0": "22",
                                    "1": "Fabiola",
                                    "2": "Pidgey"
                                },
                                {
                                    "0": "23",
                                    "1": "Fabiola",
                                    "2": "Charmeleon"
                                },
                                {
                                    "0": "23",
                                    "1": "Fabiola",
                                    "2": "Psyduck"
                                },
                                {
                                    "0": "23",
                                    "1": "Fabiola",
                                    "2": "Pidgey"
                                },
                                {
                                    "0": "24",
                                    "1": "Jose",
                                    "2": "Diglett"
                                },
                                {
                                    "0": "24",
                                    "1": "Jose",
                                    "2": "Spearow"
                                },
                                {
                                    "0": "24",
                                    "1": "Jose",
                                    "2": "Charizard"
                                },
                                {
                                    "0": "25",
                                    "1": "Fabiola",
                                    "2": "Charmeleon"
                                },
                                {
                                    "0": "25",
                                    "1": "Fabiola",
                                    "2": "Psyduck"
                                },
                                {
                                    "0": "25",
                                    "1": "Fabiola",
                                    "2": "Pidgey"
                                },
                                {
                                    "0": "25",
                                    "1": "Diego",
                                    "2": "Ponyta"
                                },
                                {
                                    "0": "25",
                                    "1": "Diego",
                                    "2": "Squirtle"
                                },
                                {
                                    "0": "25",
                                    "1": "Diego",
                                    "2": "Pidgeotto "
                                },
                                {
                                    "0": "26",
                                    "1": "Fabiola",
                                    "2": "Charmeleon"
                                },
                                {
                                    "0": "26",
                                    "1": "Fabiola",
                                    "2": "Psyduck"
                                },
                                {
                                    "0": "26",
                                    "1": "Fabiola",
                                    "2": "Pidgey"
                                },
                                {
                                    "0": "27",
                                    "1": "Fabiola",
                                    "2": "Charmeleon"
                                },
                                {
                                    "0": "27",
                                    "1": "Fabiola",
                                    "2": "Psyduck"
                                },
                                {
                                    "0": "27",
                                    "1": "Fabiola",
                                    "2": "Pidgey"
                                }
                            ]
                        },
                        "text/html": [
                            "<table>",
                            "<tr><th>Combate</th><th>Ganador</th><th>Bicho</th></tr>",
                            "<tr><td>20</td><td>Diego</td><td>Ponyta</td></tr>",
                            "<tr><td>20</td><td>Diego</td><td>Squirtle</td></tr>",
                            "<tr><td>20</td><td>Diego</td><td>Pidgeotto </td></tr>",
                            "<tr><td>20</td><td>Jose</td><td>Diglett</td></tr>",
                            "<tr><td>20</td><td>Jose</td><td>Spearow</td></tr>",
                            "<tr><td>20</td><td>Jose</td><td>Charizard</td></tr>",
                            "<tr><td>21</td><td>Lucia</td><td>Gyarados</td></tr>",
                            "<tr><td>21</td><td>Lucia</td><td>Sandslash</td></tr>",
                            "<tr><td>21</td><td>Lucia</td><td>Graveler</td></tr>",
                            "<tr><td>22</td><td>Fabiola</td><td>Charmeleon</td></tr>",
                            "<tr><td>22</td><td>Fabiola</td><td>Psyduck</td></tr>",
                            "<tr><td>22</td><td>Fabiola</td><td>Pidgey</td></tr>",
                            "<tr><td>23</td><td>Fabiola</td><td>Charmeleon</td></tr>",
                            "<tr><td>23</td><td>Fabiola</td><td>Psyduck</td></tr>",
                            "<tr><td>23</td><td>Fabiola</td><td>Pidgey</td></tr>",
                            "<tr><td>24</td><td>Jose</td><td>Diglett</td></tr>",
                            "<tr><td>24</td><td>Jose</td><td>Spearow</td></tr>",
                            "<tr><td>24</td><td>Jose</td><td>Charizard</td></tr>",
                            "<tr><td>25</td><td>Fabiola</td><td>Charmeleon</td></tr>",
                            "<tr><td>25</td><td>Fabiola</td><td>Psyduck</td></tr>",
                            "<tr><td>25</td><td>Fabiola</td><td>Pidgey</td></tr>",
                            "<tr><td>25</td><td>Diego</td><td>Ponyta</td></tr>",
                            "<tr><td>25</td><td>Diego</td><td>Squirtle</td></tr>",
                            "<tr><td>25</td><td>Diego</td><td>Pidgeotto </td></tr>",
                            "<tr><td>26</td><td>Fabiola</td><td>Charmeleon</td></tr>",
                            "<tr><td>26</td><td>Fabiola</td><td>Psyduck</td></tr>",
                            "<tr><td>26</td><td>Fabiola</td><td>Pidgey</td></tr>",
                            "<tr><td>27</td><td>Fabiola</td><td>Charmeleon</td></tr>",
                            "<tr><td>27</td><td>Fabiola</td><td>Psyduck</td></tr>",
                            "<tr><td>27</td><td>Fabiola</td><td>Pidgey</td></tr>",
                            "</table>"
                        ]
                    }
                },
                {
                    "output_type": "execute_result",
                    "metadata": {},
                    "execution_count": 5,
                    "data": {
                        "application/vnd.dataresource+json": {
                            "schema": {
                                "fields": [
                                    {
                                        "name": "Bicho"
                                    },
                                    {
                                        "name": "Aumento de Salud"
                                    }
                                ]
                            },
                            "data": [
                                {
                                    "0": "Charmeleon",
                                    "1": "30"
                                },
                                {
                                    "0": "Ponyta",
                                    "1": "25"
                                },
                                {
                                    "0": "Vulpix",
                                    "1": "30"
                                },
                                {
                                    "0": "Wartortle",
                                    "1": "25"
                                }
                            ]
                        },
                        "text/html": [
                            "<table>",
                            "<tr><th>Bicho</th><th>Aumento de Salud</th></tr>",
                            "<tr><td>Charmeleon</td><td>30</td></tr>",
                            "<tr><td>Ponyta</td><td>25</td></tr>",
                            "<tr><td>Vulpix</td><td>30</td></tr>",
                            "<tr><td>Wartortle</td><td>25</td></tr>",
                            "</table>"
                        ]
                    }
                },
                {
                    "output_type": "execute_result",
                    "metadata": {},
                    "execution_count": 5,
                    "data": {
                        "application/vnd.dataresource+json": {
                            "schema": {
                                "fields": [
                                    {
                                        "name": "Combate"
                                    },
                                    {
                                        "name": "Jugador Uno"
                                    },
                                    {
                                        "name": "Jugador Dos"
                                    },
                                    {
                                        "name": "Fecha"
                                    }
                                ]
                            },
                            "data": [
                                {
                                    "0": "12",
                                    "1": "Lucia",
                                    "2": "Edgar",
                                    "3": "2020-06-03"
                                },
                                {
                                    "0": "19",
                                    "1": "Lucia",
                                    "2": "Edgar",
                                    "3": "2020-06-03"
                                },
                                {
                                    "0": "29",
                                    "1": "Edgar",
                                    "2": "Lucia",
                                    "3": "2020-06-03"
                                },
                                {
                                    "0": "44",
                                    "1": "Edgar",
                                    "2": "Lucia",
                                    "3": "2020-06-03"
                                },
                                {
                                    "0": "52",
                                    "1": "Lucia",
                                    "2": "Edgar",
                                    "3": "2020-06-03"
                                },
                                {
                                    "0": "55",
                                    "1": "Edgar",
                                    "2": "Lucia",
                                    "3": "2020-06-03"
                                },
                                {
                                    "0": "57",
                                    "1": "Edgar",
                                    "2": "Lucia",
                                    "3": "2020-06-03"
                                },
                                {
                                    "0": "69",
                                    "1": "Lucia",
                                    "2": "Edgar",
                                    "3": "2020-06-03"
                                },
                                {
                                    "0": "80",
                                    "1": "Lucia",
                                    "2": "Edgar",
                                    "3": "2020-06-03"
                                }
                            ]
                        },
                        "text/html": [
                            "<table>",
                            "<tr><th>Combate</th><th>Jugador Uno</th><th>Jugador Dos</th><th>Fecha</th></tr>",
                            "<tr><td>12</td><td>Lucia</td><td>Edgar</td><td>2020-06-03</td></tr>",
                            "<tr><td>19</td><td>Lucia</td><td>Edgar</td><td>2020-06-03</td></tr>",
                            "<tr><td>29</td><td>Edgar</td><td>Lucia</td><td>2020-06-03</td></tr>",
                            "<tr><td>44</td><td>Edgar</td><td>Lucia</td><td>2020-06-03</td></tr>",
                            "<tr><td>52</td><td>Lucia</td><td>Edgar</td><td>2020-06-03</td></tr>",
                            "<tr><td>55</td><td>Edgar</td><td>Lucia</td><td>2020-06-03</td></tr>",
                            "<tr><td>57</td><td>Edgar</td><td>Lucia</td><td>2020-06-03</td></tr>",
                            "<tr><td>69</td><td>Lucia</td><td>Edgar</td><td>2020-06-03</td></tr>",
                            "<tr><td>80</td><td>Lucia</td><td>Edgar</td><td>2020-06-03</td></tr>",
                            "</table>"
                        ]
                    }
                },
                {
                    "output_type": "execute_result",
                    "metadata": {},
                    "execution_count": 5,
                    "data": {
                        "application/vnd.dataresource+json": {
                            "schema": {
                                "fields": [
                                    {
                                        "name": "ronda_noRonda"
                                    },
                                    {
                                        "name": "combate_id"
                                    },
                                    {
                                        "name": "bicho_uno"
                                    },
                                    {
                                        "name": "bicho_dos"
                                    },
                                    {
                                        "name": "ataque_uno"
                                    },
                                    {
                                        "name": "ataque_dos"
                                    },
                                    {
                                        "name": "nivel_daño_uno"
                                    },
                                    {
                                        "name": "nivel_daño_dos"
                                    },
                                    {
                                        "name": "ganador"
                                    }
                                ]
                            },
                            "data": [
                                {
                                    "0": "8",
                                    "1": "10",
                                    "2": "1",
                                    "3": "2",
                                    "4": "5",
                                    "5": "10",
                                    "6": "20",
                                    "7": "5",
                                    "8": "2"
                                },
                                {
                                    "0": "11",
                                    "1": "69",
                                    "2": "15",
                                    "3": "7",
                                    "4": "12",
                                    "5": "11",
                                    "6": "21",
                                    "7": "43",
                                    "8": "2"
                                },
                                {
                                    "0": "17",
                                    "1": "37",
                                    "2": "7",
                                    "3": "16",
                                    "4": "7",
                                    "5": "14",
                                    "6": "69",
                                    "7": "64",
                                    "8": "2"
                                },
                                {
                                    "0": "19",
                                    "1": "15",
                                    "2": "1",
                                    "3": "6",
                                    "4": "6",
                                    "5": "9",
                                    "6": "97",
                                    "7": "96",
                                    "8": "2"
                                },
                                {
                                    "0": "28",
                                    "1": "12",
                                    "2": "9",
                                    "3": "1",
                                    "4": "10",
                                    "5": "4",
                                    "6": "2",
                                    "7": "22",
                                    "8": "2"
                                },
                                {
                                    "0": "33",
                                    "1": "43",
                                    "2": "20",
                                    "3": "1",
                                    "4": "14",
                                    "5": "7",
                                    "6": "24",
                                    "7": "48",
                                    "8": "2"
                                },
                                {
                                    "0": "48",
                                    "1": "42",
                                    "2": "2",
                                    "3": "7",
                                    "4": "14",
                                    "5": "15",
                                    "6": "75",
                                    "7": "82",
                                    "8": "2"
                                },
                                {
                                    "0": "56",
                                    "1": "73",
                                    "2": "1",
                                    "3": "20",
                                    "4": "5",
                                    "5": "8",
                                    "6": "69",
                                    "7": "25",
                                    "8": "2"
                                },
                                {
                                    "0": "62",
                                    "1": "81",
                                    "2": "1",
                                    "3": "3",
                                    "4": "9",
                                    "5": "4",
                                    "6": "49",
                                    "7": "12",
                                    "8": "2"
                                },
                                {
                                    "0": "69",
                                    "1": "78",
                                    "2": "1",
                                    "3": "20",
                                    "4": "1",
                                    "5": "6",
                                    "6": "86",
                                    "7": "85",
                                    "8": "2"
                                },
                                {
                                    "0": "70",
                                    "1": "2",
                                    "2": "1",
                                    "3": "17",
                                    "4": "6",
                                    "5": "4",
                                    "6": "70",
                                    "7": "49",
                                    "8": "2"
                                },
                                {
                                    "0": "81",
                                    "1": "42",
                                    "2": "10",
                                    "3": "1",
                                    "4": "4",
                                    "5": "1",
                                    "6": "48",
                                    "7": "76",
                                    "8": "2"
                                },
                                {
                                    "0": "83",
                                    "1": "19",
                                    "2": "15",
                                    "3": "1",
                                    "4": "8",
                                    "5": "4",
                                    "6": "24",
                                    "7": "26",
                                    "8": "2"
                                },
                                {
                                    "0": "84",
                                    "1": "80",
                                    "2": "12",
                                    "3": "1",
                                    "4": "15",
                                    "5": "13",
                                    "6": "13",
                                    "7": "47",
                                    "8": "2"
                                },
                                {
                                    "0": "86",
                                    "1": "77",
                                    "2": "16",
                                    "3": "1",
                                    "4": "1",
                                    "5": "14",
                                    "6": "6",
                                    "7": "70",
                                    "8": "2"
                                },
                                {
                                    "0": "89",
                                    "1": "50",
                                    "2": "1",
                                    "3": "20",
                                    "4": "5",
                                    "5": "3",
                                    "6": "31",
                                    "7": "19",
                                    "8": "2"
                                },
                                {
                                    "0": "90",
                                    "1": "6",
                                    "2": "17",
                                    "3": "7",
                                    "4": "16",
                                    "5": "11",
                                    "6": "75",
                                    "7": "85",
                                    "8": "2"
                                },
                                {
                                    "0": "98",
                                    "1": "6",
                                    "2": "3",
                                    "3": "7",
                                    "4": "9",
                                    "5": "9",
                                    "6": "14",
                                    "7": "59",
                                    "8": "2"
                                }
                            ]
                        },
                        "text/html": [
                            "<table>",
                            "<tr><th>ronda_noRonda</th><th>combate_id</th><th>bicho_uno</th><th>bicho_dos</th><th>ataque_uno</th><th>ataque_dos</th><th>nivel_daño_uno</th><th>nivel_daño_dos</th><th>ganador</th></tr>",
                            "<tr><td>8</td><td>10</td><td>1</td><td>2</td><td>5</td><td>10</td><td>20</td><td>5</td><td>2</td></tr>",
                            "<tr><td>11</td><td>69</td><td>15</td><td>7</td><td>12</td><td>11</td><td>21</td><td>43</td><td>2</td></tr>",
                            "<tr><td>17</td><td>37</td><td>7</td><td>16</td><td>7</td><td>14</td><td>69</td><td>64</td><td>2</td></tr>",
                            "<tr><td>19</td><td>15</td><td>1</td><td>6</td><td>6</td><td>9</td><td>97</td><td>96</td><td>2</td></tr>",
                            "<tr><td>28</td><td>12</td><td>9</td><td>1</td><td>10</td><td>4</td><td>2</td><td>22</td><td>2</td></tr>",
                            "<tr><td>33</td><td>43</td><td>20</td><td>1</td><td>14</td><td>7</td><td>24</td><td>48</td><td>2</td></tr>",
                            "<tr><td>48</td><td>42</td><td>2</td><td>7</td><td>14</td><td>15</td><td>75</td><td>82</td><td>2</td></tr>",
                            "<tr><td>56</td><td>73</td><td>1</td><td>20</td><td>5</td><td>8</td><td>69</td><td>25</td><td>2</td></tr>",
                            "<tr><td>62</td><td>81</td><td>1</td><td>3</td><td>9</td><td>4</td><td>49</td><td>12</td><td>2</td></tr>",
                            "<tr><td>69</td><td>78</td><td>1</td><td>20</td><td>1</td><td>6</td><td>86</td><td>85</td><td>2</td></tr>",
                            "<tr><td>70</td><td>2</td><td>1</td><td>17</td><td>6</td><td>4</td><td>70</td><td>49</td><td>2</td></tr>",
                            "<tr><td>81</td><td>42</td><td>10</td><td>1</td><td>4</td><td>1</td><td>48</td><td>76</td><td>2</td></tr>",
                            "<tr><td>83</td><td>19</td><td>15</td><td>1</td><td>8</td><td>4</td><td>24</td><td>26</td><td>2</td></tr>",
                            "<tr><td>84</td><td>80</td><td>12</td><td>1</td><td>15</td><td>13</td><td>13</td><td>47</td><td>2</td></tr>",
                            "<tr><td>86</td><td>77</td><td>16</td><td>1</td><td>1</td><td>14</td><td>6</td><td>70</td><td>2</td></tr>",
                            "<tr><td>89</td><td>50</td><td>1</td><td>20</td><td>5</td><td>3</td><td>31</td><td>19</td><td>2</td></tr>",
                            "<tr><td>90</td><td>6</td><td>17</td><td>7</td><td>16</td><td>11</td><td>75</td><td>85</td><td>2</td></tr>",
                            "<tr><td>98</td><td>6</td><td>3</td><td>7</td><td>9</td><td>9</td><td>14</td><td>59</td><td>2</td></tr>",
                            "</table>"
                        ]
                    }
                },
                {
                    "output_type": "execute_result",
                    "metadata": {},
                    "execution_count": 5,
                    "data": {
                        "application/vnd.dataresource+json": {
                            "schema": {
                                "fields": [
                                    {
                                        "name": "ganador"
                                    },
                                    {
                                        "name": "Usuario"
                                    },
                                    {
                                        "name": "Rondas Ganadas"
                                    }
                                ]
                            },
                            "data": [
                                {
                                    "0": "1",
                                    "1": "Lucia",
                                    "2": "14"
                                },
                                {
                                    "0": "2",
                                    "1": "Edgar",
                                    "2": "18"
                                },
                                {
                                    "0": "3",
                                    "1": "Jose",
                                    "2": "28"
                                },
                                {
                                    "0": "4",
                                    "1": "Fabiola",
                                    "2": "25"
                                },
                                {
                                    "0": "5",
                                    "1": "Diego",
                                    "2": "15"
                                }
                            ]
                        },
                        "text/html": [
                            "<table>",
                            "<tr><th>ganador</th><th>Usuario</th><th>Rondas Ganadas</th></tr>",
                            "<tr><td>1</td><td>Lucia</td><td>14</td></tr>",
                            "<tr><td>2</td><td>Edgar</td><td>18</td></tr>",
                            "<tr><td>3</td><td>Jose</td><td>28</td></tr>",
                            "<tr><td>4</td><td>Fabiola</td><td>25</td></tr>",
                            "<tr><td>5</td><td>Diego</td><td>15</td></tr>",
                            "</table>"
                        ]
                    }
                },
                {
                    "output_type": "execute_result",
                    "metadata": {},
                    "execution_count": 5,
                    "data": {
                        "application/vnd.dataresource+json": {
                            "schema": {
                                "fields": [
                                    {
                                        "name": "Rondas Ganadas"
                                    }
                                ]
                            },
                            "data": [
                                {
                                    "0": "28"
                                }
                            ]
                        },
                        "text/html": [
                            "<table>",
                            "<tr><th>Rondas Ganadas</th></tr>",
                            "<tr><td>28</td></tr>",
                            "</table>"
                        ]
                    }
                },
                {
                    "output_type": "execute_result",
                    "metadata": {},
                    "execution_count": 5,
                    "data": {
                        "application/vnd.dataresource+json": {
                            "schema": {
                                "fields": [
                                    {
                                        "name": "ID"
                                    },
                                    {
                                        "name": "Bicho"
                                    }
                                ]
                            },
                            "data": [
                                {
                                    "0": "4",
                                    "1": "Rapidash"
                                },
                                {
                                    "0": "5",
                                    "1": "Vulpix"
                                },
                                {
                                    "0": "11",
                                    "1": "Sandshrew"
                                },
                                {
                                    "0": "14",
                                    "1": "Dugtrio "
                                },
                                {
                                    "0": "19",
                                    "1": "Fearow"
                                }
                            ]
                        },
                        "text/html": [
                            "<table>",
                            "<tr><th>ID</th><th>Bicho</th></tr>",
                            "<tr><td>4</td><td>Rapidash</td></tr>",
                            "<tr><td>5</td><td>Vulpix</td></tr>",
                            "<tr><td>11</td><td>Sandshrew</td></tr>",
                            "<tr><td>14</td><td>Dugtrio </td></tr>",
                            "<tr><td>19</td><td>Fearow</td></tr>",
                            "</table>"
                        ]
                    }
                },
                {
                    "output_type": "execute_result",
                    "metadata": {},
                    "execution_count": 5,
                    "data": {
                        "application/vnd.dataresource+json": {
                            "schema": {
                                "fields": [
                                    {
                                        "name": "bicho_id"
                                    },
                                    {
                                        "name": "bicho_nombre"
                                    },
                                    {
                                        "name": "bicho_salud"
                                    },
                                    {
                                        "name": "bicho_experiencia"
                                    },
                                    {
                                        "name": "bicho_nivel"
                                    },
                                    {
                                        "name": "bicho_tipo"
                                    },
                                    {
                                        "name": "bicho_especie"
                                    },
                                    {
                                        "name": "bicho_propietario"
                                    },
                                    {
                                        "name": "tipo_id"
                                    },
                                    {
                                        "name": "tipo_nombre"
                                    },
                                    {
                                        "name": "resistente"
                                    }
                                ]
                            },
                            "data": [
                                {
                                    "0": "6",
                                    "1": "Squirtle",
                                    "2": "100",
                                    "3": "1",
                                    "4": "1",
                                    "5": "4",
                                    "6": "5",
                                    "7": "5",
                                    "8": "4",
                                    "9": "Agua",
                                    "10": "Fuego"
                                },
                                {
                                    "0": "7",
                                    "1": "Wartortle",
                                    "2": "100",
                                    "3": "1",
                                    "4": "1",
                                    "5": "4",
                                    "6": "5",
                                    "7": "2",
                                    "8": "4",
                                    "9": "Agua",
                                    "10": "Fuego"
                                },
                                {
                                    "0": "8",
                                    "1": "Magikarp",
                                    "2": "100",
                                    "3": "1",
                                    "4": "1",
                                    "5": "4",
                                    "6": "6",
                                    "7": "2",
                                    "8": "4",
                                    "9": "Agua",
                                    "10": "Fuego"
                                },
                                {
                                    "0": "9",
                                    "1": "Gyarados",
                                    "2": "100",
                                    "3": "1",
                                    "4": "1",
                                    "5": "4",
                                    "6": "6",
                                    "7": "1",
                                    "8": "4",
                                    "9": "Agua",
                                    "10": "Fuego"
                                },
                                {
                                    "0": "10",
                                    "1": "Psyduck",
                                    "2": "100",
                                    "3": "1",
                                    "4": "1",
                                    "5": "4",
                                    "6": "5",
                                    "7": "4",
                                    "8": "4",
                                    "9": "Agua",
                                    "10": "Fuego"
                                },
                                {
                                    "0": "16",
                                    "1": "Pidgey",
                                    "2": "100",
                                    "3": "1",
                                    "4": "1",
                                    "5": "1",
                                    "6": "1",
                                    "7": "4",
                                    "8": "1",
                                    "9": "Aire",
                                    "10": "Tierra"
                                },
                                {
                                    "0": "17",
                                    "1": "Pidgeotto ",
                                    "2": "100",
                                    "3": "1",
                                    "4": "1",
                                    "5": "1",
                                    "6": "1",
                                    "7": "5",
                                    "8": "1",
                                    "9": "Aire",
                                    "10": "Tierra"
                                },
                                {
                                    "0": "18",
                                    "1": "Spearow",
                                    "2": "100",
                                    "3": "1",
                                    "4": "1",
                                    "5": "1",
                                    "6": "2",
                                    "7": "3",
                                    "8": "1",
                                    "9": "Aire",
                                    "10": "Tierra"
                                },
                                {
                                    "0": "19",
                                    "1": "Fearow",
                                    "2": "100",
                                    "3": "1",
                                    "4": "1",
                                    "5": "1",
                                    "6": "2",
                                    "7": "NULL",
                                    "8": "1",
                                    "9": "Aire",
                                    "10": "Tierra"
                                },
                                {
                                    "0": "20",
                                    "1": "Charizard",
                                    "2": "100",
                                    "3": "1",
                                    "4": "1",
                                    "5": "1",
                                    "6": "1",
                                    "7": "3",
                                    "8": "1",
                                    "9": "Aire",
                                    "10": "Tierra"
                                }
                            ]
                        },
                        "text/html": [
                            "<table>",
                            "<tr><th>bicho_id</th><th>bicho_nombre</th><th>bicho_salud</th><th>bicho_experiencia</th><th>bicho_nivel</th><th>bicho_tipo</th><th>bicho_especie</th><th>bicho_propietario</th><th>tipo_id</th><th>tipo_nombre</th><th>resistente</th></tr>",
                            "<tr><td>6</td><td>Squirtle</td><td>100</td><td>1</td><td>1</td><td>4</td><td>5</td><td>5</td><td>4</td><td>Agua</td><td>Fuego</td></tr>",
                            "<tr><td>7</td><td>Wartortle</td><td>100</td><td>1</td><td>1</td><td>4</td><td>5</td><td>2</td><td>4</td><td>Agua</td><td>Fuego</td></tr>",
                            "<tr><td>8</td><td>Magikarp</td><td>100</td><td>1</td><td>1</td><td>4</td><td>6</td><td>2</td><td>4</td><td>Agua</td><td>Fuego</td></tr>",
                            "<tr><td>9</td><td>Gyarados</td><td>100</td><td>1</td><td>1</td><td>4</td><td>6</td><td>1</td><td>4</td><td>Agua</td><td>Fuego</td></tr>",
                            "<tr><td>10</td><td>Psyduck</td><td>100</td><td>1</td><td>1</td><td>4</td><td>5</td><td>4</td><td>4</td><td>Agua</td><td>Fuego</td></tr>",
                            "<tr><td>16</td><td>Pidgey</td><td>100</td><td>1</td><td>1</td><td>1</td><td>1</td><td>4</td><td>1</td><td>Aire</td><td>Tierra</td></tr>",
                            "<tr><td>17</td><td>Pidgeotto </td><td>100</td><td>1</td><td>1</td><td>1</td><td>1</td><td>5</td><td>1</td><td>Aire</td><td>Tierra</td></tr>",
                            "<tr><td>18</td><td>Spearow</td><td>100</td><td>1</td><td>1</td><td>1</td><td>2</td><td>3</td><td>1</td><td>Aire</td><td>Tierra</td></tr>",
                            "<tr><td>19</td><td>Fearow</td><td>100</td><td>1</td><td>1</td><td>1</td><td>2</td><td>NULL</td><td>1</td><td>Aire</td><td>Tierra</td></tr>",
                            "<tr><td>20</td><td>Charizard</td><td>100</td><td>1</td><td>1</td><td>1</td><td>1</td><td>3</td><td>1</td><td>Aire</td><td>Tierra</td></tr>",
                            "</table>"
                        ]
                    }
                },
                {
                    "output_type": "execute_result",
                    "metadata": {},
                    "execution_count": 5,
                    "data": {
                        "application/vnd.dataresource+json": {
                            "schema": {
                                "fields": [
                                    {
                                        "name": "ID"
                                    },
                                    {
                                        "name": "Usuario"
                                    },
                                    {
                                        "name": "Rondas Ganadas"
                                    }
                                ]
                            },
                            "data": [
                                {
                                    "0": "3",
                                    "1": "Jose",
                                    "2": "28"
                                },
                                {
                                    "0": "4",
                                    "1": "Fabiola",
                                    "2": "25"
                                }
                            ]
                        },
                        "text/html": [
                            "<table>",
                            "<tr><th>ID</th><th>Usuario</th><th>Rondas Ganadas</th></tr>",
                            "<tr><td>3</td><td>Jose</td><td>28</td></tr>",
                            "<tr><td>4</td><td>Fabiola</td><td>25</td></tr>",
                            "</table>"
                        ]
                    }
                },
                {
                    "output_type": "execute_result",
                    "metadata": {},
                    "execution_count": 5,
                    "data": {
                        "application/vnd.dataresource+json": {
                            "schema": {
                                "fields": [
                                    {
                                        "name": "bicho_id"
                                    },
                                    {
                                        "name": "bicho_nombre"
                                    },
                                    {
                                        "name": "bicho_salud"
                                    },
                                    {
                                        "name": "bicho_experiencia"
                                    },
                                    {
                                        "name": "bicho_nivel"
                                    },
                                    {
                                        "name": "bicho_tipo"
                                    },
                                    {
                                        "name": "bicho_especie"
                                    },
                                    {
                                        "name": "bicho_propietario"
                                    }
                                ]
                            },
                            "data": [
                                {
                                    "0": "4",
                                    "1": "Rapidash",
                                    "2": "100",
                                    "3": "1",
                                    "4": "1",
                                    "5": "3",
                                    "6": "4",
                                    "7": "NULL"
                                },
                                {
                                    "0": "5",
                                    "1": "Vulpix",
                                    "2": "100",
                                    "3": "1",
                                    "4": "1",
                                    "5": "3",
                                    "6": "3",
                                    "7": "NULL"
                                },
                                {
                                    "0": "11",
                                    "1": "Sandshrew",
                                    "2": "100",
                                    "3": "1",
                                    "4": "1",
                                    "5": "2",
                                    "6": "7",
                                    "7": "NULL"
                                },
                                {
                                    "0": "14",
                                    "1": "Dugtrio ",
                                    "2": "100",
                                    "3": "1",
                                    "4": "1",
                                    "5": "2",
                                    "6": "8",
                                    "7": "NULL"
                                },
                                {
                                    "0": "19",
                                    "1": "Fearow",
                                    "2": "100",
                                    "3": "1",
                                    "4": "1",
                                    "5": "1",
                                    "6": "2",
                                    "7": "NULL"
                                }
                            ]
                        },
                        "text/html": [
                            "<table>",
                            "<tr><th>bicho_id</th><th>bicho_nombre</th><th>bicho_salud</th><th>bicho_experiencia</th><th>bicho_nivel</th><th>bicho_tipo</th><th>bicho_especie</th><th>bicho_propietario</th></tr>",
                            "<tr><td>4</td><td>Rapidash</td><td>100</td><td>1</td><td>1</td><td>3</td><td>4</td><td>NULL</td></tr>",
                            "<tr><td>5</td><td>Vulpix</td><td>100</td><td>1</td><td>1</td><td>3</td><td>3</td><td>NULL</td></tr>",
                            "<tr><td>11</td><td>Sandshrew</td><td>100</td><td>1</td><td>1</td><td>2</td><td>7</td><td>NULL</td></tr>",
                            "<tr><td>14</td><td>Dugtrio </td><td>100</td><td>1</td><td>1</td><td>2</td><td>8</td><td>NULL</td></tr>",
                            "<tr><td>19</td><td>Fearow</td><td>100</td><td>1</td><td>1</td><td>1</td><td>2</td><td>NULL</td></tr>",
                            "</table>"
                        ]
                    }
                },
                {
                    "output_type": "execute_result",
                    "metadata": {},
                    "execution_count": 5,
                    "data": {
                        "application/vnd.dataresource+json": {
                            "schema": {
                                "fields": [
                                    {
                                        "name": "intercambio_fecha"
                                    },
                                    {
                                        "name": "Bicho"
                                    },
                                    {
                                        "name": "Veces cambiado"
                                    }
                                ]
                            },
                            "data": [
                                {
                                    "0": "2020-06-03",
                                    "1": "Charmander",
                                    "2": "1"
                                },
                                {
                                    "0": "2020-06-03",
                                    "1": "Charmeleon",
                                    "2": "1"
                                },
                                {
                                    "0": "2020-06-03",
                                    "1": "Rapidash",
                                    "2": "1"
                                },
                                {
                                    "0": "2020-06-03",
                                    "1": "Vulpix",
                                    "2": "2"
                                },
                                {
                                    "0": "2020-06-03",
                                    "1": "Squirtle",
                                    "2": "1"
                                },
                                {
                                    "0": "2020-06-03",
                                    "1": "Gyarados",
                                    "2": "1"
                                },
                                {
                                    "0": "2020-06-03",
                                    "1": "Psyduck",
                                    "2": "2"
                                },
                                {
                                    "0": "2020-06-03",
                                    "1": "Sandslash",
                                    "2": "1"
                                }
                            ]
                        },
                        "text/html": [
                            "<table>",
                            "<tr><th>intercambio_fecha</th><th>Bicho</th><th>Veces cambiado</th></tr>",
                            "<tr><td>2020-06-03</td><td>Charmander</td><td>1</td></tr>",
                            "<tr><td>2020-06-03</td><td>Charmeleon</td><td>1</td></tr>",
                            "<tr><td>2020-06-03</td><td>Rapidash</td><td>1</td></tr>",
                            "<tr><td>2020-06-03</td><td>Vulpix</td><td>2</td></tr>",
                            "<tr><td>2020-06-03</td><td>Squirtle</td><td>1</td></tr>",
                            "<tr><td>2020-06-03</td><td>Gyarados</td><td>1</td></tr>",
                            "<tr><td>2020-06-03</td><td>Psyduck</td><td>2</td></tr>",
                            "<tr><td>2020-06-03</td><td>Sandslash</td><td>1</td></tr>",
                            "</table>"
                        ]
                    }
                },
                {
                    "output_type": "execute_result",
                    "metadata": {},
                    "execution_count": 5,
                    "data": {
                        "application/vnd.dataresource+json": {
                            "schema": {
                                "fields": [
                                    {
                                        "name": "bicho_nombre"
                                    },
                                    {
                                        "name": "catalogo_nombre"
                                    }
                                ]
                            },
                            "data": [
                                {
                                    "0": "Charmander",
                                    "1": "Puño de Fuego"
                                },
                                {
                                    "0": "Charmander",
                                    "1": "Huracan"
                                },
                                {
                                    "0": "Charmander",
                                    "1": "Terremoto"
                                },
                                {
                                    "0": "Charmander",
                                    "1": "Arena Movediza"
                                },
                                {
                                    "0": "Charmander",
                                    "1": "Rayo"
                                }
                            ]
                        },
                        "text/html": [
                            "<table>",
                            "<tr><th>bicho_nombre</th><th>catalogo_nombre</th></tr>",
                            "<tr><td>Charmander</td><td>Puño de Fuego</td></tr>",
                            "<tr><td>Charmander</td><td>Huracan</td></tr>",
                            "<tr><td>Charmander</td><td>Terremoto</td></tr>",
                            "<tr><td>Charmander</td><td>Arena Movediza</td></tr>",
                            "<tr><td>Charmander</td><td>Rayo</td></tr>",
                            "</table>"
                        ]
                    }
                },
                {
                    "output_type": "execute_result",
                    "metadata": {},
                    "execution_count": 5,
                    "data": {
                        "application/vnd.dataresource+json": {
                            "schema": {
                                "fields": [
                                    {
                                        "name": "Usuario"
                                    },
                                    {
                                        "name": "Numero intercambios"
                                    }
                                ]
                            },
                            "data": [
                                {
                                    "0": "Lucia",
                                    "1": "2"
                                },
                                {
                                    "0": "Edgar",
                                    "1": "2"
                                },
                                {
                                    "0": "Jose",
                                    "1": "2"
                                },
                                {
                                    "0": "Fabiola",
                                    "1": "2"
                                },
                                {
                                    "0": "Diego",
                                    "1": "2"
                                }
                            ]
                        },
                        "text/html": [
                            "<table>",
                            "<tr><th>Usuario</th><th>Numero intercambios</th></tr>",
                            "<tr><td>Lucia</td><td>2</td></tr>",
                            "<tr><td>Edgar</td><td>2</td></tr>",
                            "<tr><td>Jose</td><td>2</td></tr>",
                            "<tr><td>Fabiola</td><td>2</td></tr>",
                            "<tr><td>Diego</td><td>2</td></tr>",
                            "</table>"
                        ]
                    }
                },
                {
                    "output_type": "execute_result",
                    "metadata": {},
                    "execution_count": 5,
                    "data": {
                        "application/vnd.dataresource+json": {
                            "schema": {
                                "fields": [
                                    {
                                        "name": "Ataque"
                                    }
                                ]
                            },
                            "data": [
                                {
                                    "0": "Tsunami"
                                },
                                {
                                    "0": "Rayo"
                                },
                                {
                                    "0": "Hierro"
                                },
                                {
                                    "0": "Tornado"
                                },
                                {
                                    "0": "Tormenta"
                                },
                                {
                                    "0": "Volcan"
                                },
                                {
                                    "0": "Arena Movediza"
                                },
                                {
                                    "0": "Ventisca"
                                },
                                {
                                    "0": "Huracan"
                                },
                                {
                                    "0": "Viento"
                                },
                                {
                                    "0": "Terremoto"
                                },
                                {
                                    "0": "Incendio"
                                },
                                {
                                    "0": "Puño de Fuego"
                                },
                                {
                                    "0": "Puño de Agua"
                                },
                                {
                                    "0": "Puño de Tierra"
                                },
                                {
                                    "0": "Puño de Aire"
                                }
                            ]
                        },
                        "text/html": [
                            "<table>",
                            "<tr><th>Ataque</th></tr>",
                            "<tr><td>Tsunami</td></tr>",
                            "<tr><td>Rayo</td></tr>",
                            "<tr><td>Hierro</td></tr>",
                            "<tr><td>Tornado</td></tr>",
                            "<tr><td>Tormenta</td></tr>",
                            "<tr><td>Volcan</td></tr>",
                            "<tr><td>Arena Movediza</td></tr>",
                            "<tr><td>Ventisca</td></tr>",
                            "<tr><td>Huracan</td></tr>",
                            "<tr><td>Viento</td></tr>",
                            "<tr><td>Terremoto</td></tr>",
                            "<tr><td>Incendio</td></tr>",
                            "<tr><td>Puño de Fuego</td></tr>",
                            "<tr><td>Puño de Agua</td></tr>",
                            "<tr><td>Puño de Tierra</td></tr>",
                            "<tr><td>Puño de Aire</td></tr>",
                            "</table>"
                        ]
                    }
                },
                {
                    "output_type": "execute_result",
                    "metadata": {},
                    "execution_count": 5,
                    "data": {
                        "application/vnd.dataresource+json": {
                            "schema": {
                                "fields": [
                                    {
                                        "name": "bicho_uno"
                                    },
                                    {
                                        "name": "Veces cambiado"
                                    }
                                ]
                            },
                            "data": []
                        },
                        "text/html": [
                            "<table>",
                            "<tr><th>bicho_uno</th><th>Veces cambiado</th></tr>",
                            "</table>"
                        ]
                    }
                }
            ],
            "execution_count": 5
        },
        {
            "cell_type": "markdown",
            "source": [
                "**5. VISTAS**"
            ],
            "metadata": {
                "azdata_cell_guid": "b85fa639-09b1-478b-8a5f-2ce7399ab5b3"
            }
        },
        {
            "cell_type": "code",
            "source": [
                "-- VISTA PARA VISUALIZAR BICHOS\r\n",
                "Create VIEW TablaBichos_V\r\n",
                "AS\r\n",
                "    SELECT\r\n",
                "        bicho_id AS 'ID',\r\n",
                "        bicho_nombre AS 'Bicho',\r\n",
                "        bicho_salud AS 'Salud',\r\n",
                "        (SELECT tipo_nombre\r\n",
                "        FROM Tipos\r\n",
                "        WHERE tipo_id = bicho_tipo) AS 'Tipo',\r\n",
                "        (SELECT especie_nombre\r\n",
                "        FROM Especies\r\n",
                "        WHERE especie_id = bicho_especie) AS 'Especie',\r\n",
                "        (SELECT usuario_nombre\r\n",
                "        FROM Usuarios\r\n",
                "        WHERE usuario_id = bicho_propietario) AS 'Propietario'\r\n",
                "    FROM Bichos\r\n",
                "\r\n",
                "GO\r\n",
                "\r\n",
                "-- Vista para saber qué bichos no tienen propietario\r\n",
                "CREATE VIEW BichosSinPropietario_V\r\n",
                "AS\r\n",
                "    SELECT \r\n",
                "    bicho_id AS 'ID', \r\n",
                "    bicho_nombre AS 'Nombre', \r\n",
                "    (SELECT tipo_nombre\r\n",
                "        FROM Tipos\r\n",
                "        WHERE tipo_id = bicho_tipo) AS 'Tipo',\r\n",
                "        (SELECT especie_nombre\r\n",
                "        FROM Especies\r\n",
                "        WHERE especie_id = bicho_especie) AS 'Especie'\r\n",
                "    FROM Bichos\r\n",
                "    WHERE bicho_propietario IS NULL\r\n",
                "\r\n",
                "GO\r\n",
                "\r\n",
                "-- VISTA PARA VISUALIZAR USUARIOS\r\n",
                "Create VIEW UsuariosResgistrados_V\r\n",
                "as\r\n",
                "    SELECT usuario_nombre as 'Usuarios', usuario_correo AS 'Correo', usuario_tipo AS 'Tipo'\r\n",
                "    from Usuarios\r\n",
                "\r\n",
                "GO\r\n",
                "\r\n",
                "-- VISTA PARA VISUALIZAR RECOLECCIONES\r\n",
                "CREATE VIEW Recolecciones_V\r\n",
                "as\r\n",
                "    SELECT (SELECT usuario_nombre\r\n",
                "        FROM Usuarios\r\n",
                "        WHERE usuario_id = recoleccion_usuario) as 'Usuario',\r\n",
                "        (SELECT bicho_nombre\r\n",
                "        FROM Bichos\r\n",
                "        WHERE bicho_id = recoleccion_bicho) AS 'Bicho',\r\n",
                "        recoleccion_fecha as 'Fecha de Recoleccion'\r\n",
                "    from Recolecciones\r\n",
                "\r\n",
                "GO\r\n",
                "\r\n",
                "-- VISTA PARA VISUALIZAR COMBATES\r\n",
                "CREATE VIEW Combates_V\r\n",
                "as\r\n",
                "    SELECT\r\n",
                "        combate_id as 'ID',\r\n",
                "        combate_fecha as 'Fecha',\r\n",
                "        (SELECT usuario_nombre\r\n",
                "        FROM Usuarios\r\n",
                "        WHERE usuario_id = usuario_uno) as 'Jugador 1',\r\n",
                "        (SELECT usuario_nombre\r\n",
                "        FROM Usuarios\r\n",
                "        WHERE usuario_id = usuario_dos) as 'Jugador 2',\r\n",
                "        (SELECT count(combate_id)\r\n",
                "        FROM Rondas\r\n",
                "        WHERE combate_id = Combates.combate_id and ganador = usuario_uno) AS 'Ganadas del jugador 1',\r\n",
                "        (SELECT count(combate_id)\r\n",
                "        FROM Rondas\r\n",
                "        WHERE combate_id = Combates.combate_id and ganador = usuario_dos) AS 'Ganadas del jugador 2'\r\n",
                "    FROM Combates\r\n",
                "\r\n",
                "GO\r\n",
                "\r\n",
                "-- VISTA PARA VISUALIZAR BICHOS QUE TIENE UN USUARIO\r\n",
                "CREATE VIEW UsuarioBichos_V\r\n",
                "AS\r\n",
                "    SELECT u.usuario_nombre AS 'Usuario', b.bicho_nombre AS 'Bicho', (SELECT especie_nombre\r\n",
                "        FROM Especies\r\n",
                "        WHERE especie_id = b.bicho_especie) AS 'Especie', (SELECT tipo_nombre\r\n",
                "        FROM Tipos\r\n",
                "        WHERE tipo_id = b.bicho_tipo) AS 'Tipo'\r\n",
                "    FROM Usuarios u\r\n",
                "        INNER JOIN Bichos b ON u.usuario_id = bicho_propietario\r\n",
                "\r\n",
                "GO\r\n",
                "\r\n",
                "-- VISTA PARA VISUALIZAR ATAQUES QUE TIENE UN BICHO\r\n",
                "CREATE VIEW BichosAtaque_V\r\n",
                "AS\r\n",
                "    SELECT b.bicho_nombre AS 'Bicho', (SELECT catalogo_nombre\r\n",
                "        FROM Catalogo_Ataques\r\n",
                "        WHERE catalogo_id = a.ataque_id) AS 'Ataque'\r\n",
                "    FROM\r\n",
                "        Bichos b INNER JOIN Ataques_Bicho a ON b.bicho_id = a.bicho_id\r\n",
                "\r\n",
                "GO\r\n",
                "\r\n",
                "-- VISTA PARA VISUALIZAR JUGADORES\r\n",
                "Create VIEW GetJugadores_V\r\n",
                "as\r\n",
                "    SELECT usuario_id AS 'ID', usuario_nombre as 'Nombre', usuario_correo AS 'Correo'\r\n",
                "    from Usuarios\r\n",
                "    WHERE usuario_tipo = 'Jugador'\r\n",
                "\r\n",
                "GO\r\n",
                "\r\n",
                "-- VISTA PARA VISUALIZAR ESPECIES\r\n",
                "CREATE VIEW Especies_V\r\n",
                "AS\r\n",
                "    SELECT \r\n",
                "    especie_id AS 'ID', \r\n",
                "    especie_nombre AS 'Nombre', \r\n",
                "    (SELECT tipo_nombre\r\n",
                "        FROM Tipos\r\n",
                "        WHERE tipo_id = especie_tipo) AS 'Tipo'\r\n",
                "    FROM Especies\r\n",
                "GO\r\n",
                ""
            ],
            "metadata": {
                "azdata_cell_guid": "8d272890-fef7-4196-872d-a15d2d72eca9",
                "tags": [
                    "hide_input"
                ]
            },
            "outputs": [
                {
                    "output_type": "display_data",
                    "data": {
                        "text/html": "Commands completed successfully."
                    },
                    "metadata": {}
                },
                {
                    "output_type": "display_data",
                    "data": {
                        "text/html": "Commands completed successfully."
                    },
                    "metadata": {}
                },
                {
                    "output_type": "display_data",
                    "data": {
                        "text/html": "Commands completed successfully."
                    },
                    "metadata": {}
                },
                {
                    "output_type": "display_data",
                    "data": {
                        "text/html": "Commands completed successfully."
                    },
                    "metadata": {}
                },
                {
                    "output_type": "display_data",
                    "data": {
                        "text/html": "Commands completed successfully."
                    },
                    "metadata": {}
                },
                {
                    "output_type": "display_data",
                    "data": {
                        "text/html": "Commands completed successfully."
                    },
                    "metadata": {}
                },
                {
                    "output_type": "display_data",
                    "data": {
                        "text/html": "Commands completed successfully."
                    },
                    "metadata": {}
                },
                {
                    "output_type": "display_data",
                    "data": {
                        "text/html": "Commands completed successfully."
                    },
                    "metadata": {}
                },
                {
                    "output_type": "display_data",
                    "data": {
                        "text/html": "Commands completed successfully."
                    },
                    "metadata": {}
                },
                {
                    "output_type": "display_data",
                    "data": {
                        "text/html": "Total execution time: 00:00:00.105"
                    },
                    "metadata": {}
                }
            ],
            "execution_count": 6
        },
        {
            "cell_type": "markdown",
            "source": [
                "    Probar vistas"
            ],
            "metadata": {
                "azdata_cell_guid": "e055195f-3fab-44c4-9807-b846d4cfe5f2"
            }
        },
        {
            "cell_type": "code",
            "source": [
                "SELECT *\r\n",
                "from TablaBichos_V\r\n",
                "SELECT *\r\n",
                "FROM BichosSinPropietario_V\r\n",
                "SELECT *\r\n",
                "from UsuariosResgistrados_V\r\n",
                "SELECT *\r\n",
                "from Recolecciones_V\r\n",
                "SELECT *\r\n",
                "from Combates_V\r\n",
                "SELECT *\r\n",
                "FROM UsuarioBichos_V\r\n",
                "SELECT *\r\n",
                "FROM BichosAtaque_V\r\n",
                "SELECT *\r\n",
                "FROM GetJugadores_V"
            ],
            "metadata": {
                "azdata_cell_guid": "d13b2f94-bfb9-41b3-ac9a-f4bdfdee1fb8",
                "tags": [
                    "hide_input"
                ]
            },
            "outputs": [
                {
                    "output_type": "display_data",
                    "data": {
                        "text/html": "(20 rows affected)"
                    },
                    "metadata": {}
                },
                {
                    "output_type": "display_data",
                    "data": {
                        "text/html": "(5 rows affected)"
                    },
                    "metadata": {}
                },
                {
                    "output_type": "display_data",
                    "data": {
                        "text/html": "(6 rows affected)"
                    },
                    "metadata": {}
                },
                {
                    "output_type": "display_data",
                    "data": {
                        "text/html": "(15 rows affected)"
                    },
                    "metadata": {}
                },
                {
                    "output_type": "display_data",
                    "data": {
                        "text/html": "(100 rows affected)"
                    },
                    "metadata": {}
                },
                {
                    "output_type": "display_data",
                    "data": {
                        "text/html": "(15 rows affected)"
                    },
                    "metadata": {}
                },
                {
                    "output_type": "display_data",
                    "data": {
                        "text/html": "(100 rows affected)"
                    },
                    "metadata": {}
                },
                {
                    "output_type": "display_data",
                    "data": {
                        "text/html": "(5 rows affected)"
                    },
                    "metadata": {}
                },
                {
                    "output_type": "display_data",
                    "data": {
                        "text/html": "Total execution time: 00:00:01.299"
                    },
                    "metadata": {}
                },
                {
                    "output_type": "execute_result",
                    "metadata": {},
                    "execution_count": 7,
                    "data": {
                        "application/vnd.dataresource+json": {
                            "schema": {
                                "fields": [
                                    {
                                        "name": "ID"
                                    },
                                    {
                                        "name": "Bicho"
                                    },
                                    {
                                        "name": "Salud"
                                    },
                                    {
                                        "name": "Tipo"
                                    },
                                    {
                                        "name": "Especie"
                                    },
                                    {
                                        "name": "Propietario"
                                    }
                                ]
                            },
                            "data": [
                                {
                                    "0": "1",
                                    "1": "Charmander",
                                    "2": "100",
                                    "3": "Fuego",
                                    "4": "Vulcano",
                                    "5": "Edgar"
                                },
                                {
                                    "0": "2",
                                    "1": "Charmeleon",
                                    "2": "100",
                                    "3": "Fuego",
                                    "4": "Vulcano",
                                    "5": "Fabiola"
                                },
                                {
                                    "0": "3",
                                    "1": "Ponyta",
                                    "2": "100",
                                    "3": "Fuego",
                                    "4": "Prometeo",
                                    "5": "Diego"
                                },
                                {
                                    "0": "4",
                                    "1": "Rapidash",
                                    "2": "100",
                                    "3": "Fuego",
                                    "4": "Prometeo",
                                    "5": "NULL"
                                },
                                {
                                    "0": "5",
                                    "1": "Vulpix",
                                    "2": "100",
                                    "3": "Fuego",
                                    "4": "Vulcano",
                                    "5": "NULL"
                                },
                                {
                                    "0": "6",
                                    "1": "Squirtle",
                                    "2": "100",
                                    "3": "Agua",
                                    "4": "Poseidon",
                                    "5": "Diego"
                                },
                                {
                                    "0": "7",
                                    "1": "Wartortle",
                                    "2": "100",
                                    "3": "Agua",
                                    "4": "Poseidon",
                                    "5": "Edgar"
                                },
                                {
                                    "0": "8",
                                    "1": "Magikarp",
                                    "2": "100",
                                    "3": "Agua",
                                    "4": "Triton",
                                    "5": "Edgar"
                                },
                                {
                                    "0": "9",
                                    "1": "Gyarados",
                                    "2": "100",
                                    "3": "Agua",
                                    "4": "Triton",
                                    "5": "Lucia"
                                },
                                {
                                    "0": "10",
                                    "1": "Psyduck",
                                    "2": "100",
                                    "3": "Agua",
                                    "4": "Poseidon",
                                    "5": "Fabiola"
                                },
                                {
                                    "0": "11",
                                    "1": "Sandshrew",
                                    "2": "100",
                                    "3": "Tierra",
                                    "4": "Gaia",
                                    "5": "NULL"
                                },
                                {
                                    "0": "12",
                                    "1": "Sandslash",
                                    "2": "100",
                                    "3": "Tierra",
                                    "4": "Gaia",
                                    "5": "Lucia"
                                },
                                {
                                    "0": "13",
                                    "1": "Diglett",
                                    "2": "100",
                                    "3": "Tierra",
                                    "4": "Pan",
                                    "5": "Jose"
                                },
                                {
                                    "0": "14",
                                    "1": "Dugtrio ",
                                    "2": "100",
                                    "3": "Tierra",
                                    "4": "Pan",
                                    "5": "NULL"
                                },
                                {
                                    "0": "15",
                                    "1": "Graveler",
                                    "2": "100",
                                    "3": "Tierra",
                                    "4": "Gaia",
                                    "5": "Lucia"
                                },
                                {
                                    "0": "16",
                                    "1": "Pidgey",
                                    "2": "100",
                                    "3": "Aire",
                                    "4": "Eolo",
                                    "5": "Fabiola"
                                },
                                {
                                    "0": "17",
                                    "1": "Pidgeotto ",
                                    "2": "100",
                                    "3": "Aire",
                                    "4": "Eolo",
                                    "5": "Diego"
                                },
                                {
                                    "0": "18",
                                    "1": "Spearow",
                                    "2": "100",
                                    "3": "Aire",
                                    "4": "Boreas",
                                    "5": "Jose"
                                },
                                {
                                    "0": "19",
                                    "1": "Fearow",
                                    "2": "100",
                                    "3": "Aire",
                                    "4": "Boreas",
                                    "5": "NULL"
                                },
                                {
                                    "0": "20",
                                    "1": "Charizard",
                                    "2": "100",
                                    "3": "Aire",
                                    "4": "Eolo",
                                    "5": "Jose"
                                }
                            ]
                        },
                        "text/html": [
                            "<table>",
                            "<tr><th>ID</th><th>Bicho</th><th>Salud</th><th>Tipo</th><th>Especie</th><th>Propietario</th></tr>",
                            "<tr><td>1</td><td>Charmander</td><td>100</td><td>Fuego</td><td>Vulcano</td><td>Edgar</td></tr>",
                            "<tr><td>2</td><td>Charmeleon</td><td>100</td><td>Fuego</td><td>Vulcano</td><td>Fabiola</td></tr>",
                            "<tr><td>3</td><td>Ponyta</td><td>100</td><td>Fuego</td><td>Prometeo</td><td>Diego</td></tr>",
                            "<tr><td>4</td><td>Rapidash</td><td>100</td><td>Fuego</td><td>Prometeo</td><td>NULL</td></tr>",
                            "<tr><td>5</td><td>Vulpix</td><td>100</td><td>Fuego</td><td>Vulcano</td><td>NULL</td></tr>",
                            "<tr><td>6</td><td>Squirtle</td><td>100</td><td>Agua</td><td>Poseidon</td><td>Diego</td></tr>",
                            "<tr><td>7</td><td>Wartortle</td><td>100</td><td>Agua</td><td>Poseidon</td><td>Edgar</td></tr>",
                            "<tr><td>8</td><td>Magikarp</td><td>100</td><td>Agua</td><td>Triton</td><td>Edgar</td></tr>",
                            "<tr><td>9</td><td>Gyarados</td><td>100</td><td>Agua</td><td>Triton</td><td>Lucia</td></tr>",
                            "<tr><td>10</td><td>Psyduck</td><td>100</td><td>Agua</td><td>Poseidon</td><td>Fabiola</td></tr>",
                            "<tr><td>11</td><td>Sandshrew</td><td>100</td><td>Tierra</td><td>Gaia</td><td>NULL</td></tr>",
                            "<tr><td>12</td><td>Sandslash</td><td>100</td><td>Tierra</td><td>Gaia</td><td>Lucia</td></tr>",
                            "<tr><td>13</td><td>Diglett</td><td>100</td><td>Tierra</td><td>Pan</td><td>Jose</td></tr>",
                            "<tr><td>14</td><td>Dugtrio </td><td>100</td><td>Tierra</td><td>Pan</td><td>NULL</td></tr>",
                            "<tr><td>15</td><td>Graveler</td><td>100</td><td>Tierra</td><td>Gaia</td><td>Lucia</td></tr>",
                            "<tr><td>16</td><td>Pidgey</td><td>100</td><td>Aire</td><td>Eolo</td><td>Fabiola</td></tr>",
                            "<tr><td>17</td><td>Pidgeotto </td><td>100</td><td>Aire</td><td>Eolo</td><td>Diego</td></tr>",
                            "<tr><td>18</td><td>Spearow</td><td>100</td><td>Aire</td><td>Boreas</td><td>Jose</td></tr>",
                            "<tr><td>19</td><td>Fearow</td><td>100</td><td>Aire</td><td>Boreas</td><td>NULL</td></tr>",
                            "<tr><td>20</td><td>Charizard</td><td>100</td><td>Aire</td><td>Eolo</td><td>Jose</td></tr>",
                            "</table>"
                        ]
                    }
                },
                {
                    "output_type": "execute_result",
                    "metadata": {},
                    "execution_count": 7,
                    "data": {
                        "application/vnd.dataresource+json": {
                            "schema": {
                                "fields": [
                                    {
                                        "name": "ID"
                                    },
                                    {
                                        "name": "Nombre"
                                    },
                                    {
                                        "name": "Tipo"
                                    },
                                    {
                                        "name": "Especie"
                                    }
                                ]
                            },
                            "data": [
                                {
                                    "0": "4",
                                    "1": "Rapidash",
                                    "2": "Fuego",
                                    "3": "Prometeo"
                                },
                                {
                                    "0": "5",
                                    "1": "Vulpix",
                                    "2": "Fuego",
                                    "3": "Vulcano"
                                },
                                {
                                    "0": "11",
                                    "1": "Sandshrew",
                                    "2": "Tierra",
                                    "3": "Gaia"
                                },
                                {
                                    "0": "14",
                                    "1": "Dugtrio ",
                                    "2": "Tierra",
                                    "3": "Pan"
                                },
                                {
                                    "0": "19",
                                    "1": "Fearow",
                                    "2": "Aire",
                                    "3": "Boreas"
                                }
                            ]
                        },
                        "text/html": [
                            "<table>",
                            "<tr><th>ID</th><th>Nombre</th><th>Tipo</th><th>Especie</th></tr>",
                            "<tr><td>4</td><td>Rapidash</td><td>Fuego</td><td>Prometeo</td></tr>",
                            "<tr><td>5</td><td>Vulpix</td><td>Fuego</td><td>Vulcano</td></tr>",
                            "<tr><td>11</td><td>Sandshrew</td><td>Tierra</td><td>Gaia</td></tr>",
                            "<tr><td>14</td><td>Dugtrio </td><td>Tierra</td><td>Pan</td></tr>",
                            "<tr><td>19</td><td>Fearow</td><td>Aire</td><td>Boreas</td></tr>",
                            "</table>"
                        ]
                    }
                },
                {
                    "output_type": "execute_result",
                    "metadata": {},
                    "execution_count": 7,
                    "data": {
                        "application/vnd.dataresource+json": {
                            "schema": {
                                "fields": [
                                    {
                                        "name": "Usuarios"
                                    },
                                    {
                                        "name": "Correo"
                                    },
                                    {
                                        "name": "Tipo"
                                    }
                                ]
                            },
                            "data": [
                                {
                                    "0": "Lucia",
                                    "1": "just.lucysm@gmail.com",
                                    "2": "Jugador"
                                },
                                {
                                    "0": "Edgar",
                                    "1": "edgar@gmail.com",
                                    "2": "Jugador"
                                },
                                {
                                    "0": "Jose",
                                    "1": "jose@gmail.com",
                                    "2": "Jugador"
                                },
                                {
                                    "0": "Fabiola",
                                    "1": "fabiola@gmail.com",
                                    "2": "Jugador"
                                },
                                {
                                    "0": "Diego",
                                    "1": "diego@gmail.com",
                                    "2": "Jugador"
                                },
                                {
                                    "0": "El Patron",
                                    "1": "rossy@gmail.com",
                                    "2": "Administrador"
                                }
                            ]
                        },
                        "text/html": [
                            "<table>",
                            "<tr><th>Usuarios</th><th>Correo</th><th>Tipo</th></tr>",
                            "<tr><td>Lucia</td><td>just.lucysm@gmail.com</td><td>Jugador</td></tr>",
                            "<tr><td>Edgar</td><td>edgar@gmail.com</td><td>Jugador</td></tr>",
                            "<tr><td>Jose</td><td>jose@gmail.com</td><td>Jugador</td></tr>",
                            "<tr><td>Fabiola</td><td>fabiola@gmail.com</td><td>Jugador</td></tr>",
                            "<tr><td>Diego</td><td>diego@gmail.com</td><td>Jugador</td></tr>",
                            "<tr><td>El Patron</td><td>rossy@gmail.com</td><td>Administrador</td></tr>",
                            "</table>"
                        ]
                    }
                },
                {
                    "output_type": "execute_result",
                    "metadata": {},
                    "execution_count": 7,
                    "data": {
                        "application/vnd.dataresource+json": {
                            "schema": {
                                "fields": [
                                    {
                                        "name": "Usuario"
                                    },
                                    {
                                        "name": "Bicho"
                                    },
                                    {
                                        "name": "Fecha de Recoleccion"
                                    }
                                ]
                            },
                            "data": [
                                {
                                    "0": "Edgar",
                                    "1": "Charmander",
                                    "2": "2020-06-03"
                                },
                                {
                                    "0": "Jose",
                                    "1": "Diglett",
                                    "2": "2020-06-03"
                                },
                                {
                                    "0": "Fabiola",
                                    "1": "Pidgey",
                                    "2": "2020-06-03"
                                },
                                {
                                    "0": "Diego",
                                    "1": "Pidgeotto ",
                                    "2": "2020-06-03"
                                },
                                {
                                    "0": "Jose",
                                    "1": "Spearow",
                                    "2": "2020-06-03"
                                },
                                {
                                    "0": "Lucia",
                                    "1": "Gyarados",
                                    "2": "2020-06-03"
                                },
                                {
                                    "0": "Diego",
                                    "1": "Squirtle",
                                    "2": "2020-06-03"
                                },
                                {
                                    "0": "Fabiola",
                                    "1": "Psyduck",
                                    "2": "2020-06-03"
                                },
                                {
                                    "0": "Lucia",
                                    "1": "Sandslash",
                                    "2": "2020-06-03"
                                },
                                {
                                    "0": "Fabiola",
                                    "1": "Charmeleon",
                                    "2": "2020-06-03"
                                },
                                {
                                    "0": "Edgar",
                                    "1": "Magikarp",
                                    "2": "2020-06-03"
                                },
                                {
                                    "0": "Diego",
                                    "1": "Ponyta",
                                    "2": "2020-06-03"
                                },
                                {
                                    "0": "Edgar",
                                    "1": "Wartortle",
                                    "2": "2020-06-03"
                                },
                                {
                                    "0": "Lucia",
                                    "1": "Graveler",
                                    "2": "2020-06-03"
                                },
                                {
                                    "0": "Jose",
                                    "1": "Charizard",
                                    "2": "2020-06-03"
                                }
                            ]
                        },
                        "text/html": [
                            "<table>",
                            "<tr><th>Usuario</th><th>Bicho</th><th>Fecha de Recoleccion</th></tr>",
                            "<tr><td>Edgar</td><td>Charmander</td><td>2020-06-03</td></tr>",
                            "<tr><td>Jose</td><td>Diglett</td><td>2020-06-03</td></tr>",
                            "<tr><td>Fabiola</td><td>Pidgey</td><td>2020-06-03</td></tr>",
                            "<tr><td>Diego</td><td>Pidgeotto </td><td>2020-06-03</td></tr>",
                            "<tr><td>Jose</td><td>Spearow</td><td>2020-06-03</td></tr>",
                            "<tr><td>Lucia</td><td>Gyarados</td><td>2020-06-03</td></tr>",
                            "<tr><td>Diego</td><td>Squirtle</td><td>2020-06-03</td></tr>",
                            "<tr><td>Fabiola</td><td>Psyduck</td><td>2020-06-03</td></tr>",
                            "<tr><td>Lucia</td><td>Sandslash</td><td>2020-06-03</td></tr>",
                            "<tr><td>Fabiola</td><td>Charmeleon</td><td>2020-06-03</td></tr>",
                            "<tr><td>Edgar</td><td>Magikarp</td><td>2020-06-03</td></tr>",
                            "<tr><td>Diego</td><td>Ponyta</td><td>2020-06-03</td></tr>",
                            "<tr><td>Edgar</td><td>Wartortle</td><td>2020-06-03</td></tr>",
                            "<tr><td>Lucia</td><td>Graveler</td><td>2020-06-03</td></tr>",
                            "<tr><td>Jose</td><td>Charizard</td><td>2020-06-03</td></tr>",
                            "</table>"
                        ]
                    }
                },
                {
                    "output_type": "execute_result",
                    "metadata": {},
                    "execution_count": 7,
                    "data": {
                        "application/vnd.dataresource+json": {
                            "schema": {
                                "fields": [
                                    {
                                        "name": "ID"
                                    },
                                    {
                                        "name": "Fecha"
                                    },
                                    {
                                        "name": "Jugador 1"
                                    },
                                    {
                                        "name": "Jugador 2"
                                    },
                                    {
                                        "name": "Ganadas del jugador 1"
                                    },
                                    {
                                        "name": "Ganadas del jugador 2"
                                    }
                                ]
                            },
                            "data": [
                                {
                                    "0": "1",
                                    "1": "2020-06-03",
                                    "2": "Fabiola",
                                    "3": "Jose",
                                    "4": "1",
                                    "5": "1"
                                },
                                {
                                    "0": "2",
                                    "1": "2020-06-03",
                                    "2": "Edgar",
                                    "3": "Diego",
                                    "4": "1",
                                    "5": "0"
                                },
                                {
                                    "0": "3",
                                    "1": "2020-06-03",
                                    "2": "Lucia",
                                    "3": "Diego",
                                    "4": "1",
                                    "5": "1"
                                },
                                {
                                    "0": "4",
                                    "1": "2020-06-03",
                                    "2": "Diego",
                                    "3": "Fabiola",
                                    "4": "0",
                                    "5": "1"
                                },
                                {
                                    "0": "5",
                                    "1": "2020-06-03",
                                    "2": "Lucia",
                                    "3": "Jose",
                                    "4": "0",
                                    "5": "1"
                                },
                                {
                                    "0": "6",
                                    "1": "2020-06-03",
                                    "2": "Diego",
                                    "3": "Edgar",
                                    "4": "0",
                                    "5": "2"
                                },
                                {
                                    "0": "7",
                                    "1": "2020-06-03",
                                    "2": "Diego",
                                    "3": "Fabiola",
                                    "4": "1",
                                    "5": "0"
                                },
                                {
                                    "0": "8",
                                    "1": "2020-06-03",
                                    "2": "Diego",
                                    "3": "Lucia",
                                    "4": "0",
                                    "5": "0"
                                },
                                {
                                    "0": "9",
                                    "1": "2020-06-03",
                                    "2": "Edgar",
                                    "3": "Diego",
                                    "4": "0",
                                    "5": "0"
                                },
                                {
                                    "0": "10",
                                    "1": "2020-06-03",
                                    "2": "Edgar",
                                    "3": "Fabiola",
                                    "4": "1",
                                    "5": "0"
                                },
                                {
                                    "0": "11",
                                    "1": "2020-06-03",
                                    "2": "Diego",
                                    "3": "Lucia",
                                    "4": "1",
                                    "5": "0"
                                },
                                {
                                    "0": "12",
                                    "1": "2020-06-03",
                                    "2": "Lucia",
                                    "3": "Edgar",
                                    "4": "0",
                                    "5": "1"
                                },
                                {
                                    "0": "13",
                                    "1": "2020-06-03",
                                    "2": "Jose",
                                    "3": "Edgar",
                                    "4": "0",
                                    "5": "0"
                                },
                                {
                                    "0": "14",
                                    "1": "2020-06-03",
                                    "2": "Fabiola",
                                    "3": "Lucia",
                                    "4": "0",
                                    "5": "0"
                                },
                                {
                                    "0": "15",
                                    "1": "2020-06-03",
                                    "2": "Edgar",
                                    "3": "Diego",
                                    "4": "1",
                                    "5": "0"
                                },
                                {
                                    "0": "16",
                                    "1": "2020-06-03",
                                    "2": "Edgar",
                                    "3": "Jose",
                                    "4": "0",
                                    "5": "0"
                                },
                                {
                                    "0": "17",
                                    "1": "2020-06-03",
                                    "2": "Jose",
                                    "3": "Lucia",
                                    "4": "0",
                                    "5": "0"
                                },
                                {
                                    "0": "18",
                                    "1": "2020-06-03",
                                    "2": "Jose",
                                    "3": "Lucia",
                                    "4": "0",
                                    "5": "0"
                                },
                                {
                                    "0": "19",
                                    "1": "2020-06-03",
                                    "2": "Lucia",
                                    "3": "Edgar",
                                    "4": "0",
                                    "5": "1"
                                },
                                {
                                    "0": "20",
                                    "1": "2020-06-03",
                                    "2": "Diego",
                                    "3": "Jose",
                                    "4": "1",
                                    "5": "1"
                                },
                                {
                                    "0": "21",
                                    "1": "2020-06-03",
                                    "2": "Diego",
                                    "3": "Lucia",
                                    "4": "0",
                                    "5": "1"
                                },
                                {
                                    "0": "22",
                                    "1": "2020-06-03",
                                    "2": "Fabiola",
                                    "3": "Jose",
                                    "4": "1",
                                    "5": "0"
                                },
                                {
                                    "0": "23",
                                    "1": "2020-06-03",
                                    "2": "Fabiola",
                                    "3": "Jose",
                                    "4": "1",
                                    "5": "0"
                                },
                                {
                                    "0": "24",
                                    "1": "2020-06-03",
                                    "2": "Edgar",
                                    "3": "Jose",
                                    "4": "0",
                                    "5": "1"
                                },
                                {
                                    "0": "25",
                                    "1": "2020-06-03",
                                    "2": "Diego",
                                    "3": "Fabiola",
                                    "4": "1",
                                    "5": "1"
                                },
                                {
                                    "0": "26",
                                    "1": "2020-06-03",
                                    "2": "Diego",
                                    "3": "Fabiola",
                                    "4": "0",
                                    "5": "1"
                                },
                                {
                                    "0": "27",
                                    "1": "2020-06-03",
                                    "2": "Edgar",
                                    "3": "Fabiola",
                                    "4": "0",
                                    "5": "1"
                                },
                                {
                                    "0": "28",
                                    "1": "2020-06-03",
                                    "2": "Diego",
                                    "3": "Jose",
                                    "4": "0",
                                    "5": "0"
                                },
                                {
                                    "0": "29",
                                    "1": "2020-06-03",
                                    "2": "Edgar",
                                    "3": "Lucia",
                                    "4": "0",
                                    "5": "0"
                                },
                                {
                                    "0": "30",
                                    "1": "2020-06-03",
                                    "2": "Lucia",
                                    "3": "Fabiola",
                                    "4": "0",
                                    "5": "0"
                                },
                                {
                                    "0": "31",
                                    "1": "2020-06-03",
                                    "2": "Lucia",
                                    "3": "Jose",
                                    "4": "0",
                                    "5": "2"
                                },
                                {
                                    "0": "32",
                                    "1": "2020-06-03",
                                    "2": "Edgar",
                                    "3": "Fabiola",
                                    "4": "0",
                                    "5": "0"
                                },
                                {
                                    "0": "33",
                                    "1": "2020-06-03",
                                    "2": "Diego",
                                    "3": "Lucia",
                                    "4": "1",
                                    "5": "0"
                                },
                                {
                                    "0": "34",
                                    "1": "2020-06-03",
                                    "2": "Lucia",
                                    "3": "Fabiola",
                                    "4": "0",
                                    "5": "0"
                                },
                                {
                                    "0": "35",
                                    "1": "2020-06-03",
                                    "2": "Lucia",
                                    "3": "Diego",
                                    "4": "1",
                                    "5": "0"
                                },
                                {
                                    "0": "36",
                                    "1": "2020-06-03",
                                    "2": "Jose",
                                    "3": "Diego",
                                    "4": "1",
                                    "5": "2"
                                },
                                {
                                    "0": "37",
                                    "1": "2020-06-03",
                                    "2": "Edgar",
                                    "3": "Fabiola",
                                    "4": "1",
                                    "5": "0"
                                },
                                {
                                    "0": "38",
                                    "1": "2020-06-03",
                                    "2": "Lucia",
                                    "3": "Fabiola",
                                    "4": "0",
                                    "5": "1"
                                },
                                {
                                    "0": "39",
                                    "1": "2020-06-03",
                                    "2": "Diego",
                                    "3": "Jose",
                                    "4": "0",
                                    "5": "1"
                                },
                                {
                                    "0": "40",
                                    "1": "2020-06-03",
                                    "2": "Diego",
                                    "3": "Fabiola",
                                    "4": "0",
                                    "5": "0"
                                },
                                {
                                    "0": "41",
                                    "1": "2020-06-03",
                                    "2": "Jose",
                                    "3": "Lucia",
                                    "4": "0",
                                    "5": "0"
                                },
                                {
                                    "0": "42",
                                    "1": "2020-06-03",
                                    "2": "Fabiola",
                                    "3": "Edgar",
                                    "4": "0",
                                    "5": "2"
                                },
                                {
                                    "0": "43",
                                    "1": "2020-06-03",
                                    "2": "Jose",
                                    "3": "Edgar",
                                    "4": "2",
                                    "5": "1"
                                },
                                {
                                    "0": "44",
                                    "1": "2020-06-03",
                                    "2": "Edgar",
                                    "3": "Lucia",
                                    "4": "0",
                                    "5": "0"
                                },
                                {
                                    "0": "45",
                                    "1": "2020-06-03",
                                    "2": "Edgar",
                                    "3": "Fabiola",
                                    "4": "0",
                                    "5": "0"
                                },
                                {
                                    "0": "46",
                                    "1": "2020-06-03",
                                    "2": "Jose",
                                    "3": "Fabiola",
                                    "4": "0",
                                    "5": "3"
                                },
                                {
                                    "0": "47",
                                    "1": "2020-06-03",
                                    "2": "Diego",
                                    "3": "Fabiola",
                                    "4": "0",
                                    "5": "0"
                                },
                                {
                                    "0": "48",
                                    "1": "2020-06-03",
                                    "2": "Fabiola",
                                    "3": "Lucia",
                                    "4": "1",
                                    "5": "1"
                                },
                                {
                                    "0": "49",
                                    "1": "2020-06-03",
                                    "2": "Lucia",
                                    "3": "Diego",
                                    "4": "1",
                                    "5": "0"
                                },
                                {
                                    "0": "50",
                                    "1": "2020-06-03",
                                    "2": "Edgar",
                                    "3": "Jose",
                                    "4": "1",
                                    "5": "0"
                                },
                                {
                                    "0": "51",
                                    "1": "2020-06-03",
                                    "2": "Diego",
                                    "3": "Jose",
                                    "4": "0",
                                    "5": "1"
                                },
                                {
                                    "0": "52",
                                    "1": "2020-06-03",
                                    "2": "Lucia",
                                    "3": "Edgar",
                                    "4": "0",
                                    "5": "0"
                                },
                                {
                                    "0": "53",
                                    "1": "2020-06-03",
                                    "2": "Lucia",
                                    "3": "Fabiola",
                                    "4": "0",
                                    "5": "0"
                                },
                                {
                                    "0": "54",
                                    "1": "2020-06-03",
                                    "2": "Lucia",
                                    "3": "Fabiola",
                                    "4": "2",
                                    "5": "0"
                                },
                                {
                                    "0": "55",
                                    "1": "2020-06-03",
                                    "2": "Edgar",
                                    "3": "Lucia",
                                    "4": "0",
                                    "5": "1"
                                },
                                {
                                    "0": "56",
                                    "1": "2020-06-03",
                                    "2": "Lucia",
                                    "3": "Fabiola",
                                    "4": "0",
                                    "5": "1"
                                },
                                {
                                    "0": "57",
                                    "1": "2020-06-03",
                                    "2": "Edgar",
                                    "3": "Lucia",
                                    "4": "0",
                                    "5": "0"
                                },
                                {
                                    "0": "58",
                                    "1": "2020-06-03",
                                    "2": "Diego",
                                    "3": "Edgar",
                                    "4": "1",
                                    "5": "0"
                                },
                                {
                                    "0": "59",
                                    "1": "2020-06-03",
                                    "2": "Diego",
                                    "3": "Jose",
                                    "4": "0",
                                    "5": "1"
                                },
                                {
                                    "0": "60",
                                    "1": "2020-06-03",
                                    "2": "Diego",
                                    "3": "Edgar",
                                    "4": "0",
                                    "5": "0"
                                },
                                {
                                    "0": "61",
                                    "1": "2020-06-03",
                                    "2": "Diego",
                                    "3": "Fabiola",
                                    "4": "0",
                                    "5": "1"
                                },
                                {
                                    "0": "62",
                                    "1": "2020-06-03",
                                    "2": "Jose",
                                    "3": "Edgar",
                                    "4": "0",
                                    "5": "0"
                                },
                                {
                                    "0": "63",
                                    "1": "2020-06-03",
                                    "2": "Lucia",
                                    "3": "Jose",
                                    "4": "1",
                                    "5": "0"
                                },
                                {
                                    "0": "64",
                                    "1": "2020-06-03",
                                    "2": "Diego",
                                    "3": "Lucia",
                                    "4": "1",
                                    "5": "0"
                                },
                                {
                                    "0": "65",
                                    "1": "2020-06-03",
                                    "2": "Lucia",
                                    "3": "Diego",
                                    "4": "1",
                                    "5": "0"
                                },
                                {
                                    "0": "66",
                                    "1": "2020-06-03",
                                    "2": "Diego",
                                    "3": "Lucia",
                                    "4": "0",
                                    "5": "0"
                                },
                                {
                                    "0": "67",
                                    "1": "2020-06-03",
                                    "2": "Diego",
                                    "3": "Edgar",
                                    "4": "0",
                                    "5": "0"
                                },
                                {
                                    "0": "68",
                                    "1": "2020-06-03",
                                    "2": "Jose",
                                    "3": "Edgar",
                                    "4": "2",
                                    "5": "0"
                                },
                                {
                                    "0": "69",
                                    "1": "2020-06-03",
                                    "2": "Lucia",
                                    "3": "Edgar",
                                    "4": "0",
                                    "5": "1"
                                },
                                {
                                    "0": "70",
                                    "1": "2020-06-03",
                                    "2": "Jose",
                                    "3": "Diego",
                                    "4": "0",
                                    "5": "1"
                                },
                                {
                                    "0": "71",
                                    "1": "2020-06-03",
                                    "2": "Jose",
                                    "3": "Edgar",
                                    "4": "0",
                                    "5": "0"
                                },
                                {
                                    "0": "72",
                                    "1": "2020-06-03",
                                    "2": "Edgar",
                                    "3": "Fabiola",
                                    "4": "0",
                                    "5": "1"
                                },
                                {
                                    "0": "73",
                                    "1": "2020-06-03",
                                    "2": "Edgar",
                                    "3": "Jose",
                                    "4": "1",
                                    "5": "2"
                                },
                                {
                                    "0": "74",
                                    "1": "2020-06-03",
                                    "2": "Lucia",
                                    "3": "Diego",
                                    "4": "0",
                                    "5": "0"
                                },
                                {
                                    "0": "75",
                                    "1": "2020-06-03",
                                    "2": "Fabiola",
                                    "3": "Lucia",
                                    "4": "2",
                                    "5": "0"
                                },
                                {
                                    "0": "76",
                                    "1": "2020-06-03",
                                    "2": "Diego",
                                    "3": "Jose",
                                    "4": "1",
                                    "5": "0"
                                },
                                {
                                    "0": "77",
                                    "1": "2020-06-03",
                                    "2": "Fabiola",
                                    "3": "Edgar",
                                    "4": "1",
                                    "5": "1"
                                },
                                {
                                    "0": "78",
                                    "1": "2020-06-03",
                                    "2": "Edgar",
                                    "3": "Jose",
                                    "4": "1",
                                    "5": "2"
                                },
                                {
                                    "0": "79",
                                    "1": "2020-06-03",
                                    "2": "Lucia",
                                    "3": "Diego",
                                    "4": "0",
                                    "5": "0"
                                },
                                {
                                    "0": "80",
                                    "1": "2020-06-03",
                                    "2": "Lucia",
                                    "3": "Edgar",
                                    "4": "1",
                                    "5": "1"
                                },
                                {
                                    "0": "81",
                                    "1": "2020-06-03",
                                    "2": "Edgar",
                                    "3": "Diego",
                                    "4": "1",
                                    "5": "0"
                                },
                                {
                                    "0": "82",
                                    "1": "2020-06-03",
                                    "2": "Jose",
                                    "3": "Diego",
                                    "4": "0",
                                    "5": "0"
                                },
                                {
                                    "0": "83",
                                    "1": "2020-06-03",
                                    "2": "Lucia",
                                    "3": "Jose",
                                    "4": "0",
                                    "5": "2"
                                },
                                {
                                    "0": "84",
                                    "1": "2020-06-03",
                                    "2": "Fabiola",
                                    "3": "Lucia",
                                    "4": "0",
                                    "5": "0"
                                },
                                {
                                    "0": "85",
                                    "1": "2020-06-03",
                                    "2": "Fabiola",
                                    "3": "Lucia",
                                    "4": "0",
                                    "5": "2"
                                },
                                {
                                    "0": "86",
                                    "1": "2020-06-03",
                                    "2": "Lucia",
                                    "3": "Jose",
                                    "4": "1",
                                    "5": "0"
                                },
                                {
                                    "0": "87",
                                    "1": "2020-06-03",
                                    "2": "Lucia",
                                    "3": "Fabiola",
                                    "4": "0",
                                    "5": "2"
                                },
                                {
                                    "0": "88",
                                    "1": "2020-06-03",
                                    "2": "Fabiola",
                                    "3": "Edgar",
                                    "4": "2",
                                    "5": "0"
                                },
                                {
                                    "0": "89",
                                    "1": "2020-06-03",
                                    "2": "Fabiola",
                                    "3": "Jose",
                                    "4": "1",
                                    "5": "2"
                                },
                                {
                                    "0": "90",
                                    "1": "2020-06-03",
                                    "2": "Fabiola",
                                    "3": "Diego",
                                    "4": "0",
                                    "5": "1"
                                },
                                {
                                    "0": "91",
                                    "1": "2020-06-03",
                                    "2": "Diego",
                                    "3": "Jose",
                                    "4": "0",
                                    "5": "0"
                                },
                                {
                                    "0": "92",
                                    "1": "2020-06-03",
                                    "2": "Lucia",
                                    "3": "Diego",
                                    "4": "0",
                                    "5": "1"
                                },
                                {
                                    "0": "93",
                                    "1": "2020-06-03",
                                    "2": "Jose",
                                    "3": "Diego",
                                    "4": "1",
                                    "5": "1"
                                },
                                {
                                    "0": "94",
                                    "1": "2020-06-03",
                                    "2": "Jose",
                                    "3": "Lucia",
                                    "4": "0",
                                    "5": "0"
                                },
                                {
                                    "0": "95",
                                    "1": "2020-06-03",
                                    "2": "Jose",
                                    "3": "Fabiola",
                                    "4": "2",
                                    "5": "0"
                                },
                                {
                                    "0": "96",
                                    "1": "2020-06-03",
                                    "2": "Fabiola",
                                    "3": "Diego",
                                    "4": "1",
                                    "5": "0"
                                },
                                {
                                    "0": "97",
                                    "1": "2020-06-03",
                                    "2": "Fabiola",
                                    "3": "Jose",
                                    "4": "0",
                                    "5": "3"
                                },
                                {
                                    "0": "98",
                                    "1": "2020-06-03",
                                    "2": "Fabiola",
                                    "3": "Diego",
                                    "4": "1",
                                    "5": "0"
                                },
                                {
                                    "0": "99",
                                    "1": "2020-06-03",
                                    "2": "Jose",
                                    "3": "Lucia",
                                    "4": "0",
                                    "5": "0"
                                },
                                {
                                    "0": "100",
                                    "1": "2020-06-03",
                                    "2": "Edgar",
                                    "3": "Diego",
                                    "4": "0",
                                    "5": "0"
                                }
                            ]
                        },
                        "text/html": [
                            "<table>",
                            "<tr><th>ID</th><th>Fecha</th><th>Jugador 1</th><th>Jugador 2</th><th>Ganadas del jugador 1</th><th>Ganadas del jugador 2</th></tr>",
                            "<tr><td>1</td><td>2020-06-03</td><td>Fabiola</td><td>Jose</td><td>1</td><td>1</td></tr>",
                            "<tr><td>2</td><td>2020-06-03</td><td>Edgar</td><td>Diego</td><td>1</td><td>0</td></tr>",
                            "<tr><td>3</td><td>2020-06-03</td><td>Lucia</td><td>Diego</td><td>1</td><td>1</td></tr>",
                            "<tr><td>4</td><td>2020-06-03</td><td>Diego</td><td>Fabiola</td><td>0</td><td>1</td></tr>",
                            "<tr><td>5</td><td>2020-06-03</td><td>Lucia</td><td>Jose</td><td>0</td><td>1</td></tr>",
                            "<tr><td>6</td><td>2020-06-03</td><td>Diego</td><td>Edgar</td><td>0</td><td>2</td></tr>",
                            "<tr><td>7</td><td>2020-06-03</td><td>Diego</td><td>Fabiola</td><td>1</td><td>0</td></tr>",
                            "<tr><td>8</td><td>2020-06-03</td><td>Diego</td><td>Lucia</td><td>0</td><td>0</td></tr>",
                            "<tr><td>9</td><td>2020-06-03</td><td>Edgar</td><td>Diego</td><td>0</td><td>0</td></tr>",
                            "<tr><td>10</td><td>2020-06-03</td><td>Edgar</td><td>Fabiola</td><td>1</td><td>0</td></tr>",
                            "<tr><td>11</td><td>2020-06-03</td><td>Diego</td><td>Lucia</td><td>1</td><td>0</td></tr>",
                            "<tr><td>12</td><td>2020-06-03</td><td>Lucia</td><td>Edgar</td><td>0</td><td>1</td></tr>",
                            "<tr><td>13</td><td>2020-06-03</td><td>Jose</td><td>Edgar</td><td>0</td><td>0</td></tr>",
                            "<tr><td>14</td><td>2020-06-03</td><td>Fabiola</td><td>Lucia</td><td>0</td><td>0</td></tr>",
                            "<tr><td>15</td><td>2020-06-03</td><td>Edgar</td><td>Diego</td><td>1</td><td>0</td></tr>",
                            "<tr><td>16</td><td>2020-06-03</td><td>Edgar</td><td>Jose</td><td>0</td><td>0</td></tr>",
                            "<tr><td>17</td><td>2020-06-03</td><td>Jose</td><td>Lucia</td><td>0</td><td>0</td></tr>",
                            "<tr><td>18</td><td>2020-06-03</td><td>Jose</td><td>Lucia</td><td>0</td><td>0</td></tr>",
                            "<tr><td>19</td><td>2020-06-03</td><td>Lucia</td><td>Edgar</td><td>0</td><td>1</td></tr>",
                            "<tr><td>20</td><td>2020-06-03</td><td>Diego</td><td>Jose</td><td>1</td><td>1</td></tr>",
                            "<tr><td>21</td><td>2020-06-03</td><td>Diego</td><td>Lucia</td><td>0</td><td>1</td></tr>",
                            "<tr><td>22</td><td>2020-06-03</td><td>Fabiola</td><td>Jose</td><td>1</td><td>0</td></tr>",
                            "<tr><td>23</td><td>2020-06-03</td><td>Fabiola</td><td>Jose</td><td>1</td><td>0</td></tr>",
                            "<tr><td>24</td><td>2020-06-03</td><td>Edgar</td><td>Jose</td><td>0</td><td>1</td></tr>",
                            "<tr><td>25</td><td>2020-06-03</td><td>Diego</td><td>Fabiola</td><td>1</td><td>1</td></tr>",
                            "<tr><td>26</td><td>2020-06-03</td><td>Diego</td><td>Fabiola</td><td>0</td><td>1</td></tr>",
                            "<tr><td>27</td><td>2020-06-03</td><td>Edgar</td><td>Fabiola</td><td>0</td><td>1</td></tr>",
                            "<tr><td>28</td><td>2020-06-03</td><td>Diego</td><td>Jose</td><td>0</td><td>0</td></tr>",
                            "<tr><td>29</td><td>2020-06-03</td><td>Edgar</td><td>Lucia</td><td>0</td><td>0</td></tr>",
                            "<tr><td>30</td><td>2020-06-03</td><td>Lucia</td><td>Fabiola</td><td>0</td><td>0</td></tr>",
                            "<tr><td>31</td><td>2020-06-03</td><td>Lucia</td><td>Jose</td><td>0</td><td>2</td></tr>",
                            "<tr><td>32</td><td>2020-06-03</td><td>Edgar</td><td>Fabiola</td><td>0</td><td>0</td></tr>",
                            "<tr><td>33</td><td>2020-06-03</td><td>Diego</td><td>Lucia</td><td>1</td><td>0</td></tr>",
                            "<tr><td>34</td><td>2020-06-03</td><td>Lucia</td><td>Fabiola</td><td>0</td><td>0</td></tr>",
                            "<tr><td>35</td><td>2020-06-03</td><td>Lucia</td><td>Diego</td><td>1</td><td>0</td></tr>",
                            "<tr><td>36</td><td>2020-06-03</td><td>Jose</td><td>Diego</td><td>1</td><td>2</td></tr>",
                            "<tr><td>37</td><td>2020-06-03</td><td>Edgar</td><td>Fabiola</td><td>1</td><td>0</td></tr>",
                            "<tr><td>38</td><td>2020-06-03</td><td>Lucia</td><td>Fabiola</td><td>0</td><td>1</td></tr>",
                            "<tr><td>39</td><td>2020-06-03</td><td>Diego</td><td>Jose</td><td>0</td><td>1</td></tr>",
                            "<tr><td>40</td><td>2020-06-03</td><td>Diego</td><td>Fabiola</td><td>0</td><td>0</td></tr>",
                            "<tr><td>41</td><td>2020-06-03</td><td>Jose</td><td>Lucia</td><td>0</td><td>0</td></tr>",
                            "<tr><td>42</td><td>2020-06-03</td><td>Fabiola</td><td>Edgar</td><td>0</td><td>2</td></tr>",
                            "<tr><td>43</td><td>2020-06-03</td><td>Jose</td><td>Edgar</td><td>2</td><td>1</td></tr>",
                            "<tr><td>44</td><td>2020-06-03</td><td>Edgar</td><td>Lucia</td><td>0</td><td>0</td></tr>",
                            "<tr><td>45</td><td>2020-06-03</td><td>Edgar</td><td>Fabiola</td><td>0</td><td>0</td></tr>",
                            "<tr><td>46</td><td>2020-06-03</td><td>Jose</td><td>Fabiola</td><td>0</td><td>3</td></tr>",
                            "<tr><td>47</td><td>2020-06-03</td><td>Diego</td><td>Fabiola</td><td>0</td><td>0</td></tr>",
                            "<tr><td>48</td><td>2020-06-03</td><td>Fabiola</td><td>Lucia</td><td>1</td><td>1</td></tr>",
                            "<tr><td>49</td><td>2020-06-03</td><td>Lucia</td><td>Diego</td><td>1</td><td>0</td></tr>",
                            "<tr><td>50</td><td>2020-06-03</td><td>Edgar</td><td>Jose</td><td>1</td><td>0</td></tr>",
                            "<tr><td>51</td><td>2020-06-03</td><td>Diego</td><td>Jose</td><td>0</td><td>1</td></tr>",
                            "<tr><td>52</td><td>2020-06-03</td><td>Lucia</td><td>Edgar</td><td>0</td><td>0</td></tr>",
                            "<tr><td>53</td><td>2020-06-03</td><td>Lucia</td><td>Fabiola</td><td>0</td><td>0</td></tr>",
                            "<tr><td>54</td><td>2020-06-03</td><td>Lucia</td><td>Fabiola</td><td>2</td><td>0</td></tr>",
                            "<tr><td>55</td><td>2020-06-03</td><td>Edgar</td><td>Lucia</td><td>0</td><td>1</td></tr>",
                            "<tr><td>56</td><td>2020-06-03</td><td>Lucia</td><td>Fabiola</td><td>0</td><td>1</td></tr>",
                            "<tr><td>57</td><td>2020-06-03</td><td>Edgar</td><td>Lucia</td><td>0</td><td>0</td></tr>",
                            "<tr><td>58</td><td>2020-06-03</td><td>Diego</td><td>Edgar</td><td>1</td><td>0</td></tr>",
                            "<tr><td>59</td><td>2020-06-03</td><td>Diego</td><td>Jose</td><td>0</td><td>1</td></tr>",
                            "<tr><td>60</td><td>2020-06-03</td><td>Diego</td><td>Edgar</td><td>0</td><td>0</td></tr>",
                            "<tr><td>61</td><td>2020-06-03</td><td>Diego</td><td>Fabiola</td><td>0</td><td>1</td></tr>",
                            "<tr><td>62</td><td>2020-06-03</td><td>Jose</td><td>Edgar</td><td>0</td><td>0</td></tr>",
                            "<tr><td>63</td><td>2020-06-03</td><td>Lucia</td><td>Jose</td><td>1</td><td>0</td></tr>",
                            "<tr><td>64</td><td>2020-06-03</td><td>Diego</td><td>Lucia</td><td>1</td><td>0</td></tr>",
                            "<tr><td>65</td><td>2020-06-03</td><td>Lucia</td><td>Diego</td><td>1</td><td>0</td></tr>",
                            "<tr><td>66</td><td>2020-06-03</td><td>Diego</td><td>Lucia</td><td>0</td><td>0</td></tr>",
                            "<tr><td>67</td><td>2020-06-03</td><td>Diego</td><td>Edgar</td><td>0</td><td>0</td></tr>",
                            "<tr><td>68</td><td>2020-06-03</td><td>Jose</td><td>Edgar</td><td>2</td><td>0</td></tr>",
                            "<tr><td>69</td><td>2020-06-03</td><td>Lucia</td><td>Edgar</td><td>0</td><td>1</td></tr>",
                            "<tr><td>70</td><td>2020-06-03</td><td>Jose</td><td>Diego</td><td>0</td><td>1</td></tr>",
                            "<tr><td>71</td><td>2020-06-03</td><td>Jose</td><td>Edgar</td><td>0</td><td>0</td></tr>",
                            "<tr><td>72</td><td>2020-06-03</td><td>Edgar</td><td>Fabiola</td><td>0</td><td>1</td></tr>",
                            "<tr><td>73</td><td>2020-06-03</td><td>Edgar</td><td>Jose</td><td>1</td><td>2</td></tr>",
                            "<tr><td>74</td><td>2020-06-03</td><td>Lucia</td><td>Diego</td><td>0</td><td>0</td></tr>",
                            "<tr><td>75</td><td>2020-06-03</td><td>Fabiola</td><td>Lucia</td><td>2</td><td>0</td></tr>",
                            "<tr><td>76</td><td>2020-06-03</td><td>Diego</td><td>Jose</td><td>1</td><td>0</td></tr>",
                            "<tr><td>77</td><td>2020-06-03</td><td>Fabiola</td><td>Edgar</td><td>1</td><td>1</td></tr>",
                            "<tr><td>78</td><td>2020-06-03</td><td>Edgar</td><td>Jose</td><td>1</td><td>2</td></tr>",
                            "<tr><td>79</td><td>2020-06-03</td><td>Lucia</td><td>Diego</td><td>0</td><td>0</td></tr>",
                            "<tr><td>80</td><td>2020-06-03</td><td>Lucia</td><td>Edgar</td><td>1</td><td>1</td></tr>",
                            "<tr><td>81</td><td>2020-06-03</td><td>Edgar</td><td>Diego</td><td>1</td><td>0</td></tr>",
                            "<tr><td>82</td><td>2020-06-03</td><td>Jose</td><td>Diego</td><td>0</td><td>0</td></tr>",
                            "<tr><td>83</td><td>2020-06-03</td><td>Lucia</td><td>Jose</td><td>0</td><td>2</td></tr>",
                            "<tr><td>84</td><td>2020-06-03</td><td>Fabiola</td><td>Lucia</td><td>0</td><td>0</td></tr>",
                            "<tr><td>85</td><td>2020-06-03</td><td>Fabiola</td><td>Lucia</td><td>0</td><td>2</td></tr>",
                            "<tr><td>86</td><td>2020-06-03</td><td>Lucia</td><td>Jose</td><td>1</td><td>0</td></tr>",
                            "<tr><td>87</td><td>2020-06-03</td><td>Lucia</td><td>Fabiola</td><td>0</td><td>2</td></tr>",
                            "<tr><td>88</td><td>2020-06-03</td><td>Fabiola</td><td>Edgar</td><td>2</td><td>0</td></tr>",
                            "<tr><td>89</td><td>2020-06-03</td><td>Fabiola</td><td>Jose</td><td>1</td><td>2</td></tr>",
                            "<tr><td>90</td><td>2020-06-03</td><td>Fabiola</td><td>Diego</td><td>0</td><td>1</td></tr>",
                            "<tr><td>91</td><td>2020-06-03</td><td>Diego</td><td>Jose</td><td>0</td><td>0</td></tr>",
                            "<tr><td>92</td><td>2020-06-03</td><td>Lucia</td><td>Diego</td><td>0</td><td>1</td></tr>",
                            "<tr><td>93</td><td>2020-06-03</td><td>Jose</td><td>Diego</td><td>1</td><td>1</td></tr>",
                            "<tr><td>94</td><td>2020-06-03</td><td>Jose</td><td>Lucia</td><td>0</td><td>0</td></tr>",
                            "<tr><td>95</td><td>2020-06-03</td><td>Jose</td><td>Fabiola</td><td>2</td><td>0</td></tr>",
                            "<tr><td>96</td><td>2020-06-03</td><td>Fabiola</td><td>Diego</td><td>1</td><td>0</td></tr>",
                            "<tr><td>97</td><td>2020-06-03</td><td>Fabiola</td><td>Jose</td><td>0</td><td>3</td></tr>",
                            "<tr><td>98</td><td>2020-06-03</td><td>Fabiola</td><td>Diego</td><td>1</td><td>0</td></tr>",
                            "<tr><td>99</td><td>2020-06-03</td><td>Jose</td><td>Lucia</td><td>0</td><td>0</td></tr>",
                            "<tr><td>100</td><td>2020-06-03</td><td>Edgar</td><td>Diego</td><td>0</td><td>0</td></tr>",
                            "</table>"
                        ]
                    }
                },
                {
                    "output_type": "execute_result",
                    "metadata": {},
                    "execution_count": 7,
                    "data": {
                        "application/vnd.dataresource+json": {
                            "schema": {
                                "fields": [
                                    {
                                        "name": "Usuario"
                                    },
                                    {
                                        "name": "Bicho"
                                    },
                                    {
                                        "name": "Especie"
                                    },
                                    {
                                        "name": "Tipo"
                                    }
                                ]
                            },
                            "data": [
                                {
                                    "0": "Edgar",
                                    "1": "Charmander",
                                    "2": "Vulcano",
                                    "3": "Fuego"
                                },
                                {
                                    "0": "Fabiola",
                                    "1": "Charmeleon",
                                    "2": "Vulcano",
                                    "3": "Fuego"
                                },
                                {
                                    "0": "Diego",
                                    "1": "Ponyta",
                                    "2": "Prometeo",
                                    "3": "Fuego"
                                },
                                {
                                    "0": "Diego",
                                    "1": "Squirtle",
                                    "2": "Poseidon",
                                    "3": "Agua"
                                },
                                {
                                    "0": "Edgar",
                                    "1": "Wartortle",
                                    "2": "Poseidon",
                                    "3": "Agua"
                                },
                                {
                                    "0": "Edgar",
                                    "1": "Magikarp",
                                    "2": "Triton",
                                    "3": "Agua"
                                },
                                {
                                    "0": "Lucia",
                                    "1": "Gyarados",
                                    "2": "Triton",
                                    "3": "Agua"
                                },
                                {
                                    "0": "Fabiola",
                                    "1": "Psyduck",
                                    "2": "Poseidon",
                                    "3": "Agua"
                                },
                                {
                                    "0": "Lucia",
                                    "1": "Sandslash",
                                    "2": "Gaia",
                                    "3": "Tierra"
                                },
                                {
                                    "0": "Jose",
                                    "1": "Diglett",
                                    "2": "Pan",
                                    "3": "Tierra"
                                },
                                {
                                    "0": "Lucia",
                                    "1": "Graveler",
                                    "2": "Gaia",
                                    "3": "Tierra"
                                },
                                {
                                    "0": "Fabiola",
                                    "1": "Pidgey",
                                    "2": "Eolo",
                                    "3": "Aire"
                                },
                                {
                                    "0": "Diego",
                                    "1": "Pidgeotto ",
                                    "2": "Eolo",
                                    "3": "Aire"
                                },
                                {
                                    "0": "Jose",
                                    "1": "Spearow",
                                    "2": "Boreas",
                                    "3": "Aire"
                                },
                                {
                                    "0": "Jose",
                                    "1": "Charizard",
                                    "2": "Eolo",
                                    "3": "Aire"
                                }
                            ]
                        },
                        "text/html": [
                            "<table>",
                            "<tr><th>Usuario</th><th>Bicho</th><th>Especie</th><th>Tipo</th></tr>",
                            "<tr><td>Edgar</td><td>Charmander</td><td>Vulcano</td><td>Fuego</td></tr>",
                            "<tr><td>Fabiola</td><td>Charmeleon</td><td>Vulcano</td><td>Fuego</td></tr>",
                            "<tr><td>Diego</td><td>Ponyta</td><td>Prometeo</td><td>Fuego</td></tr>",
                            "<tr><td>Diego</td><td>Squirtle</td><td>Poseidon</td><td>Agua</td></tr>",
                            "<tr><td>Edgar</td><td>Wartortle</td><td>Poseidon</td><td>Agua</td></tr>",
                            "<tr><td>Edgar</td><td>Magikarp</td><td>Triton</td><td>Agua</td></tr>",
                            "<tr><td>Lucia</td><td>Gyarados</td><td>Triton</td><td>Agua</td></tr>",
                            "<tr><td>Fabiola</td><td>Psyduck</td><td>Poseidon</td><td>Agua</td></tr>",
                            "<tr><td>Lucia</td><td>Sandslash</td><td>Gaia</td><td>Tierra</td></tr>",
                            "<tr><td>Jose</td><td>Diglett</td><td>Pan</td><td>Tierra</td></tr>",
                            "<tr><td>Lucia</td><td>Graveler</td><td>Gaia</td><td>Tierra</td></tr>",
                            "<tr><td>Fabiola</td><td>Pidgey</td><td>Eolo</td><td>Aire</td></tr>",
                            "<tr><td>Diego</td><td>Pidgeotto </td><td>Eolo</td><td>Aire</td></tr>",
                            "<tr><td>Jose</td><td>Spearow</td><td>Boreas</td><td>Aire</td></tr>",
                            "<tr><td>Jose</td><td>Charizard</td><td>Eolo</td><td>Aire</td></tr>",
                            "</table>"
                        ]
                    }
                },
                {
                    "output_type": "execute_result",
                    "metadata": {},
                    "execution_count": 7,
                    "data": {
                        "application/vnd.dataresource+json": {
                            "schema": {
                                "fields": [
                                    {
                                        "name": "Bicho"
                                    },
                                    {
                                        "name": "Ataque"
                                    }
                                ]
                            },
                            "data": [
                                {
                                    "0": "Charizard",
                                    "1": "Puño de Fuego"
                                },
                                {
                                    "0": "Charizard",
                                    "1": "Viento"
                                },
                                {
                                    "0": "Charizard",
                                    "1": "Arena Movediza"
                                },
                                {
                                    "0": "Charizard",
                                    "1": "Tsunami"
                                },
                                {
                                    "0": "Charizard",
                                    "1": "Rayo"
                                },
                                {
                                    "0": "Charmander",
                                    "1": "Puño de Fuego"
                                },
                                {
                                    "0": "Charmander",
                                    "1": "Huracan"
                                },
                                {
                                    "0": "Charmander",
                                    "1": "Terremoto"
                                },
                                {
                                    "0": "Charmander",
                                    "1": "Arena Movediza"
                                },
                                {
                                    "0": "Charmander",
                                    "1": "Rayo"
                                },
                                {
                                    "0": "Charmeleon",
                                    "1": "Puño de Tierra"
                                },
                                {
                                    "0": "Charmeleon",
                                    "1": "Viento"
                                },
                                {
                                    "0": "Charmeleon",
                                    "1": "Incendio"
                                },
                                {
                                    "0": "Charmeleon",
                                    "1": "Arena Movediza"
                                },
                                {
                                    "0": "Charmeleon",
                                    "1": "Ventisca"
                                },
                                {
                                    "0": "Diglett",
                                    "1": "Puño de Fuego"
                                },
                                {
                                    "0": "Diglett",
                                    "1": "Puño de Aire"
                                },
                                {
                                    "0": "Diglett",
                                    "1": "Huracan"
                                },
                                {
                                    "0": "Diglett",
                                    "1": "Terremoto"
                                },
                                {
                                    "0": "Diglett",
                                    "1": "Arena Movediza"
                                },
                                {
                                    "0": "Dugtrio ",
                                    "1": "Puño de Agua"
                                },
                                {
                                    "0": "Dugtrio ",
                                    "1": "Huracan"
                                },
                                {
                                    "0": "Dugtrio ",
                                    "1": "Incendio"
                                },
                                {
                                    "0": "Dugtrio ",
                                    "1": "Arena Movediza"
                                },
                                {
                                    "0": "Dugtrio ",
                                    "1": "Hierro"
                                },
                                {
                                    "0": "Fearow",
                                    "1": "Puño de Agua"
                                },
                                {
                                    "0": "Fearow",
                                    "1": "Puño de Aire"
                                },
                                {
                                    "0": "Fearow",
                                    "1": "Terremoto"
                                },
                                {
                                    "0": "Fearow",
                                    "1": "Volcan"
                                },
                                {
                                    "0": "Fearow",
                                    "1": "Ventisca"
                                },
                                {
                                    "0": "Graveler",
                                    "1": "Puño de Fuego"
                                },
                                {
                                    "0": "Graveler",
                                    "1": "Huracan"
                                },
                                {
                                    "0": "Graveler",
                                    "1": "Tormenta"
                                },
                                {
                                    "0": "Graveler",
                                    "1": "Tsunami"
                                },
                                {
                                    "0": "Graveler",
                                    "1": "Hierro"
                                },
                                {
                                    "0": "Gyarados",
                                    "1": "Puño de Fuego"
                                },
                                {
                                    "0": "Gyarados",
                                    "1": "Incendio"
                                },
                                {
                                    "0": "Gyarados",
                                    "1": "Volcan"
                                },
                                {
                                    "0": "Gyarados",
                                    "1": "Ventisca"
                                },
                                {
                                    "0": "Gyarados",
                                    "1": "Hierro"
                                },
                                {
                                    "0": "Magikarp",
                                    "1": "Puño de Fuego"
                                },
                                {
                                    "0": "Magikarp",
                                    "1": "Viento"
                                },
                                {
                                    "0": "Magikarp",
                                    "1": "Incendio"
                                },
                                {
                                    "0": "Magikarp",
                                    "1": "Tormenta"
                                },
                                {
                                    "0": "Magikarp",
                                    "1": "Ventisca"
                                },
                                {
                                    "0": "Pidgeotto ",
                                    "1": "Puño de Tierra"
                                },
                                {
                                    "0": "Pidgeotto ",
                                    "1": "Huracan"
                                },
                                {
                                    "0": "Pidgeotto ",
                                    "1": "Arena Movediza"
                                },
                                {
                                    "0": "Pidgeotto ",
                                    "1": "Rayo"
                                },
                                {
                                    "0": "Pidgeotto ",
                                    "1": "Hierro"
                                },
                                {
                                    "0": "Pidgey",
                                    "1": "Puño de Fuego"
                                },
                                {
                                    "0": "Pidgey",
                                    "1": "Viento"
                                },
                                {
                                    "0": "Pidgey",
                                    "1": "Incendio"
                                },
                                {
                                    "0": "Pidgey",
                                    "1": "Volcan"
                                },
                                {
                                    "0": "Pidgey",
                                    "1": "Ventisca"
                                },
                                {
                                    "0": "Ponyta",
                                    "1": "Puño de Tierra"
                                },
                                {
                                    "0": "Ponyta",
                                    "1": "Tormenta"
                                },
                                {
                                    "0": "Ponyta",
                                    "1": "Volcan"
                                },
                                {
                                    "0": "Ponyta",
                                    "1": "Ventisca"
                                },
                                {
                                    "0": "Ponyta",
                                    "1": "Hierro"
                                },
                                {
                                    "0": "Psyduck",
                                    "1": "Puño de Agua"
                                },
                                {
                                    "0": "Psyduck",
                                    "1": "Puño de Aire"
                                },
                                {
                                    "0": "Psyduck",
                                    "1": "Viento"
                                },
                                {
                                    "0": "Psyduck",
                                    "1": "Arena Movediza"
                                },
                                {
                                    "0": "Psyduck",
                                    "1": "Tsunami"
                                },
                                {
                                    "0": "Rapidash",
                                    "1": "Puño de Agua"
                                },
                                {
                                    "0": "Rapidash",
                                    "1": "Puño de Aire"
                                },
                                {
                                    "0": "Rapidash",
                                    "1": "Viento"
                                },
                                {
                                    "0": "Rapidash",
                                    "1": "Ventisca"
                                },
                                {
                                    "0": "Rapidash",
                                    "1": "Rayo"
                                },
                                {
                                    "0": "Sandshrew",
                                    "1": "Huracan"
                                },
                                {
                                    "0": "Sandshrew",
                                    "1": "Incendio"
                                },
                                {
                                    "0": "Sandshrew",
                                    "1": "Tormenta"
                                },
                                {
                                    "0": "Sandshrew",
                                    "1": "Ventisca"
                                },
                                {
                                    "0": "Sandshrew",
                                    "1": "Hierro"
                                },
                                {
                                    "0": "Sandslash",
                                    "1": "Puño de Tierra"
                                },
                                {
                                    "0": "Sandslash",
                                    "1": "Viento"
                                },
                                {
                                    "0": "Sandslash",
                                    "1": "Terremoto"
                                },
                                {
                                    "0": "Sandslash",
                                    "1": "Incendio"
                                },
                                {
                                    "0": "Sandslash",
                                    "1": "Volcan"
                                },
                                {
                                    "0": "Spearow",
                                    "1": "Puño de Fuego"
                                },
                                {
                                    "0": "Spearow",
                                    "1": "Puño de Aire"
                                },
                                {
                                    "0": "Spearow",
                                    "1": "Terremoto"
                                },
                                {
                                    "0": "Spearow",
                                    "1": "Incendio"
                                },
                                {
                                    "0": "Spearow",
                                    "1": "Tormenta"
                                },
                                {
                                    "0": "Squirtle",
                                    "1": "Puño de Fuego"
                                },
                                {
                                    "0": "Squirtle",
                                    "1": "Terremoto"
                                },
                                {
                                    "0": "Squirtle",
                                    "1": "Arena Movediza"
                                },
                                {
                                    "0": "Squirtle",
                                    "1": "Ventisca"
                                },
                                {
                                    "0": "Squirtle",
                                    "1": "Hierro"
                                },
                                {
                                    "0": "Vulpix",
                                    "1": "Puño de Tierra"
                                },
                                {
                                    "0": "Vulpix",
                                    "1": "Puño de Aire"
                                },
                                {
                                    "0": "Vulpix",
                                    "1": "Viento"
                                },
                                {
                                    "0": "Vulpix",
                                    "1": "Incendio"
                                },
                                {
                                    "0": "Vulpix",
                                    "1": "Hierro"
                                },
                                {
                                    "0": "Wartortle",
                                    "1": "Puño de Agua"
                                },
                                {
                                    "0": "Wartortle",
                                    "1": "Arena Movediza"
                                },
                                {
                                    "0": "Wartortle",
                                    "1": "Tsunami"
                                },
                                {
                                    "0": "Wartortle",
                                    "1": "Rayo"
                                },
                                {
                                    "0": "Wartortle",
                                    "1": "Hierro"
                                }
                            ]
                        },
                        "text/html": [
                            "<table>",
                            "<tr><th>Bicho</th><th>Ataque</th></tr>",
                            "<tr><td>Charizard</td><td>Puño de Fuego</td></tr>",
                            "<tr><td>Charizard</td><td>Viento</td></tr>",
                            "<tr><td>Charizard</td><td>Arena Movediza</td></tr>",
                            "<tr><td>Charizard</td><td>Tsunami</td></tr>",
                            "<tr><td>Charizard</td><td>Rayo</td></tr>",
                            "<tr><td>Charmander</td><td>Puño de Fuego</td></tr>",
                            "<tr><td>Charmander</td><td>Huracan</td></tr>",
                            "<tr><td>Charmander</td><td>Terremoto</td></tr>",
                            "<tr><td>Charmander</td><td>Arena Movediza</td></tr>",
                            "<tr><td>Charmander</td><td>Rayo</td></tr>",
                            "<tr><td>Charmeleon</td><td>Puño de Tierra</td></tr>",
                            "<tr><td>Charmeleon</td><td>Viento</td></tr>",
                            "<tr><td>Charmeleon</td><td>Incendio</td></tr>",
                            "<tr><td>Charmeleon</td><td>Arena Movediza</td></tr>",
                            "<tr><td>Charmeleon</td><td>Ventisca</td></tr>",
                            "<tr><td>Diglett</td><td>Puño de Fuego</td></tr>",
                            "<tr><td>Diglett</td><td>Puño de Aire</td></tr>",
                            "<tr><td>Diglett</td><td>Huracan</td></tr>",
                            "<tr><td>Diglett</td><td>Terremoto</td></tr>",
                            "<tr><td>Diglett</td><td>Arena Movediza</td></tr>",
                            "<tr><td>Dugtrio </td><td>Puño de Agua</td></tr>",
                            "<tr><td>Dugtrio </td><td>Huracan</td></tr>",
                            "<tr><td>Dugtrio </td><td>Incendio</td></tr>",
                            "<tr><td>Dugtrio </td><td>Arena Movediza</td></tr>",
                            "<tr><td>Dugtrio </td><td>Hierro</td></tr>",
                            "<tr><td>Fearow</td><td>Puño de Agua</td></tr>",
                            "<tr><td>Fearow</td><td>Puño de Aire</td></tr>",
                            "<tr><td>Fearow</td><td>Terremoto</td></tr>",
                            "<tr><td>Fearow</td><td>Volcan</td></tr>",
                            "<tr><td>Fearow</td><td>Ventisca</td></tr>",
                            "<tr><td>Graveler</td><td>Puño de Fuego</td></tr>",
                            "<tr><td>Graveler</td><td>Huracan</td></tr>",
                            "<tr><td>Graveler</td><td>Tormenta</td></tr>",
                            "<tr><td>Graveler</td><td>Tsunami</td></tr>",
                            "<tr><td>Graveler</td><td>Hierro</td></tr>",
                            "<tr><td>Gyarados</td><td>Puño de Fuego</td></tr>",
                            "<tr><td>Gyarados</td><td>Incendio</td></tr>",
                            "<tr><td>Gyarados</td><td>Volcan</td></tr>",
                            "<tr><td>Gyarados</td><td>Ventisca</td></tr>",
                            "<tr><td>Gyarados</td><td>Hierro</td></tr>",
                            "<tr><td>Magikarp</td><td>Puño de Fuego</td></tr>",
                            "<tr><td>Magikarp</td><td>Viento</td></tr>",
                            "<tr><td>Magikarp</td><td>Incendio</td></tr>",
                            "<tr><td>Magikarp</td><td>Tormenta</td></tr>",
                            "<tr><td>Magikarp</td><td>Ventisca</td></tr>",
                            "<tr><td>Pidgeotto </td><td>Puño de Tierra</td></tr>",
                            "<tr><td>Pidgeotto </td><td>Huracan</td></tr>",
                            "<tr><td>Pidgeotto </td><td>Arena Movediza</td></tr>",
                            "<tr><td>Pidgeotto </td><td>Rayo</td></tr>",
                            "<tr><td>Pidgeotto </td><td>Hierro</td></tr>",
                            "<tr><td>Pidgey</td><td>Puño de Fuego</td></tr>",
                            "<tr><td>Pidgey</td><td>Viento</td></tr>",
                            "<tr><td>Pidgey</td><td>Incendio</td></tr>",
                            "<tr><td>Pidgey</td><td>Volcan</td></tr>",
                            "<tr><td>Pidgey</td><td>Ventisca</td></tr>",
                            "<tr><td>Ponyta</td><td>Puño de Tierra</td></tr>",
                            "<tr><td>Ponyta</td><td>Tormenta</td></tr>",
                            "<tr><td>Ponyta</td><td>Volcan</td></tr>",
                            "<tr><td>Ponyta</td><td>Ventisca</td></tr>",
                            "<tr><td>Ponyta</td><td>Hierro</td></tr>",
                            "<tr><td>Psyduck</td><td>Puño de Agua</td></tr>",
                            "<tr><td>Psyduck</td><td>Puño de Aire</td></tr>",
                            "<tr><td>Psyduck</td><td>Viento</td></tr>",
                            "<tr><td>Psyduck</td><td>Arena Movediza</td></tr>",
                            "<tr><td>Psyduck</td><td>Tsunami</td></tr>",
                            "<tr><td>Rapidash</td><td>Puño de Agua</td></tr>",
                            "<tr><td>Rapidash</td><td>Puño de Aire</td></tr>",
                            "<tr><td>Rapidash</td><td>Viento</td></tr>",
                            "<tr><td>Rapidash</td><td>Ventisca</td></tr>",
                            "<tr><td>Rapidash</td><td>Rayo</td></tr>",
                            "<tr><td>Sandshrew</td><td>Huracan</td></tr>",
                            "<tr><td>Sandshrew</td><td>Incendio</td></tr>",
                            "<tr><td>Sandshrew</td><td>Tormenta</td></tr>",
                            "<tr><td>Sandshrew</td><td>Ventisca</td></tr>",
                            "<tr><td>Sandshrew</td><td>Hierro</td></tr>",
                            "<tr><td>Sandslash</td><td>Puño de Tierra</td></tr>",
                            "<tr><td>Sandslash</td><td>Viento</td></tr>",
                            "<tr><td>Sandslash</td><td>Terremoto</td></tr>",
                            "<tr><td>Sandslash</td><td>Incendio</td></tr>",
                            "<tr><td>Sandslash</td><td>Volcan</td></tr>",
                            "<tr><td>Spearow</td><td>Puño de Fuego</td></tr>",
                            "<tr><td>Spearow</td><td>Puño de Aire</td></tr>",
                            "<tr><td>Spearow</td><td>Terremoto</td></tr>",
                            "<tr><td>Spearow</td><td>Incendio</td></tr>",
                            "<tr><td>Spearow</td><td>Tormenta</td></tr>",
                            "<tr><td>Squirtle</td><td>Puño de Fuego</td></tr>",
                            "<tr><td>Squirtle</td><td>Terremoto</td></tr>",
                            "<tr><td>Squirtle</td><td>Arena Movediza</td></tr>",
                            "<tr><td>Squirtle</td><td>Ventisca</td></tr>",
                            "<tr><td>Squirtle</td><td>Hierro</td></tr>",
                            "<tr><td>Vulpix</td><td>Puño de Tierra</td></tr>",
                            "<tr><td>Vulpix</td><td>Puño de Aire</td></tr>",
                            "<tr><td>Vulpix</td><td>Viento</td></tr>",
                            "<tr><td>Vulpix</td><td>Incendio</td></tr>",
                            "<tr><td>Vulpix</td><td>Hierro</td></tr>",
                            "<tr><td>Wartortle</td><td>Puño de Agua</td></tr>",
                            "<tr><td>Wartortle</td><td>Arena Movediza</td></tr>",
                            "<tr><td>Wartortle</td><td>Tsunami</td></tr>",
                            "<tr><td>Wartortle</td><td>Rayo</td></tr>",
                            "<tr><td>Wartortle</td><td>Hierro</td></tr>",
                            "</table>"
                        ]
                    }
                },
                {
                    "output_type": "execute_result",
                    "metadata": {},
                    "execution_count": 7,
                    "data": {
                        "application/vnd.dataresource+json": {
                            "schema": {
                                "fields": [
                                    {
                                        "name": "ID"
                                    },
                                    {
                                        "name": "Nombre"
                                    },
                                    {
                                        "name": "Correo"
                                    }
                                ]
                            },
                            "data": [
                                {
                                    "0": "1",
                                    "1": "Lucia",
                                    "2": "just.lucysm@gmail.com"
                                },
                                {
                                    "0": "2",
                                    "1": "Edgar",
                                    "2": "edgar@gmail.com"
                                },
                                {
                                    "0": "3",
                                    "1": "Jose",
                                    "2": "jose@gmail.com"
                                },
                                {
                                    "0": "4",
                                    "1": "Fabiola",
                                    "2": "fabiola@gmail.com"
                                },
                                {
                                    "0": "5",
                                    "1": "Diego",
                                    "2": "diego@gmail.com"
                                }
                            ]
                        },
                        "text/html": [
                            "<table>",
                            "<tr><th>ID</th><th>Nombre</th><th>Correo</th></tr>",
                            "<tr><td>1</td><td>Lucia</td><td>just.lucysm@gmail.com</td></tr>",
                            "<tr><td>2</td><td>Edgar</td><td>edgar@gmail.com</td></tr>",
                            "<tr><td>3</td><td>Jose</td><td>jose@gmail.com</td></tr>",
                            "<tr><td>4</td><td>Fabiola</td><td>fabiola@gmail.com</td></tr>",
                            "<tr><td>5</td><td>Diego</td><td>diego@gmail.com</td></tr>",
                            "</table>"
                        ]
                    }
                }
            ],
            "execution_count": 7
        },
        {
            "cell_type": "markdown",
            "source": [
                "**6. FUNCIONES**"
            ],
            "metadata": {
                "azdata_cell_guid": "5d8e70db-8ce1-46ab-8654-fede6f3b6db2"
            }
        },
        {
            "cell_type": "code",
            "source": [
                "-- FUNCIÓN PARA OBTENER LAS RONDAS DE UN COMBATE\r\n",
                "CREATE FUNCTION dbo.GetRondas(@combate_id int)\r\n",
                "RETURNS TABLE \r\n",
                "AS \r\n",
                "RETURN \r\n",
                "(\r\n",
                "    SELECT\r\n",
                "    ronda_noRonda AS 'No. de ronda',\r\n",
                "    (SELECT bicho_nombre\r\n",
                "    FROM Bichos\r\n",
                "    WHERE bicho_id = bicho_uno) AS 'Bicho 1',\r\n",
                "    (SELECT bicho_nombre\r\n",
                "    FROM Bichos\r\n",
                "    WHERE bicho_id = bicho_dos) AS 'Bicho 2',\r\n",
                "    (SELECT catalogo_nombre\r\n",
                "    FROM Catalogo_Ataques\r\n",
                "    WHERE catalogo_id = ataque_uno) AS 'Ataque 1',\r\n",
                "    (SELECT catalogo_nombre\r\n",
                "    FROM Catalogo_Ataques\r\n",
                "    WHERE catalogo_id = ataque_dos) AS 'Ataque 2',\r\n",
                "    nivel_daño_uno AS 'Daño 1',\r\n",
                "    nivel_daño_dos AS 'Daño 2',\r\n",
                "    ganador AS 'Ganador'\r\n",
                "FROM Rondas\r\n",
                "WHERE combate_id = @combate_id\r\n",
                ");\r\n",
                "\r\n",
                "GO\r\n",
                "\r\n",
                "-- FUNCIÓN PARA OBTENER LAS RONDAS DE UN COMBATE QUE GANÓ UN JUGADOR\r\n",
                "CREATE FUNCTION dbo.GetRondasPerPlayer(@combate_id int, @usuario int)\r\n",
                "RETURNS INT \r\n",
                "AS \r\n",
                "BEGIN\r\n",
                "    RETURN (\r\n",
                "SELECT count(combate_id)\r\n",
                "    FROM Rondas\r\n",
                "    WHERE combate_id = @combate_id AND ganador = @usuario\r\n",
                ")\r\n",
                "END;\r\n",
                "\r\n",
                "GO\r\n",
                "\r\n",
                "-- FUNCIÓN PARA OBTENER EL GANADOR DE UN COMBATE\r\n",
                "CREATE FUNCTION dbo.GetGanadorCombate(@combate_id int, @usuario_uno int, @usuario_dos int)\r\n",
                "RETURNS INT \r\n",
                "AS \r\n",
                "BEGIN\r\n",
                "    DECLARE @ganados1 int, @ganados2 int;\r\n",
                "\r\n",
                "    SET @ganados1 = dbo.GetRondasPerPlayer(@combate_id, @usuario_uno)\r\n",
                "\r\n",
                "    SET @ganados2 = dbo.GetRondasPerPlayer(@combate_id, @usuario_uno)\r\n",
                "\r\n",
                "    IF(@ganados1 > @ganados2)\r\n",
                "        RETURN(@ganados1)\r\n",
                "    ELSE IF(@ganados1 = @ganados2)\r\n",
                "        RETURN(-1)\r\n",
                "    RETURN(@ganados2)\r\n",
                "END;\r\n",
                "\r\n",
                "GO\r\n",
                "\r\n",
                "-- FUNCIÓN PARA OBTENER BICHOS POR UN USUARIO EN ESPECÍFICO\r\n",
                "CREATE FUNCTION dbo.GetBichosUsuario(@usuario_id int)\r\n",
                "RETURNS TABLE \r\n",
                "AS\r\n",
                "RETURN \r\n",
                "(\r\n",
                "    SELECT\r\n",
                "    b.bicho_id AS \"ID\",\r\n",
                "    b.bicho_nombre AS 'Bicho',\r\n",
                "    b.bicho_salud AS 'Salud',\r\n",
                "    (SELECT tipo_nombre\r\n",
                "    FROM Tipos\r\n",
                "    WHERE tipo_id = b.bicho_tipo) AS 'Tipo',\r\n",
                "    (SELECT especie_nombre\r\n",
                "    FROM Especies\r\n",
                "    WHERE especie_id = b.bicho_especie) AS 'Especie',\r\n",
                "    u.usuario_nombre AS 'Propietario'\r\n",
                "FROM\r\n",
                "    Bichos b INNER JOIN Usuarios u ON b.bicho_propietario = u.usuario_id\r\n",
                "WHERE b.bicho_propietario = @usuario_id\r\n",
                ");\r\n",
                "\r\n",
                "GO\r\n",
                "\r\n",
                "-- FUNCIÓN PARA INICIAR SESIÓN\r\n",
                "CREATE FUNCTION dbo.IniciarSesion(@correo VARCHAR(50), @contraseña VARCHAR(20))\r\n",
                "RETURNS BIT\r\n",
                "AS\r\n",
                "BEGIN\r\n",
                "    DECLARE @contraseñaCorrecta VARCHAR(20), @usuario_estado BIT;\r\n",
                "\r\n",
                "    SET @contraseñaCorrecta = (SELECT usuario_contraseña\r\n",
                "    FROM Usuarios\r\n",
                "    WHERE usuario_correo = @correo)\r\n",
                "\r\n",
                "    SET @usuario_estado = (SELECT usuario_estado\r\n",
                "    FROM Usuarios\r\n",
                "    WHERE usuario_correo = @correo)\r\n",
                "\r\n",
                "    IF(@usuario_estado = 0)\r\n",
                "        RETURN 0;\r\n",
                "\r\n",
                "    IF(@contraseña = @contraseñaCorrecta)\r\n",
                "        RETURN 1;\r\n",
                "\r\n",
                "    RETURN 0;\r\n",
                "END;\r\n",
                "\r\n",
                "GO\r\n",
                ""
            ],
            "metadata": {
                "azdata_cell_guid": "165015ac-9981-4c98-bae1-b67e5a29ddb2",
                "tags": [
                    "hide_input"
                ]
            },
            "outputs": [
                {
                    "output_type": "display_data",
                    "data": {
                        "text/html": "Commands completed successfully."
                    },
                    "metadata": {}
                },
                {
                    "output_type": "display_data",
                    "data": {
                        "text/html": "Commands completed successfully."
                    },
                    "metadata": {}
                },
                {
                    "output_type": "display_data",
                    "data": {
                        "text/html": "Commands completed successfully."
                    },
                    "metadata": {}
                },
                {
                    "output_type": "display_data",
                    "data": {
                        "text/html": "Commands completed successfully."
                    },
                    "metadata": {}
                },
                {
                    "output_type": "display_data",
                    "data": {
                        "text/html": "Commands completed successfully."
                    },
                    "metadata": {}
                },
                {
                    "output_type": "display_data",
                    "data": {
                        "text/html": "Total execution time: 00:00:00.358"
                    },
                    "metadata": {}
                }
            ],
            "execution_count": 8
        },
        {
            "cell_type": "markdown",
            "source": [
                "Probar Funciones"
            ],
            "metadata": {
                "azdata_cell_guid": "ada6597c-060b-4de4-a73d-df342896c2b8"
            }
        },
        {
            "cell_type": "code",
            "source": [
                "SELECT *\r\n",
                "FROM dbo.GetRondas(1)\r\n",
                "SELECT dbo.GetRondasPerPlayer(1, 4) AS 'jugador 1'\r\n",
                "SELECT dbo.GetRondasPerPlayer(1, 3) AS 'jugador 2'\r\n",
                "SELECT dbo.GetGanadorCombate(1, 4, 3) AS 'Ganador';\r\n",
                "SELECT *\r\n",
                "FROM dbo.GetBichosUsuario(1)\r\n",
                "SELECT dbo.IniciarSesion('just.lucysm@gmail.com', '123456') AS 'Iniciar Sesion Corectamente'\r\n",
                "SELECT dbo.IniciarSesion('just.lucysm@gmail.com', '5533') AS 'Iniciar Sesion Incorrectamente'"
            ],
            "metadata": {
                "azdata_cell_guid": "b39bd54f-de11-4199-a946-3b2c074cd3b4",
                "tags": [
                    "hide_input"
                ]
            },
            "outputs": [
                {
                    "output_type": "display_data",
                    "data": {
                        "text/html": "(2 rows affected)"
                    },
                    "metadata": {}
                },
                {
                    "output_type": "display_data",
                    "data": {
                        "text/html": "(1 row affected)"
                    },
                    "metadata": {}
                },
                {
                    "output_type": "display_data",
                    "data": {
                        "text/html": "(1 row affected)"
                    },
                    "metadata": {}
                },
                {
                    "output_type": "display_data",
                    "data": {
                        "text/html": "(1 row affected)"
                    },
                    "metadata": {}
                },
                {
                    "output_type": "display_data",
                    "data": {
                        "text/html": "(3 rows affected)"
                    },
                    "metadata": {}
                },
                {
                    "output_type": "display_data",
                    "data": {
                        "text/html": "(1 row affected)"
                    },
                    "metadata": {}
                },
                {
                    "output_type": "display_data",
                    "data": {
                        "text/html": "(1 row affected)"
                    },
                    "metadata": {}
                },
                {
                    "output_type": "display_data",
                    "data": {
                        "text/html": "Total execution time: 00:00:00.077"
                    },
                    "metadata": {}
                },
                {
                    "output_type": "execute_result",
                    "metadata": {},
                    "execution_count": 9,
                    "data": {
                        "application/vnd.dataresource+json": {
                            "schema": {
                                "fields": [
                                    {
                                        "name": "No. de ronda"
                                    },
                                    {
                                        "name": "Bicho 1"
                                    },
                                    {
                                        "name": "Bicho 2"
                                    },
                                    {
                                        "name": "Ataque 1"
                                    },
                                    {
                                        "name": "Ataque 2"
                                    },
                                    {
                                        "name": "Daño 1"
                                    },
                                    {
                                        "name": "Daño 2"
                                    },
                                    {
                                        "name": "Ganador"
                                    }
                                ]
                            },
                            "data": [
                                {
                                    "0": "4",
                                    "1": "Charmeleon",
                                    "2": "Charizard",
                                    "3": "Ventisca",
                                    "4": "Arena Movediza",
                                    "5": "91",
                                    "6": "62",
                                    "7": "4"
                                },
                                {
                                    "0": "59",
                                    "1": "Charmeleon",
                                    "2": "Charizard",
                                    "3": "Terremoto",
                                    "4": "Tornado",
                                    "5": "56",
                                    "6": "56",
                                    "7": "3"
                                }
                            ]
                        },
                        "text/html": [
                            "<table>",
                            "<tr><th>No. de ronda</th><th>Bicho 1</th><th>Bicho 2</th><th>Ataque 1</th><th>Ataque 2</th><th>Daño 1</th><th>Daño 2</th><th>Ganador</th></tr>",
                            "<tr><td>4</td><td>Charmeleon</td><td>Charizard</td><td>Ventisca</td><td>Arena Movediza</td><td>91</td><td>62</td><td>4</td></tr>",
                            "<tr><td>59</td><td>Charmeleon</td><td>Charizard</td><td>Terremoto</td><td>Tornado</td><td>56</td><td>56</td><td>3</td></tr>",
                            "</table>"
                        ]
                    }
                },
                {
                    "output_type": "execute_result",
                    "metadata": {},
                    "execution_count": 9,
                    "data": {
                        "application/vnd.dataresource+json": {
                            "schema": {
                                "fields": [
                                    {
                                        "name": "jugador 1"
                                    }
                                ]
                            },
                            "data": [
                                {
                                    "0": "1"
                                }
                            ]
                        },
                        "text/html": [
                            "<table>",
                            "<tr><th>jugador 1</th></tr>",
                            "<tr><td>1</td></tr>",
                            "</table>"
                        ]
                    }
                },
                {
                    "output_type": "execute_result",
                    "metadata": {},
                    "execution_count": 9,
                    "data": {
                        "application/vnd.dataresource+json": {
                            "schema": {
                                "fields": [
                                    {
                                        "name": "jugador 2"
                                    }
                                ]
                            },
                            "data": [
                                {
                                    "0": "1"
                                }
                            ]
                        },
                        "text/html": [
                            "<table>",
                            "<tr><th>jugador 2</th></tr>",
                            "<tr><td>1</td></tr>",
                            "</table>"
                        ]
                    }
                },
                {
                    "output_type": "execute_result",
                    "metadata": {},
                    "execution_count": 9,
                    "data": {
                        "application/vnd.dataresource+json": {
                            "schema": {
                                "fields": [
                                    {
                                        "name": "Ganador"
                                    }
                                ]
                            },
                            "data": [
                                {
                                    "0": "-1"
                                }
                            ]
                        },
                        "text/html": [
                            "<table>",
                            "<tr><th>Ganador</th></tr>",
                            "<tr><td>-1</td></tr>",
                            "</table>"
                        ]
                    }
                },
                {
                    "output_type": "execute_result",
                    "metadata": {},
                    "execution_count": 9,
                    "data": {
                        "application/vnd.dataresource+json": {
                            "schema": {
                                "fields": [
                                    {
                                        "name": "ID"
                                    },
                                    {
                                        "name": "Bicho"
                                    },
                                    {
                                        "name": "Salud"
                                    },
                                    {
                                        "name": "Tipo"
                                    },
                                    {
                                        "name": "Especie"
                                    },
                                    {
                                        "name": "Propietario"
                                    }
                                ]
                            },
                            "data": [
                                {
                                    "0": "9",
                                    "1": "Gyarados",
                                    "2": "100",
                                    "3": "Agua",
                                    "4": "Triton",
                                    "5": "Lucia"
                                },
                                {
                                    "0": "12",
                                    "1": "Sandslash",
                                    "2": "100",
                                    "3": "Tierra",
                                    "4": "Gaia",
                                    "5": "Lucia"
                                },
                                {
                                    "0": "15",
                                    "1": "Graveler",
                                    "2": "100",
                                    "3": "Tierra",
                                    "4": "Gaia",
                                    "5": "Lucia"
                                }
                            ]
                        },
                        "text/html": [
                            "<table>",
                            "<tr><th>ID</th><th>Bicho</th><th>Salud</th><th>Tipo</th><th>Especie</th><th>Propietario</th></tr>",
                            "<tr><td>9</td><td>Gyarados</td><td>100</td><td>Agua</td><td>Triton</td><td>Lucia</td></tr>",
                            "<tr><td>12</td><td>Sandslash</td><td>100</td><td>Tierra</td><td>Gaia</td><td>Lucia</td></tr>",
                            "<tr><td>15</td><td>Graveler</td><td>100</td><td>Tierra</td><td>Gaia</td><td>Lucia</td></tr>",
                            "</table>"
                        ]
                    }
                },
                {
                    "output_type": "execute_result",
                    "metadata": {},
                    "execution_count": 9,
                    "data": {
                        "application/vnd.dataresource+json": {
                            "schema": {
                                "fields": [
                                    {
                                        "name": "Iniciar Sesion Corectamente"
                                    }
                                ]
                            },
                            "data": [
                                {
                                    "0": "1"
                                }
                            ]
                        },
                        "text/html": [
                            "<table>",
                            "<tr><th>Iniciar Sesion Corectamente</th></tr>",
                            "<tr><td>1</td></tr>",
                            "</table>"
                        ]
                    }
                },
                {
                    "output_type": "execute_result",
                    "metadata": {},
                    "execution_count": 9,
                    "data": {
                        "application/vnd.dataresource+json": {
                            "schema": {
                                "fields": [
                                    {
                                        "name": "Iniciar Sesion Incorrectamente"
                                    }
                                ]
                            },
                            "data": [
                                {
                                    "0": "0"
                                }
                            ]
                        },
                        "text/html": [
                            "<table>",
                            "<tr><th>Iniciar Sesion Incorrectamente</th></tr>",
                            "<tr><td>0</td></tr>",
                            "</table>"
                        ]
                    }
                }
            ],
            "execution_count": 9
        },
        {
            "cell_type": "markdown",
            "source": [
                "**7. PROCEDIMIENTOS ALMACENADOS**"
            ],
            "metadata": {
                "azdata_cell_guid": "745d170e-2617-4e3b-acfa-6ea0b20a409a"
            }
        },
        {
            "cell_type": "code",
            "source": [
                "-- PROCEDIMIENTO PARA HACER INTERCAMBIOS SIN DEFINIR FECHA\r\n",
                "CREATE PROCEDURE Intercambiar\r\n",
                "    @usuario_uno int,\r\n",
                "    @usuario_dos int,\r\n",
                "    @bicho_uno int,\r\n",
                "    @bicho_dos int\r\n",
                "AS\r\n",
                "INSERT INTO Intercambios\r\n",
                "    (usuario_uno, usuario_dos, bicho_uno, bicho_dos, intercambio_fecha)\r\n",
                "VALUES\r\n",
                "    (@usuario_uno, @usuario_dos, @bicho_uno, @bicho_dos, GETDATE())\r\n",
                "\r\n",
                "GO\r\n",
                "\r\n",
                "-- PROCEDIMIENTO PARA CREAR RECOLECCIONES SIN DEFINIR FECHA\r\n",
                "CREATE PROCEDURE Recolectar\r\n",
                "    @usuario int,\r\n",
                "    @bicho int\r\n",
                "AS\r\n",
                "INSERT INTO RECOLECCIONES\r\n",
                "    (recoleccion_bicho, recoleccion_usuario, recoleccion_fecha)\r\n",
                "VALUES\r\n",
                "    (@usuario, @bicho, GETDATE())\r\n",
                "\r\n",
                "GO\r\n",
                "\r\n",
                "-- PROCEDIMIENTO PARA CREAR COMBATES SIN DEFINIR FECHA\r\n",
                "CREATE PROCEDURE Combatir\r\n",
                "    @usuario_uno int,\r\n",
                "    @usuario_dos int\r\n",
                "AS\r\n",
                "INSERT INTO Combates\r\n",
                "    (usuario_uno, usuario_dos, combate_fecha)\r\n",
                "VALUES\r\n",
                "    (@usuario_uno, @usuario_dos, GETDATE())\r\n",
                "\r\n",
                "GO\r\n",
                "\r\n",
                "-- PROCEDIMIENTO PARA CREAR BICHO SIN DEFINIR TIPO\r\n",
                "CREATE PROCEDURE InsertarBicho\r\n",
                "    @bicho_nombre VARCHAR(20),\r\n",
                "    @bicho_especie VARCHAR(20)\r\n",
                "AS\r\n",
                "BEGIN\r\n",
                "    DECLARE @especie_id INT, @tipo int;\r\n",
                "\r\n",
                "    SET @especie_id = (SELECT especie_id\r\n",
                "    FROM Especies\r\n",
                "    WHERE especie_nombre = @bicho_especie)\r\n",
                "\r\n",
                "    SET @tipo = (SELECT especie_tipo\r\n",
                "    FROM Especies\r\n",
                "    WHERE especie_nombre = @bicho_especie)\r\n",
                "\r\n",
                "    INSERT INTO Bichos\r\n",
                "        (bicho_nombre, bicho_especie, bicho_tipo)\r\n",
                "    VALUES\r\n",
                "        (@bicho_nombre, @especie_id, @tipo)\r\n",
                "END\r\n",
                "\r\n",
                "GO\r\n",
                "\r\n",
                "-- PROCEDIMIENTO PARA REGISTRAR UN NUEVO JUGADOR SIN NECESIDAD DE ESPECIFICAR SU TIPO\r\n",
                "CREATE PROCEDURE RegistrarJugador\r\n",
                "    @nombre VARCHAR(20),\r\n",
                "    @correo VARCHAR(50),\r\n",
                "    @contraseña VARCHAR(20)\r\n",
                "AS\r\n",
                "BEGIN\r\n",
                "    INSERT INTO Usuarios\r\n",
                "        (usuario_nombre, usuario_correo, usuario_contraseña, usuario_tipo)\r\n",
                "    VALUES\r\n",
                "        (@nombre, @correo, @contraseña, 'Jugador')\r\n",
                "END\r\n",
                "\r\n",
                "GO\r\n",
                "\r\n",
                "-- PROCEDIMIENTO PARA REGISTRAR UN NUEVO ADMINISTRADOR SIN NECESIDAD DE ESPECIFICAR SU TIPO\r\n",
                "CREATE PROCEDURE RegistrarAdministrador\r\n",
                "    @nombre VARCHAR(20),\r\n",
                "    @correo VARCHAR(50),\r\n",
                "    @contraseña VARCHAR(20)\r\n",
                "AS\r\n",
                "BEGIN\r\n",
                "    INSERT INTO Usuarios\r\n",
                "        (usuario_nombre, usuario_correo, usuario_contraseña, usuario_tipo)\r\n",
                "    VALUES\r\n",
                "        (@nombre, @correo, @contraseña, 'Administrador')\r\n",
                "END\r\n",
                "\r\n",
                "GO\r\n",
                "\r\n",
                "-- PROCEDIMIENTO PARA DAR DE BAJA UN JUGADOR\r\n",
                "CREATE PROCEDURE EliminarJugador\r\n",
                "    @correo VARCHAR(50)\r\n",
                "AS\r\n",
                "BEGIN\r\n",
                "    UPDATE Usuarios SET usuario_estado = 0 WHERE usuario_correo = @correo\r\n",
                "END\r\n",
                "\r\n",
                "GO\r\n",
                ""
            ],
            "metadata": {
                "azdata_cell_guid": "0f9c0efa-6497-4c59-a6a6-3933b675dae6",
                "tags": [
                    "hide_input"
                ]
            },
            "outputs": [
                {
                    "output_type": "display_data",
                    "data": {
                        "text/html": "Commands completed successfully."
                    },
                    "metadata": {}
                },
                {
                    "output_type": "display_data",
                    "data": {
                        "text/html": "Commands completed successfully."
                    },
                    "metadata": {}
                },
                {
                    "output_type": "display_data",
                    "data": {
                        "text/html": "Commands completed successfully."
                    },
                    "metadata": {}
                },
                {
                    "output_type": "display_data",
                    "data": {
                        "text/html": "Commands completed successfully."
                    },
                    "metadata": {}
                },
                {
                    "output_type": "display_data",
                    "data": {
                        "text/html": "Commands completed successfully."
                    },
                    "metadata": {}
                },
                {
                    "output_type": "display_data",
                    "data": {
                        "text/html": "Commands completed successfully."
                    },
                    "metadata": {}
                },
                {
                    "output_type": "display_data",
                    "data": {
                        "text/html": "Commands completed successfully."
                    },
                    "metadata": {}
                },
                {
                    "output_type": "display_data",
                    "data": {
                        "text/html": "Total execution time: 00:00:00.237"
                    },
                    "metadata": {}
                }
            ],
            "execution_count": 10
        },
        {
            "cell_type": "markdown",
            "source": [
                "**8. TRIGGERS**"
            ],
            "metadata": {
                "azdata_cell_guid": "e4e1b793-3d4e-4876-9ccb-727cc279ba82"
            }
        },
        {
            "cell_type": "code",
            "source": [
                "-- TRIGGER PARA ACTUALIZAR EL GANADOR DEL COMBATE DESPUÉS DE CADA RONDA\r\n",
                "CREATE TRIGGER dbo.SetGanador_T ON dbo.Rondas \r\n",
                "AFTER INSERT \r\n",
                "AS \r\n",
                "BEGIN\r\n",
                "    DECLARE @ganador int, @combate_id int, @usuario_uno int, @usuario_dos int\r\n",
                "\r\n",
                "    --get combate_id from inserted\r\n",
                "    SET @combate_id = (SELECT combate_id\r\n",
                "    FROM inserted)\r\n",
                "\r\n",
                "    -- get users\r\n",
                "    SET @usuario_uno = (SELECT usuario_uno\r\n",
                "    FROM Combates\r\n",
                "    WHERE combate_id = @combate_id)\r\n",
                "\r\n",
                "    SET @usuario_dos = (SELECT usuario_dos\r\n",
                "    FROM Combates\r\n",
                "    WHERE combate_id = @combate_id)\r\n",
                "\r\n",
                "    -- get ganador\r\n",
                "    SET @ganador = dbo.GetGanadorCombate(@combate_id, @usuario_uno, @usuario_dos)\r\n",
                "\r\n",
                "    -- Set ganador in the table\r\n",
                "    UPDATE Combates \r\n",
                "    SET ganador = @ganador\r\n",
                "    WHERE combate_id = (SELECT combate_id\r\n",
                "    FROM INSERTED)\r\n",
                "END\r\n",
                "\r\n",
                "GO\r\n",
                "\r\n",
                "-- TRIGGER PARA AUMENTAR EXPERIENCIA DE UN BICHO AL GANAR DE UNA RONDA\r\n",
                "CREATE TRIGGER dbo.AumentarExperiencia_T ON Combates \r\n",
                "AFTER UPDATE\r\n",
                "AS \r\n",
                "BEGIN\r\n",
                "    DECLARE @ganador int, @bicho1 int, @bicho2 int, @daño1 int, @daño2 int;\r\n",
                "\r\n",
                "    SET @ganador = (SELECT ganador\r\n",
                "    FROM updated)\r\n",
                "\r\n",
                "    SET @bicho1 = (SELECT bicho_uno\r\n",
                "    FROM updated)\r\n",
                "\r\n",
                "    SET @bicho2 = (SELECT bicho_dos\r\n",
                "    FROM updated)\r\n",
                "\r\n",
                "    SET @daño1 = (SELECT nivel_daño_uno\r\n",
                "    FROM updated)\r\n",
                "\r\n",
                "    SET @daño2 = (SELECT nivel_daño_dos\r\n",
                "    FROM updated)\r\n",
                "\r\n",
                "    UPDATE Bichos SET bicho_salud = ROUND(((bicho_salud - @daño2) / 2), 0) WHERE bicho_id = @bicho1\r\n",
                "    UPDATE Bichos SET bicho_salud = ROUND((bicho_salud - @daño1), 0) WHERE bicho_id = @bicho2\r\n",
                "\r\n",
                "    IF(@daño1>@daño2)\r\n",
                "        UPDATE Bichos SET bicho_experiencia = (bicho_experiencia + 1) WHERE bicho_id = @bicho1\r\n",
                "    ELSE\r\n",
                "        UPDATE Bichos SET bicho_experiencia = (bicho_experiencia + 1) WHERE bicho_id = @bicho2\r\n",
                "END\r\n",
                "\r\n",
                "GO\r\n",
                "\r\n",
                "-- TRIGGER PARA ACTUALIZAR VALORES DE PROPIETARIOS CUANDO SE INSERTA EN INTERCAMBIOS\r\n",
                "CREATE TRIGGER dbo.IntercambiaBicho_T ON dbo.Intercambios \r\n",
                "AFTER INSERT \r\n",
                "AS\r\n",
                "BEGIN\r\n",
                "    UPDATE Bichos SET bicho_propietario = (SELECT usuario_dos\r\n",
                "    FROM inserted) WHERE bicho_id = (SELECT bicho_uno\r\n",
                "    FROM inserted)\r\n",
                "\r\n",
                "    UPDATE Bichos SET bicho_propietario = (SELECT usuario_uno\r\n",
                "    FROM inserted) WHERE bicho_id = (SELECT bicho_dos\r\n",
                "    FROM inserted)\r\n",
                "END \r\n",
                "\r\n",
                "GO\r\n",
                "\r\n",
                "-- TRIGGER PARA ACTUALIZAR VALORES DE PROPIETARIOS CUANDO SE INSERTA EN RECOLECCIONES\r\n",
                "CREATE TRIGGER dbo.RecolectaBicho_T ON dbo.Recolecciones \r\n",
                "AFTER INSERT \r\n",
                "AS\r\n",
                "BEGIN\r\n",
                "    UPDATE Bichos SET bicho_propietario = (SELECT recoleccion_usuario\r\n",
                "    FROM inserted) WHERE bicho_id = (SELECT recoleccion_bicho\r\n",
                "    FROM inserted)\r\n",
                "END \r\n",
                "\r\n",
                "GO\r\n",
                "\r\n",
                "-- TRIGGER PARA AUMENTAR NIVEL (EVOLUCIÓN) DE UN BICHO\r\n",
                "CREATE TRIGGER dbo.Evolucionar_T ON dbo.Combates \r\n",
                "AFTER UPDATE\r\n",
                "AS \r\n",
                "BEGIN\r\n",
                "    DECLARE @bicho INT, @experiencia INT;\r\n",
                "\r\n",
                "    SET @bicho = (SELECT bicho_id\r\n",
                "    FROM updated)\r\n",
                "\r\n",
                "    SET @experiencia = (SELECT bicho_experiencia\r\n",
                "    FROM updated)\r\n",
                "\r\n",
                "    IF(@experiencia = 10)\r\n",
                "        BEGIN\r\n",
                "        UPDATE Bichos SET bicho_nivel = (bicho_nivel + 1) WHERE bicho_id = @bicho\r\n",
                "        UPDATE Bichos SET bicho_experiencia = 0 WHERE bicho_id = @bicho\r\n",
                "    END\r\n",
                "END\r\n",
                "\r\n",
                "GO\r\n",
                ""
            ],
            "metadata": {
                "azdata_cell_guid": "7017d53d-6dda-4468-a001-fd3341a6ca52",
                "tags": [
                    "hide_input"
                ]
            },
            "outputs": [
                {
                    "output_type": "display_data",
                    "data": {
                        "text/html": "Commands completed successfully."
                    },
                    "metadata": {}
                },
                {
                    "output_type": "display_data",
                    "data": {
                        "text/html": "Commands completed successfully."
                    },
                    "metadata": {}
                },
                {
                    "output_type": "display_data",
                    "data": {
                        "text/html": "Commands completed successfully."
                    },
                    "metadata": {}
                },
                {
                    "output_type": "display_data",
                    "data": {
                        "text/html": "Commands completed successfully."
                    },
                    "metadata": {}
                },
                {
                    "output_type": "display_data",
                    "data": {
                        "text/html": "Commands completed successfully."
                    },
                    "metadata": {}
                },
                {
                    "output_type": "display_data",
                    "data": {
                        "text/html": "Total execution time: 00:00:00.767"
                    },
                    "metadata": {}
                }
            ],
            "execution_count": 11
        },
        {
            "cell_type": "markdown",
            "source": [
                "**9. Seguridad**"
            ],
            "metadata": {
                "azdata_cell_guid": "852682ca-cf53-4779-94ae-68254cf4edb4"
            }
        },
        {
            "cell_type": "code",
            "source": [
                "USE bichos_de_bolsillo\r\n",
                "\r\n",
                "GO\r\n",
                "\r\n",
                "CREATE SCHEMA Administracion\r\n",
                "\r\n",
                "GO\r\n",
                "\r\n",
                "ALTER SCHEMA Administracion TRANSFER dbo.Especies_V\r\n",
                "\r\n",
                "GO\r\n",
                "\r\n",
                "ALTER SCHEMA Administracion TRANSFER dbo.UsuariosResgistrados_V\r\n",
                "\r\n",
                "GO\r\n",
                "\r\n",
                "ALTER SCHEMA Administracion TRANSFER dbo.UsuarioBichos_V\r\n",
                "\r\n",
                "GO\r\n",
                "\r\n",
                "ALTER SCHEMA Administracion TRANSFER dbo.GetJugadores_V\r\n",
                "\r\n",
                "GO\r\n",
                "\r\n",
                "ALTER SCHEMA Administracion TRANSFER dbo.InsertarBicho\r\n",
                "\r\n",
                "GO\r\n",
                "\r\n",
                "ALTER SCHEMA Administracion TRANSFER dbo.RegistrarJugador\r\n",
                "\r\n",
                "GO\r\n",
                "\r\n",
                "ALTER SCHEMA Administracion TRANSFER dbo.RegistrarAdministrador\r\n",
                "\r\n",
                "GO\r\n",
                "\r\n",
                "ALTER SCHEMA Administracion TRANSFER dbo.EliminarJugador\r\n",
                "\r\n",
                "GO\r\n",
                "\r\n",
                "CREATE LOGIN Jugador WITH PASSWORD = '12345' MUST_CHANGE, DEFAULT_DATABASE=[bichos_de_bolsillo], DEFAULT_LANGUAGE=[Español], CHECK_EXPIRATION=ON, CHECK_POLICY=ON\r\n",
                "\r\n",
                "GO\r\n",
                "\r\n",
                "CREATE LOGIN Administrador WITH PASSWORD = '12345' MUST_CHANGE, DEFAULT_DATABASE=[bichos_de_bolsillo], DEFAULT_LANGUAGE=[Español], CHECK_EXPIRATION=ON, CHECK_POLICY=ON\r\n",
                "\r\n",
                "GO\r\n",
                "\r\n",
                "USE bichos_de_bolsillo\r\n",
                "\r\n",
                "GO\r\n",
                "\r\n",
                "CREATE USER Jugador FOR LOGIN Jugador\r\n",
                "\r\n",
                "GO\r\n",
                "\r\n",
                "CREATE USER Administrador FOR LOGIN Administrador\r\n",
                "\r\n",
                "GO\r\n",
                "\r\n",
                "CREATE ROLE Jugadores AUTHORIZATION Jugador\r\n",
                "\r\n",
                "GO\r\n",
                "\r\n",
                "CREATE ROLE Administradores AUTHORIZATION Administrador\r\n",
                "\r\n",
                "GO\r\n",
                "\r\n",
                "ALTER ROLE Jugadores ADD MEMBER Jugador\r\n",
                "\r\n",
                "GO\r\n",
                "\r\n",
                "ALTER ROLE Administradores ADD MEMBER Administrador\r\n",
                "\r\n",
                "GRANT ALTER, EXECUTE, INSERT, SELECT, UPDATE ON SCHEMA :: Administracion TO Administradores\r\n",
                "\r\n",
                "GRANT ALTER, EXECUTE, INSERT, SELECT, UPDATE ON SCHEMA :: dbo TO Administradores\r\n",
                "\r\n",
                "GRANT ALTER, EXECUTE, INSERT, SELECT, UPDATE ON SCHEMA :: dbo TO Jugadores\r\n",
                ""
            ],
            "metadata": {
                "azdata_cell_guid": "824d8fc6-dba8-405c-8a38-16b44e178c12",
                "tags": [
                    "hide_input"
                ]
            },
            "outputs": [
                {
                    "output_type": "display_data",
                    "data": {
                        "text/html": "Commands completed successfully."
                    },
                    "metadata": {}
                },
                {
                    "output_type": "display_data",
                    "data": {
                        "text/html": "Commands completed successfully."
                    },
                    "metadata": {}
                },
                {
                    "output_type": "display_data",
                    "data": {
                        "text/html": "Commands completed successfully."
                    },
                    "metadata": {}
                },
                {
                    "output_type": "display_data",
                    "data": {
                        "text/html": "Commands completed successfully."
                    },
                    "metadata": {}
                },
                {
                    "output_type": "display_data",
                    "data": {
                        "text/html": "Commands completed successfully."
                    },
                    "metadata": {}
                },
                {
                    "output_type": "display_data",
                    "data": {
                        "text/html": "Commands completed successfully."
                    },
                    "metadata": {}
                },
                {
                    "output_type": "display_data",
                    "data": {
                        "text/html": "Commands completed successfully."
                    },
                    "metadata": {}
                },
                {
                    "output_type": "display_data",
                    "data": {
                        "text/html": "Commands completed successfully."
                    },
                    "metadata": {}
                },
                {
                    "output_type": "display_data",
                    "data": {
                        "text/html": "Commands completed successfully."
                    },
                    "metadata": {}
                },
                {
                    "output_type": "display_data",
                    "data": {
                        "text/html": "Commands completed successfully."
                    },
                    "metadata": {}
                },
                {
                    "output_type": "display_data",
                    "data": {
                        "text/html": "Commands completed successfully."
                    },
                    "metadata": {}
                },
                {
                    "output_type": "display_data",
                    "data": {
                        "text/html": "Commands completed successfully."
                    },
                    "metadata": {}
                },
                {
                    "output_type": "display_data",
                    "data": {
                        "text/html": "Commands completed successfully."
                    },
                    "metadata": {}
                },
                {
                    "output_type": "display_data",
                    "data": {
                        "text/html": "Commands completed successfully."
                    },
                    "metadata": {}
                },
                {
                    "output_type": "display_data",
                    "data": {
                        "text/html": "Commands completed successfully."
                    },
                    "metadata": {}
                },
                {
                    "output_type": "display_data",
                    "data": {
                        "text/html": "Commands completed successfully."
                    },
                    "metadata": {}
                },
                {
                    "output_type": "display_data",
                    "data": {
                        "text/html": "Commands completed successfully."
                    },
                    "metadata": {}
                },
                {
                    "output_type": "display_data",
                    "data": {
                        "text/html": "Commands completed successfully."
                    },
                    "metadata": {}
                },
                {
                    "output_type": "display_data",
                    "data": {
                        "text/html": "Commands completed successfully."
                    },
                    "metadata": {}
                },
                {
                    "output_type": "display_data",
                    "data": {
                        "text/html": "Total execution time: 00:00:00.548"
                    },
                    "metadata": {}
                }
            ],
            "execution_count": 12
        }
    ]
}
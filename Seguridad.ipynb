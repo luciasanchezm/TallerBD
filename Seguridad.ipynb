{
    "metadata": {
        "kernelspec": {
            "name": "SQL",
            "display_name": "SQL",
            "language": "sql"
        },
        "language_info": {
            "name": "sql",
            "version": ""
        }
    },
    "nbformat_minor": 2,
    "nbformat": 4,
    "cells": [
        {
            "cell_type": "markdown",
            "source": [
                "**6. Seguridad**"
            ],
            "metadata": {
                "azdata_cell_guid": "71b1a69d-88dd-43b5-a158-3c58716b8c2a"
            }
        },
        {
            "cell_type": "code",
            "source": [
                "CREATE LOGIN Jugador WITH PASSWORD = '12345' MUST_CHANGE, DEFAULT_DATABASE=[bichos_de_bolsillo], DEFAULT_LANGUAGE=[Español], CHECK_EXPIRATION=ON, CHECK_POLICY=ON\r\n",
                "\r\n",
                "GO\r\n",
                "\r\n",
                "CREATE LOGIN Administrador WITH PASSWORD = '12345' MUST_CHANGE, DEFAULT_DATABASE=[bichos_de_bolsillo], DEFAULT_LANGUAGE=[Español], CHECK_EXPIRATION=ON, CHECK_POLICY=ON\r\n",
                "\r\n",
                "GO\r\n",
                "\r\n",
                "USE bichos_de_bolsillo\r\n",
                "\r\n",
                "GO\r\n",
                "\r\n",
                "CREATE USER Jugador FOR LOGIN Jugador\r\n",
                "\r\n",
                "GO\r\n",
                "\r\n",
                "CREATE USER Administrador FOR LOGIN Administrador\r\n",
                "\r\n",
                "GO\r\n",
                "\r\n",
                "CREATE ROLE Jugadores AUTHORIZATION Jugador\r\n",
                "\r\n",
                "GO\r\n",
                "\r\n",
                "CREATE ROLE Administradores AUTHORIZATION Administrador\r\n",
                "\r\n",
                "GO\r\n",
                "\r\n",
                "ALTER ROLE Jugadores ADD MEMBER Jugador\r\n",
                "\r\n",
                "GO\r\n",
                "\r\n",
                "ALTER ROLE Administradores ADD MEMBER Administrador"
            ],
            "metadata": {
                "azdata_cell_guid": "1ed8fde5-a668-4b86-84a9-3b7f4243f1d2"
            },
            "outputs": [],
            "execution_count": null
        }
    ]
}
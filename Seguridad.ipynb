{
    "metadata": {
        "kernelspec": {
            "name": "SQL",
            "display_name": "SQL",
            "language": "sql"
        },
        "language_info": {
            "name": "sql",
            "version": ""
        }
    },
    "nbformat_minor": 2,
    "nbformat": 4,
    "cells": [
        {
            "cell_type": "markdown",
            "source": [
                "**5. Seguridad**"
            ],
            "metadata": {
                "azdata_cell_guid": "71b1a69d-88dd-43b5-a158-3c58716b8c2a"
            }
        },
        {
            "cell_type": "code",
            "source": [
                ""
            ],
            "metadata": {
                "azdata_cell_guid": "1ed8fde5-a668-4b86-84a9-3b7f4243f1d2"
            },
            "outputs": [],
            "execution_count": null
        }
    ]
}
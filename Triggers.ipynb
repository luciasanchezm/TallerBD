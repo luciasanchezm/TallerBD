{
    "metadata": {
        "kernelspec": {
            "name": "SQL",
            "display_name": "SQL",
            "language": "sql"
        },
        "language_info": {
            "name": "sql",
            "version": ""
        }
    },
    "nbformat_minor": 2,
    "nbformat": 4,
    "cells": [
        {
            "cell_type": "markdown",
            "source": [
                "TRIGGERS"
            ],
            "metadata": {
                "azdata_cell_guid": "104686ec-7f03-4bba-bf9e-636f7e44989a"
            }
        },
        {
            "cell_type": "code",
            "source": [
                "CREATE TRIGGER tr_Bichos on Bichos FOR INSERT as\r\n",
                "begin\r\n",
                "DECLARE @tipo VARCHAR(20), @especie VARCHAR(20)\r\n",
                "    SELECT @tipo = bicho_tipo from inserted \r\n",
                "    SELECT @especie = bicho_especie from inserted\r\n",
                "    if()\n",
                "\n",
                "    BEGIN\n",
                "    ROLLBACK tran\n",
                "    RAISERROR('No es compatible el tipo con la especie del bicho agregado')\n",
                "    end\n",
                "end\n",
                "\n",
                "CREATE TRIGGER tr_"
            ],
            "metadata": {
                "azdata_cell_guid": "18a799e7-2f69-470a-b1d6-939bd809910b"
            },
            "outputs": [],
            "execution_count": null
        }
    ]
}
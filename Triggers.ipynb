{
    "metadata": {
        "kernelspec": {
            "name": "SQL",
            "display_name": "SQL",
            "language": "sql"
        },
        "language_info": {
            "name": "sql",
            "version": ""
        }
    },
    "nbformat_minor": 2,
    "nbformat": 4,
    "cells": [
        {
            "cell_type": "markdown",
            "source": [
                "TRIGGERS"
            ],
            "metadata": {
                "azdata_cell_guid": "104686ec-7f03-4bba-bf9e-636f7e44989a"
            }
        },
        {
            "cell_type": "code",
            "source": [
                "CREATE TRIGGER tr_Bichos on Bichos FOR INSERT as\n",
                "begin\n",
                "DECLARE @tipo VARCHAR(20), @especie VARCHAR(20)\n",
                "    SELECT @tipo = bicho_tipo from inserted \n",
                "    SELECT @especie = bicho_especie from inserted\n",
                "    if()\n",
                "\n",
                "    BEGIN\n",
                "    ROLLBACK tran\n",
                "    RAISERROR('No es compatible el tipo con la especie del bicho agregado')\n",
                "    end\n",
                "end\n",
                "\n",
                "GO\n",
                "\n",
                "CREATE TRIGGER tr_PropietarioUpdate on Intercambios FOR INSERT as\n",
                "\n",
                "   UPDATE Bichos set bicho_propietario = (SELECT usuario_uno from Intercambios WHERE bicho_dos = usuario_dos)\n",
                "    \n",
                "    \n",
                "    \n",
                "    \n",
                "   /* DECLARE @usuario_uno INT, @usuario_dos INT, @bicho_uno INT, @bicho_dos INT, @bicho_propietario INT\n",
                "    SELECT @bicho_propietario = bicho_propietario FROM Bichos\n",
                "    SELECT @usuario_uno = usuario_uno FROM inserted\n",
                "    SELECT @usuario_dos = usuario_dos FROM inserted\n",
                "    SELECT @bicho_uno = bicho_uno FROM inserted\n",
                "    SELECT @bicho_dos = bichco_dos FROM inserted\n",
                "    */"
            ],
            "metadata": {
                "azdata_cell_guid": "18a799e7-2f69-470a-b1d6-939bd809910b",
                "tags": []
            },
            "outputs": [
                {
                    "output_type": "display_data",
                    "data": {
                        "text/html": "Commands completed successfully."
                    },
                    "metadata": {}
                },
                {
                    "output_type": "display_data",
                    "data": {
                        "text/html": "Total execution time: 00:00:00.344"
                    },
                    "metadata": {}
                }
            ],
            "execution_count": 2
        }
    ]
}
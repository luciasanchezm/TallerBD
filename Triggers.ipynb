{
    "metadata": {
        "kernelspec": {
            "name": "SQL",
            "display_name": "SQL",
            "language": "sql"
        },
        "language_info": {
            "name": "sql",
            "version": ""
        }
    },
    "nbformat_minor": 2,
    "nbformat": 4,
    "cells": [
        {
            "cell_type": "markdown",
            "source": [
                "TRIGGERS"
            ],
            "metadata": {
                "azdata_cell_guid": "104686ec-7f03-4bba-bf9e-636f7e44989a"
            }
        },
        {
            "cell_type": "code",
            "source": [
                "-- TRIGGER PARA\n",
                "CREATE TRIGGER tr_Bichos on Bichos FOR INSERT as\n",
                "begin\n",
                "DECLARE @tipo VARCHAR(20), @especie VARCHAR(20)\n",
                "    SELECT @tipo = bicho_tipo from inserted \n",
                "    SELECT @especie = bicho_especie from inserted\n",
                "    if()\n",
                "\n",
                "    BEGIN\n",
                "    ROLLBACK tran\n",
                "    RAISERROR('No es compatible el tipo con la especie del bicho agregado')\n",
                "    end\n",
                "end\n",
                "\n",
                "CREATE TRIGGER tr_"
            ],
            "metadata": {
                "azdata_cell_guid": "18a799e7-2f69-470a-b1d6-939bd809910b",
                "tags": [
                    "hide_input"
                ]
            },
            "outputs": [],
            "execution_count": null
        },
        {
            "cell_type": "code",
            "source": [
                "USE bichos_de_bolsillo\r\n",
                "GO\r\n",
                "\r\n",
                "-- TRIGGER PARA ACTUALIZAR EL GANADOR DEL COMBATE DESPUÉS DE CADA RONDA\r\n",
                "CREATE TRIGGER dbo.SetGanador_T ON dbo.Rondas \r\n",
                "AFTER INSERT \r\n",
                "AS \r\n",
                "BEGIN\r\n",
                "    DECLARE @ganador int, @combate_id int, @usuario_uno int, @usuario_dos int\r\n",
                "\r\n",
                "    --get combate_id from inserted\r\n",
                "    SET @combate_id = (SELECT combate_id\r\n",
                "    FROM inserted)\r\n",
                "\r\n",
                "    -- get users\r\n",
                "    SET @usuario_uno = (SELECT usuario_uno\r\n",
                "    FROM Combates\r\n",
                "    WHERE combate_id = @combate_id)\r\n",
                "\r\n",
                "    SET @usuario_dos = (SELECT usuario_dos\r\n",
                "    FROM Combates\r\n",
                "    WHERE combate_id = @combate_id)\r\n",
                "\r\n",
                "    -- get ganador\r\n",
                "    SET @ganador = dbo.GetGanadorCombate(@combate_id, @usuario_uno, @usuario_dos)\r\n",
                "\r\n",
                "    -- Set ganador in the table\r\n",
                "    UPDATE Combates \r\n",
                "    SET ganador = @ganador\r\n",
                "    WHERE combate_id = (SELECT combate_id\r\n",
                "    FROM INSERTED)\r\n",
                "END\r\n",
                "\r\n",
                "GO\r\n",
                "\r\n",
                "-- TRIGGER PARA AUMENTAR DE NIVEL AL GANADOR DE UNA RONDA\r\n",
                "CREATE TRIGGER dbo.AumentarNivel_T ON Rondas \r\n",
                "AFTER INSERT\r\n",
                "AS \r\n",
                "BEGIN\r\n",
                "    DECLARE @ganador int, @bicho1 int, @bicho2 int, @daño1 int, @daño2 int;\r\n",
                "\r\n",
                "    SET @ganador = (SELECT ganador\r\n",
                "    FROM inserted)\r\n",
                "\r\n",
                "    SET @bicho1 = (SELECT bicho_uno\r\n",
                "    FROM inserted)\r\n",
                "\r\n",
                "    SET @bicho2 = (SELECT bicho_dos\r\n",
                "    FROM inserted)\r\n",
                "\r\n",
                "    SET @daño1 = (SELECT nivel_daño_uno\r\n",
                "    FROM inserted)\r\n",
                "\r\n",
                "    SET @daño2 = (SELECT nivel_daño_dos\r\n",
                "    FROM inserted)\r\n",
                "\r\n",
                "    UPDATE Bichos SET bicho_salud = ROUND(((bicho_salud - @daño2) / 2), 0) WHERE bicho_id = @bicho1\r\n",
                "    UPDATE Bichos SET bicho_salud = ROUND((bicho_salud - @daño1), 0) WHERE bicho_id = @bicho2\r\n",
                "\r\n",
                "    IF(@daño1>@daño2)\r\n",
                "        UPDATE Bichos SET bicho_nivel = (bicho_nivel + 1) WHERE bicho_id = @bicho1\r\n",
                "    ELSE\r\n",
                "        UPDATE Bichos SET bicho_nivel = (bicho_nivel + 1) WHERE bicho_id = @bicho2\r\n",
                "END\r\n",
                "\r\n",
                "GO\r\n",
                "\r\n",
                "-- TRIGGER PARA ACTUALIZAR VALORES DE PROPIETARIOS CUANDO SE INSERTA EN INTERCAMBIOS\r\n",
                "CREATE TRIGGER dbo.ActualizarPropietario_T ON dbo.Intercambios \r\n",
                "AFTER INSERT \r\n",
                "AS\r\n",
                "BEGIN\r\n",
                "    UPDATE Bichos SET bicho_propietario = (SELECT usuario_dos\r\n",
                "    FROM inserted) WHERE bicho_id = (SELECT bicho_uno\r\n",
                "    FROM inserted)\r\n",
                "\r\n",
                "    UPDATE Bichos SET bicho_propietario = (SELECT usuario_uno\r\n",
                "    FROM inserted) WHERE bicho_id = (SELECT bicho_dos\r\n",
                "    FROM inserted)\r\n",
                "END \r\n",
                "\r\n",
                "GO\r\n",
                "\r\n",
                "-- TRIGGER PARA ACTUALIZAR VALORES DE PROPIETARIOS CUANDO SE INSERTA EN INTERCAMBIOS\r\n",
                "CREATE TRIGGER dbo.RecolectaBicho_T ON dbo.Recolecciones \r\n",
                "AFTER INSERT \r\n",
                "AS\r\n",
                "BEGIN\r\n",
                "    UPDATE Bichos SET bicho_propietario = (SELECT recoleccion_usuario\r\n",
                "    FROM inserted) WHERE bicho_id = (SELECT recoleccion_bicho\r\n",
                "    FROM inserted)\r\n",
                "END \r\n",
                "\r\n",
                "GO\r\n",
                ""
            ],
            "metadata": {
                "azdata_cell_guid": "8bf64852-ac63-4e32-bd7f-f2fcd3a4c78e",
                "tags": [
                    "hide_input"
                ]
            },
            "outputs": [],
            "execution_count": null
        }
    ]
}
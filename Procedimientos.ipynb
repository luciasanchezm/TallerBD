{
    "metadata": {
        "kernelspec": {
            "name": "SQL",
            "display_name": "SQL",
            "language": "sql"
        },
        "language_info": {
            "name": "sql",
            "version": ""
        }
    },
    "nbformat_minor": 2,
    "nbformat": 4,
    "cells": [
        {
            "cell_type": "markdown",
            "source": [
                "**7. PROCEDIMIENTOS ALMACENADOS**"
            ],
            "metadata": {
                "azdata_cell_guid": "4916ac39-1113-4bf4-b9c6-5176e4028e3d"
            }
        },
        {
            "cell_type": "code",
            "source": [
                "USE bichos_de_bolsillo\r\n",
                " \r\n",
                "GO\r\n",
                "\r\n",
                "-- PROCEDIMIENTO PARA HACER INTERCAMBIOS\r\n",
                "CREATE PROCEDURE Intercambiar\r\n",
                "    @usuario_uno int,\r\n",
                "    @usuario_dos int,\r\n",
                "    @bicho_uno int,\r\n",
                "    @bicho_dos int\r\n",
                "AS\r\n",
                "INSERT INTO Intercambios\r\n",
                "    (usuario_uno, usuario_dos, bicho_uno, bicho_dos, intercambio_fecha)\r\n",
                "VALUES\r\n",
                "    (@usuario_uno, @usuario_dos, @bicho_uno, @bicho_dos, GETDATE())\r\n",
                "UPDATE Bichos SET bicho_propietario = @usuario_dos WHERE bicho_id = @bicho_uno\r\n",
                "UPDATE Bichos SET bicho_propietario = @usuario_uno WHERE bicho_id = @bicho_dos \r\n",
                "\r\n",
                "GO\r\n",
                "\r\n",
                ""
            ],
            "metadata": {
                "azdata_cell_guid": "6ece75ae-2e6a-4171-99e8-7de9af62050c",
                "tags": [
                    "hide_input"
                ]
            },
            "outputs": [],
            "execution_count": null
        },
        {
            "cell_type": "code",
            "source": [
                "-- Generar un número random\r\n",
                "declare @NumeroDesde int = 50;\r\n",
                "declare @NumeroHasta int = 99;\r\n",
                "SELECT ROUND(((@NumeroHasta - @NumeroDesde) * RAND() + @NumeroDesde), 0)"
            ],
            "metadata": {
                "azdata_cell_guid": "9a86aa11-2955-421b-929d-ab9fdca9d384",
                "tags": [
                    "hide_input"
                ]
            },
            "outputs": [],
            "execution_count": null
        }
    ]
}
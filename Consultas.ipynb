{
    "metadata": {
        "kernelspec": {
            "name": "SQL",
            "display_name": "SQL",
            "language": "sql"
        },
        "language_info": {
            "name": "sql",
            "version": ""
        }
    },
    "nbformat_minor": 2,
    "nbformat": 4,
    "cells": [
        {
            "cell_type": "markdown",
            "source": [
                "**4. CONSULTAS**"
            ],
            "metadata": {
                "azdata_cell_guid": "56e80024-b53c-4b2c-962b-e116039b7263"
            }
        },
        {
            "cell_type": "code",
            "source": [
                "SELECT\r\n",
                "    tipo_id AS 'ID',\r\n",
                "    tipo_nombre AS 'Nombre de los Tipos',\r\n",
                "    resistente AS 'Resistente a'\r\n",
                "\r\n",
                "FROM Tipos;\r\n",
                "\r\n",
                "\r\n",
                "SELECT\r\n",
                "    especie_id AS 'ID',\r\n",
                "    especie_nombre AS 'Nombre de la Especie',\r\n",
                "    especie_tipo AS 'ID del Tipo',\r\n",
                "    especie_aumento_salud AS 'Aumento de Salud',\r\n",
                "    especie_daño_ataque AS 'Daño de Ataque',\r\n",
                "    especie_velocidad_ataque AS 'Velocidad de Ataque'\r\n",
                "\r\n",
                "FROM Especies;\r\n",
                "\r\n",
                "\r\n",
                "SELECT\r\n",
                "    bicho_id AS 'ID',\r\n",
                "    bicho_nombre AS 'Nombre del Bicho',\r\n",
                "    bicho_salud AS 'Salud',\r\n",
                "    bicho_tipo AS 'Tipo',\r\n",
                "    bicho_especie AS 'Especie',\r\n",
                "    bicho_propietario AS 'Propietario ID',\r\n",
                "    (SELECT usuario_nombre\r\n",
                "    FROM Usuarios\r\n",
                "    WHERE usuario_id = bicho_propietario) AS 'Propietario Nombre'\r\n",
                "\r\n",
                "FROM Bichos;\r\n",
                "\r\n",
                "\r\n",
                "SELECT\r\n",
                "    catalogo_id AS 'ID',\r\n",
                "    catalogo_nombre AS 'Nombre del Ataque',\r\n",
                "    catalogo_tipo AS 'ID del Tipo',\r\n",
                "    catalogo_nivel AS 'Nivel de Ataque'\r\n",
                "\r\n",
                "FROM Catalogo_Ataques;\r\n",
                "\r\n",
                "\r\n",
                "SELECT\r\n",
                "    usuario_id AS 'ID',\r\n",
                "    usuario_nombre AS 'Nombre del Usuario'\r\n",
                "FROM Usuarios;\r\n",
                "\r\n",
                "\r\n",
                "SELECT\r\n",
                "    recoleccion_fecha AS 'Fecha de Recoleccion',\r\n",
                "    recoleccion_bicho AS 'ID Bicho',\r\n",
                "    recoleccion_nivel AS 'Nivel',\r\n",
                "    recoleccion_usuario AS 'Usuario'\r\n",
                "\r\n",
                "FROM Recolecciones;\r\n",
                "\r\n",
                "SELECT\r\n",
                "    intercambio_id AS 'ID',\r\n",
                "    intercambio_fecha AS 'Fecha del Intercambio',\r\n",
                "    usuario_uno AS 'Usuario 1',\r\n",
                "    usuario_dos AS 'Usuario 2',\r\n",
                "    bicho_uno AS 'Bicho del Usuario1',\r\n",
                "    bicho_dos AS 'Bicho del Usuario2'\r\n",
                "\r\n",
                "FROM Intercambios;\r\n",
                "\r\n",
                "SELECT\r\n",
                "    bicho_id AS \"Bicho\",\r\n",
                "    ataque_id AS \"Ataque\"\r\n",
                "FROM Ataques_Bicho\r\n",
                "\r\n",
                "SELECT\r\n",
                "    combate_id AS 'ID',\r\n",
                "    usuario_uno AS 'Jugador 1',\r\n",
                "    usuario_dos AS 'Jugador 2',\r\n",
                "    combate_fecha AS 'Fecha'\r\n",
                "FROM Combates\r\n",
                "\r\n",
                "SELECT\r\n",
                "    combate_id AS 'Combate',\r\n",
                "    bicho_uno AS 'Bicho 1',\r\n",
                "    bicho_dos AS 'Bicho 2',\r\n",
                "    ataque_uno AS 'Ataque 1',\r\n",
                "    ataque_dos AS 'Ataque 2',\r\n",
                "    nivel_daño_uno AS 'Daño 1',\r\n",
                "    nivel_daño_dos AS 'Daño 2',\r\n",
                "    ganador AS 'Ganador'\r\n",
                "FROM Rondas\r\n",
                "ORDER BY combate_id"
            ],
            "metadata": {
                "azdata_cell_guid": "a29c75f8-6e4a-41ac-8184-5c47f88336ac",
                "tags": []
            },
            "outputs": [],
            "execution_count": null
        },
        {
            "cell_type": "markdown",
            "source": [
                "1-\tBichos que tiene lucia "
            ],
            "metadata": {
                "azdata_cell_guid": "5f248f27-708e-4355-b126-e0dcfaa17374"
            }
        },
        {
            "cell_type": "code",
            "source": [
                "select bichos.bicho_nombre as 'Bicho',tipos.tipo_nombre as 'Tipo',tipos.resistente from Bichos bichos \r\n",
                "inner join Tipos tipos on bicho_tipo = tipo_Id\r\n",
                "where bicho_propietario = 4 "
            ],
            "metadata": {
                "azdata_cell_guid": "bb01adf3-36c1-4a15-b634-0ddbe9b64e83"
            },
            "outputs": [],
            "execution_count": null
        },
        {
            "cell_type": "markdown",
            "source": [
                "2-\tBichos que tiene José con el nombre de cada bicho + su salud + que te diga a que es resistente cada bicho que posee y que te muestre su daño de ataque."
            ],
            "metadata": {
                "azdata_cell_guid": "12e2e5ba-4733-475d-a002-9cde7717cd7c"
            }
        },
        {
            "cell_type": "code",
            "source": [
                "select bichos.bicho_nombre as 'Bicho',bichos.bicho_salud as 'Salud',tipos.resistente as 'Resistente',\r\n",
                "catalogoAtaques.catalogo_nombre as 'Ataques'\r\n",
                "from Bichos bichos \r\n",
                "inner join Tipos tipos on bicho_tipo = tipo_Id\r\n",
                "inner join Ataques_Bicho ataquesBichos on ataquesBichos.bicho_id = bichos.bicho_id\r\n",
                "inner join Catalogo_Ataques catalogoAtaques on catalogoAtaques.catalogo_id = ataquesBichos.ataque_id\r\n",
                "where bicho_propietario = 3 "
            ],
            "metadata": {
                "azdata_cell_guid": "8cd8257f-42bc-499b-b9a5-457d246c69be"
            },
            "outputs": [],
            "execution_count": null
        },
        {
            "cell_type": "markdown",
            "source": [
                "3-\tBichos que existen en total y en orden alfabético."
            ],
            "metadata": {
                "azdata_cell_guid": "a95c799f-a56a-4bb1-a564-8f74d869098a"
            }
        },
        {
            "cell_type": "code",
            "source": [
                "select bicho_nombre as 'Bicho' from Bichos order by bicho_nombre asc ; "
            ],
            "metadata": {
                "azdata_cell_guid": "f7ae8bf8-5c10-4e21-b6b4-1ba819207fca"
            },
            "outputs": [],
            "execution_count": null
        },
        {
            "cell_type": "markdown",
            "source": [
                "4-\tQue te muestre el bicho con sus respectivos ataques con un orden de mayor a menor."
            ],
            "metadata": {
                "azdata_cell_guid": "79918516-856f-4204-8cad-6857cc809e73"
            }
        },
        {
            "cell_type": "code",
            "source": [
                "select bichos.bicho_nombre as 'Bicho',bichos.bicho_salud as 'Salud',tipos.resistente as 'Resistente',\r\n",
                "catalogoAtaques.catalogo_nombre as 'Ataque',catalogoAtaques.catalogo_nivel as 'Nivel'\r\n",
                "from Bichos bichos \r\n",
                "inner join Tipos tipos on bicho_tipo = tipo_Id\r\n",
                "inner join Ataques_Bicho ataquesBichos on ataquesBichos.bicho_id = bichos.bicho_id\r\n",
                "inner join Catalogo_Ataques catalogoAtaques on catalogoAtaques.catalogo_id = ataquesBichos.ataque_id\r\n",
                "order by catalogoAtaques.catalogo_nivel"
            ],
            "metadata": {
                "azdata_cell_guid": "ed42ff12-136a-498e-ac57-e427fb29b9dd"
            },
            "outputs": [],
            "execution_count": null
        },
        {
            "cell_type": "markdown",
            "source": [
                "5-\tQue te muestre la fecha en que se llevó a cabo el combate 35,70 y 90."
            ],
            "metadata": {
                "azdata_cell_guid": "9fd1f277-4631-40fc-9c57-8df1a4b977d4"
            }
        },
        {
            "cell_type": "code",
            "source": [
                "select combate_fecha AS 'Fecha' from Combates where combate_id in (35,70,90)"
            ],
            "metadata": {
                "azdata_cell_guid": "743dbdef-c9ec-4783-8825-8812b35ea49a"
            },
            "outputs": [],
            "execution_count": null
        },
        {
            "cell_type": "markdown",
            "source": [
                "6-muestre la fecha en que Edgar intercambio a charmander."
            ],
            "metadata": {
                "azdata_cell_guid": "7fc8397e-e8b7-4ae6-afcb-d8abc7b0487b"
            }
        },
        {
            "cell_type": "code",
            "source": [
                "select intercambio_fecha as 'Fecha' from Intercambios\r\n",
                "where usuario_uno = 2 and bicho_uno = 1 ;"
            ],
            "metadata": {
                "azdata_cell_guid": "23ff425c-1231-4b9e-b478-380046523616"
            },
            "outputs": [],
            "execution_count": null
        },
        {
            "cell_type": "markdown",
            "source": [
                "7-\tFecha en que los bichos de tipo fuego y de tipo aire combatieron."
            ],
            "metadata": {
                "azdata_cell_guid": "84706a50-83e8-4b3e-9878-6908d57dbbdd"
            }
        },
        {
            "cell_type": "code",
            "source": [
                "select combate_fecha as 'Fecha' from Combates combate\r\n",
                "inner join Rondas rondas on combate.combate_id = rondas.combate_id\r\n",
                "inner join Bichos bicho1 on bicho1.bicho_id = rondas.bicho_uno\r\n",
                "inner join Bichos bicho2 on bicho2.bicho_id = rondas.bicho_dos\r\n",
                "where bicho1.bicho_tipo = 3 and bicho2.bicho_tipo = 2 "
            ],
            "metadata": {
                "azdata_cell_guid": "9a954aa7-4d27-4be4-99c5-75b2af4e65e4"
            },
            "outputs": [],
            "execution_count": null
        },
        {
            "cell_type": "markdown",
            "source": [
                "8-\tQue te muestre los ganadores de los combates del 20-30 con los bichos con los que participo el ganador. "
            ],
            "metadata": {
                "azdata_cell_guid": "7536ab07-0b63-4c7c-8eb8-85c3f34b4970"
            }
        },
        {
            "cell_type": "code",
            "source": [
                "select combates.combate_id as 'Combate',usuarios.usuario_nombre as 'Ganador',bichos.bicho_nombre as 'Bicho' from Combates combates \r\n",
                "inner join Rondas ronda on ronda.combate_id = combates.combate_id\r\n",
                "inner join Bichos bichos on bichos.bicho_propietario = ronda.ganador\r\n",
                "inner join Usuarios usuarios on usuario_id = ronda.ganador\r\n",
                "where combates.combate_id between 20 and 30 order by combates.combate_id asc"
            ],
            "metadata": {
                "azdata_cell_guid": "783869ed-ecc1-4084-bdff-abc144012f3e"
            },
            "outputs": [],
            "execution_count": null
        },
        {
            "cell_type": "markdown",
            "source": [
                "9-\tQue te muestre las especies que tienen un aumento de salud de 30 y 25. "
            ],
            "metadata": {
                "azdata_cell_guid": "b4a91fd6-184f-45a4-89b6-86d154b48609"
            }
        },
        {
            "cell_type": "code",
            "source": [
                "select (SELECT bicho_nombre\r\n",
                "        FROM Bichos\r\n",
                "        WHERE especie_id = bicho_id) as 'Bicho', especie_aumento_salud as 'Aumento de Salud' from Especies WHERE especie_aumento_salud in (25,30)"
            ],
            "metadata": {
                "azdata_cell_guid": "b08cefb3-fb7c-4580-852c-28ffc60f5e29"
            },
            "outputs": [],
            "execution_count": null
        },
        {
            "cell_type": "markdown",
            "source": [
                "10-\tMuestre la fecha cuando Lucia y Edgar combatieron. "
            ],
            "metadata": {
                "azdata_cell_guid": "0da16d2e-8cd3-4a55-b6d8-a0132b65af55"
            }
        },
        {
            "cell_type": "code",
            "source": [
                "select combate_id as 'Combate', (SELECT usuario_nombre from Usuarios where usuario_uno = usuario_id) as 'Jugador Uno', \r\n",
                "(SELECT usuario_nombre from Usuarios where usuario_dos = usuario_id) as 'Jugador Dos',\r\n",
                "combate_fecha as 'Fecha'\r\n",
                "from Combates combates where combates.usuario_uno in (1,2) and combates.usuario_dos in (1,2)"
            ],
            "metadata": {
                "azdata_cell_guid": "d1949110-493c-414c-ac32-b87b66008fea"
            },
            "outputs": [],
            "execution_count": null
        },
        {
            "cell_type": "markdown",
            "source": [
                "11-\tMostrar todas rondas por combate que gano Edgar."
            ],
            "metadata": {
                "azdata_cell_guid": "30e249e7-ff04-4feb-adba-daeabc277b23"
            }
        },
        {
            "cell_type": "code",
            "source": [
                "select * from Rondas r where r.ganador = 2"
            ],
            "metadata": {
                "azdata_cell_guid": "e7d4600c-8917-4c24-b0c1-b428526975a0"
            },
            "outputs": [],
            "execution_count": null
        },
        {
            "cell_type": "markdown",
            "source": [
                "12-\tObtener los combates ganados totales de todos lo jugadores. "
            ],
            "metadata": {
                "azdata_cell_guid": "165f8530-85bc-46d5-b3fa-431d44a5fd33"
            }
        },
        {
            "cell_type": "code",
            "source": [
                "select ganador,usr.usuario_nombre as 'Usuario',count(*) as 'Rondas Ganadas' from Rondas\r\n",
                "inner join Usuarios usr on usr.usuario_id = ganador\r\n",
                "group by ganador,usuario_nombre"
            ],
            "metadata": {
                "azdata_cell_guid": "821e59b6-d1b6-4d3d-9933-7085bff1db5b"
            },
            "outputs": [],
            "execution_count": null
        },
        {
            "cell_type": "markdown",
            "source": [
                "13-\tMostrar la suma total de combates ganados de Edgar. "
            ],
            "metadata": {
                "azdata_cell_guid": "6da2e77b-518b-4360-be45-f3aa6e287ad5"
            }
        },
        {
            "cell_type": "code",
            "source": [
                "select count(*) as 'Rondas Ganadas' from Rondas where ganador = 3  "
            ],
            "metadata": {
                "azdata_cell_guid": "be7e6bac-e327-4fab-8e13-5acf6899c2c1"
            },
            "outputs": [],
            "execution_count": null
        },
        {
            "cell_type": "markdown",
            "source": [
                "14-\tMostrar aquellos bichos que no tengan propietario."
            ],
            "metadata": {
                "azdata_cell_guid": "217978f7-4cd2-447c-980b-6e8cc37a752e"
            }
        },
        {
            "cell_type": "code",
            "source": [
                "select bicho_id as 'ID', bicho_nombre as 'Bicho' from Bichos b where b.bicho_propietario is null"
            ],
            "metadata": {
                "azdata_cell_guid": "0e607663-57de-4c19-96cc-3dde32d64355"
            },
            "outputs": [],
            "execution_count": null
        },
        {
            "cell_type": "markdown",
            "source": [
                "15-\tMostrar los bichos que sean resistente a tierra y fuego. "
            ],
            "metadata": {
                "azdata_cell_guid": "74147375-4633-4f91-a032-fc40db4ac7eb"
            }
        },
        {
            "cell_type": "code",
            "source": [
                "select * from Bichos bichos \r\n",
                "inner join Tipos tipos on bichos.bicho_tipo = tipos.tipo_id\r\n",
                "where tipos.resistente in ('Tierra','Fuego')"
            ],
            "metadata": {
                "azdata_cell_guid": "8848540b-cd98-4dab-921f-90abd3c7f517"
            },
            "outputs": [],
            "execution_count": null
        },
        {
            "cell_type": "markdown",
            "source": [
                "16-\tMostrar los usuarios que hayan ganado 20 o más combates."
            ],
            "metadata": {
                "azdata_cell_guid": "6498f122-3e2e-4737-8331-e4c66def6930"
            }
        },
        {
            "cell_type": "code",
            "source": [
                "select ganador as 'ID',usr.usuario_nombre as 'Usuario',count(*) as 'Rondas Ganadas' from Rondas\r\n",
                "inner join Usuarios usr on usr.usuario_id = ganador\r\n",
                "group by ganador,usuario_nombre having count (*) > 20"
            ],
            "metadata": {
                "azdata_cell_guid": "bf0c7931-2b60-4b61-91de-c5e9722f2837"
            },
            "outputs": [],
            "execution_count": null
        },
        {
            "cell_type": "markdown",
            "source": [
                "17-\tMostrar los bichos que no han sido utilizado en combates."
            ],
            "metadata": {
                "azdata_cell_guid": "e364d181-dc85-4251-8486-acacef4bd0f2"
            }
        },
        {
            "cell_type": "code",
            "source": [
                "select * from Bichos bichos where bichos.bicho_id not in \r\n",
                "(select bicho_uno from Rondas) or bichos.bicho_id not in (select bicho_dos from Rondas)"
            ],
            "metadata": {
                "azdata_cell_guid": "17d335c5-fbb3-45ce-b7c2-51bc73cf538b"
            },
            "outputs": [],
            "execution_count": null
        },
        {
            "cell_type": "markdown",
            "source": [
                "18-\tMostrar el numero de veces que x bicho fue intercambiado junto con su fecha de intercambio. "
            ],
            "metadata": {
                "azdata_cell_guid": "10866873-e1a4-4941-9e30-05d000909173"
            }
        },
        {
            "cell_type": "code",
            "source": [
                "select intercambio_fecha,(select bicho_nombre from Bichos where bicho_uno = bicho_id) as 'Bicho',\r\n",
                "count(bicho_uno) as 'Veces cambiado' from Intercambios group by bicho_uno,intercambio_fecha\r\n",
                ""
            ],
            "metadata": {
                "azdata_cell_guid": "d4574fb8-8a34-4f1f-bae4-96e40cb43e11"
            },
            "outputs": [],
            "execution_count": null
        },
        {
            "cell_type": "markdown",
            "source": [
                "19-\tMostrar los ataques que tiene charmander."
            ],
            "metadata": {
                "azdata_cell_guid": "84e82de7-a20e-4277-9259-2e5ec5969270"
            }
        },
        {
            "cell_type": "code",
            "source": [
                "select bichos.bicho_nombre,\r\n",
                "catalogoAtaques.catalogo_nombre\r\n",
                "from Bichos bichos \r\n",
                "inner join Tipos tipos on bicho_tipo = tipo_Id\r\n",
                "inner join Ataques_Bicho ataquesBichos on ataquesBichos.bicho_id = bichos.bicho_id\r\n",
                "inner join Catalogo_Ataques catalogoAtaques on catalogoAtaques.catalogo_id = ataquesBichos.ataque_id\r\n",
                "where bichos.bicho_id = 1"
            ],
            "metadata": {
                "azdata_cell_guid": "997986a4-f049-4bcb-ad30-d0f3589e7092"
            },
            "outputs": [],
            "execution_count": null
        },
        {
            "cell_type": "markdown",
            "source": [
                "20-\tMostrar la cantidad de bichos que los usuarios han intercambiado. (bicho uno)"
            ],
            "metadata": {
                "azdata_cell_guid": "ebaa2f8f-4236-473d-940a-5e246a196d32"
            }
        },
        {
            "cell_type": "code",
            "source": [
                "select (select usuario_nombre from Usuarios where usuario_uno = usuario_id) as 'Usuario',\r\n",
                "count(usuario_uno) as 'Numero intercambios' from Intercambios group by usuario_uno"
            ],
            "metadata": {
                "azdata_cell_guid": "de1030a0-9d16-4aa7-b2bc-85de806109a9"
            },
            "outputs": [],
            "execution_count": null
        },
        {
            "cell_type": "markdown",
            "source": [
                "21-\tMostrar los ataques ordenados por nivel en forma descendente. "
            ],
            "metadata": {
                "azdata_cell_guid": "283cda52-bd89-48e3-a098-1cf2edd33a9b"
            }
        },
        {
            "cell_type": "code",
            "source": [
                "select catalogo_nombre as 'Ataque' from Catalogo_Ataques order by catalogo_nivel desc"
            ],
            "metadata": {
                "azdata_cell_guid": "79626a84-a334-4192-9e89-282eebc788ac"
            },
            "outputs": [],
            "execution_count": null
        },
        {
            "cell_type": "markdown",
            "source": [
                "22-\tMostrar los bichos que se hayan intercambiado dos veces. "
            ],
            "metadata": {
                "azdata_cell_guid": "66046e6c-d1f9-4a42-8aca-f90730b0c796"
            }
        },
        {
            "cell_type": "code",
            "source": [
                "select bicho_uno,count(bicho_uno) as 'Veces cambiado' from Intercambios group by bicho_uno \r\n",
                "having count(bicho_uno) > 2 "
            ],
            "metadata": {
                "azdata_cell_guid": "40b89eed-cc3b-4218-996b-400562c72cff"
            },
            "outputs": [],
            "execution_count": null
        }
    ]
}